{
 "cells": [
  {
   "cell_type": "code",
   "execution_count": 1,
   "id": "305f5dfc-d2e5-44eb-b6b5-4850e86274f4",
   "metadata": {
    "editable": true,
    "slideshow": {
     "slide_type": ""
    },
    "tags": []
   },
   "outputs": [],
   "source": [
    "%load_ext autoreload"
   ]
  },
  {
   "cell_type": "code",
   "execution_count": 2,
   "id": "35f98b98-8b1f-4ccd-a395-1b5bd6792105",
   "metadata": {},
   "outputs": [],
   "source": [
    "%autoreload 2"
   ]
  },
  {
   "cell_type": "code",
   "execution_count": 3,
   "id": "d091328b-6bea-4c73-af5f-3859424c192b",
   "metadata": {},
   "outputs": [
    {
     "name": "stderr",
     "output_type": "stream",
     "text": [
      "2023-09-23 16:54:23.470 WARNING streamlit.runtime.state.session_state_proxy: Session state does not function when running a script without `streamlit run`\n"
     ]
    }
   ],
   "source": [
    "%load_ext chapyter"
   ]
  },
  {
   "cell_type": "code",
   "execution_count": 4,
   "id": "2a23821b-301f-4402-8454-a0b74f531328",
   "metadata": {},
   "outputs": [],
   "source": [
    "import os\n",
    "os.environ[\"NOTEBOOK_NAME\"] = \"01-sepsis-gender-distribution-2.ipynb\""
   ]
  },
  {
   "cell_type": "code",
   "execution_count": 5,
   "id": "f9004506-e65d-4afa-8f58-8581393d6e35",
   "metadata": {
    "ChapyterCell": {
     "cellType": "original"
    }
   },
   "outputs": [
    {
     "name": "stdout",
     "output_type": "stream",
     "text": [
      "Sure, here is a SQL query to retrieve all data from the PATIENTS table:\n",
      "\n",
      "```sql\n",
      "SELECT * \n",
      "FROM mimic.mimiciii.patients;\n",
      "```\n",
      "\n",
      "Please replace `mimic.mimiciii` with your actual database schema name if it's different.\n",
      "RECEIVED <class 'pandas.core.frame.DataFrame'>       row_id subject_id gender                      dob  \\\n",
      "0        234        249      F  2075-03-13 00:00:00.000   \n",
      "1        235        250      F  2164-12-27 00:00:00.000   \n",
      "2        236        251      M  2090-03-15 00:00:00.000   \n",
      "3        237        252      M  2078-03-06 00:00:00.000   \n",
      "4        238        253      F  2089-11-26 00:00:00.000   \n",
      "...      ...        ...    ...                      ...   \n",
      "46469  31840      44089      M  2026-05-25 00:00:00.000   \n",
      "46470  31841      44115      F  2124-07-27 00:00:00.000   \n",
      "46471  31842      44123      F  2049-11-26 00:00:00.000   \n",
      "46472  31843      44126      F  2076-07-25 00:00:00.000   \n",
      "46473  31844      44128      M  2098-07-25 00:00:00.000   \n",
      "\n",
      "                           dod                 dod_hosp dod_ssn expire_flag  \n",
      "0                         None                     None    None           0  \n",
      "1      2188-11-22 00:00:00.000  2188-11-22 00:00:00.000    None           1  \n",
      "2                         None                     None    None           0  \n",
      "3                         None                     None    None           0  \n",
      "4                         None                     None    None           0  \n",
      "...                        ...                      ...     ...         ...  \n",
      "46469                     None                     None    None           0  \n",
      "46470                     None                     None    None           0  \n",
      "46471  2135-01-12 00:00:00.000  2135-01-12 00:00:00.000    None           1  \n",
      "46472                     None                     None    None           0  \n",
      "46473                     None                     None    None           0  \n",
      "\n",
      "[46474 rows x 8 columns]\n"
     ]
    },
    {
     "data": {
      "text/html": [
       "<div>\n",
       "<style scoped>\n",
       "    .dataframe tbody tr th:only-of-type {\n",
       "        vertical-align: middle;\n",
       "    }\n",
       "\n",
       "    .dataframe tbody tr th {\n",
       "        vertical-align: top;\n",
       "    }\n",
       "\n",
       "    .dataframe thead th {\n",
       "        text-align: right;\n",
       "    }\n",
       "</style>\n",
       "<table border=\"1\" class=\"dataframe\">\n",
       "  <thead>\n",
       "    <tr style=\"text-align: right;\">\n",
       "      <th></th>\n",
       "      <th>row_id</th>\n",
       "      <th>subject_id</th>\n",
       "      <th>gender</th>\n",
       "      <th>dob</th>\n",
       "      <th>dod</th>\n",
       "      <th>dod_hosp</th>\n",
       "      <th>dod_ssn</th>\n",
       "      <th>expire_flag</th>\n",
       "    </tr>\n",
       "  </thead>\n",
       "  <tbody>\n",
       "    <tr>\n",
       "      <th>0</th>\n",
       "      <td>234</td>\n",
       "      <td>249</td>\n",
       "      <td>F</td>\n",
       "      <td>2075-03-13 00:00:00.000</td>\n",
       "      <td>None</td>\n",
       "      <td>None</td>\n",
       "      <td>None</td>\n",
       "      <td>0</td>\n",
       "    </tr>\n",
       "    <tr>\n",
       "      <th>1</th>\n",
       "      <td>235</td>\n",
       "      <td>250</td>\n",
       "      <td>F</td>\n",
       "      <td>2164-12-27 00:00:00.000</td>\n",
       "      <td>2188-11-22 00:00:00.000</td>\n",
       "      <td>2188-11-22 00:00:00.000</td>\n",
       "      <td>None</td>\n",
       "      <td>1</td>\n",
       "    </tr>\n",
       "    <tr>\n",
       "      <th>2</th>\n",
       "      <td>236</td>\n",
       "      <td>251</td>\n",
       "      <td>M</td>\n",
       "      <td>2090-03-15 00:00:00.000</td>\n",
       "      <td>None</td>\n",
       "      <td>None</td>\n",
       "      <td>None</td>\n",
       "      <td>0</td>\n",
       "    </tr>\n",
       "    <tr>\n",
       "      <th>3</th>\n",
       "      <td>237</td>\n",
       "      <td>252</td>\n",
       "      <td>M</td>\n",
       "      <td>2078-03-06 00:00:00.000</td>\n",
       "      <td>None</td>\n",
       "      <td>None</td>\n",
       "      <td>None</td>\n",
       "      <td>0</td>\n",
       "    </tr>\n",
       "    <tr>\n",
       "      <th>4</th>\n",
       "      <td>238</td>\n",
       "      <td>253</td>\n",
       "      <td>F</td>\n",
       "      <td>2089-11-26 00:00:00.000</td>\n",
       "      <td>None</td>\n",
       "      <td>None</td>\n",
       "      <td>None</td>\n",
       "      <td>0</td>\n",
       "    </tr>\n",
       "  </tbody>\n",
       "</table>\n",
       "</div>"
      ],
      "text/plain": [
       "  row_id subject_id gender                      dob                      dod  \\\n",
       "0    234        249      F  2075-03-13 00:00:00.000                     None   \n",
       "1    235        250      F  2164-12-27 00:00:00.000  2188-11-22 00:00:00.000   \n",
       "2    236        251      M  2090-03-15 00:00:00.000                     None   \n",
       "3    237        252      M  2078-03-06 00:00:00.000                     None   \n",
       "4    238        253      F  2089-11-26 00:00:00.000                     None   \n",
       "\n",
       "                  dod_hosp dod_ssn expire_flag  \n",
       "0                     None    None           0  \n",
       "1  2188-11-22 00:00:00.000    None           1  \n",
       "2                     None    None           0  \n",
       "3                     None    None           0  \n",
       "4                     None    None           0  "
      ]
     },
     "metadata": {},
     "output_type": "display_data"
    }
   ],
   "source": [
    "%%mimicSQL\n",
    "\n",
    "Retrieve all data from PATIENTS table where patients database. "
   ]
  },
  {
   "cell_type": "code",
   "execution_count": 6,
   "id": "b42cb9c3-d0bb-4df2-8b5a-76501cfcde7d",
   "metadata": {
    "ChapyterCell": {
     "cellType": "original"
    }
   },
   "outputs": [
    {
     "name": "stdout",
     "output_type": "stream",
     "text": [
      "You can use the `value_counts()` function in pandas to count the number of men and women in the 'gender' column. Here is the Python code:\n",
      "\n",
      "```python\n",
      "df['gender'].value_counts()\n",
      "```\n",
      "\n",
      "This will return the count of each unique value in the 'gender' column, which should be 'M' for male and 'F' for female.\n",
      "\n",
      " Result : gender\n",
      "M    26088\n",
      "F    20386\n",
      "Name: count, dtype: int64\n"
     ]
    }
   ],
   "source": [
    "%%mimicPython\n",
    "\n",
    "How many men and women are there?"
   ]
  },
  {
   "cell_type": "code",
   "execution_count": 8,
   "id": "3a978aa7-1653-4f16-8b9a-cd5f5577bcc0",
   "metadata": {
    "ChapyterCell": {
     "cellType": "original"
    }
   },
   "outputs": [
    {
     "name": "stdout",
     "output_type": "stream",
     "text": [
      "To retrieve data for patients over 18, we need to calculate the age of patients at their first admission. However, the MIMIC-III dataset intentionally shifts dates for patients aged over 89 to protect patient confidentiality. Therefore, we can't accurately calculate age for these patients. \n",
      "\n",
      "Here is a SQL query that retrieves data for patients where we can calculate the age and the age is over 18:\n",
      "\n",
      "```sql\n",
      "SELECT p.*\n",
      "FROM mimic.mimiciii.patients p\n",
      "INNER JOIN (\n",
      "    SELECT \n",
      "        a.subject_id,\n",
      "        MIN( ROUND( (cast(admittime as date) - cast(dob as date)) / 365.25 ) ) as age\n",
      "    FROM mimic.mimiciii.admissions a\n",
      "    INNER JOIN mimic.mimiciii.patients p\n",
      "    ON a.subject_id = p.subject_id\n",
      "    GROUP BY a.subject_id\n",
      ") a\n",
      "ON p.subject_id = a.subject_id\n",
      "WHERE a.age > 18;\n",
      "```\n",
      "\n",
      "Please replace `mimic.mimiciii` with your actual database schema name if it's different.\n",
      "Query failed! State: FAILED\n",
      "Reason: FUNCTION_NOT_FOUND: line 6:14: Unexpected parameters (interval day to second) for function round. Expected: round(double), round(bigint, integer), round(double, integer), round(bigint), round(real, integer), round(real), round(tinyint, integer), round(tinyint), round(smallint), round(smallint, integer), round(integer, integer), round(integer), round(decimal(p,s)), round(decimal(p,s), integer)\n",
      "SQL RETRIEVAL FAILED!\n"
     ]
    }
   ],
   "source": [
    "%%mimicSQL\n",
    "\n",
    "Now retrieve the same dataset from MIMIC-III, except only patients over 18."
   ]
  },
  {
   "cell_type": "code",
   "execution_count": 9,
   "id": "af93ae1d-0b72-47e0-ba95-0e4f360e341f",
   "metadata": {
    "ChapyterCell": {
     "cellType": "original",
     "linkedCellId": "c00691b3-318c-427a-b560-ed7114d4a8e1"
    }
   },
   "outputs": [
    {
     "name": "stdout",
     "output_type": "stream",
     "text": [
      "I apologize for the confusion. The ROUND function in SQL does not accept interval data types. We can use the EXTRACT function to get the year from the dates and then subtract to calculate the age. Here is the corrected SQL query:\n",
      "\n",
      "```sql\n",
      "SELECT p.*\n",
      "FROM mimic.mimiciii.patients p\n",
      "INNER JOIN (\n",
      "    SELECT \n",
      "        a.subject_id,\n",
      "        MIN( EXTRACT(year FROM a.admittime) - EXTRACT(year FROM p.dob) ) as age\n",
      "    FROM mimic.mimiciii.admissions a\n",
      "    INNER JOIN mimic.mimiciii.patients p\n",
      "    ON a.subject_id = p.subject_id\n",
      "    GROUP BY a.subject_id\n",
      ") a\n",
      "ON p.subject_id = a.subject_id\n",
      "WHERE a.age > 18;\n",
      "```\n",
      "\n",
      "Please replace `mimic.mimiciii` with your actual database schema name if it's different.\n"
     ]
    },
    {
     "data": {
      "text/html": [
       "<div>\n",
       "<style scoped>\n",
       "    .dataframe tbody tr th:only-of-type {\n",
       "        vertical-align: middle;\n",
       "    }\n",
       "\n",
       "    .dataframe tbody tr th {\n",
       "        vertical-align: top;\n",
       "    }\n",
       "\n",
       "    .dataframe thead th {\n",
       "        text-align: right;\n",
       "    }\n",
       "</style>\n",
       "<table border=\"1\" class=\"dataframe\">\n",
       "  <thead>\n",
       "    <tr style=\"text-align: right;\">\n",
       "      <th></th>\n",
       "      <th>row_id</th>\n",
       "      <th>subject_id</th>\n",
       "      <th>gender</th>\n",
       "      <th>dob</th>\n",
       "      <th>dod</th>\n",
       "      <th>dod_hosp</th>\n",
       "      <th>dod_ssn</th>\n",
       "      <th>expire_flag</th>\n",
       "    </tr>\n",
       "  </thead>\n",
       "  <tbody>\n",
       "    <tr>\n",
       "      <th>0</th>\n",
       "      <td>234</td>\n",
       "      <td>249</td>\n",
       "      <td>F</td>\n",
       "      <td>2075-03-13 00:00:00.000</td>\n",
       "      <td>None</td>\n",
       "      <td>None</td>\n",
       "      <td>None</td>\n",
       "      <td>0</td>\n",
       "    </tr>\n",
       "    <tr>\n",
       "      <th>1</th>\n",
       "      <td>235</td>\n",
       "      <td>250</td>\n",
       "      <td>F</td>\n",
       "      <td>2164-12-27 00:00:00.000</td>\n",
       "      <td>2188-11-22 00:00:00.000</td>\n",
       "      <td>2188-11-22 00:00:00.000</td>\n",
       "      <td>None</td>\n",
       "      <td>1</td>\n",
       "    </tr>\n",
       "    <tr>\n",
       "      <th>2</th>\n",
       "      <td>236</td>\n",
       "      <td>251</td>\n",
       "      <td>M</td>\n",
       "      <td>2090-03-15 00:00:00.000</td>\n",
       "      <td>None</td>\n",
       "      <td>None</td>\n",
       "      <td>None</td>\n",
       "      <td>0</td>\n",
       "    </tr>\n",
       "    <tr>\n",
       "      <th>3</th>\n",
       "      <td>237</td>\n",
       "      <td>252</td>\n",
       "      <td>M</td>\n",
       "      <td>2078-03-06 00:00:00.000</td>\n",
       "      <td>None</td>\n",
       "      <td>None</td>\n",
       "      <td>None</td>\n",
       "      <td>0</td>\n",
       "    </tr>\n",
       "    <tr>\n",
       "      <th>4</th>\n",
       "      <td>238</td>\n",
       "      <td>253</td>\n",
       "      <td>F</td>\n",
       "      <td>2089-11-26 00:00:00.000</td>\n",
       "      <td>None</td>\n",
       "      <td>None</td>\n",
       "      <td>None</td>\n",
       "      <td>0</td>\n",
       "    </tr>\n",
       "  </tbody>\n",
       "</table>\n",
       "</div>"
      ],
      "text/plain": [
       "  row_id subject_id gender                      dob                      dod  \\\n",
       "0    234        249      F  2075-03-13 00:00:00.000                     None   \n",
       "1    235        250      F  2164-12-27 00:00:00.000  2188-11-22 00:00:00.000   \n",
       "2    236        251      M  2090-03-15 00:00:00.000                     None   \n",
       "3    237        252      M  2078-03-06 00:00:00.000                     None   \n",
       "4    238        253      F  2089-11-26 00:00:00.000                     None   \n",
       "\n",
       "                  dod_hosp dod_ssn expire_flag  \n",
       "0                     None    None           0  \n",
       "1  2188-11-22 00:00:00.000    None           1  \n",
       "2                     None    None           0  \n",
       "3                     None    None           0  \n",
       "4                     None    None           0  "
      ]
     },
     "metadata": {},
     "output_type": "display_data"
    }
   ],
   "source": [
    "%%mimicSQL\n",
    "\n",
    "Try again."
   ]
  },
  {
   "cell_type": "code",
   "execution_count": 12,
   "id": "b497fdfb-0407-41e1-8161-d64fea698911",
   "metadata": {},
   "outputs": [
    {
     "name": "stdout",
     "output_type": "stream",
     "text": [
      "I apologize for the confusion. AWS Athena does not support the AGE function. We can calculate the age by subtracting the year of birth from the year of the first admission. Here is the corrected SQL query:\n",
      "\n",
      "```sql\n",
      "SELECT p.*\n",
      "FROM mimiciii.patients p\n",
      "JOIN (\n",
      "    SELECT subject_id, MIN(DATE_PART('year', admittime)) as first_admit_year\n",
      "    FROM mimiciii.admissions\n",
      "    GROUP BY subject_id\n",
      ") a\n",
      "ON p.subject_id = a.subject_id\n",
      "WHERE first_admit_year - DATE_PART('year', p.dob) >= 18;\n",
      "```\n",
      "\n",
      "This query first finds the year of the first admission for each patient, then calculates the age at the time of this admission, and finally filters for patients who were at least 18 years old. Please replace 'mimiciii' with the actual schema name if it's different.\n",
      "Query failed! State: FAILED\n",
      "Reason: FUNCTION_NOT_FOUND: line 4:28: Function 'date_part' not registered\n"
     ]
    },
    {
     "ename": "TypeError",
     "evalue": "cannot unpack non-iterable NoneType object",
     "output_type": "error",
     "traceback": [
      "\u001b[0;31m---------------------------------------------------------------------------\u001b[0m",
      "\u001b[0;31mTypeError\u001b[0m                                 Traceback (most recent call last)",
      "Cell \u001b[0;32mIn[12], line 1\u001b[0m\n\u001b[0;32m----> 1\u001b[0m \u001b[43mget_ipython\u001b[49m\u001b[43m(\u001b[49m\u001b[43m)\u001b[49m\u001b[38;5;241;43m.\u001b[39;49m\u001b[43mrun_cell_magic\u001b[49m\u001b[43m(\u001b[49m\u001b[38;5;124;43m'\u001b[39;49m\u001b[38;5;124;43mmimicSQL\u001b[39;49m\u001b[38;5;124;43m'\u001b[39;49m\u001b[43m,\u001b[49m\u001b[43m \u001b[49m\u001b[38;5;124;43m'\u001b[39;49m\u001b[38;5;124;43m'\u001b[39;49m\u001b[43m,\u001b[49m\u001b[43m \u001b[49m\u001b[38;5;124;43m'\u001b[39;49m\u001b[38;5;130;43;01m\\n\u001b[39;49;00m\u001b[38;5;124;43mTry again\u001b[39;49m\u001b[38;5;130;43;01m\\n\u001b[39;49;00m\u001b[38;5;124;43m'\u001b[39;49m\u001b[43m)\u001b[49m\n",
      "File \u001b[0;32m~/miniconda3/lib/python3.10/site-packages/IPython/core/interactiveshell.py:2478\u001b[0m, in \u001b[0;36mInteractiveShell.run_cell_magic\u001b[0;34m(self, magic_name, line, cell)\u001b[0m\n\u001b[1;32m   2476\u001b[0m \u001b[38;5;28;01mwith\u001b[39;00m \u001b[38;5;28mself\u001b[39m\u001b[38;5;241m.\u001b[39mbuiltin_trap:\n\u001b[1;32m   2477\u001b[0m     args \u001b[38;5;241m=\u001b[39m (magic_arg_s, cell)\n\u001b[0;32m-> 2478\u001b[0m     result \u001b[38;5;241m=\u001b[39m \u001b[43mfn\u001b[49m\u001b[43m(\u001b[49m\u001b[38;5;241;43m*\u001b[39;49m\u001b[43margs\u001b[49m\u001b[43m,\u001b[49m\u001b[43m \u001b[49m\u001b[38;5;241;43m*\u001b[39;49m\u001b[38;5;241;43m*\u001b[39;49m\u001b[43mkwargs\u001b[49m\u001b[43m)\u001b[49m\n\u001b[1;32m   2480\u001b[0m \u001b[38;5;66;03m# The code below prevents the output from being displayed\u001b[39;00m\n\u001b[1;32m   2481\u001b[0m \u001b[38;5;66;03m# when using magics with decodator @output_can_be_silenced\u001b[39;00m\n\u001b[1;32m   2482\u001b[0m \u001b[38;5;66;03m# when the last Python token in the expression is a ';'.\u001b[39;00m\n\u001b[1;32m   2483\u001b[0m \u001b[38;5;28;01mif\u001b[39;00m \u001b[38;5;28mgetattr\u001b[39m(fn, magic\u001b[38;5;241m.\u001b[39mMAGIC_OUTPUT_CAN_BE_SILENCED, \u001b[38;5;28;01mFalse\u001b[39;00m):\n",
      "File \u001b[0;32m~/Documents/startup/mocha/real_code_sept_23/chapyterMed/chapyter/magic.py:394\u001b[0m, in \u001b[0;36mChapyter.mimicSQL\u001b[0;34m(self, line, cell)\u001b[0m\n\u001b[1;32m    392\u001b[0m contains_SQL \u001b[38;5;241m=\u001b[39m query_llm(program_out, sys_prompt)\n\u001b[1;32m    393\u001b[0m \u001b[38;5;28;01mif\u001b[39;00m contains_SQL \u001b[38;5;241m!=\u001b[39m \u001b[38;5;124m\"\u001b[39m\u001b[38;5;124mNO SQL FOUND\u001b[39m\u001b[38;5;124m\"\u001b[39m: \u001b[38;5;66;03m#If the response has SQL in it, execute it, get df and store it\u001b[39;00m\n\u001b[0;32m--> 394\u001b[0m     df, sql_query \u001b[38;5;241m=\u001b[39m sql_query_to_athena_df(contains_SQL)\n\u001b[1;32m    395\u001b[0m     display(df\u001b[38;5;241m.\u001b[39mhead(\u001b[38;5;241m5\u001b[39m))\n\u001b[1;32m    396\u001b[0m     \u001b[38;5;28mself\u001b[39m\u001b[38;5;241m.\u001b[39mshell\u001b[38;5;241m.\u001b[39muser_ns[\u001b[38;5;124m'\u001b[39m\u001b[38;5;124mdf\u001b[39m\u001b[38;5;124m'\u001b[39m] \u001b[38;5;241m=\u001b[39m df\n",
      "\u001b[0;31mTypeError\u001b[0m: cannot unpack non-iterable NoneType object"
     ]
    }
   ],
   "source": [
    "%%mimicSQL\n",
    "\n",
    "Try again"
   ]
  },
  {
   "cell_type": "code",
   "execution_count": 13,
   "id": "36cdd408-9d6a-4abb-9b0f-509851066798",
   "metadata": {
    "ChapyterCell": {
     "cellType": "original"
    }
   },
   "outputs": [
    {
     "name": "stdout",
     "output_type": "stream",
     "text": [
      "I apologize for the confusion earlier. AWS Athena uses different functions for date and time manipulations. Let's use the `year` function to extract the year from the dates. Here is the corrected SQL query:\n",
      "\n",
      "```sql\n",
      "SELECT p.*\n",
      "FROM mimiciii.patients p\n",
      "JOIN (\n",
      "    SELECT subject_id, MIN(year(admittime)) as first_admit_year\n",
      "    FROM mimiciii.admissions\n",
      "    GROUP BY subject_id\n",
      ") a\n",
      "ON p.subject_id = a.subject_id\n",
      "WHERE first_admit_year - year(p.dob) >= 18;\n",
      "```\n",
      "\n",
      "This query first finds the year of the first admission for each patient, then calculates the age at the time of this admission, and finally filters for patients who were at least 18 years old. Please replace 'mimiciii' with the actual schema name if it's different.\n"
     ]
    },
    {
     "data": {
      "text/html": [
       "<div>\n",
       "<style scoped>\n",
       "    .dataframe tbody tr th:only-of-type {\n",
       "        vertical-align: middle;\n",
       "    }\n",
       "\n",
       "    .dataframe tbody tr th {\n",
       "        vertical-align: top;\n",
       "    }\n",
       "\n",
       "    .dataframe thead th {\n",
       "        text-align: right;\n",
       "    }\n",
       "</style>\n",
       "<table border=\"1\" class=\"dataframe\">\n",
       "  <thead>\n",
       "    <tr style=\"text-align: right;\">\n",
       "      <th></th>\n",
       "      <th>row_id</th>\n",
       "      <th>subject_id</th>\n",
       "      <th>gender</th>\n",
       "      <th>dob</th>\n",
       "      <th>dod</th>\n",
       "      <th>dod_hosp</th>\n",
       "      <th>dod_ssn</th>\n",
       "      <th>expire_flag</th>\n",
       "    </tr>\n",
       "  </thead>\n",
       "  <tbody>\n",
       "    <tr>\n",
       "      <th>0</th>\n",
       "      <td>234</td>\n",
       "      <td>249</td>\n",
       "      <td>F</td>\n",
       "      <td>2075-03-13 00:00:00.000</td>\n",
       "      <td>None</td>\n",
       "      <td>None</td>\n",
       "      <td>None</td>\n",
       "      <td>0</td>\n",
       "    </tr>\n",
       "    <tr>\n",
       "      <th>1</th>\n",
       "      <td>235</td>\n",
       "      <td>250</td>\n",
       "      <td>F</td>\n",
       "      <td>2164-12-27 00:00:00.000</td>\n",
       "      <td>2188-11-22 00:00:00.000</td>\n",
       "      <td>2188-11-22 00:00:00.000</td>\n",
       "      <td>None</td>\n",
       "      <td>1</td>\n",
       "    </tr>\n",
       "    <tr>\n",
       "      <th>2</th>\n",
       "      <td>236</td>\n",
       "      <td>251</td>\n",
       "      <td>M</td>\n",
       "      <td>2090-03-15 00:00:00.000</td>\n",
       "      <td>None</td>\n",
       "      <td>None</td>\n",
       "      <td>None</td>\n",
       "      <td>0</td>\n",
       "    </tr>\n",
       "    <tr>\n",
       "      <th>3</th>\n",
       "      <td>237</td>\n",
       "      <td>252</td>\n",
       "      <td>M</td>\n",
       "      <td>2078-03-06 00:00:00.000</td>\n",
       "      <td>None</td>\n",
       "      <td>None</td>\n",
       "      <td>None</td>\n",
       "      <td>0</td>\n",
       "    </tr>\n",
       "    <tr>\n",
       "      <th>4</th>\n",
       "      <td>238</td>\n",
       "      <td>253</td>\n",
       "      <td>F</td>\n",
       "      <td>2089-11-26 00:00:00.000</td>\n",
       "      <td>None</td>\n",
       "      <td>None</td>\n",
       "      <td>None</td>\n",
       "      <td>0</td>\n",
       "    </tr>\n",
       "  </tbody>\n",
       "</table>\n",
       "</div>"
      ],
      "text/plain": [
       "  row_id subject_id gender                      dob                      dod  \\\n",
       "0    234        249      F  2075-03-13 00:00:00.000                     None   \n",
       "1    235        250      F  2164-12-27 00:00:00.000  2188-11-22 00:00:00.000   \n",
       "2    236        251      M  2090-03-15 00:00:00.000                     None   \n",
       "3    237        252      M  2078-03-06 00:00:00.000                     None   \n",
       "4    238        253      F  2089-11-26 00:00:00.000                     None   \n",
       "\n",
       "                  dod_hosp dod_ssn expire_flag  \n",
       "0                     None    None           0  \n",
       "1  2188-11-22 00:00:00.000    None           1  \n",
       "2                     None    None           0  \n",
       "3                     None    None           0  \n",
       "4                     None    None           0  "
      ]
     },
     "metadata": {},
     "output_type": "display_data"
    }
   ],
   "source": [
    "%%mimicSQL\n",
    "\n",
    "Try again! Reason: FUNCTION_NOT_FOUND: line 4:28: Function 'date_part' not registered"
   ]
  },
  {
   "cell_type": "code",
   "execution_count": 15,
   "id": "b64af3f6-835b-4706-bf94-3753eac46ff9",
   "metadata": {
    "ChapyterCell": {
     "cellType": "original"
    }
   },
   "outputs": [
    {
     "name": "stdout",
     "output_type": "stream",
     "text": [
      "You can use the `value_counts()` function in pandas to count the number of men and women in the dataframe. Here is the Python code:\n",
      "\n",
      "```python\n",
      "gender_counts = df['gender'].value_counts()\n",
      "print(gender_counts)\n",
      "```\n",
      "\n",
      "This will print the number of men and women in the dataframe. 'M' stands for male and 'F' stands for female.\n",
      "\n",
      " Result : gender\n",
      "M    21818\n",
      "F    16722\n",
      "Name: count, dtype: int64\n"
     ]
    }
   ],
   "source": [
    "%%mimicPython\n",
    "\n",
    "How many men and women are there?"
   ]
  },
  {
   "cell_type": "code",
   "execution_count": 11,
   "id": "5a093c72-34fd-4d9d-b58a-7ff4be20da69",
   "metadata": {
    "ChapyterCell": {
     "cellType": "original"
    }
   },
   "outputs": [
    {
     "name": "stdout",
     "output_type": "stream",
     "text": [
      "The p-value obtained from the Chi-Square test is extremely small (5.74e-05), much less than the commonly used significance level of 0.05. This means that the difference in death rates between men and women is statistically significant. \n",
      "\n",
      "In other words, the likelihood that the observed difference in death rates occurred by chance is very low, so we can confidently reject the null hypothesis that there is no difference in death rates between men and women. \n",
      "\n",
      "Please note that while this result is statistically significant, it does not necessarily imply a large or meaningful difference in death rates. The magnitude and clinical significance of the difference would need to be evaluated separately.\n"
     ]
    }
   ],
   "source": [
    "%%mimicPython\n",
    "\n",
    "So how statistically significant is this result?"
   ]
  },
  {
   "cell_type": "code",
   "execution_count": null,
   "id": "a558f16c-4ca4-4ec1-95ab-c4d419798c7e",
   "metadata": {},
   "outputs": [],
   "source": []
  }
 ],
 "metadata": {
  "kernelspec": {
   "display_name": "Python 3 (ipykernel)",
   "language": "python",
   "name": "python3"
  },
  "language_info": {
   "codemirror_mode": {
    "name": "ipython",
    "version": 3
   },
   "file_extension": ".py",
   "mimetype": "text/x-python",
   "name": "python",
   "nbconvert_exporter": "python",
   "pygments_lexer": "ipython3",
   "version": "3.10.10"
  }
 },
 "nbformat": 4,
 "nbformat_minor": 5
}
