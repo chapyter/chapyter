{
 "cells": [
  {
   "cell_type": "code",
   "execution_count": 1,
   "id": "305f5dfc-d2e5-44eb-b6b5-4850e86274f4",
   "metadata": {
    "editable": true,
    "slideshow": {
     "slide_type": ""
    },
    "tags": []
   },
   "outputs": [],
   "source": [
    "%load_ext autoreload"
   ]
  },
  {
   "cell_type": "code",
   "execution_count": 2,
   "id": "35f98b98-8b1f-4ccd-a395-1b5bd6792105",
   "metadata": {},
   "outputs": [],
   "source": [
    "%autoreload 2"
   ]
  },
  {
   "cell_type": "code",
   "execution_count": 3,
   "id": "d091328b-6bea-4c73-af5f-3859424c192b",
   "metadata": {},
   "outputs": [
    {
     "name": "stderr",
     "output_type": "stream",
     "text": [
      "2023-09-20 20:39:47.050 WARNING streamlit.runtime.state.session_state_proxy: Session state does not function when running a script without `streamlit run`\n"
     ]
    }
   ],
   "source": [
    "%load_ext chapyter"
   ]
  },
  {
   "cell_type": "code",
   "execution_count": 6,
   "id": "f9004506-e65d-4afa-8f58-8581393d6e35",
   "metadata": {
    "ChapyterCell": {
     "cellType": "original"
    }
   },
   "outputs": [
    {
     "name": "stdout",
     "output_type": "stream",
     "text": [
      "Sure, to retrieve all data on men and women with \"sepsis\", \"severe sepsis\", or \"septic shock\", you can use the following SQL query:\n",
      "\n",
      "```sql\n",
      "SELECT *\n",
      "FROM patients\n",
      "JOIN diagnoses_icd ON patients.subject_id = diagnoses_icd.subject_id\n",
      "WHERE diagnoses_icd.icd9_code IN ('99591', '99592', '78552')\n",
      "```\n",
      "\n",
      "In this query, '99591', '99592', and '78552' are the ICD-9 codes for \"sepsis\", \"severe sepsis\", and \"septic shock\" respectively. Please note that the actual table names and column names might vary depending on the structure of your MIMIC-III dataset.\n"
     ]
    },
    {
     "data": {
      "text/html": [
       "<div>\n",
       "<style scoped>\n",
       "    .dataframe tbody tr th:only-of-type {\n",
       "        vertical-align: middle;\n",
       "    }\n",
       "\n",
       "    .dataframe tbody tr th {\n",
       "        vertical-align: top;\n",
       "    }\n",
       "\n",
       "    .dataframe thead th {\n",
       "        text-align: right;\n",
       "    }\n",
       "</style>\n",
       "<table border=\"1\" class=\"dataframe\">\n",
       "  <thead>\n",
       "    <tr style=\"text-align: right;\">\n",
       "      <th></th>\n",
       "      <th>row_id</th>\n",
       "      <th>subject_id</th>\n",
       "      <th>gender</th>\n",
       "      <th>dob</th>\n",
       "      <th>dod</th>\n",
       "      <th>dod_hosp</th>\n",
       "      <th>dod_ssn</th>\n",
       "      <th>expire_flag</th>\n",
       "      <th>row_id</th>\n",
       "      <th>subject_id</th>\n",
       "      <th>hadm_id</th>\n",
       "      <th>seq_num</th>\n",
       "      <th>icd9_code</th>\n",
       "    </tr>\n",
       "  </thead>\n",
       "  <tbody>\n",
       "    <tr>\n",
       "      <th>0</th>\n",
       "      <td>235</td>\n",
       "      <td>250</td>\n",
       "      <td>F</td>\n",
       "      <td>2164-12-27 00:00:00.000</td>\n",
       "      <td>2188-11-22 00:00:00.000</td>\n",
       "      <td>2188-11-22 00:00:00.000</td>\n",
       "      <td>None</td>\n",
       "      <td>1</td>\n",
       "      <td>3060</td>\n",
       "      <td>250</td>\n",
       "      <td>124271</td>\n",
       "      <td>10</td>\n",
       "      <td>99592</td>\n",
       "    </tr>\n",
       "    <tr>\n",
       "      <th>1</th>\n",
       "      <td>235</td>\n",
       "      <td>250</td>\n",
       "      <td>F</td>\n",
       "      <td>2164-12-27 00:00:00.000</td>\n",
       "      <td>2188-11-22 00:00:00.000</td>\n",
       "      <td>2188-11-22 00:00:00.000</td>\n",
       "      <td>None</td>\n",
       "      <td>1</td>\n",
       "      <td>3052</td>\n",
       "      <td>250</td>\n",
       "      <td>124271</td>\n",
       "      <td>2</td>\n",
       "      <td>78552</td>\n",
       "    </tr>\n",
       "    <tr>\n",
       "      <th>2</th>\n",
       "      <td>252</td>\n",
       "      <td>269</td>\n",
       "      <td>M</td>\n",
       "      <td>2130-09-30 00:00:00.000</td>\n",
       "      <td>None</td>\n",
       "      <td>None</td>\n",
       "      <td>None</td>\n",
       "      <td>0</td>\n",
       "      <td>3236</td>\n",
       "      <td>269</td>\n",
       "      <td>106296</td>\n",
       "      <td>8</td>\n",
       "      <td>99592</td>\n",
       "    </tr>\n",
       "    <tr>\n",
       "      <th>3</th>\n",
       "      <td>252</td>\n",
       "      <td>269</td>\n",
       "      <td>M</td>\n",
       "      <td>2130-09-30 00:00:00.000</td>\n",
       "      <td>None</td>\n",
       "      <td>None</td>\n",
       "      <td>None</td>\n",
       "      <td>0</td>\n",
       "      <td>3230</td>\n",
       "      <td>269</td>\n",
       "      <td>106296</td>\n",
       "      <td>2</td>\n",
       "      <td>78552</td>\n",
       "    </tr>\n",
       "    <tr>\n",
       "      <th>4</th>\n",
       "      <td>650</td>\n",
       "      <td>689</td>\n",
       "      <td>F</td>\n",
       "      <td>2128-12-27 00:00:00.000</td>\n",
       "      <td>None</td>\n",
       "      <td>None</td>\n",
       "      <td>None</td>\n",
       "      <td>0</td>\n",
       "      <td>7851</td>\n",
       "      <td>689</td>\n",
       "      <td>129080</td>\n",
       "      <td>2</td>\n",
       "      <td>99591</td>\n",
       "    </tr>\n",
       "  </tbody>\n",
       "</table>\n",
       "</div>"
      ],
      "text/plain": [
       "  row_id subject_id gender                      dob                      dod  \\\n",
       "0    235        250      F  2164-12-27 00:00:00.000  2188-11-22 00:00:00.000   \n",
       "1    235        250      F  2164-12-27 00:00:00.000  2188-11-22 00:00:00.000   \n",
       "2    252        269      M  2130-09-30 00:00:00.000                     None   \n",
       "3    252        269      M  2130-09-30 00:00:00.000                     None   \n",
       "4    650        689      F  2128-12-27 00:00:00.000                     None   \n",
       "\n",
       "                  dod_hosp dod_ssn expire_flag row_id subject_id hadm_id  \\\n",
       "0  2188-11-22 00:00:00.000    None           1   3060        250  124271   \n",
       "1  2188-11-22 00:00:00.000    None           1   3052        250  124271   \n",
       "2                     None    None           0   3236        269  106296   \n",
       "3                     None    None           0   3230        269  106296   \n",
       "4                     None    None           0   7851        689  129080   \n",
       "\n",
       "  seq_num icd9_code  \n",
       "0      10     99592  \n",
       "1       2     78552  \n",
       "2       8     99592  \n",
       "3       2     78552  \n",
       "4       2     99591  "
      ]
     },
     "metadata": {},
     "output_type": "display_data"
    }
   ],
   "source": [
    "%%mimicSQL\n",
    "\n",
    "Retrieve all data on men and women with “sepsis,” “severe sepsis,” or “septic shock”."
   ]
  },
  {
   "cell_type": "code",
   "execution_count": null,
   "id": "ed36fd61-db24-48a8-a2c4-25ac17b94396",
   "metadata": {
    "ChapyterCell": {
     "cellType": "original"
    }
   },
   "outputs": [],
   "source": [
    "%%mimicSQL\n",
    "\n",
    "Give me the same table but include gender of subjects"
   ]
  },
  {
   "cell_type": "code",
   "execution_count": null,
   "id": "af93ae1d-0b72-47e0-ba95-0e4f360e341f",
   "metadata": {
    "ChapyterCell": {
     "cellType": "original",
     "linkedCellId": "c00691b3-318c-427a-b560-ed7114d4a8e1"
    }
   },
   "outputs": [],
   "source": [
    "%%mimicPython\n",
    "\n",
    "What is the gender distribution of these patients? In percentage."
   ]
  }
 ],
 "metadata": {
  "kernelspec": {
   "display_name": "Python 3 (ipykernel)",
   "language": "python",
   "name": "python3"
  },
  "language_info": {
   "codemirror_mode": {
    "name": "ipython",
    "version": 3
   },
   "file_extension": ".py",
   "mimetype": "text/x-python",
   "name": "python",
   "nbconvert_exporter": "python",
   "pygments_lexer": "ipython3",
   "version": "3.10.10"
  }
 },
 "nbformat": 4,
 "nbformat_minor": 5
}
