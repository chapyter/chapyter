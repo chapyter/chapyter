{
 "cells": [
  {
   "cell_type": "code",
   "execution_count": 1,
   "id": "305f5dfc-d2e5-44eb-b6b5-4850e86274f4",
   "metadata": {
    "editable": true,
    "slideshow": {
     "slide_type": ""
    },
    "tags": []
   },
   "outputs": [],
   "source": [
    "%load_ext autoreload"
   ]
  },
  {
   "cell_type": "code",
   "execution_count": 2,
   "id": "35f98b98-8b1f-4ccd-a395-1b5bd6792105",
   "metadata": {},
   "outputs": [],
   "source": [
    "%autoreload 2"
   ]
  },
  {
   "cell_type": "code",
   "execution_count": 3,
   "id": "d091328b-6bea-4c73-af5f-3859424c192b",
   "metadata": {},
   "outputs": [
    {
     "name": "stderr",
     "output_type": "stream",
     "text": [
      "2023-09-23 16:09:03.556 WARNING streamlit.runtime.state.session_state_proxy: Session state does not function when running a script without `streamlit run`\n"
     ]
    }
   ],
   "source": [
    "%load_ext chapyter"
   ]
  },
  {
   "cell_type": "code",
   "execution_count": 4,
   "id": "2a23821b-301f-4402-8454-a0b74f531328",
   "metadata": {},
   "outputs": [],
   "source": [
    "import os\n",
    "os.environ[\"NOTEBOOK_NAME\"] = \"01-sepsis-gender-distribution.ipynb\""
   ]
  },
  {
   "cell_type": "code",
   "execution_count": 5,
   "id": "f9004506-e65d-4afa-8f58-8581393d6e35",
   "metadata": {
    "ChapyterCell": {
     "cellType": "original"
    }
   },
   "outputs": [
    {
     "name": "stdout",
     "output_type": "stream",
     "text": [
      "I'm sorry for the confusion, but the PATIENTS table in the MIMIC-III dataset does not contain information about diagnoses. Diagnoses are stored in the DIAGNOSES_ICD table. \n",
      "\n",
      "To retrieve all patients who have \"sepsis,\" \"severe sepsis,\" or \"septic shock,\" we would need to join the PATIENTS table with the DIAGNOSES_ICD table and filter by the appropriate ICD codes for these conditions. \n",
      "\n",
      "Here is a sample SQL query:\n",
      "\n",
      "```sql\n",
      "SELECT p.*\n",
      "FROM patients p\n",
      "JOIN diagnoses_icd d ON p.subject_id = d.subject_id\n",
      "WHERE d.icd9_code IN ('99591', '99592', '78552')\n",
      "```\n",
      "\n",
      "In this query, '99591' is the ICD-9 code for \"Sepsis,\" '99592' is for \"Severe sepsis,\" and '78552' is for \"Septic shock.\" Please note that these codes might not cover all possible sepsis-related conditions, and you might need to adjust them based on your specific research question.\n",
      "PAGINATING\n",
      "PAGINATING\n",
      "PAGINATING\n",
      "PAGINATING\n",
      "PAGINATING\n",
      "PAGINATING\n",
      "PAGINATING\n",
      "PAGINATING\n"
     ]
    },
    {
     "data": {
      "text/html": [
       "<div>\n",
       "<style scoped>\n",
       "    .dataframe tbody tr th:only-of-type {\n",
       "        vertical-align: middle;\n",
       "    }\n",
       "\n",
       "    .dataframe tbody tr th {\n",
       "        vertical-align: top;\n",
       "    }\n",
       "\n",
       "    .dataframe thead th {\n",
       "        text-align: right;\n",
       "    }\n",
       "</style>\n",
       "<table border=\"1\" class=\"dataframe\">\n",
       "  <thead>\n",
       "    <tr style=\"text-align: right;\">\n",
       "      <th></th>\n",
       "      <th>row_id</th>\n",
       "      <th>subject_id</th>\n",
       "      <th>gender</th>\n",
       "      <th>dob</th>\n",
       "      <th>dod</th>\n",
       "      <th>dod_hosp</th>\n",
       "      <th>dod_ssn</th>\n",
       "      <th>expire_flag</th>\n",
       "    </tr>\n",
       "  </thead>\n",
       "  <tbody>\n",
       "    <tr>\n",
       "      <th>0</th>\n",
       "      <td>235</td>\n",
       "      <td>250</td>\n",
       "      <td>F</td>\n",
       "      <td>2164-12-27 00:00:00.000</td>\n",
       "      <td>2188-11-22 00:00:00.000</td>\n",
       "      <td>2188-11-22 00:00:00.000</td>\n",
       "      <td>None</td>\n",
       "      <td>1</td>\n",
       "    </tr>\n",
       "    <tr>\n",
       "      <th>1</th>\n",
       "      <td>235</td>\n",
       "      <td>250</td>\n",
       "      <td>F</td>\n",
       "      <td>2164-12-27 00:00:00.000</td>\n",
       "      <td>2188-11-22 00:00:00.000</td>\n",
       "      <td>2188-11-22 00:00:00.000</td>\n",
       "      <td>None</td>\n",
       "      <td>1</td>\n",
       "    </tr>\n",
       "    <tr>\n",
       "      <th>2</th>\n",
       "      <td>252</td>\n",
       "      <td>269</td>\n",
       "      <td>M</td>\n",
       "      <td>2130-09-30 00:00:00.000</td>\n",
       "      <td>None</td>\n",
       "      <td>None</td>\n",
       "      <td>None</td>\n",
       "      <td>0</td>\n",
       "    </tr>\n",
       "    <tr>\n",
       "      <th>3</th>\n",
       "      <td>252</td>\n",
       "      <td>269</td>\n",
       "      <td>M</td>\n",
       "      <td>2130-09-30 00:00:00.000</td>\n",
       "      <td>None</td>\n",
       "      <td>None</td>\n",
       "      <td>None</td>\n",
       "      <td>0</td>\n",
       "    </tr>\n",
       "    <tr>\n",
       "      <th>4</th>\n",
       "      <td>650</td>\n",
       "      <td>689</td>\n",
       "      <td>F</td>\n",
       "      <td>2128-12-27 00:00:00.000</td>\n",
       "      <td>None</td>\n",
       "      <td>None</td>\n",
       "      <td>None</td>\n",
       "      <td>0</td>\n",
       "    </tr>\n",
       "  </tbody>\n",
       "</table>\n",
       "</div>"
      ],
      "text/plain": [
       "  row_id subject_id gender                      dob                      dod  \\\n",
       "0    235        250      F  2164-12-27 00:00:00.000  2188-11-22 00:00:00.000   \n",
       "1    235        250      F  2164-12-27 00:00:00.000  2188-11-22 00:00:00.000   \n",
       "2    252        269      M  2130-09-30 00:00:00.000                     None   \n",
       "3    252        269      M  2130-09-30 00:00:00.000                     None   \n",
       "4    650        689      F  2128-12-27 00:00:00.000                     None   \n",
       "\n",
       "                  dod_hosp dod_ssn expire_flag  \n",
       "0  2188-11-22 00:00:00.000    None           1  \n",
       "1  2188-11-22 00:00:00.000    None           1  \n",
       "2                     None    None           0  \n",
       "3                     None    None           0  \n",
       "4                     None    None           0  "
      ]
     },
     "metadata": {},
     "output_type": "display_data"
    }
   ],
   "source": [
    "%%mimicSQL\n",
    "\n",
    "Retrieve all data from PATIENTS table where patients have “sepsis,” “severe sepsis,” or “septic shock”."
   ]
  },
  {
   "cell_type": "code",
   "execution_count": 6,
   "id": "af93ae1d-0b72-47e0-ba95-0e4f360e341f",
   "metadata": {
    "ChapyterCell": {
     "cellType": "original",
     "linkedCellId": "c00691b3-318c-427a-b560-ed7114d4a8e1"
    }
   },
   "outputs": [
    {
     "name": "stdout",
     "output_type": "stream",
     "text": [
      "Sure, we can use the `value_counts()` function to count the number of men and women, and the `count()` function to get the total number of people. Here is the Python code:\n",
      "\n",
      "```python\n",
      "gender_counts = df['gender'].value_counts()\n",
      "total_people = df['gender'].count()\n",
      "\n",
      "print(\"Gender Counts:\\n\", gender_counts)\n",
      "print(\"Total People:\", total_people)\n",
      "```\n",
      "\n",
      "This will give you the number of men and women in the dataset, as well as the total number of people.\n",
      "\n",
      " Result : {'Gender Counts': gender\n",
      "M    4267\n",
      "F    3496\n",
      "Name: count, dtype: int64, 'Total People': 7763}\n"
     ]
    }
   ],
   "source": [
    "%%mimicPython\n",
    "\n",
    "How many men and women are there? And how many people total?"
   ]
  },
  {
   "cell_type": "code",
   "execution_count": 7,
   "id": "36cdd408-9d6a-4abb-9b0f-509851066798",
   "metadata": {
    "ChapyterCell": {
     "cellType": "original"
    }
   },
   "outputs": [
    {
     "name": "stdout",
     "output_type": "stream",
     "text": [
      "To calculate the percentage of men and women who die, we can use the 'expire_flag' column in the dataframe. This column has a value of 1 if the patient died, and 0 otherwise. Here is the Python code:\n",
      "\n",
      "```python\n",
      "# Calculate the total number of men and women\n",
      "total_men = df[df['gender'] == 'M'].shape[0]\n",
      "total_women = df[df['gender'] == 'F'].shape[0]\n",
      "\n",
      "# Calculate the number of men and women who died\n",
      "men_died = df[(df['gender'] == 'M') & (df['expire_flag'] == 1)].shape[0]\n",
      "women_died = df[(df['gender'] == 'F') & (df['expire_flag'] == 1)].shape[0]\n",
      "\n",
      "# Calculate the percentage of men and women who died\n",
      "percentage_men_died = (men_died / total_men) * 100\n",
      "percentage_women_died = (women_died / total_women) * 100\n",
      "\n",
      "print(\"Percentage of men who died: \", percentage_men_died)\n",
      "print(\"Percentage of women who died: \", percentage_women_died)\n",
      "```\n",
      "\n",
      "This will give you the percentage of men and women who died in the dataset.\n",
      "\n",
      " Result : {'Percentage of men who died': 66.62760721818609, 'Percentage of women who died': 62.21395881006865}\n"
     ]
    }
   ],
   "source": [
    "%%mimicPython\n",
    "\n",
    "What percentage of men die? What percentage of women die?"
   ]
  },
  {
   "cell_type": "code",
   "execution_count": 8,
   "id": "b64af3f6-835b-4706-bf94-3753eac46ff9",
   "metadata": {
    "ChapyterCell": {
     "cellType": "original"
    }
   },
   "outputs": [
    {
     "name": "stdout",
     "output_type": "stream",
     "text": [
      "To test if there is a statistically significant difference in the rates of death between men and women, we can use a Chi-Square test of independence. This test is appropriate because we are dealing with two categorical variables (gender and death).\n",
      "\n",
      "Here is how you can perform this test in Python using the `scipy.stats` library:\n",
      "\n",
      "```python\n",
      "from scipy.stats import chi2_contingency\n",
      "\n",
      "# Create a contingency table\n",
      "contingency_table = pd.crosstab(df['gender'], df['expire_flag'])\n",
      "\n",
      "# Perform the Chi-Square test\n",
      "chi2, p, dof, expected = chi2_contingency(contingency_table)\n",
      "\n",
      "print(\"Chi-Square Statistic: \", chi2)\n",
      "print(\"p-value: \", p)\n",
      "```\n",
      "\n",
      "The p-value will tell us whether the difference in death rates is statistically significant. If the p-value is less than 0.05, we can reject the null hypothesis and conclude that there is a significant difference in death rates between men and women.\n",
      "\n",
      " Result : 5.7449873729584416e-05\n"
     ]
    }
   ],
   "source": [
    "%%mimicPython\n",
    "\n",
    "Do men and women have statistically significant different rates of death? Suggest a statistical test, and then implement it in python."
   ]
  },
  {
   "cell_type": "code",
   "execution_count": 11,
   "id": "5a093c72-34fd-4d9d-b58a-7ff4be20da69",
   "metadata": {
    "ChapyterCell": {
     "cellType": "original"
    }
   },
   "outputs": [
    {
     "name": "stdout",
     "output_type": "stream",
     "text": [
      "The p-value obtained from the Chi-Square test is extremely small (5.74e-05), much less than the commonly used significance level of 0.05. This means that the difference in death rates between men and women is statistically significant. \n",
      "\n",
      "In other words, the likelihood that the observed difference in death rates occurred by chance is very low, so we can confidently reject the null hypothesis that there is no difference in death rates between men and women. \n",
      "\n",
      "Please note that while this result is statistically significant, it does not necessarily imply a large or meaningful difference in death rates. The magnitude and clinical significance of the difference would need to be evaluated separately.\n"
     ]
    }
   ],
   "source": [
    "%%mimicPython\n",
    "\n",
    "So how statistically significant is this result?"
   ]
  },
  {
   "cell_type": "code",
   "execution_count": null,
   "id": "a558f16c-4ca4-4ec1-95ab-c4d419798c7e",
   "metadata": {},
   "outputs": [],
   "source": []
  }
 ],
 "metadata": {
  "kernelspec": {
   "display_name": "Python 3 (ipykernel)",
   "language": "python",
   "name": "python3"
  },
  "language_info": {
   "codemirror_mode": {
    "name": "ipython",
    "version": 3
   },
   "file_extension": ".py",
   "mimetype": "text/x-python",
   "name": "python",
   "nbconvert_exporter": "python",
   "pygments_lexer": "ipython3",
   "version": "3.10.10"
  }
 },
 "nbformat": 4,
 "nbformat_minor": 5
}
