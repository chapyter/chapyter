{
 "cells": [
  {
   "cell_type": "code",
   "execution_count": 1,
   "id": "305f5dfc-d2e5-44eb-b6b5-4850e86274f4",
   "metadata": {
    "editable": true,
    "slideshow": {
     "slide_type": ""
    },
    "tags": []
   },
   "outputs": [],
   "source": [
    "%load_ext autoreload"
   ]
  },
  {
   "cell_type": "code",
   "execution_count": 2,
   "id": "35f98b98-8b1f-4ccd-a395-1b5bd6792105",
   "metadata": {},
   "outputs": [],
   "source": [
    "%autoreload 2"
   ]
  },
  {
   "cell_type": "code",
   "execution_count": 3,
   "id": "d091328b-6bea-4c73-af5f-3859424c192b",
   "metadata": {},
   "outputs": [
    {
     "name": "stderr",
     "output_type": "stream",
     "text": [
      "2023-09-23 15:35:55.710 WARNING streamlit.runtime.state.session_state_proxy: Session state does not function when running a script without `streamlit run`\n"
     ]
    }
   ],
   "source": [
    "%load_ext chapyter"
   ]
  },
  {
   "cell_type": "code",
   "execution_count": 5,
   "id": "2a23821b-301f-4402-8454-a0b74f531328",
   "metadata": {},
   "outputs": [],
   "source": [
    "import os\n",
    "os.environ[\"NOTEBOOK_NAME\"] = \"01-sepsis-gender-distribution.ipynb\""
   ]
  },
  {
   "cell_type": "code",
   "execution_count": 6,
   "id": "f9004506-e65d-4afa-8f58-8581393d6e35",
   "metadata": {
    "ChapyterCell": {
     "cellType": "original"
    }
   },
   "outputs": [
    {
     "name": "stdout",
     "output_type": "stream",
     "text": [
      "Analyzing notebook 01-sepsis-gender-distribution.ipynb\n",
      "Sure, to retrieve this data, we would need to join several tables in the MIMIC-III dataset. The DIAGNOSES_ICD table contains ICD-9 codes for diagnoses, the PATIENTS table contains gender information, and the D_ICD_DIAGNOSES table contains the description of the ICD codes. \n",
      "\n",
      "The ICD-9 codes for sepsis, severe sepsis, and septic shock are 038, 995.92, and 785.52 respectively. Here's a SQL query that should retrieve the data you need:\n",
      "\n",
      "```sql\n",
      "SELECT p.subject_id, p.gender, d.icd9_code, i.short_title\n",
      "FROM patients p\n",
      "JOIN diagnoses_icd d ON p.subject_id = d.subject_id\n",
      "JOIN d_icd_diagnoses i ON d.icd9_code = i.icd9_code\n",
      "WHERE p.gender IN ('M', 'F') \n",
      "AND i.icd9_code IN ('038', '99592', '78552')\n",
      "```\n",
      "\n",
      "Please note that the ICD-9 codes in the MIMIC-III dataset do not include decimal points, so '995.92' and '785.52' are represented as '99592' and '78552' respectively.\n",
      "Query failed!\n"
     ]
    },
    {
     "data": {
      "text/html": [
       "<div>\n",
       "<style scoped>\n",
       "    .dataframe tbody tr th:only-of-type {\n",
       "        vertical-align: middle;\n",
       "    }\n",
       "\n",
       "    .dataframe tbody tr th {\n",
       "        vertical-align: top;\n",
       "    }\n",
       "\n",
       "    .dataframe thead th {\n",
       "        text-align: right;\n",
       "    }\n",
       "</style>\n",
       "<table border=\"1\" class=\"dataframe\">\n",
       "  <thead>\n",
       "    <tr style=\"text-align: right;\">\n",
       "      <th></th>\n",
       "    </tr>\n",
       "  </thead>\n",
       "  <tbody>\n",
       "  </tbody>\n",
       "</table>\n",
       "</div>"
      ],
      "text/plain": [
       "Empty DataFrame\n",
       "Columns: []\n",
       "Index: []"
      ]
     },
     "metadata": {},
     "output_type": "display_data"
    }
   ],
   "source": [
    "%%mimicSQL\n",
    "\n",
    "Retrieve all data on men and women with “sepsis,” “severe sepsis,” or “septic shock”."
   ]
  },
  {
   "cell_type": "code",
   "execution_count": null,
   "id": "ed36fd61-db24-48a8-a2c4-25ac17b94396",
   "metadata": {
    "ChapyterCell": {
     "cellType": "original"
    }
   },
   "outputs": [],
   "source": [
    "%%mimicSQL\n",
    "\n",
    "Give me the same table but include gender of subjects"
   ]
  },
  {
   "cell_type": "code",
   "execution_count": null,
   "id": "af93ae1d-0b72-47e0-ba95-0e4f360e341f",
   "metadata": {
    "ChapyterCell": {
     "cellType": "original",
     "linkedCellId": "c00691b3-318c-427a-b560-ed7114d4a8e1"
    }
   },
   "outputs": [],
   "source": [
    "%%mimicPython\n",
    "\n",
    "What is the gender distribution of these patients? In percentage."
   ]
  }
 ],
 "metadata": {
  "kernelspec": {
   "display_name": "Python 3 (ipykernel)",
   "language": "python",
   "name": "python3"
  },
  "language_info": {
   "codemirror_mode": {
    "name": "ipython",
    "version": 3
   },
   "file_extension": ".py",
   "mimetype": "text/x-python",
   "name": "python",
   "nbconvert_exporter": "python",
   "pygments_lexer": "ipython3",
   "version": "3.10.10"
  }
 },
 "nbformat": 4,
 "nbformat_minor": 5
}
