{
 "cells": [
  {
   "cell_type": "code",
   "execution_count": 3,
   "id": "fb216e71-4c6e-4928-bcdb-29636d439402",
   "metadata": {},
   "outputs": [],
   "source": [
    "# make sure changes in code take place immediately\n",
    "%load_ext autoreload\n",
    "%autoreload 2\n",
    "import openai\n",
    "    \n",
    "# load the chapyter extension for Jupyter Notebook\n",
    "%load_ext chapyter"
   ]
  },
  {
   "cell_type": "code",
   "execution_count": 4,
   "id": "89ad6aef-bbcf-42bc-9ac1-5e71ce251b6e",
   "metadata": {},
   "outputs": [],
   "source": [
    "#Define the notebook name as a variable\n",
    "import os\n",
    "os.environ[\"NOTEBOOK_NAME\"] = \"demo_labs.ipynb\"\n"
   ]
  },
  {
   "cell_type": "code",
   "execution_count": 3,
   "id": "3efb065e-437b-4aa8-aa18-e0372a825297",
   "metadata": {},
   "outputs": [],
   "source": [
    "#This notebook requires a few deprecated installs:\n",
    "#Pandas = Version 1.3.5\n",
    "#scikit-learn = Version 0.24.2 [unfortunately i couldn't figure out how to install this]"
   ]
  },
  {
   "cell_type": "markdown",
   "id": "ce8cb389-112f-4724-80cd-02104251453c",
   "metadata": {},
   "source": [
    "# Mocha Demo V1.0"
   ]
  },
  {
   "cell_type": "markdown",
   "id": "7e190330-af8b-4b35-b509-c9e70c10371e",
   "metadata": {},
   "source": [
    "Our goal is to replicate the findings in this paper: https://www.ncbi.nlm.nih.gov/pmc/articles/PMC6687414/pdf/shk-52-146.pdf\n",
    "\n",
    "Hypothesis: Gender is associated with in-hospital mortality and LOS in patients with sepsis admitted to the ICU\n",
    "\n",
    "* 1 - get data from mimic \n",
    "* 2 - build a basic table 1 to summarize the data [ICU Service, Admission Location, Ethnicity]\n",
    "* 3 - do a univariate analysis to understand if the groups are similar or different\n",
    "* 4 - build a kaplan-meier curve for in-hospital mortality \n",
    "* 5 - do a univariate cox proportional hazard model to understand if men or women are more likely to die in-hospital \n",
    "* 6 - redo the analysis, but controlling for significant factors from our univariate analysis"
   ]
  },
  {
   "cell_type": "markdown",
   "id": "39d4904d-b145-4ce6-8187-3495ef0f2345",
   "metadata": {},
   "source": [
    "## Step 1: Get data from mimic \n",
    "1. Get patients from MIMIC diagnosed with sepsis, severe sepsis, or septic shock.\n",
    "2. Apply exclusion criteria – only get patients 18+. Only get patients admitted to the ICU. Only include a patient's first ICU admission.\n",
    "3. Add a few variables – ethnicity, ICU Service, admission type, first ICU service, date of ICU admission and discharge?"
   ]
  },
  {
   "cell_type": "code",
   "execution_count": 5,
   "id": "2faca326-06d4-49a6-a17a-6cb5af908a3e",
   "metadata": {},
   "outputs": [],
   "source": [
    "##--model gpt-3.5-turbo"
   ]
  },
  {
   "cell_type": "code",
   "execution_count": 6,
   "id": "514cef3d-5b2b-47c3-8f37-01e2e76e32f6",
   "metadata": {
    "ChapyterCell": {
     "cellType": "original"
    }
   },
   "outputs": [
    {
     "name": "stdout",
     "output_type": "stream",
     "text": [
      "\n",
      "\n",
      "This query will return a list of patients admitted to an ICU with sepsis, severe sepsis, or septic shock that are 18 or older, along with their admit times, discharge time, time of death, ethnicity, the first ICU service they were admitted to, and admission type. The query only includes the first ICU admission for each patient.\n"
     ]
    }
   ],
   "source": [
    "%%mimicSQL \n",
    "\n",
    "I'd like to study if there is an association between sex and in-hospital mortality in patients with sepsis admitted to the ICU.\n",
    "Can you get me all the patients admitted to an ICU with sepsis, severe sepsis, or septic shock that are 18 or older, as well as their admit times, discharge time, and time of death? \n",
    "I'd also like to add a few variables – can you include the following variables in the data frame? \n",
    "- ethnicity\n",
    "- the first ICU service the patient was admitted to\n",
    "- admission type\n",
    "\n",
    "Only include the first ICU admission for each patient (this should be identified by looking at the dates of each \\\n",
    "                                                       icu stay and only selecting the earliest admission for each patient)\n",
    "REMEMBER that every column in the SELECT clause must be part of an aggregate function or listed in the GROUP BY clause. "
   ]
  },
  {
   "cell_type": "code",
   "execution_count": 7,
   "id": "e9951c8c-55c6-448d-af4e-a872f7311e86",
   "metadata": {},
   "outputs": [
    {
     "name": "stdout",
     "output_type": "stream",
     "text": [
      "Query failed! State: FAILED\n",
      "Reason: EXPRESSION_NOT_AGGREGATE: line 37:21: '(icustays.intime = MIN(icustays.intime))' must be an aggregate expression or appear in GROUP BY clause\n"
     ]
    },
    {
     "ename": "AttributeError",
     "evalue": "'bool' object has no attribute 'head'",
     "output_type": "error",
     "traceback": [
      "\u001b[0;31m---------------------------------------------------------------------------\u001b[0m",
      "\u001b[0;31mAttributeError\u001b[0m                            Traceback (most recent call last)",
      "Cell \u001b[0;32mIn[7], line 1\u001b[0m\n\u001b[0;32m----> 1\u001b[0m \u001b[43mget_ipython\u001b[49m\u001b[43m(\u001b[49m\u001b[43m)\u001b[49m\u001b[38;5;241;43m.\u001b[39;49m\u001b[43mrun_cell_magic\u001b[49m\u001b[43m(\u001b[49m\u001b[38;5;124;43m'\u001b[39;49m\u001b[38;5;124;43mrunSQL\u001b[39;49m\u001b[38;5;124;43m'\u001b[39;49m\u001b[43m,\u001b[49m\u001b[43m \u001b[49m\u001b[38;5;124;43m'\u001b[39;49m\u001b[38;5;124;43m'\u001b[39;49m\u001b[43m,\u001b[49m\u001b[43m \u001b[49m\u001b[38;5;124;43m\"\u001b[39;49m\u001b[38;5;130;43;01m\\n\u001b[39;49;00m\u001b[38;5;130;43;01m\\n\u001b[39;49;00m\u001b[38;5;124;43mSELECT \u001b[39;49m\u001b[38;5;130;43;01m\\n\u001b[39;49;00m\u001b[38;5;124;43m    patients.subject_id,\u001b[39;49m\u001b[38;5;130;43;01m\\n\u001b[39;49;00m\u001b[38;5;124;43m    patients.gender,\u001b[39;49m\u001b[38;5;130;43;01m\\n\u001b[39;49;00m\u001b[38;5;124;43m    patients.dob,\u001b[39;49m\u001b[38;5;130;43;01m\\n\u001b[39;49;00m\u001b[38;5;124;43m    admissions.hadm_id,\u001b[39;49m\u001b[38;5;130;43;01m\\n\u001b[39;49;00m\u001b[38;5;124;43m    admissions.admittime,\u001b[39;49m\u001b[38;5;130;43;01m\\n\u001b[39;49;00m\u001b[38;5;124;43m    admissions.dischtime,\u001b[39;49m\u001b[38;5;130;43;01m\\n\u001b[39;49;00m\u001b[38;5;124;43m    admissions.deathtime,\u001b[39;49m\u001b[38;5;130;43;01m\\n\u001b[39;49;00m\u001b[38;5;124;43m    admissions.admission_type,\u001b[39;49m\u001b[38;5;130;43;01m\\n\u001b[39;49;00m\u001b[38;5;124;43m    admissions.ethnicity,\u001b[39;49m\u001b[38;5;130;43;01m\\n\u001b[39;49;00m\u001b[38;5;124;43m    icustays.first_careunit,\u001b[39;49m\u001b[38;5;130;43;01m\\n\u001b[39;49;00m\u001b[38;5;124;43m    diagnoses_icd.icd9_code\u001b[39;49m\u001b[38;5;130;43;01m\\n\u001b[39;49;00m\u001b[38;5;124;43mFROM \u001b[39;49m\u001b[38;5;130;43;01m\\n\u001b[39;49;00m\u001b[38;5;124;43m    patients\u001b[39;49m\u001b[38;5;130;43;01m\\n\u001b[39;49;00m\u001b[38;5;124;43mJOIN \u001b[39;49m\u001b[38;5;130;43;01m\\n\u001b[39;49;00m\u001b[38;5;124;43m    admissions ON patients.subject_id = admissions.subject_id\u001b[39;49m\u001b[38;5;130;43;01m\\n\u001b[39;49;00m\u001b[38;5;124;43mJOIN \u001b[39;49m\u001b[38;5;130;43;01m\\n\u001b[39;49;00m\u001b[38;5;124;43m    icustays ON admissions.hadm_id = icustays.hadm_id\u001b[39;49m\u001b[38;5;130;43;01m\\n\u001b[39;49;00m\u001b[38;5;124;43mJOIN \u001b[39;49m\u001b[38;5;130;43;01m\\n\u001b[39;49;00m\u001b[38;5;124;43m    diagnoses_icd ON admissions.hadm_id = diagnoses_icd.hadm_id\u001b[39;49m\u001b[38;5;130;43;01m\\n\u001b[39;49;00m\u001b[38;5;124;43mWHERE \u001b[39;49m\u001b[38;5;130;43;01m\\n\u001b[39;49;00m\u001b[38;5;124;43m    diagnoses_icd.icd9_code IN (\u001b[39;49m\u001b[38;5;124;43m'\u001b[39;49m\u001b[38;5;124;43m99591\u001b[39;49m\u001b[38;5;124;43m'\u001b[39;49m\u001b[38;5;124;43m, \u001b[39;49m\u001b[38;5;124;43m'\u001b[39;49m\u001b[38;5;124;43m99592\u001b[39;49m\u001b[38;5;124;43m'\u001b[39;49m\u001b[38;5;124;43m, \u001b[39;49m\u001b[38;5;124;43m'\u001b[39;49m\u001b[38;5;124;43m78552\u001b[39;49m\u001b[38;5;124;43m'\u001b[39;49m\u001b[38;5;124;43m) -- ICD-9 codes for Sepsis, Severe Sepsis, and Septic Shock\u001b[39;49m\u001b[38;5;130;43;01m\\n\u001b[39;49;00m\u001b[38;5;124;43m    AND DATE_DIFF(\u001b[39;49m\u001b[38;5;124;43m'\u001b[39;49m\u001b[38;5;124;43myear\u001b[39;49m\u001b[38;5;124;43m'\u001b[39;49m\u001b[38;5;124;43m, patients.dob, admissions.admittime) >= 18 -- Only include patients 18 or older\u001b[39;49m\u001b[38;5;130;43;01m\\n\u001b[39;49;00m\u001b[38;5;124;43mGROUP BY \u001b[39;49m\u001b[38;5;130;43;01m\\n\u001b[39;49;00m\u001b[38;5;124;43m    patients.subject_id,\u001b[39;49m\u001b[38;5;130;43;01m\\n\u001b[39;49;00m\u001b[38;5;124;43m    patients.gender,\u001b[39;49m\u001b[38;5;130;43;01m\\n\u001b[39;49;00m\u001b[38;5;124;43m    patients.dob,\u001b[39;49m\u001b[38;5;130;43;01m\\n\u001b[39;49;00m\u001b[38;5;124;43m    admissions.hadm_id,\u001b[39;49m\u001b[38;5;130;43;01m\\n\u001b[39;49;00m\u001b[38;5;124;43m    admissions.admittime,\u001b[39;49m\u001b[38;5;130;43;01m\\n\u001b[39;49;00m\u001b[38;5;124;43m    admissions.dischtime,\u001b[39;49m\u001b[38;5;130;43;01m\\n\u001b[39;49;00m\u001b[38;5;124;43m    admissions.deathtime,\u001b[39;49m\u001b[38;5;130;43;01m\\n\u001b[39;49;00m\u001b[38;5;124;43m    admissions.admission_type,\u001b[39;49m\u001b[38;5;130;43;01m\\n\u001b[39;49;00m\u001b[38;5;124;43m    admissions.ethnicity,\u001b[39;49m\u001b[38;5;130;43;01m\\n\u001b[39;49;00m\u001b[38;5;124;43m    icustays.first_careunit,\u001b[39;49m\u001b[38;5;130;43;01m\\n\u001b[39;49;00m\u001b[38;5;124;43m    diagnoses_icd.icd9_code\u001b[39;49m\u001b[38;5;130;43;01m\\n\u001b[39;49;00m\u001b[38;5;124;43mHAVING \u001b[39;49m\u001b[38;5;130;43;01m\\n\u001b[39;49;00m\u001b[38;5;124;43m    icustays.intime = MIN(icustays.intime) -- Only include the first ICU admission for each patient\u001b[39;49m\u001b[38;5;130;43;01m\\n\u001b[39;49;00m\u001b[38;5;124;43m\"\u001b[39;49m\u001b[43m)\u001b[49m\n",
      "File \u001b[0;32m~/opt/anaconda3/envs/new_env/lib/python3.9/site-packages/IPython/core/interactiveshell.py:2493\u001b[0m, in \u001b[0;36mInteractiveShell.run_cell_magic\u001b[0;34m(self, magic_name, line, cell)\u001b[0m\n\u001b[1;32m   2491\u001b[0m \u001b[38;5;28;01mwith\u001b[39;00m \u001b[38;5;28mself\u001b[39m\u001b[38;5;241m.\u001b[39mbuiltin_trap:\n\u001b[1;32m   2492\u001b[0m     args \u001b[38;5;241m=\u001b[39m (magic_arg_s, cell)\n\u001b[0;32m-> 2493\u001b[0m     result \u001b[38;5;241m=\u001b[39m \u001b[43mfn\u001b[49m\u001b[43m(\u001b[49m\u001b[38;5;241;43m*\u001b[39;49m\u001b[43margs\u001b[49m\u001b[43m,\u001b[49m\u001b[43m \u001b[49m\u001b[38;5;241;43m*\u001b[39;49m\u001b[38;5;241;43m*\u001b[39;49m\u001b[43mkwargs\u001b[49m\u001b[43m)\u001b[49m\n\u001b[1;32m   2495\u001b[0m \u001b[38;5;66;03m# The code below prevents the output from being displayed\u001b[39;00m\n\u001b[1;32m   2496\u001b[0m \u001b[38;5;66;03m# when using magics with decorator @output_can_be_silenced\u001b[39;00m\n\u001b[1;32m   2497\u001b[0m \u001b[38;5;66;03m# when the last Python token in the expression is a ';'.\u001b[39;00m\n\u001b[1;32m   2498\u001b[0m \u001b[38;5;28;01mif\u001b[39;00m \u001b[38;5;28mgetattr\u001b[39m(fn, magic\u001b[38;5;241m.\u001b[39mMAGIC_OUTPUT_CAN_BE_SILENCED, \u001b[38;5;28;01mFalse\u001b[39;00m):\n",
      "File \u001b[0;32m~/Documents/Mocha/chapyterMed/chapyter/magic.py:531\u001b[0m, in \u001b[0;36mChapyter.runSQL\u001b[0;34m(self, line, cell)\u001b[0m\n\u001b[1;32m    529\u001b[0m \u001b[38;5;66;03m#retrieve the df, and put it in notebook memory\u001b[39;00m\n\u001b[1;32m    530\u001b[0m df, _ \u001b[38;5;241m=\u001b[39m sql_query_to_athena_df(current_message)\n\u001b[0;32m--> 531\u001b[0m display(\u001b[43mdf\u001b[49m\u001b[38;5;241;43m.\u001b[39;49m\u001b[43mhead\u001b[49m(\u001b[38;5;241m5\u001b[39m))\n\u001b[1;32m    532\u001b[0m \u001b[38;5;28mself\u001b[39m\u001b[38;5;241m.\u001b[39mshell\u001b[38;5;241m.\u001b[39muser_ns[\u001b[38;5;124m'\u001b[39m\u001b[38;5;124mdf\u001b[39m\u001b[38;5;124m'\u001b[39m] \u001b[38;5;241m=\u001b[39m df\n\u001b[1;32m    534\u001b[0m \u001b[38;5;66;03m#add only the first two rows to llm_responses\u001b[39;00m\n",
      "\u001b[0;31mAttributeError\u001b[0m: 'bool' object has no attribute 'head'"
     ]
    }
   ],
   "source": [
    "%%runSQL \n",
    "\n",
    "\n",
    "SELECT \n",
    "    patients.subject_id,\n",
    "    patients.gender,\n",
    "    patients.dob,\n",
    "    admissions.hadm_id,\n",
    "    admissions.admittime,\n",
    "    admissions.dischtime,\n",
    "    admissions.deathtime,\n",
    "    admissions.admission_type,\n",
    "    admissions.ethnicity,\n",
    "    icustays.first_careunit,\n",
    "    diagnoses_icd.icd9_code\n",
    "FROM \n",
    "    patients\n",
    "JOIN \n",
    "    admissions ON patients.subject_id = admissions.subject_id\n",
    "JOIN \n",
    "    icustays ON admissions.hadm_id = icustays.hadm_id\n",
    "JOIN \n",
    "    diagnoses_icd ON admissions.hadm_id = diagnoses_icd.hadm_id\n",
    "WHERE \n",
    "    diagnoses_icd.icd9_code IN ('99591', '99592', '78552') -- ICD-9 codes for Sepsis, Severe Sepsis, and Septic Shock\n",
    "    AND DATE_DIFF('year', patients.dob, admissions.admittime) >= 18 -- Only include patients 18 or older\n",
    "GROUP BY \n",
    "    patients.subject_id,\n",
    "    patients.gender,\n",
    "    patients.dob,\n",
    "    admissions.hadm_id,\n",
    "    admissions.admittime,\n",
    "    admissions.dischtime,\n",
    "    admissions.deathtime,\n",
    "    admissions.admission_type,\n",
    "    admissions.ethnicity,\n",
    "    icustays.first_careunit,\n",
    "    diagnoses_icd.icd9_code\n",
    "HAVING \n",
    "    icustays.intime = MIN(icustays.intime) -- Only include the first ICU admission for each patient\n"
   ]
  },
  {
   "cell_type": "code",
   "execution_count": 9,
   "id": "7263052d-97d7-49a2-b135-85b50ae6446d",
   "metadata": {
    "ChapyterCell": {
     "cellType": "original"
    }
   },
   "outputs": [
    {
     "name": "stdout",
     "output_type": "stream",
     "text": [
      "The error is due to the HAVING clause trying to compare a non-aggregated column (icustays.intime) with an aggregated function (MIN(icustays.intime)). To fix this, we need to first identify the first ICU admission for each patient in a subquery, and then join this subquery with the main query. Here is the corrected SQL query:\n",
      "\n",
      "This query first identifies the first ICU admission for each patient in the `first_icu_admission` subquery, and then joins this subquery with the main query to ensure that only the first ICU admission for each patient is included.\n"
     ]
    }
   ],
   "source": [
    "%%mimicSQL\n",
    "I get the following error: \n",
    "Reason: EXPRESSION_NOT_AGGREGATE: line 37:21: '(icustays.intime = MIN(icustays.intime))' must be an aggregate expression or appear in GROUP BY clause\n",
    "\n",
    "Can you help me fix it and produce a working SQL query?"
   ]
  },
  {
   "cell_type": "code",
   "execution_count": 5,
   "id": "28489fed-3cb0-4c28-bf01-d2084d4b879a",
   "metadata": {
    "ChapyterCell": {
     "cellType": "original"
    }
   },
   "outputs": [
    {
     "data": {
      "text/html": [
       "<div>\n",
       "<style scoped>\n",
       "    .dataframe tbody tr th:only-of-type {\n",
       "        vertical-align: middle;\n",
       "    }\n",
       "\n",
       "    .dataframe tbody tr th {\n",
       "        vertical-align: top;\n",
       "    }\n",
       "\n",
       "    .dataframe thead th {\n",
       "        text-align: right;\n",
       "    }\n",
       "</style>\n",
       "<table border=\"1\" class=\"dataframe\">\n",
       "  <thead>\n",
       "    <tr style=\"text-align: right;\">\n",
       "      <th></th>\n",
       "      <th>subject_id</th>\n",
       "      <th>gender</th>\n",
       "      <th>dob</th>\n",
       "      <th>hadm_id</th>\n",
       "      <th>admittime</th>\n",
       "      <th>dischtime</th>\n",
       "      <th>deathtime</th>\n",
       "      <th>admission_type</th>\n",
       "      <th>ethnicity</th>\n",
       "      <th>first_careunit</th>\n",
       "      <th>icd9_code</th>\n",
       "    </tr>\n",
       "  </thead>\n",
       "  <tbody>\n",
       "    <tr>\n",
       "      <th>0</th>\n",
       "      <td>66965</td>\n",
       "      <td>M</td>\n",
       "      <td>2116-06-07 00:00:00.000</td>\n",
       "      <td>177338</td>\n",
       "      <td>2198-01-22 22:20:00.000</td>\n",
       "      <td>2198-02-14 14:51:00.000</td>\n",
       "      <td>None</td>\n",
       "      <td>EMERGENCY</td>\n",
       "      <td>WHITE</td>\n",
       "      <td>TSICU</td>\n",
       "      <td>99591</td>\n",
       "    </tr>\n",
       "    <tr>\n",
       "      <th>1</th>\n",
       "      <td>67050</td>\n",
       "      <td>M</td>\n",
       "      <td>2143-08-27 00:00:00.000</td>\n",
       "      <td>135268</td>\n",
       "      <td>2200-02-10 02:07:00.000</td>\n",
       "      <td>2200-02-21 00:45:00.000</td>\n",
       "      <td>2200-02-21 00:45:00.000</td>\n",
       "      <td>EMERGENCY</td>\n",
       "      <td>HISPANIC/LATINO - PUERTO RICAN</td>\n",
       "      <td>MICU</td>\n",
       "      <td>99592</td>\n",
       "    </tr>\n",
       "    <tr>\n",
       "      <th>2</th>\n",
       "      <td>67060</td>\n",
       "      <td>M</td>\n",
       "      <td>2074-06-19 00:00:00.000</td>\n",
       "      <td>128850</td>\n",
       "      <td>2161-08-04 22:54:00.000</td>\n",
       "      <td>2161-08-11 16:10:00.000</td>\n",
       "      <td>None</td>\n",
       "      <td>EMERGENCY</td>\n",
       "      <td>WHITE</td>\n",
       "      <td>CCU</td>\n",
       "      <td>99592</td>\n",
       "    </tr>\n",
       "    <tr>\n",
       "      <th>3</th>\n",
       "      <td>67104</td>\n",
       "      <td>F</td>\n",
       "      <td>2053-12-18 00:00:00.000</td>\n",
       "      <td>116413</td>\n",
       "      <td>2134-09-09 03:27:00.000</td>\n",
       "      <td>2134-10-30 20:11:00.000</td>\n",
       "      <td>2134-10-30 20:11:00.000</td>\n",
       "      <td>EMERGENCY</td>\n",
       "      <td>OTHER</td>\n",
       "      <td>MICU</td>\n",
       "      <td>99592</td>\n",
       "    </tr>\n",
       "    <tr>\n",
       "      <th>4</th>\n",
       "      <td>67117</td>\n",
       "      <td>M</td>\n",
       "      <td>2077-01-25 00:00:00.000</td>\n",
       "      <td>100325</td>\n",
       "      <td>2135-02-16 15:01:00.000</td>\n",
       "      <td>2135-02-17 16:20:00.000</td>\n",
       "      <td>None</td>\n",
       "      <td>EMERGENCY</td>\n",
       "      <td>UNKNOWN/NOT SPECIFIED</td>\n",
       "      <td>MICU</td>\n",
       "      <td>99592</td>\n",
       "    </tr>\n",
       "  </tbody>\n",
       "</table>\n",
       "</div>"
      ],
      "text/plain": [
       "  subject_id gender                      dob hadm_id                admittime  \\\n",
       "0      66965      M  2116-06-07 00:00:00.000  177338  2198-01-22 22:20:00.000   \n",
       "1      67050      M  2143-08-27 00:00:00.000  135268  2200-02-10 02:07:00.000   \n",
       "2      67060      M  2074-06-19 00:00:00.000  128850  2161-08-04 22:54:00.000   \n",
       "3      67104      F  2053-12-18 00:00:00.000  116413  2134-09-09 03:27:00.000   \n",
       "4      67117      M  2077-01-25 00:00:00.000  100325  2135-02-16 15:01:00.000   \n",
       "\n",
       "                 dischtime                deathtime admission_type  \\\n",
       "0  2198-02-14 14:51:00.000                     None      EMERGENCY   \n",
       "1  2200-02-21 00:45:00.000  2200-02-21 00:45:00.000      EMERGENCY   \n",
       "2  2161-08-11 16:10:00.000                     None      EMERGENCY   \n",
       "3  2134-10-30 20:11:00.000  2134-10-30 20:11:00.000      EMERGENCY   \n",
       "4  2135-02-17 16:20:00.000                     None      EMERGENCY   \n",
       "\n",
       "                        ethnicity first_careunit icd9_code  \n",
       "0                           WHITE          TSICU     99591  \n",
       "1  HISPANIC/LATINO - PUERTO RICAN           MICU     99592  \n",
       "2                           WHITE            CCU     99592  \n",
       "3                           OTHER           MICU     99592  \n",
       "4           UNKNOWN/NOT SPECIFIED           MICU     99592  "
      ]
     },
     "metadata": {},
     "output_type": "display_data"
    }
   ],
   "source": [
    "%%runSQL \n",
    "\n",
    "\n",
    "WITH first_icu_admission AS (\n",
    "    SELECT \n",
    "        subject_id,\n",
    "        hadm_id,\n",
    "        MIN(intime) as first_intime\n",
    "    FROM \n",
    "        icustays\n",
    "    GROUP BY \n",
    "        subject_id,\n",
    "        hadm_id\n",
    ")\n",
    "\n",
    "SELECT \n",
    "    patients.subject_id,\n",
    "    patients.gender,\n",
    "    patients.dob,\n",
    "    admissions.hadm_id,\n",
    "    admissions.admittime,\n",
    "    admissions.dischtime,\n",
    "    admissions.deathtime,\n",
    "    admissions.admission_type,\n",
    "    admissions.ethnicity,\n",
    "    icustays.first_careunit,\n",
    "    diagnoses_icd.icd9_code\n",
    "FROM \n",
    "    patients\n",
    "JOIN \n",
    "    admissions ON patients.subject_id = admissions.subject_id\n",
    "JOIN \n",
    "    first_icu_admission ON admissions.hadm_id = first_icu_admission.hadm_id\n",
    "JOIN \n",
    "    icustays ON first_icu_admission.hadm_id = icustays.hadm_id AND first_icu_admission.first_intime = icustays.intime\n",
    "JOIN \n",
    "    diagnoses_icd ON admissions.hadm_id = diagnoses_icd.hadm_id\n",
    "WHERE \n",
    "    diagnoses_icd.icd9_code IN ('99591', '99592', '78552') -- ICD-9 codes for Sepsis, Severe Sepsis, and Septic Shock\n",
    "    AND DATE_DIFF('year', patients.dob, admissions.admittime) >= 18 -- Only include patients 18 or older\n",
    "GROUP BY \n",
    "    patients.subject_id,\n",
    "    patients.gender,\n",
    "    patients.dob,\n",
    "    admissions.hadm_id,\n",
    "    admissions.admittime,\n",
    "    admissions.dischtime,\n",
    "    admissions.deathtime,\n",
    "    admissions.admission_type,\n",
    "    admissions.ethnicity,\n",
    "    icustays.first_careunit,\n",
    "    diagnoses_icd.icd9_code\n"
   ]
  },
  {
   "cell_type": "code",
   "execution_count": 31,
   "id": "7db9e124-5ef6-444b-a60a-2daa495e5dde",
   "metadata": {
    "ChapyterCell": {
     "cellType": "original"
    }
   },
   "outputs": [
    {
     "name": "stdout",
     "output_type": "stream",
     "text": [
      "Sure, we can add the patient's first lactate and creatinine lab values from the labevents table. We will use the ROW_NUMBER() function to select the first lab event for each patient during their current admission. Here is the updated SQL query:\n",
      "\n",
      "This query will return the first lactate and creatinine lab values for each patient during their current admission. If a patient does not have a lactate or creatinine lab value, the corresponding column will be NULL.\n"
     ]
    }
   ],
   "source": [
    "%%mimicSQL \n",
    "\n",
    "Perfect! Now, can we add the patient's first lactate lab value as well as their first creatinine from the labs table? \n",
    "\n",
    "Take care to only select the first lactate/creatinine from the current admission, and ignore labs from all other ICU admissions for that patient.\n",
    "Please prioritize computational efficiency in your SQL code. \n",
    "Do not assume that values are numeric; in fact many of them are strings in the MIMIC database so they will need to be converted to numeric data types later. "
   ]
  },
  {
   "cell_type": "code",
   "execution_count": 8,
   "id": "c620c128-34b7-4c71-8dbe-7e35579aaf12",
   "metadata": {},
   "outputs": [
    {
     "name": "stdout",
     "output_type": "stream",
     "text": [
      "Query failed! State: FAILED\n",
      "Reason: TABLE_NOT_FOUND: line 42:5: Table 'awsdatacatalog.mimiciii.first_icu_admission' does not exist\n"
     ]
    },
    {
     "ename": "AttributeError",
     "evalue": "'bool' object has no attribute 'head'",
     "output_type": "error",
     "traceback": [
      "\u001b[0;31m---------------------------------------------------------------------------\u001b[0m",
      "\u001b[0;31mAttributeError\u001b[0m                            Traceback (most recent call last)",
      "Cell \u001b[0;32mIn[8], line 1\u001b[0m\n\u001b[0;32m----> 1\u001b[0m \u001b[43mget_ipython\u001b[49m\u001b[43m(\u001b[49m\u001b[43m)\u001b[49m\u001b[38;5;241;43m.\u001b[39;49m\u001b[43mrun_cell_magic\u001b[49m\u001b[43m(\u001b[49m\u001b[38;5;124;43m'\u001b[39;49m\u001b[38;5;124;43mrunSQL\u001b[39;49m\u001b[38;5;124;43m'\u001b[39;49m\u001b[43m,\u001b[49m\u001b[43m \u001b[49m\u001b[38;5;124;43m'\u001b[39;49m\u001b[38;5;124;43m'\u001b[39;49m\u001b[43m,\u001b[49m\u001b[43m \u001b[49m\u001b[38;5;124;43m\"\u001b[39;49m\u001b[38;5;130;43;01m\\n\u001b[39;49;00m\u001b[38;5;130;43;01m\\n\u001b[39;49;00m\u001b[38;5;124;43mWITH lactate AS (\u001b[39;49m\u001b[38;5;130;43;01m\\n\u001b[39;49;00m\u001b[38;5;124;43m    SELECT \u001b[39;49m\u001b[38;5;130;43;01m\\n\u001b[39;49;00m\u001b[38;5;124;43m        le.subject_id,\u001b[39;49m\u001b[38;5;130;43;01m\\n\u001b[39;49;00m\u001b[38;5;124;43m        le.hadm_id,\u001b[39;49m\u001b[38;5;130;43;01m\\n\u001b[39;49;00m\u001b[38;5;124;43m        le.valuenum AS first_lactate,\u001b[39;49m\u001b[38;5;130;43;01m\\n\u001b[39;49;00m\u001b[38;5;124;43m        ROW_NUMBER() OVER(PARTITION BY le.subject_id, le.hadm_id ORDER BY le.charttime) AS rn\u001b[39;49m\u001b[38;5;130;43;01m\\n\u001b[39;49;00m\u001b[38;5;124;43m    FROM \u001b[39;49m\u001b[38;5;130;43;01m\\n\u001b[39;49;00m\u001b[38;5;124;43m        labevents AS le\u001b[39;49m\u001b[38;5;130;43;01m\\n\u001b[39;49;00m\u001b[38;5;124;43m    WHERE \u001b[39;49m\u001b[38;5;130;43;01m\\n\u001b[39;49;00m\u001b[38;5;124;43m        le.itemid = 50813 -- Lactate\u001b[39;49m\u001b[38;5;130;43;01m\\n\u001b[39;49;00m\u001b[38;5;124;43m),\u001b[39;49m\u001b[38;5;130;43;01m\\n\u001b[39;49;00m\u001b[38;5;124;43mcreatinine AS (\u001b[39;49m\u001b[38;5;130;43;01m\\n\u001b[39;49;00m\u001b[38;5;124;43m    SELECT \u001b[39;49m\u001b[38;5;130;43;01m\\n\u001b[39;49;00m\u001b[38;5;124;43m        le.subject_id,\u001b[39;49m\u001b[38;5;130;43;01m\\n\u001b[39;49;00m\u001b[38;5;124;43m        le.hadm_id,\u001b[39;49m\u001b[38;5;130;43;01m\\n\u001b[39;49;00m\u001b[38;5;124;43m        le.valuenum AS first_creatinine,\u001b[39;49m\u001b[38;5;130;43;01m\\n\u001b[39;49;00m\u001b[38;5;124;43m        ROW_NUMBER() OVER(PARTITION BY le.subject_id, le.hadm_id ORDER BY le.charttime) AS rn\u001b[39;49m\u001b[38;5;130;43;01m\\n\u001b[39;49;00m\u001b[38;5;124;43m    FROM \u001b[39;49m\u001b[38;5;130;43;01m\\n\u001b[39;49;00m\u001b[38;5;124;43m        labevents AS le\u001b[39;49m\u001b[38;5;130;43;01m\\n\u001b[39;49;00m\u001b[38;5;124;43m    WHERE \u001b[39;49m\u001b[38;5;130;43;01m\\n\u001b[39;49;00m\u001b[38;5;124;43m        le.itemid = 50912 -- Creatinine\u001b[39;49m\u001b[38;5;130;43;01m\\n\u001b[39;49;00m\u001b[38;5;124;43m)\u001b[39;49m\u001b[38;5;130;43;01m\\n\u001b[39;49;00m\u001b[38;5;124;43mSELECT \u001b[39;49m\u001b[38;5;130;43;01m\\n\u001b[39;49;00m\u001b[38;5;124;43m    p.subject_id,\u001b[39;49m\u001b[38;5;130;43;01m\\n\u001b[39;49;00m\u001b[38;5;124;43m    p.gender,\u001b[39;49m\u001b[38;5;130;43;01m\\n\u001b[39;49;00m\u001b[38;5;124;43m    p.dob,\u001b[39;49m\u001b[38;5;130;43;01m\\n\u001b[39;49;00m\u001b[38;5;124;43m    a.hadm_id,\u001b[39;49m\u001b[38;5;130;43;01m\\n\u001b[39;49;00m\u001b[38;5;124;43m    a.admittime,\u001b[39;49m\u001b[38;5;130;43;01m\\n\u001b[39;49;00m\u001b[38;5;124;43m    a.dischtime,\u001b[39;49m\u001b[38;5;130;43;01m\\n\u001b[39;49;00m\u001b[38;5;124;43m    a.deathtime,\u001b[39;49m\u001b[38;5;130;43;01m\\n\u001b[39;49;00m\u001b[38;5;124;43m    a.admission_type,\u001b[39;49m\u001b[38;5;130;43;01m\\n\u001b[39;49;00m\u001b[38;5;124;43m    a.ethnicity,\u001b[39;49m\u001b[38;5;130;43;01m\\n\u001b[39;49;00m\u001b[38;5;124;43m    icu.first_careunit,\u001b[39;49m\u001b[38;5;130;43;01m\\n\u001b[39;49;00m\u001b[38;5;124;43m    d.icd9_code,\u001b[39;49m\u001b[38;5;130;43;01m\\n\u001b[39;49;00m\u001b[38;5;124;43m    l.first_lactate,\u001b[39;49m\u001b[38;5;130;43;01m\\n\u001b[39;49;00m\u001b[38;5;124;43m    c.first_creatinine\u001b[39;49m\u001b[38;5;130;43;01m\\n\u001b[39;49;00m\u001b[38;5;124;43mFROM \u001b[39;49m\u001b[38;5;130;43;01m\\n\u001b[39;49;00m\u001b[38;5;124;43m    patients AS p\u001b[39;49m\u001b[38;5;130;43;01m\\n\u001b[39;49;00m\u001b[38;5;124;43mJOIN \u001b[39;49m\u001b[38;5;130;43;01m\\n\u001b[39;49;00m\u001b[38;5;124;43m    admissions AS a ON p.subject_id = a.subject_id\u001b[39;49m\u001b[38;5;130;43;01m\\n\u001b[39;49;00m\u001b[38;5;124;43mJOIN \u001b[39;49m\u001b[38;5;130;43;01m\\n\u001b[39;49;00m\u001b[38;5;124;43m    first_icu_admission AS fia ON a.hadm_id = fia.hadm_id\u001b[39;49m\u001b[38;5;130;43;01m\\n\u001b[39;49;00m\u001b[38;5;124;43mJOIN \u001b[39;49m\u001b[38;5;130;43;01m\\n\u001b[39;49;00m\u001b[38;5;124;43m    icustays AS icu ON fia.hadm_id = icu.hadm_id AND fia.first_intime = icu.intime\u001b[39;49m\u001b[38;5;130;43;01m\\n\u001b[39;49;00m\u001b[38;5;124;43mJOIN \u001b[39;49m\u001b[38;5;130;43;01m\\n\u001b[39;49;00m\u001b[38;5;124;43m    diagnoses_icd AS d ON a.hadm_id = d.hadm_id\u001b[39;49m\u001b[38;5;130;43;01m\\n\u001b[39;49;00m\u001b[38;5;124;43mLEFT JOIN \u001b[39;49m\u001b[38;5;130;43;01m\\n\u001b[39;49;00m\u001b[38;5;124;43m    lactate AS l ON p.subject_id = l.subject_id AND a.hadm_id = l.hadm_id AND l.rn = 1\u001b[39;49m\u001b[38;5;130;43;01m\\n\u001b[39;49;00m\u001b[38;5;124;43mLEFT JOIN \u001b[39;49m\u001b[38;5;130;43;01m\\n\u001b[39;49;00m\u001b[38;5;124;43m    creatinine AS c ON p.subject_id = c.subject_id AND a.hadm_id = c.hadm_id AND c.rn = 1\u001b[39;49m\u001b[38;5;130;43;01m\\n\u001b[39;49;00m\u001b[38;5;124;43mWHERE \u001b[39;49m\u001b[38;5;130;43;01m\\n\u001b[39;49;00m\u001b[38;5;124;43m    d.icd9_code IN (\u001b[39;49m\u001b[38;5;124;43m'\u001b[39;49m\u001b[38;5;124;43m99591\u001b[39;49m\u001b[38;5;124;43m'\u001b[39;49m\u001b[38;5;124;43m, \u001b[39;49m\u001b[38;5;124;43m'\u001b[39;49m\u001b[38;5;124;43m99592\u001b[39;49m\u001b[38;5;124;43m'\u001b[39;49m\u001b[38;5;124;43m, \u001b[39;49m\u001b[38;5;124;43m'\u001b[39;49m\u001b[38;5;124;43m78552\u001b[39;49m\u001b[38;5;124;43m'\u001b[39;49m\u001b[38;5;124;43m) -- ICD-9 codes for Sepsis, Severe Sepsis, and Septic Shock\u001b[39;49m\u001b[38;5;130;43;01m\\n\u001b[39;49;00m\u001b[38;5;124;43m    AND DATE_DIFF(\u001b[39;49m\u001b[38;5;124;43m'\u001b[39;49m\u001b[38;5;124;43myear\u001b[39;49m\u001b[38;5;124;43m'\u001b[39;49m\u001b[38;5;124;43m, p.dob, a.admittime) >= 18 -- Only include patients 18 or older\u001b[39;49m\u001b[38;5;130;43;01m\\n\u001b[39;49;00m\u001b[38;5;124;43mGROUP BY \u001b[39;49m\u001b[38;5;130;43;01m\\n\u001b[39;49;00m\u001b[38;5;124;43m    p.subject_id,\u001b[39;49m\u001b[38;5;130;43;01m\\n\u001b[39;49;00m\u001b[38;5;124;43m    p.gender,\u001b[39;49m\u001b[38;5;130;43;01m\\n\u001b[39;49;00m\u001b[38;5;124;43m    p.dob,\u001b[39;49m\u001b[38;5;130;43;01m\\n\u001b[39;49;00m\u001b[38;5;124;43m    a.hadm_id,\u001b[39;49m\u001b[38;5;130;43;01m\\n\u001b[39;49;00m\u001b[38;5;124;43m    a.admittime,\u001b[39;49m\u001b[38;5;130;43;01m\\n\u001b[39;49;00m\u001b[38;5;124;43m    a.dischtime,\u001b[39;49m\u001b[38;5;130;43;01m\\n\u001b[39;49;00m\u001b[38;5;124;43m    a.deathtime,\u001b[39;49m\u001b[38;5;130;43;01m\\n\u001b[39;49;00m\u001b[38;5;124;43m    a.admission_type,\u001b[39;49m\u001b[38;5;130;43;01m\\n\u001b[39;49;00m\u001b[38;5;124;43m    a.ethnicity,\u001b[39;49m\u001b[38;5;130;43;01m\\n\u001b[39;49;00m\u001b[38;5;124;43m    icu.first_careunit,\u001b[39;49m\u001b[38;5;130;43;01m\\n\u001b[39;49;00m\u001b[38;5;124;43m    d.icd9_code,\u001b[39;49m\u001b[38;5;130;43;01m\\n\u001b[39;49;00m\u001b[38;5;124;43m    l.first_lactate,\u001b[39;49m\u001b[38;5;130;43;01m\\n\u001b[39;49;00m\u001b[38;5;124;43m    c.first_creatinine\u001b[39;49m\u001b[38;5;130;43;01m\\n\u001b[39;49;00m\u001b[38;5;124;43m\"\u001b[39;49m\u001b[43m)\u001b[49m\n",
      "File \u001b[0;32m~/opt/anaconda3/envs/new_env/lib/python3.9/site-packages/IPython/core/interactiveshell.py:2493\u001b[0m, in \u001b[0;36mInteractiveShell.run_cell_magic\u001b[0;34m(self, magic_name, line, cell)\u001b[0m\n\u001b[1;32m   2491\u001b[0m \u001b[38;5;28;01mwith\u001b[39;00m \u001b[38;5;28mself\u001b[39m\u001b[38;5;241m.\u001b[39mbuiltin_trap:\n\u001b[1;32m   2492\u001b[0m     args \u001b[38;5;241m=\u001b[39m (magic_arg_s, cell)\n\u001b[0;32m-> 2493\u001b[0m     result \u001b[38;5;241m=\u001b[39m \u001b[43mfn\u001b[49m\u001b[43m(\u001b[49m\u001b[38;5;241;43m*\u001b[39;49m\u001b[43margs\u001b[49m\u001b[43m,\u001b[49m\u001b[43m \u001b[49m\u001b[38;5;241;43m*\u001b[39;49m\u001b[38;5;241;43m*\u001b[39;49m\u001b[43mkwargs\u001b[49m\u001b[43m)\u001b[49m\n\u001b[1;32m   2495\u001b[0m \u001b[38;5;66;03m# The code below prevents the output from being displayed\u001b[39;00m\n\u001b[1;32m   2496\u001b[0m \u001b[38;5;66;03m# when using magics with decorator @output_can_be_silenced\u001b[39;00m\n\u001b[1;32m   2497\u001b[0m \u001b[38;5;66;03m# when the last Python token in the expression is a ';'.\u001b[39;00m\n\u001b[1;32m   2498\u001b[0m \u001b[38;5;28;01mif\u001b[39;00m \u001b[38;5;28mgetattr\u001b[39m(fn, magic\u001b[38;5;241m.\u001b[39mMAGIC_OUTPUT_CAN_BE_SILENCED, \u001b[38;5;28;01mFalse\u001b[39;00m):\n",
      "File \u001b[0;32m~/Documents/Mocha/chapyterMed/chapyter/magic.py:531\u001b[0m, in \u001b[0;36mChapyter.runSQL\u001b[0;34m(self, line, cell)\u001b[0m\n\u001b[1;32m    529\u001b[0m \u001b[38;5;66;03m#retrieve the df, and put it in notebook memory\u001b[39;00m\n\u001b[1;32m    530\u001b[0m df, _ \u001b[38;5;241m=\u001b[39m sql_query_to_athena_df(current_message)\n\u001b[0;32m--> 531\u001b[0m display(\u001b[43mdf\u001b[49m\u001b[38;5;241;43m.\u001b[39;49m\u001b[43mhead\u001b[49m(\u001b[38;5;241m5\u001b[39m))\n\u001b[1;32m    532\u001b[0m \u001b[38;5;28mself\u001b[39m\u001b[38;5;241m.\u001b[39mshell\u001b[38;5;241m.\u001b[39muser_ns[\u001b[38;5;124m'\u001b[39m\u001b[38;5;124mdf\u001b[39m\u001b[38;5;124m'\u001b[39m] \u001b[38;5;241m=\u001b[39m df\n\u001b[1;32m    534\u001b[0m \u001b[38;5;66;03m#add only the first two rows to llm_responses\u001b[39;00m\n",
      "\u001b[0;31mAttributeError\u001b[0m: 'bool' object has no attribute 'head'"
     ]
    }
   ],
   "source": [
    "%%runSQL \n",
    "\n",
    "\n",
    "WITH lactate AS (\n",
    "    SELECT \n",
    "        le.subject_id,\n",
    "        le.hadm_id,\n",
    "        le.valuenum AS first_lactate,\n",
    "        ROW_NUMBER() OVER(PARTITION BY le.subject_id, le.hadm_id ORDER BY le.charttime) AS rn\n",
    "    FROM \n",
    "        labevents AS le\n",
    "    WHERE \n",
    "        le.itemid = 50813 -- Lactate\n",
    "),\n",
    "creatinine AS (\n",
    "    SELECT \n",
    "        le.subject_id,\n",
    "        le.hadm_id,\n",
    "        le.valuenum AS first_creatinine,\n",
    "        ROW_NUMBER() OVER(PARTITION BY le.subject_id, le.hadm_id ORDER BY le.charttime) AS rn\n",
    "    FROM \n",
    "        labevents AS le\n",
    "    WHERE \n",
    "        le.itemid = 50912 -- Creatinine\n",
    ")\n",
    "SELECT \n",
    "    p.subject_id,\n",
    "    p.gender,\n",
    "    p.dob,\n",
    "    a.hadm_id,\n",
    "    a.admittime,\n",
    "    a.dischtime,\n",
    "    a.deathtime,\n",
    "    a.admission_type,\n",
    "    a.ethnicity,\n",
    "    icu.first_careunit,\n",
    "    d.icd9_code,\n",
    "    l.first_lactate,\n",
    "    c.first_creatinine\n",
    "FROM \n",
    "    patients AS p\n",
    "JOIN \n",
    "    admissions AS a ON p.subject_id = a.subject_id\n",
    "JOIN \n",
    "    first_icu_admission AS fia ON a.hadm_id = fia.hadm_id\n",
    "JOIN \n",
    "    icustays AS icu ON fia.hadm_id = icu.hadm_id AND fia.first_intime = icu.intime\n",
    "JOIN \n",
    "    diagnoses_icd AS d ON a.hadm_id = d.hadm_id\n",
    "LEFT JOIN \n",
    "    lactate AS l ON p.subject_id = l.subject_id AND a.hadm_id = l.hadm_id AND l.rn = 1\n",
    "LEFT JOIN \n",
    "    creatinine AS c ON p.subject_id = c.subject_id AND a.hadm_id = c.hadm_id AND c.rn = 1\n",
    "WHERE \n",
    "    d.icd9_code IN ('99591', '99592', '78552') -- ICD-9 codes for Sepsis, Severe Sepsis, and Septic Shock\n",
    "    AND DATE_DIFF('year', p.dob, a.admittime) >= 18 -- Only include patients 18 or older\n",
    "GROUP BY \n",
    "    p.subject_id,\n",
    "    p.gender,\n",
    "    p.dob,\n",
    "    a.hadm_id,\n",
    "    a.admittime,\n",
    "    a.dischtime,\n",
    "    a.deathtime,\n",
    "    a.admission_type,\n",
    "    a.ethnicity,\n",
    "    icu.first_careunit,\n",
    "    d.icd9_code,\n",
    "    l.first_lactate,\n",
    "    c.first_creatinine\n"
   ]
  },
  {
   "cell_type": "code",
   "execution_count": 33,
   "id": "4da71f03-859e-4921-b625-4b5241803e05",
   "metadata": {
    "ChapyterCell": {
     "cellType": "original"
    }
   },
   "outputs": [
    {
     "name": "stdout",
     "output_type": "stream",
     "text": [
      "I apologize for the confusion. It seems like the 'first_icu_admission' table does not exist in your database. We can modify the query to first create a temporary table that identifies the first ICU admission for each patient, and then use this table in the main query. Here is the updated SQL query:\n",
      "\n",
      "This query should return the same results as the previous one, but without the error.\n"
     ]
    }
   ],
   "source": [
    "%%mimicSQL\n",
    "With that query I get the following error: \n",
    "Query failed! State: FAILED\n",
    "Reason: TABLE_NOT_FOUND: line 42:5: Table 'awsdatacatalog.mimiciii.first_icu_admission' does not exist\n",
    "Can you give me another SQL query that fixes the error but accomplishes the same task (pulling first lactate and first creatinine for each patient, along with the other variables?)"
   ]
  },
  {
   "cell_type": "code",
   "execution_count": 9,
   "id": "f9ec7b64-3807-4b8b-949d-534a3231b93c",
   "metadata": {
    "ChapyterCell": {
     "cellType": "original"
    }
   },
   "outputs": [
    {
     "data": {
      "text/html": [
       "<div>\n",
       "<style scoped>\n",
       "    .dataframe tbody tr th:only-of-type {\n",
       "        vertical-align: middle;\n",
       "    }\n",
       "\n",
       "    .dataframe tbody tr th {\n",
       "        vertical-align: top;\n",
       "    }\n",
       "\n",
       "    .dataframe thead th {\n",
       "        text-align: right;\n",
       "    }\n",
       "</style>\n",
       "<table border=\"1\" class=\"dataframe\">\n",
       "  <thead>\n",
       "    <tr style=\"text-align: right;\">\n",
       "      <th></th>\n",
       "      <th>subject_id</th>\n",
       "      <th>gender</th>\n",
       "      <th>dob</th>\n",
       "      <th>hadm_id</th>\n",
       "      <th>admittime</th>\n",
       "      <th>dischtime</th>\n",
       "      <th>deathtime</th>\n",
       "      <th>admission_type</th>\n",
       "      <th>ethnicity</th>\n",
       "      <th>first_careunit</th>\n",
       "      <th>icd9_code</th>\n",
       "      <th>first_lactate</th>\n",
       "      <th>first_creatinine</th>\n",
       "    </tr>\n",
       "  </thead>\n",
       "  <tbody>\n",
       "    <tr>\n",
       "      <th>0</th>\n",
       "      <td>112</td>\n",
       "      <td>M</td>\n",
       "      <td>1894-06-13 00:00:00.000</td>\n",
       "      <td>173177</td>\n",
       "      <td>2196-09-27 18:21:00.000</td>\n",
       "      <td>2196-09-29 00:15:00.000</td>\n",
       "      <td>2196-09-29 00:15:00.000</td>\n",
       "      <td>EMERGENCY</td>\n",
       "      <td>WHITE</td>\n",
       "      <td>MICU</td>\n",
       "      <td>99592</td>\n",
       "      <td>1.6</td>\n",
       "      <td>2.4</td>\n",
       "    </tr>\n",
       "    <tr>\n",
       "      <th>1</th>\n",
       "      <td>211</td>\n",
       "      <td>F</td>\n",
       "      <td>2112-09-04 00:00:00.000</td>\n",
       "      <td>101148</td>\n",
       "      <td>2197-12-17 02:52:00.000</td>\n",
       "      <td>2197-12-29 14:02:00.000</td>\n",
       "      <td>None</td>\n",
       "      <td>EMERGENCY</td>\n",
       "      <td>WHITE</td>\n",
       "      <td>MICU</td>\n",
       "      <td>99592</td>\n",
       "      <td>1.7</td>\n",
       "      <td>1.7</td>\n",
       "    </tr>\n",
       "    <tr>\n",
       "      <th>2</th>\n",
       "      <td>213</td>\n",
       "      <td>M</td>\n",
       "      <td>1822-02-13 00:00:00.000</td>\n",
       "      <td>179315</td>\n",
       "      <td>2122-02-13 04:38:00.000</td>\n",
       "      <td>2122-03-03 13:40:00.000</td>\n",
       "      <td>None</td>\n",
       "      <td>EMERGENCY</td>\n",
       "      <td>WHITE</td>\n",
       "      <td>TSICU</td>\n",
       "      <td>99592</td>\n",
       "      <td>7.4</td>\n",
       "      <td>1.2</td>\n",
       "    </tr>\n",
       "    <tr>\n",
       "      <th>3</th>\n",
       "      <td>323</td>\n",
       "      <td>M</td>\n",
       "      <td>2062-12-24 00:00:00.000</td>\n",
       "      <td>143334</td>\n",
       "      <td>2120-01-11 15:46:00.000</td>\n",
       "      <td>2120-01-17 15:50:00.000</td>\n",
       "      <td>None</td>\n",
       "      <td>EMERGENCY</td>\n",
       "      <td>WHITE</td>\n",
       "      <td>MICU</td>\n",
       "      <td>99592</td>\n",
       "      <td>2.9</td>\n",
       "      <td>1.3</td>\n",
       "    </tr>\n",
       "    <tr>\n",
       "      <th>4</th>\n",
       "      <td>530</td>\n",
       "      <td>M</td>\n",
       "      <td>2039-10-16 00:00:00.000</td>\n",
       "      <td>149648</td>\n",
       "      <td>2119-04-07 16:14:00.000</td>\n",
       "      <td>2119-04-27 15:45:00.000</td>\n",
       "      <td>2119-04-27 15:45:00.000</td>\n",
       "      <td>EMERGENCY</td>\n",
       "      <td>WHITE</td>\n",
       "      <td>CSRU</td>\n",
       "      <td>99592</td>\n",
       "      <td>1.7</td>\n",
       "      <td>1.5</td>\n",
       "    </tr>\n",
       "  </tbody>\n",
       "</table>\n",
       "</div>"
      ],
      "text/plain": [
       "  subject_id gender                      dob hadm_id                admittime  \\\n",
       "0        112      M  1894-06-13 00:00:00.000  173177  2196-09-27 18:21:00.000   \n",
       "1        211      F  2112-09-04 00:00:00.000  101148  2197-12-17 02:52:00.000   \n",
       "2        213      M  1822-02-13 00:00:00.000  179315  2122-02-13 04:38:00.000   \n",
       "3        323      M  2062-12-24 00:00:00.000  143334  2120-01-11 15:46:00.000   \n",
       "4        530      M  2039-10-16 00:00:00.000  149648  2119-04-07 16:14:00.000   \n",
       "\n",
       "                 dischtime                deathtime admission_type ethnicity  \\\n",
       "0  2196-09-29 00:15:00.000  2196-09-29 00:15:00.000      EMERGENCY     WHITE   \n",
       "1  2197-12-29 14:02:00.000                     None      EMERGENCY     WHITE   \n",
       "2  2122-03-03 13:40:00.000                     None      EMERGENCY     WHITE   \n",
       "3  2120-01-17 15:50:00.000                     None      EMERGENCY     WHITE   \n",
       "4  2119-04-27 15:45:00.000  2119-04-27 15:45:00.000      EMERGENCY     WHITE   \n",
       "\n",
       "  first_careunit icd9_code first_lactate first_creatinine  \n",
       "0           MICU     99592           1.6              2.4  \n",
       "1           MICU     99592           1.7              1.7  \n",
       "2          TSICU     99592           7.4              1.2  \n",
       "3           MICU     99592           2.9              1.3  \n",
       "4           CSRU     99592           1.7              1.5  "
      ]
     },
     "metadata": {},
     "output_type": "display_data"
    }
   ],
   "source": [
    "%%runSQL \n",
    "\n",
    "\n",
    "WITH first_icu_admission AS (\n",
    "    SELECT \n",
    "        icu.subject_id,\n",
    "        icu.hadm_id,\n",
    "        icu.intime AS first_intime,\n",
    "        ROW_NUMBER() OVER(PARTITION BY icu.subject_id, icu.hadm_id ORDER BY icu.intime) AS rn\n",
    "    FROM \n",
    "        icustays AS icu\n",
    "),\n",
    "lactate AS (\n",
    "    SELECT \n",
    "        le.subject_id,\n",
    "        le.hadm_id,\n",
    "        le.valuenum AS first_lactate,\n",
    "        ROW_NUMBER() OVER(PARTITION BY le.subject_id, le.hadm_id ORDER BY le.charttime) AS rn\n",
    "    FROM \n",
    "        labevents AS le\n",
    "    WHERE \n",
    "        le.itemid = 50813 -- Lactate\n",
    "),\n",
    "creatinine AS (\n",
    "    SELECT \n",
    "        le.subject_id,\n",
    "        le.hadm_id,\n",
    "        le.valuenum AS first_creatinine,\n",
    "        ROW_NUMBER() OVER(PARTITION BY le.subject_id, le.hadm_id ORDER BY le.charttime) AS rn\n",
    "    FROM \n",
    "        labevents AS le\n",
    "    WHERE \n",
    "        le.itemid = 50912 -- Creatinine\n",
    ")\n",
    "SELECT \n",
    "    p.subject_id,\n",
    "    p.gender,\n",
    "    p.dob,\n",
    "    a.hadm_id,\n",
    "    a.admittime,\n",
    "    a.dischtime,\n",
    "    a.deathtime,\n",
    "    a.admission_type,\n",
    "    a.ethnicity,\n",
    "    icu.first_careunit,\n",
    "    d.icd9_code,\n",
    "    l.first_lactate,\n",
    "    c.first_creatinine\n",
    "FROM \n",
    "    patients AS p\n",
    "JOIN \n",
    "    admissions AS a ON p.subject_id = a.subject_id\n",
    "JOIN \n",
    "    first_icu_admission AS fia ON a.hadm_id = fia.hadm_id AND fia.rn = 1\n",
    "JOIN \n",
    "    icustays AS icu ON fia.hadm_id = icu.hadm_id AND fia.first_intime = icu.intime\n",
    "JOIN \n",
    "    diagnoses_icd AS d ON a.hadm_id = d.hadm_id\n",
    "LEFT JOIN \n",
    "    lactate AS l ON p.subject_id = l.subject_id AND a.hadm_id = l.hadm_id AND l.rn = 1\n",
    "LEFT JOIN \n",
    "    creatinine AS c ON p.subject_id = c.subject_id AND a.hadm_id = c.hadm_id AND c.rn = 1\n",
    "WHERE \n",
    "    d.icd9_code IN ('99591', '99592', '78552') -- ICD-9 codes for Sepsis, Severe Sepsis, and Septic Shock\n",
    "    AND DATE_DIFF('year', p.dob, a.admittime) >= 18 -- Only include patients 18 or older\n",
    "GROUP BY \n",
    "    p.subject_id,\n",
    "    p.gender,\n",
    "    p.dob,\n",
    "    a.hadm_id,\n",
    "    a.admittime,\n",
    "    a.dischtime,\n",
    "    a.deathtime,\n",
    "    a.admission_type,\n",
    "    a.ethnicity,\n",
    "    icu.first_careunit,\n",
    "    d.icd9_code,\n",
    "    l.first_lactate,\n",
    "    c.first_creatinine\n"
   ]
  },
  {
   "cell_type": "code",
   "execution_count": 36,
   "id": "e9b23f11-9741-4579-a787-43e87d4e2a46",
   "metadata": {
    "ChapyterCell": {
     "cellType": "original"
    }
   },
   "outputs": [
    {
     "name": "stdout",
     "output_type": "stream",
     "text": [
      "\n",
      "\n",
      "\n"
     ]
    }
   ],
   "source": [
    "%%mimicPython\n",
    "Write code to make histograms of the first creatinine and first lactate values (two separate plots) in df, breaking the lab values into 20 bins or so.\n",
    "Be sure to check the column names to make sure that they match exactly and exclude NA values. Be sure to convert the lab values into numeric data types if they aren't numeric already. Do not modify the original dataframe (df)."
   ]
  },
  {
   "cell_type": "code",
   "execution_count": 10,
   "id": "9e1923df-5d76-4fd2-818b-87dc47255ef6",
   "metadata": {},
   "outputs": [
    {
     "data": {
      "image/png": "[encoded data removed]",
      "text/plain": [
       "<Figure size 1000x500 with 2 Axes>"
      ]
     },
     "metadata": {},
     "output_type": "display_data"
    }
   ],
   "source": [
    "##AI-generated-code\n",
    "\n",
    "\n",
    "import matplotlib.pyplot as plt\n",
    "import pandas as pd\n",
    "import numpy as np\n",
    "\n",
    "# Convert the lab values into numeric data types\n",
    "df['first_lactate'] = pd.to_numeric(df['first_lactate'], errors='coerce')\n",
    "df['first_creatinine'] = pd.to_numeric(df['first_creatinine'], errors='coerce')\n",
    "\n",
    "# Exclude NA values\n",
    "df_lactate = df['first_lactate'].dropna()\n",
    "df_creatinine = df['first_creatinine'].dropna()\n",
    "\n",
    "# Create histograms\n",
    "plt.figure(figsize=(10, 5))\n",
    "\n",
    "plt.subplot(1, 2, 1)\n",
    "plt.hist(df_lactate, bins=20, color='skyblue', edgecolor='black')\n",
    "plt.title('First Lactate Values')\n",
    "plt.xlabel('Lactate')\n",
    "plt.ylabel('Frequency')\n",
    "\n",
    "plt.subplot(1, 2, 2)\n",
    "plt.hist(df_creatinine, bins=20, color='skyblue', edgecolor='black')\n",
    "plt.title('First Creatinine Values')\n",
    "plt.xlabel('Creatinine')\n",
    "plt.ylabel('Frequency')\n",
    "\n",
    "plt.tight_layout()\n",
    "plt.show()\n"
   ]
  },
  {
   "cell_type": "markdown",
   "id": "53cbe6e0-dbab-4c30-ad4b-3bcbc1b72779",
   "metadata": {},
   "source": [
    "Clearly there's an outlier when it comes to creatinine. "
   ]
  },
  {
   "cell_type": "code",
   "execution_count": 38,
   "id": "b40443c1-3cd6-4d50-b391-08d1de3b60bf",
   "metadata": {
    "ChapyterCell": {
     "cellType": "original"
    }
   },
   "outputs": [
    {
     "name": "stdout",
     "output_type": "stream",
     "text": [
      "\n"
     ]
    }
   ],
   "source": [
    "%%mimicPython\n",
    "\n",
    "Can you tell me how many patients have a creatinine over 20? "
   ]
  },
  {
   "cell_type": "code",
   "execution_count": 11,
   "id": "b06ca442-1325-4dc3-a574-22406c43e85f",
   "metadata": {},
   "outputs": [
    {
     "name": "stdout",
     "output_type": "stream",
     "text": [
      "Number of patients with a creatinine over 20:  3\n"
     ]
    }
   ],
   "source": [
    "##AI-generated-code\n",
    "\n",
    "\n",
    "# Count the number of patients with a creatinine over 20\n",
    "num_patients_high_creatinine = df[df['first_creatinine'] > 20].shape[0]\n",
    "\n",
    "print(\"Number of patients with a creatinine over 20: \", num_patients_high_creatinine)\n"
   ]
  },
  {
   "cell_type": "markdown",
   "id": "f09e6df7-d74e-494b-a4cb-6f85d2b0c51a",
   "metadata": {},
   "source": [
    "From now on, we can exclude those 2 patients. "
   ]
  },
  {
   "cell_type": "code",
   "execution_count": 40,
   "id": "18a66ee6-e9e4-44dd-8363-f051988b5ecc",
   "metadata": {
    "ChapyterCell": {
     "cellType": "original"
    }
   },
   "outputs": [
    {
     "name": "stdout",
     "output_type": "stream",
     "text": [
      "\n",
      "\n",
      "\n"
     ]
    }
   ],
   "source": [
    "%%mimicPython\n",
    "Now can we plot the lactate vs. creatinine values for each patient? If a value of lactate or creatinine is missing for one subject, \\\n",
    "exclude them from the scatter plot entirely. Also exclude subjects with a creatinine >20. Make the points very, very small (the \\\n",
    "minimum number of pixels in order to just be visible) to minimize overlap. Lactate should be on the X axis and creatinine should be on the Y axis. "
   ]
  },
  {
   "cell_type": "code",
   "execution_count": 12,
   "id": "81b318e1-5862-4e83-a850-e5ed5684709e",
   "metadata": {},
   "outputs": [
    {
     "data": {
      "image/png": "[encoded data removed]",
      "text/plain": [
       "<Figure size 1000x500 with 1 Axes>"
      ]
     },
     "metadata": {},
     "output_type": "display_data"
    }
   ],
   "source": [
    "##AI-generated-code\n",
    "\n",
    "\n",
    "import matplotlib.pyplot as plt\n",
    "\n",
    "# Exclude subjects with a creatinine >20 and NA values\n",
    "df_filtered = df[(df['first_creatinine'] <= 20) & df['first_lactate'].notna() & df['first_creatinine'].notna()]\n",
    "\n",
    "# Plot lactate vs. creatinine values\n",
    "plt.figure(figsize=(10, 5))\n",
    "plt.scatter(df_filtered['first_lactate'], df_filtered['first_creatinine'], s=1)\n",
    "plt.title('Lactate vs. Creatinine Values')\n",
    "plt.xlabel('Lactate')\n",
    "plt.ylabel('Creatinine')\n",
    "plt.show()\n"
   ]
  },
  {
   "cell_type": "markdown",
   "id": "3ca9778c-c2f5-4467-81e9-5ccde1868f47",
   "metadata": {},
   "source": [
    "Looks like we also have a few patients with lactates over 20, but we'll include those for now. "
   ]
  },
  {
   "cell_type": "markdown",
   "id": "640c1441-f99a-4003-aa55-16e846613e66",
   "metadata": {},
   "source": [
    "# Step 2 - Clean the data up\n",
    "Remove values that don't make sense"
   ]
  },
  {
   "cell_type": "code",
   "execution_count": 544,
   "id": "bc7d3e1b-f2e2-4a97-8652-14db9397f330",
   "metadata": {
    "ChapyterCell": {
     "cellType": "original"
    }
   },
   "outputs": [
    {
     "name": "stdout",
     "output_type": "stream",
     "text": [
      "\n",
      "\n",
      "\n"
     ]
    }
   ],
   "source": [
    "%%mimicPython --model gpt-3.5-turbo\n",
    "\n",
    "Now, remove any creatinine values that are >20 entirely from the dataframe. \n",
    "Also, for any missing creatinine and lab values, fill in the data with the mean creatinine or lactate from the dataset as a whole. \n",
    "Let's save that as full_cohort_cleaned. \n",
    "Remember to return executable python code between triple ticks. "
   ]
  },
  {
   "cell_type": "code",
   "execution_count": 13,
   "id": "70e709e6-0866-4338-bec5-08ec6d703749",
   "metadata": {},
   "outputs": [
    {
     "name": "stdout",
     "output_type": "stream",
     "text": [
      "     subject_id gender                      dob hadm_id  \\\n",
      "0           112      M  1894-06-13 00:00:00.000  173177   \n",
      "1           211      F  2112-09-04 00:00:00.000  101148   \n",
      "2           213      M  1822-02-13 00:00:00.000  179315   \n",
      "3           323      M  2062-12-24 00:00:00.000  143334   \n",
      "4           530      M  2039-10-16 00:00:00.000  149648   \n",
      "...         ...    ...                      ...     ...   \n",
      "7745      70078      M  2097-04-29 00:00:00.000  146279   \n",
      "7746      66517      M  2083-09-06 00:00:00.000  172789   \n",
      "7747      80878      M  2109-12-12 00:00:00.000  199530   \n",
      "7748      88560      F  2070-12-11 00:00:00.000  127263   \n",
      "7749      82641      M  2076-09-24 00:00:00.000  118720   \n",
      "\n",
      "                    admittime                dischtime  \\\n",
      "0     2196-09-27 18:21:00.000  2196-09-29 00:15:00.000   \n",
      "1     2197-12-17 02:52:00.000  2197-12-29 14:02:00.000   \n",
      "2     2122-02-13 04:38:00.000  2122-03-03 13:40:00.000   \n",
      "3     2120-01-11 15:46:00.000  2120-01-17 15:50:00.000   \n",
      "4     2119-04-07 16:14:00.000  2119-04-27 15:45:00.000   \n",
      "...                       ...                      ...   \n",
      "7745  2166-07-05 14:57:00.000  2166-07-24 13:51:00.000   \n",
      "7746  2142-06-15 03:03:00.000  2142-06-26 17:50:00.000   \n",
      "7747  2179-06-11 21:51:00.000  2179-06-17 14:35:00.000   \n",
      "7748  2122-07-13 17:57:00.000  2122-08-04 18:17:00.000   \n",
      "7749  2138-02-04 03:11:00.000  2138-02-08 18:00:00.000   \n",
      "\n",
      "                    deathtime admission_type ethnicity first_careunit  \\\n",
      "0     2196-09-29 00:15:00.000      EMERGENCY     WHITE           MICU   \n",
      "1                        None      EMERGENCY     WHITE           MICU   \n",
      "2                        None      EMERGENCY     WHITE          TSICU   \n",
      "3                        None      EMERGENCY     WHITE           MICU   \n",
      "4     2119-04-27 15:45:00.000      EMERGENCY     WHITE           CSRU   \n",
      "...                       ...            ...       ...            ...   \n",
      "7745                     None         URGENT     WHITE           MICU   \n",
      "7746  2142-06-26 17:50:00.000      EMERGENCY     WHITE          TSICU   \n",
      "7747                     None      EMERGENCY     WHITE           MICU   \n",
      "7748                     None      EMERGENCY     WHITE           SICU   \n",
      "7749  2138-02-08 18:00:00.000      EMERGENCY     WHITE           MICU   \n",
      "\n",
      "     icd9_code  first_lactate  first_creatinine  \n",
      "0        99592            1.6               2.4  \n",
      "1        99592            1.7               1.7  \n",
      "2        99592            7.4               1.2  \n",
      "3        99592            2.9               1.3  \n",
      "4        99592            1.7               1.5  \n",
      "...        ...            ...               ...  \n",
      "7745     99592            1.2               6.6  \n",
      "7746     99592            2.8               0.9  \n",
      "7747     99591            1.0               1.1  \n",
      "7748     78552            2.0               1.9  \n",
      "7749     78552            7.0               2.0  \n",
      "\n",
      "[7741 rows x 13 columns]\n"
     ]
    }
   ],
   "source": [
    "##AI-generated-code\n",
    "\n",
    "\n",
    "# Remove any creatinine values that are >20\n",
    "df = df[df['first_creatinine'] <= 20]\n",
    "\n",
    "# Fill missing creatinine and lactate values with the mean\n",
    "df['first_creatinine'].fillna(df['first_creatinine'].mean(), inplace=True)\n",
    "df['first_lactate'].fillna(df['first_lactate'].mean(), inplace=True)\n",
    "\n",
    "# Save the cleaned dataframe\n",
    "full_cohort_cleaned = df\n",
    "\n",
    "print(full_cohort_cleaned)\n"
   ]
  },
  {
   "cell_type": "markdown",
   "id": "1bd736cf-3991-41c6-90fc-127a12ade0f9",
   "metadata": {},
   "source": [
    "# Step 3 - Build a basic table 1 to summarize the data\n",
    "Build a table 1 stratified by gender summarizing ICU service, admission type, and ethnicity. Use only the first ICU admission."
   ]
  },
  {
   "cell_type": "code",
   "execution_count": null,
   "id": "d307e9f7-a8fb-439f-87e6-ce4cee0b877f",
   "metadata": {},
   "outputs": [],
   "source": [
    "### Note – the append() function being deprecated makes this really hard to do live"
   ]
  },
  {
   "cell_type": "code",
   "execution_count": 274,
   "id": "a7fdb1f9-b920-48b5-8dce-af6233185a51",
   "metadata": {
    "ChapyterCell": {
     "cellType": "original"
    }
   },
   "outputs": [
    {
     "name": "stdout",
     "output_type": "stream",
     "text": [
      "\n",
      "\n",
      "This code will create a new dataframe called `table_one_numeric` that contains the counts of each category for men and women. The `Variable` column contains the category name, the `Men` column contains the count for men, and the `Women` column contains the count for women. The counts are calculated by filtering the dataframes `df_men` and `df_women` based on the category and counting the number of rows. The results are then concatenated to the `table_one_numeric` dataframe. The `ignore_index=True` argument is used in the `concat` function to reset the index after each concatenation.\n"
     ]
    }
   ],
   "source": [
    "%%mimicPython\n",
    "\n",
    "I have a dataframe (df) which consists of patients with sepsis from the MIMIC-III database. They have been identified based on ICD-9 codes. \\\n",
    "The dataframe also includes covariates like gender, first lactate, first creatinine, first ICU type, and surgery type. \n",
    "Please split the data into two groups. one for men and one for women. \n",
    "then, generate a dataframe table called table one where the first column is a variable name, the second is the result for men, and the third the result for women\n",
    "\n",
    "To make it more challenging, you are not allowed to use the \"append\" function on any dataframe objects. Instead, use concatenate to add anything to the table_one dataframe\n",
    "                                                                                                               \n",
    "Return results for the following variables for each group: \n",
    "                                                                                                                                                                                                                                             \n",
    "- white patients\n",
    "- black patients\n",
    "- hispanic or latino patients\n",
    "- asian patients \n",
    "- \"other\" patients in each group that do not meet fall into the category of the above ethnicities \n",
    "- patients admitted to the CCU\n",
    "- MICU\n",
    "- CSRU\n",
    "- SICU \n",
    "- patients with an admission type of elective\n",
    "- emergency\n",
    "- urgent \n",
    "\n",
    "Be sure to denote any python code with triple ticks. \n",
    "Please save this result as table_one_numeric\n",
    "                                                                                                        "
   ]
  },
  {
   "cell_type": "code",
   "execution_count": 14,
   "id": "77ed5b1b-93fa-4f14-976c-14e303b7b61c",
   "metadata": {},
   "outputs": [
    {
     "name": "stdout",
     "output_type": "stream",
     "text": [
      "                  Variable   Men Women\n",
      "0                    WHITE  3129  2515\n",
      "1   BLACK/AFRICAN AMERICAN   338   423\n",
      "2       HISPANIC OR LATINO   134    58\n",
      "3                    ASIAN    87    60\n",
      "4                    OTHER    81    75\n",
      "5                      CCU   374   271\n",
      "6                     MICU  2932  2537\n",
      "7                     CSRU   154    79\n",
      "8                     SICU   527   422\n",
      "9                 ELECTIVE   138    73\n",
      "10               EMERGENCY  4054  3357\n",
      "11                  URGENT    64    55\n"
     ]
    }
   ],
   "source": [
    "##AI-generated-code\n",
    "\n",
    "\n",
    "import pandas as pd\n",
    "\n",
    "# Split the data into two groups based on gender\n",
    "df_men = df[df['gender'] == 'M']\n",
    "df_women = df[df['gender'] == 'F']\n",
    "\n",
    "# Define the variables of interest\n",
    "variables = ['ethnicity', 'first_careunit', 'admission_type']\n",
    "\n",
    "# Define the categories of interest for each variable\n",
    "categories = {\n",
    "    'ethnicity': ['WHITE', 'BLACK/AFRICAN AMERICAN', 'HISPANIC OR LATINO', 'ASIAN', 'OTHER'],\n",
    "    'first_careunit': ['CCU', 'MICU', 'CSRU', 'SICU'],\n",
    "    'admission_type': ['ELECTIVE', 'EMERGENCY', 'URGENT']\n",
    "}\n",
    "\n",
    "# Initialize an empty dataframe for the results\n",
    "table_one_numeric = pd.DataFrame(columns=['Variable', 'Men', 'Women'])\n",
    "\n",
    "# Loop over the variables and categories to calculate the results for each group\n",
    "for variable in variables:\n",
    "    for category in categories[variable]:\n",
    "        men_count = df_men[df_men[variable] == category].shape[0]\n",
    "        women_count = df_women[df_women[variable] == category].shape[0]\n",
    "        result = pd.DataFrame({'Variable': [category], 'Men': [men_count], 'Women': [women_count]})\n",
    "        table_one_numeric = pd.concat([table_one_numeric, result], ignore_index=True)\n",
    "\n",
    "print(table_one_numeric)\n"
   ]
  },
  {
   "cell_type": "code",
   "execution_count": 281,
   "id": "888a8e26-23e4-4b94-b6ba-8a16dd23fa3d",
   "metadata": {
    "ChapyterCell": {
     "cellType": "original"
    }
   },
   "outputs": [
    {
     "name": "stdout",
     "output_type": "stream",
     "text": [
      "\n",
      "\n",
      "Please note that the percentages are rounded to two decimal places. If you need more precision, you can adjust the number after the colon in the format string (e.g., use `:.3f` for three decimal places).\n"
     ]
    }
   ],
   "source": [
    "%%mimicPython \n",
    "\n",
    "That's great! To that table_one_numeric, can you now add a few elements? \n",
    "- Add the total number of men and women in the format \"n = ***\" across the top, along with the column headers\n",
    "- Add parantheses and the percent of all men or women that fall into each category to the numeric value in each row entry (use the format 1917 (***%) for the first entry in the \"WHITE\" row, where *** denotes the % of men that are white)\n",
    "\n",
    "Remember to double check datatypes before assuming strings are numeric. \n",
    "BE SURE to return executable python code in the correct format, between the characters \"```\"\n",
    "Please save this as table_one_edited. "
   ]
  },
  {
   "cell_type": "code",
   "execution_count": 15,
   "id": "f09ba58f-9c5b-45c5-8759-fa2e57dae4f6",
   "metadata": {},
   "outputs": [
    {
     "name": "stdout",
     "output_type": "stream",
     "text": [
      "                  Variable             Men           Women\n",
      "0                      n =  4256 (100.00%)  3485 (100.00%)\n",
      "1                    WHITE   3129 (73.52%)   2515 (72.17%)\n",
      "2   BLACK/AFRICAN AMERICAN     338 (7.94%)    423 (12.14%)\n",
      "3       HISPANIC OR LATINO     134 (3.15%)      58 (1.66%)\n",
      "4                    ASIAN      87 (2.04%)      60 (1.72%)\n",
      "5                    OTHER      81 (1.90%)      75 (2.15%)\n",
      "6                      CCU     374 (8.79%)     271 (7.78%)\n",
      "7                     MICU   2932 (68.89%)   2537 (72.80%)\n",
      "8                     CSRU     154 (3.62%)      79 (2.27%)\n",
      "9                     SICU    527 (12.38%)    422 (12.11%)\n",
      "10                ELECTIVE     138 (3.24%)      73 (2.09%)\n",
      "11               EMERGENCY   4054 (95.25%)   3357 (96.33%)\n",
      "12                  URGENT      64 (1.50%)      55 (1.58%)\n"
     ]
    }
   ],
   "source": [
    "##AI-generated-code\n",
    "\n",
    "\n",
    "# Calculate the total number of men and women\n",
    "total_men = df_men.shape[0]\n",
    "total_women = df_women.shape[0]\n",
    "\n",
    "# Add the total number of men and women to the dataframe\n",
    "table_one_numeric.loc[-1] = ['n =', total_men, total_women]  # adding a row\n",
    "table_one_numeric.index = table_one_numeric.index + 1  # shifting index\n",
    "table_one_numeric = table_one_numeric.sort_index()  # sorting by index\n",
    "\n",
    "# Calculate the percentage of men and women for each category and add it to the dataframe\n",
    "table_one_numeric['Men'] = table_one_numeric['Men'].apply(lambda x: f\"{x} ({x / total_men * 100:.2f}%)\")\n",
    "table_one_numeric['Women'] = table_one_numeric['Women'].apply(lambda x: f\"{x} ({x / total_women * 100:.2f}%)\")\n",
    "\n",
    "# Rename the dataframe\n",
    "table_one_edited = table_one_numeric\n",
    "\n",
    "print(table_one_edited)\n"
   ]
  },
  {
   "cell_type": "code",
   "execution_count": 346,
   "id": "05dae20d-7042-440c-8dfd-aafdac0161b7",
   "metadata": {
    "ChapyterCell": {
     "cellType": "original"
    }
   },
   "outputs": [
    {
     "name": "stdout",
     "output_type": "stream",
     "text": [
      "\n",
      "\n",
      "\n"
     ]
    }
   ],
   "source": [
    "%%mimicPython\n",
    "Great. Now can you write python code to add the first_lactate and first_creatinine values from the dataframe df to that same table (table_one_edited)? \\\n",
    "For continuous variables (ie first_lactate and first_creatinine), I'd like the median as the main statistic with the interquartile \\\n",
    "range (low end - high end) in parantheses. These statistics can be in the same columns as the summary statistics for the other variables (Men & Women).\n",
    "To make this more challenging, refrain from using the append function. "
   ]
  },
  {
   "cell_type": "code",
   "execution_count": 16,
   "id": "311479e5-0e56-4313-8e69-4439d1cb77b8",
   "metadata": {},
   "outputs": [
    {
     "name": "stdout",
     "output_type": "stream",
     "text": [
      "                  Variable              Men            Women\n",
      "0                      n =   4256 (100.00%)   3485 (100.00%)\n",
      "1                    WHITE    3129 (73.52%)    2515 (72.17%)\n",
      "2   BLACK/AFRICAN AMERICAN      338 (7.94%)     423 (12.14%)\n",
      "3       HISPANIC OR LATINO      134 (3.15%)       58 (1.66%)\n",
      "4                    ASIAN       87 (2.04%)       60 (1.72%)\n",
      "5                    OTHER       81 (1.90%)       75 (2.15%)\n",
      "6                      CCU      374 (8.79%)      271 (7.78%)\n",
      "7                     MICU    2932 (68.89%)    2537 (72.80%)\n",
      "8                     CSRU      154 (3.62%)       79 (2.27%)\n",
      "9                     SICU     527 (12.38%)     422 (12.11%)\n",
      "10                ELECTIVE      138 (3.24%)       73 (2.09%)\n",
      "11               EMERGENCY    4054 (95.25%)    3357 (96.33%)\n",
      "12                  URGENT       64 (1.50%)       55 (1.58%)\n",
      "13           first_lactate  2.3 (1.5 - 3.6)  2.3 (1.5 - 3.6)\n",
      "14        first_creatinine  1.5 (1.1 - 2.7)  1.3 (0.8 - 2.2)\n"
     ]
    }
   ],
   "source": [
    "##AI-generated-code\n",
    "\n",
    "\n",
    "import numpy as np\n",
    "\n",
    "# Convert first_lactate and first_creatinine to numeric\n",
    "df['first_lactate'] = pd.to_numeric(df['first_lactate'], errors='coerce')\n",
    "df['first_creatinine'] = pd.to_numeric(df['first_creatinine'], errors='coerce')\n",
    "\n",
    "# Calculate the median and interquartile range for men and women\n",
    "for variable in ['first_lactate', 'first_creatinine']:\n",
    "    men_median = np.median(df_men[variable].dropna())\n",
    "    women_median = np.median(df_women[variable].dropna())\n",
    "    men_iqr = f\"{np.percentile(df_men[variable].dropna(), 25)} - {np.percentile(df_men[variable].dropna(), 75)}\"\n",
    "    women_iqr = f\"{np.percentile(df_women[variable].dropna(), 25)} - {np.percentile(df_women[variable].dropna(), 75)}\"\n",
    "    \n",
    "    # Add the results to the dataframe\n",
    "    result = pd.DataFrame({'Variable': [variable], 'Men': [f\"{men_median} ({men_iqr})\"], 'Women': [f\"{women_median} ({women_iqr})\"]})\n",
    "    table_one_edited = pd.concat([table_one_edited, result], ignore_index=True)\n",
    "\n",
    "print(table_one_edited)\n"
   ]
  },
  {
   "cell_type": "code",
   "execution_count": 425,
   "id": "0371ec75-2bda-452f-b232-50ff0e27f1bd",
   "metadata": {
    "ChapyterCell": {
     "cellType": "original"
    }
   },
   "outputs": [
    {
     "name": "stdout",
     "output_type": "stream",
     "text": [
      "\n",
      "\n",
      "\n"
     ]
    }
   ],
   "source": [
    "%%mimicPython \n",
    "Great. Now let's reformat that table (table_one_edited). The related categories should have headings. \n",
    "White, Black, Hispanic/Latino, Asian, and Other should be classified under \"Race\". \n",
    "MICU, CSRU, SICU, and CCU should be under \"ICU Type\". \n",
    "Elective, emergency, and urgent should all be under \"Surgery Type\". \n",
    "Lactate and Creatinine should be under \"Lab Values\". \n",
    "Please create a new table (table_one_formatted) rather than modifying table_one_edited. \n",
    "To accomplish this, please do not create a new column; rather add an additional row above the subcategories \\\n",
    "denoting the overall category (i.e. an otherwise empty row that says \"Race\" above the race categories). \n",
    "Make sure that the corresponding heading is directly above the subcategories in the table. \n",
    "As always, use concat instead of append with dataframes. "
   ]
  },
  {
   "cell_type": "code",
   "execution_count": 17,
   "id": "16b5dc6e-f8f5-441d-9201-b59e24dcb3ac",
   "metadata": {},
   "outputs": [
    {
     "name": "stdout",
     "output_type": "stream",
     "text": [
      "                  Variable              Men            Women\n",
      "0                      n =   4256 (100.00%)   3485 (100.00%)\n",
      "1                     Race                                  \n",
      "2                    WHITE    3129 (73.52%)    2515 (72.17%)\n",
      "3   BLACK/AFRICAN AMERICAN      338 (7.94%)     423 (12.14%)\n",
      "4       HISPANIC OR LATINO      134 (3.15%)       58 (1.66%)\n",
      "5                    ASIAN       87 (2.04%)       60 (1.72%)\n",
      "6                    OTHER       81 (1.90%)       75 (2.15%)\n",
      "7                 ICU Type                                  \n",
      "8                      CCU      374 (8.79%)      271 (7.78%)\n",
      "9                     MICU    2932 (68.89%)    2537 (72.80%)\n",
      "10                    CSRU      154 (3.62%)       79 (2.27%)\n",
      "11                    SICU     527 (12.38%)     422 (12.11%)\n",
      "12            Surgery Type                                  \n",
      "13                ELECTIVE      138 (3.24%)       73 (2.09%)\n",
      "14               EMERGENCY    4054 (95.25%)    3357 (96.33%)\n",
      "15                  URGENT       64 (1.50%)       55 (1.58%)\n",
      "16              Lab Values                                  \n",
      "17           first_lactate  2.3 (1.5 - 3.6)  2.3 (1.5 - 3.6)\n",
      "18        first_creatinine  1.5 (1.1 - 2.7)  1.3 (0.8 - 2.2)\n"
     ]
    }
   ],
   "source": [
    "##AI-generated-code\n",
    "\n",
    "\n",
    "# Create the new category rows\n",
    "race_row = pd.DataFrame({'Variable': ['Race'], 'Men': [''], 'Women': ['']})\n",
    "icu_type_row = pd.DataFrame({'Variable': ['ICU Type'], 'Men': [''], 'Women': ['']})\n",
    "surgery_type_row = pd.DataFrame({'Variable': ['Surgery Type'], 'Men': [''], 'Women': ['']})\n",
    "lab_values_row = pd.DataFrame({'Variable': ['Lab Values'], 'Men': [''], 'Women': ['']})\n",
    "\n",
    "# Concatenate the new rows with the corresponding subcategories\n",
    "table_one_formatted = pd.concat([table_one_edited.iloc[:1], race_row, table_one_edited.iloc[1:6], icu_type_row, table_one_edited.iloc[6:10], surgery_type_row, table_one_edited.iloc[10:13], lab_values_row, table_one_edited.iloc[13:]], ignore_index=True)\n",
    "\n",
    "print(table_one_formatted)\n"
   ]
  },
  {
   "cell_type": "code",
   "execution_count": 342,
   "id": "b573d50a-96ec-4fba-925a-8620f1231e37",
   "metadata": {
    "ChapyterCell": {
     "cellType": "original"
    }
   },
   "outputs": [
    {
     "name": "stdout",
     "output_type": "stream",
     "text": [
      "\n",
      "\n",
      "\n"
     ]
    }
   ],
   "source": [
    "%%mimicPython\n",
    "Great. Now, can we reformat that dataframe to make the Variables column left-justfied? \n",
    "Next, make the subcategories slightly idented from the rest. \n",
    "For long variable names, you may need to widen the variables column so that all of the subcategories are aligned and indented the same amount. \n",
    "Remember to return executable python code denoted with \"```\". "
   ]
  },
  {
   "cell_type": "code",
   "execution_count": 18,
   "id": "27283048-807b-4e96-b497-faa456e47aff",
   "metadata": {},
   "outputs": [
    {
     "name": "stdout",
     "output_type": "stream",
     "text": [
      "                              Variable              Men            Women\n",
      "0       n =                              4256 (100.00%)   3485 (100.00%)\n",
      "1       Race                                                            \n",
      "2       WHITE                             3129 (73.52%)    2515 (72.17%)\n",
      "3       BLACK/AFRICAN AMERICAN              338 (7.94%)     423 (12.14%)\n",
      "4       HISPANIC OR LATINO                  134 (3.15%)       58 (1.66%)\n",
      "5       ASIAN                                87 (2.04%)       60 (1.72%)\n",
      "6       OTHER                                81 (1.90%)       75 (2.15%)\n",
      "7       ICU Type                                                        \n",
      "8       CCU                                 374 (8.79%)      271 (7.78%)\n",
      "9       MICU                              2932 (68.89%)    2537 (72.80%)\n",
      "10      CSRU                                154 (3.62%)       79 (2.27%)\n",
      "11      SICU                               527 (12.38%)     422 (12.11%)\n",
      "12      Surgery Type                                                    \n",
      "13      ELECTIVE                            138 (3.24%)       73 (2.09%)\n",
      "14      EMERGENCY                         4054 (95.25%)    3357 (96.33%)\n",
      "15      URGENT                               64 (1.50%)       55 (1.58%)\n",
      "16      Lab Values                                                      \n",
      "17      first_lactate                   2.3 (1.5 - 3.6)  2.3 (1.5 - 3.6)\n",
      "18      first_creatinine                1.5 (1.1 - 2.7)  1.3 (0.8 - 2.2)\n"
     ]
    }
   ],
   "source": [
    "##AI-generated-code\n",
    "\n",
    "\n",
    "# Left-justify the 'Variable' column\n",
    "table_one_formatted['Variable'] = table_one_formatted['Variable'].str.ljust(30)\n",
    "\n",
    "# Indent the subcategories\n",
    "table_one_formatted['Variable'] = table_one_formatted.apply(lambda row: '    ' + row['Variable'] if row['Variable'].strip() not in ['Race', 'ICU Type', 'Surgery Type', 'Lab Values'] else row['Variable'], axis=1)\n",
    "\n",
    "print(table_one_formatted)\n"
   ]
  },
  {
   "cell_type": "code",
   "execution_count": 356,
   "id": "87eece03-3dcb-4687-9620-731109147649",
   "metadata": {
    "ChapyterCell": {
     "cellType": "original"
    }
   },
   "outputs": [
    {
     "name": "stdout",
     "output_type": "stream",
     "text": [
      "\n",
      "\n",
      "This code will update the column headers to include the total number of men and women, and then drop the first row which is no longer needed. The index is also reset to start from 0 again.\n"
     ]
    }
   ],
   "source": [
    "%%mimicPython\n",
    "\n",
    "Now let's reformat that table so that row with \"n = \" is combined with the Men and Women column headers. \n",
    "For example, the Men column should read \"Men (n = 4256)\" (ignore the 100%). \n",
    "The \"Women\" column should also have the total number of women in parentheses at the top with the column header as well. "
   ]
  },
  {
   "cell_type": "code",
   "execution_count": 19,
   "id": "4b08569e-544e-41ce-90c5-904c0f7ba5c7",
   "metadata": {},
   "outputs": [
    {
     "name": "stdout",
     "output_type": "stream",
     "text": [
      "                              Variable   Men (n = 4256) Women (n = 3485)\n",
      "0       Race                                                            \n",
      "1       WHITE                             3129 (73.52%)    2515 (72.17%)\n",
      "2       BLACK/AFRICAN AMERICAN              338 (7.94%)     423 (12.14%)\n",
      "3       HISPANIC OR LATINO                  134 (3.15%)       58 (1.66%)\n",
      "4       ASIAN                                87 (2.04%)       60 (1.72%)\n",
      "5       OTHER                                81 (1.90%)       75 (2.15%)\n",
      "6       ICU Type                                                        \n",
      "7       CCU                                 374 (8.79%)      271 (7.78%)\n",
      "8       MICU                              2932 (68.89%)    2537 (72.80%)\n",
      "9       CSRU                                154 (3.62%)       79 (2.27%)\n",
      "10      SICU                               527 (12.38%)     422 (12.11%)\n",
      "11      Surgery Type                                                    \n",
      "12      ELECTIVE                            138 (3.24%)       73 (2.09%)\n",
      "13      EMERGENCY                         4054 (95.25%)    3357 (96.33%)\n",
      "14      URGENT                               64 (1.50%)       55 (1.58%)\n",
      "15      Lab Values                                                      \n",
      "16      first_lactate                   2.3 (1.5 - 3.6)  2.3 (1.5 - 3.6)\n",
      "17      first_creatinine                1.5 (1.1 - 2.7)  1.3 (0.8 - 2.2)\n"
     ]
    }
   ],
   "source": [
    "##AI-generated-code\n",
    "\n",
    "\n",
    "# Extract the total number of men and women\n",
    "n_men = table_one_formatted.loc[0, 'Men'].split(' ')[0]\n",
    "n_women = table_one_formatted.loc[0, 'Women'].split(' ')[0]\n",
    "\n",
    "# Update the column headers\n",
    "table_one_formatted.columns = ['Variable', f'Men (n = {n_men})', f'Women (n = {n_women})']\n",
    "\n",
    "# Drop the first row\n",
    "table_one_formatted = table_one_formatted.drop(0)\n",
    "\n",
    "# Reset the index\n",
    "table_one_formatted = table_one_formatted.reset_index(drop=True)\n",
    "\n",
    "print(table_one_formatted)\n"
   ]
  },
  {
   "cell_type": "code",
   "execution_count": 365,
   "id": "61bceb2a-90c2-4481-bdcb-c63018e62b98",
   "metadata": {
    "ChapyterCell": {
     "cellType": "original"
    }
   },
   "outputs": [
    {
     "name": "stdout",
     "output_type": "stream",
     "text": [
      "\n",
      "\n",
      "\n"
     ]
    }
   ],
   "source": [
    "%%mimicPython\n",
    "\n",
    "Great. Now I'd like to get rid of all caps words (under race and surgery type) and underscores in the table. \n",
    "Each english word should begin with a capital letter and the rest of the word should be lowercase. "
   ]
  },
  {
   "cell_type": "code",
   "execution_count": 20,
   "id": "14472088-478b-4bb4-bb21-50d4a74ace81",
   "metadata": {},
   "outputs": [
    {
     "name": "stdout",
     "output_type": "stream",
     "text": [
      "                              Variable   Men (n = 4256) Women (n = 3485)\n",
      "0       Race                                                            \n",
      "1       White                             3129 (73.52%)    2515 (72.17%)\n",
      "2       Black/African American              338 (7.94%)     423 (12.14%)\n",
      "3       Hispanic Or Latino                  134 (3.15%)       58 (1.66%)\n",
      "4       Asian                                87 (2.04%)       60 (1.72%)\n",
      "5       Other                                81 (1.90%)       75 (2.15%)\n",
      "6       Icu Type                                                        \n",
      "7       Ccu                                 374 (8.79%)      271 (7.78%)\n",
      "8       Micu                              2932 (68.89%)    2537 (72.80%)\n",
      "9       Csru                                154 (3.62%)       79 (2.27%)\n",
      "10      Sicu                               527 (12.38%)     422 (12.11%)\n",
      "11      Surgery Type                                                    \n",
      "12      Elective                            138 (3.24%)       73 (2.09%)\n",
      "13      Emergency                         4054 (95.25%)    3357 (96.33%)\n",
      "14      Urgent                               64 (1.50%)       55 (1.58%)\n",
      "15      Lab Values                                                      \n",
      "16      First Lactate                   2.3 (1.5 - 3.6)  2.3 (1.5 - 3.6)\n",
      "17      First Creatinine                1.5 (1.1 - 2.7)  1.3 (0.8 - 2.2)\n"
     ]
    }
   ],
   "source": [
    "##AI-generated-code\n",
    "\n",
    "\n",
    "# Import necessary module\n",
    "import re\n",
    "\n",
    "# Function to convert all caps words to title case and replace underscores with spaces\n",
    "def format_text(text):\n",
    "    text = re.sub(r'_', ' ', text)  # replace underscores with spaces\n",
    "    text = text.title()  # convert to title case\n",
    "    return text\n",
    "\n",
    "# Apply the function to the 'Variable' column\n",
    "table_one_formatted['Variable'] = table_one_formatted['Variable'].apply(format_text)\n",
    "\n",
    "print(table_one_formatted)\n"
   ]
  },
  {
   "cell_type": "code",
   "execution_count": 554,
   "id": "4120d5e8-c5ee-4837-af21-a211005cb5b1",
   "metadata": {
    "ChapyterCell": {
     "cellType": "original"
    }
   },
   "outputs": [
    {
     "name": "stdout",
     "output_type": "stream",
     "text": [
      "\n",
      "\n",
      "\n"
     ]
    }
   ],
   "source": [
    "%%mimicPython\n",
    "Now, can we make any acronyms all capitalized? The acronyms are currently a mix of upper and lowercase letters. \n",
    "The acronyms are ICU, CCU, MICU, CSRU, and SICU. \n",
    "Remember to return executable python code denoted by triple ticks. "
   ]
  },
  {
   "cell_type": "code",
   "execution_count": 21,
   "id": "2a9b60ff-4b65-422e-885e-1de9051e6d68",
   "metadata": {},
   "outputs": [
    {
     "name": "stdout",
     "output_type": "stream",
     "text": [
      "                              Variable   Men (n = 4256) Women (n = 3485)\n",
      "0       Race                                                            \n",
      "1       White                             3129 (73.52%)    2515 (72.17%)\n",
      "2       Black/African American              338 (7.94%)     423 (12.14%)\n",
      "3       Hispanic Or Latino                  134 (3.15%)       58 (1.66%)\n",
      "4       Asian                                87 (2.04%)       60 (1.72%)\n",
      "5       Other                                81 (1.90%)       75 (2.15%)\n",
      "6       ICU Type                                                        \n",
      "7       CCU                                 374 (8.79%)      271 (7.78%)\n",
      "8       MICU                              2932 (68.89%)    2537 (72.80%)\n",
      "9       CSRU                                154 (3.62%)       79 (2.27%)\n",
      "10      SICU                               527 (12.38%)     422 (12.11%)\n",
      "11      Surgery Type                                                    \n",
      "12      Elective                            138 (3.24%)       73 (2.09%)\n",
      "13      Emergency                         4054 (95.25%)    3357 (96.33%)\n",
      "14      Urgent                               64 (1.50%)       55 (1.58%)\n",
      "15      Lab Values                                                      \n",
      "16      First Lactate                   2.3 (1.5 - 3.6)  2.3 (1.5 - 3.6)\n",
      "17      First Creatinine                1.5 (1.1 - 2.7)  1.3 (0.8 - 2.2)\n"
     ]
    }
   ],
   "source": [
    "##AI-generated-code\n",
    "\n",
    "\n",
    "# Function to capitalize acronyms\n",
    "def capitalize_acronyms(text):\n",
    "    acronyms = ['ICU', 'CCU', 'MICU', 'CSRU', 'SICU']\n",
    "    for acronym in acronyms:\n",
    "        if acronym.lower() in text.lower():\n",
    "            text = re.sub(acronym.lower(), acronym, text, flags=re.IGNORECASE)\n",
    "    return text\n",
    "\n",
    "# Apply the function to the 'Variable' column\n",
    "table_one_formatted['Variable'] = table_one_formatted['Variable'].apply(capitalize_acronyms)\n",
    "\n",
    "print(table_one_formatted)\n"
   ]
  },
  {
   "cell_type": "code",
   "execution_count": 437,
   "id": "d35bd26a-1591-4646-80b0-1d523ac2c015",
   "metadata": {},
   "outputs": [
    {
     "name": "stdout",
     "output_type": "stream",
     "text": [
      "                              Variable   Men (n = 4256) Women (n = 3485)\n",
      "0       Race                                                            \n",
      "1       White                             3129 (73.52%)    2514 (72.14%)\n",
      "2       Black/African American              337 (7.92%)     423 (12.14%)\n",
      "3       Hispanic Or Latino                  135 (3.17%)       58 (1.66%)\n",
      "4       Asian                                87 (2.04%)       60 (1.72%)\n",
      "5       Other                                81 (1.90%)       75 (2.15%)\n",
      "6       ICU Type                                                        \n",
      "7       CCU                                 375 (8.81%)      271 (7.78%)\n",
      "8       MICU                              2931 (68.87%)    2537 (72.80%)\n",
      "9       CSRU                                154 (3.62%)       79 (2.27%)\n",
      "10      SICU                               528 (12.41%)     422 (12.11%)\n",
      "11      Surgery Type                                                    \n",
      "12      Elective                            138 (3.24%)       73 (2.09%)\n",
      "13      Emergency                         4055 (95.28%)    3357 (96.33%)\n",
      "14      Urgent                               63 (1.48%)       55 (1.58%)\n",
      "15      Lab Values                                                      \n",
      "16      First Lactate                   2.3 (1.5 - 3.6)  2.3 (1.5 - 3.6)\n",
      "17      First Creatinine                1.5 (1.1 - 2.7)  1.3 (0.8 - 2.2)\n"
     ]
    }
   ],
   "source": [
    "##AI-generated-code\n",
    "\n",
    "\n",
    "# Function to capitalize acronyms\n",
    "def capitalize_acronyms(text):\n",
    "    acronyms = ['ICU', 'CCU', 'MICU', 'CSRU', 'SICU']\n",
    "    for acronym in acronyms:\n",
    "        if acronym.lower() in text.lower():\n",
    "            text = re.sub(acronym.lower(), acronym, text, flags=re.IGNORECASE)\n",
    "    return text\n",
    "\n",
    "# Apply the function to the 'Variable' column\n",
    "table_one_formatted['Variable'] = table_one_formatted['Variable'].apply(capitalize_acronyms)\n",
    "\n",
    "print(table_one_formatted)\n"
   ]
  },
  {
   "cell_type": "markdown",
   "id": "09df688c-30e4-47d5-b4b7-b2278343c144",
   "metadata": {},
   "source": [
    "Realize this is a totally clunky way to do it but spent a while trying to do it all in one step and couldn't make it work. "
   ]
  },
  {
   "cell_type": "code",
   "execution_count": 416,
   "id": "d5f9bb01-88a4-47a7-ac43-23a8234b7de4",
   "metadata": {
    "ChapyterCell": {
     "cellType": "original"
    }
   },
   "outputs": [
    {
     "name": "stdout",
     "output_type": "stream",
     "text": [
      "\n",
      "\n",
      "This code will indent all subcategories by four spaces. If you want a different amount of indentation, you can adjust the number of spaces in the 'return' line of the indent_subcategories function.\n"
     ]
    }
   ],
   "source": [
    "%%mimicPython\n",
    "Awesome. Finally, can we indent the different subcategories (i.e. the different types of race) in the variables column slightly, while keeping the category name (i.e. Race, Lab Values) all the way at the left of the column?\n",
    "Remember to return executable python code denoted with \"```\". \n",
    "Please create a new table called table_one_formatted2. \n",
    "Remember that there may already be extra spaces or tabs in the variable names so do not check for an exact string match. "
   ]
  },
  {
   "cell_type": "code",
   "execution_count": 22,
   "id": "ac3b305b-9de5-4deb-8d15-e1fd82046fa8",
   "metadata": {},
   "outputs": [
    {
     "name": "stdout",
     "output_type": "stream",
     "text": [
      "                                  Variable   Men (n = 4256) Women (n = 3485)\n",
      "0           Race                                                            \n",
      "1           White                             3129 (73.52%)    2515 (72.17%)\n",
      "2           Black/African American              338 (7.94%)     423 (12.14%)\n",
      "3           Hispanic Or Latino                  134 (3.15%)       58 (1.66%)\n",
      "4           Asian                                87 (2.04%)       60 (1.72%)\n",
      "5           Other                                81 (1.90%)       75 (2.15%)\n",
      "6           ICU Type                                                        \n",
      "7           CCU                                 374 (8.79%)      271 (7.78%)\n",
      "8           MICU                              2932 (68.89%)    2537 (72.80%)\n",
      "9           CSRU                                154 (3.62%)       79 (2.27%)\n",
      "10          SICU                               527 (12.38%)     422 (12.11%)\n",
      "11          Surgery Type                                                    \n",
      "12          Elective                            138 (3.24%)       73 (2.09%)\n",
      "13          Emergency                         4054 (95.25%)    3357 (96.33%)\n",
      "14          Urgent                               64 (1.50%)       55 (1.58%)\n",
      "15          Lab Values                                                      \n",
      "16          First Lactate                   2.3 (1.5 - 3.6)  2.3 (1.5 - 3.6)\n",
      "17          First Creatinine                1.5 (1.1 - 2.7)  1.3 (0.8 - 2.2)\n"
     ]
    }
   ],
   "source": [
    "##AI-generated-code\n",
    "\n",
    "\n",
    "# Function to indent subcategories\n",
    "def indent_subcategories(text):\n",
    "    categories = ['Race', 'ICU Type', 'Surgery Type', 'Lab Values']\n",
    "    if any(category in text for category in categories):\n",
    "        return text\n",
    "    else:\n",
    "        return '    ' + text\n",
    "\n",
    "# Apply the function to the 'Variable' column\n",
    "table_one_formatted2 = table_one_formatted.copy()\n",
    "table_one_formatted2['Variable'] = table_one_formatted2['Variable'].apply(indent_subcategories)\n",
    "\n",
    "print(table_one_formatted2)\n"
   ]
  },
  {
   "cell_type": "markdown",
   "id": "0de943bb-a768-4877-96f9-ffa1b4906dda",
   "metadata": {},
   "source": [
    "Tried for embarrassingly long to get the subcategories to be slightly indented. Got them in one version and then broke it and no matter how hard I tried, couldn't re-create it. Cutting my losses and moving on. "
   ]
  },
  {
   "cell_type": "code",
   "execution_count": 448,
   "id": "b2d708fe-fd78-4b44-9149-7c6e9ebb93bf",
   "metadata": {
    "ChapyterCell": {
     "cellType": "original"
    }
   },
   "outputs": [
    {
     "name": "stdout",
     "output_type": "stream",
     "text": [
      "\n",
      "\n",
      "\n"
     ]
    }
   ],
   "source": [
    "%%mimicPython\n",
    "Now, please save this table as a csv to my current folder as table_one.csv. "
   ]
  },
  {
   "cell_type": "code",
   "execution_count": 23,
   "id": "1afeb3ef-3a48-4226-9736-b836ef53d8ed",
   "metadata": {},
   "outputs": [
    {
     "name": "stdout",
     "output_type": "stream",
     "text": [
      "The file 'table_one.csv' has been saved to your current folder.\n"
     ]
    }
   ],
   "source": [
    "##AI-generated-code\n",
    "\n",
    "\n",
    "# Save the dataframe to a csv file\n",
    "table_one_formatted2.to_csv('table_one.csv', index=False)\n",
    "print(\"The file 'table_one.csv' has been saved to your current folder.\")\n"
   ]
  },
  {
   "cell_type": "markdown",
   "id": "0bc90fc3-fc0a-444b-abdb-5b9a68bee9b5",
   "metadata": {},
   "source": [
    "# Step 4 - Univariate analysis\n",
    "Do a univariate analysis to understand if the groups are similar. \n",
    "Here, we will start by re-making the first version of table one because the one that's formatted nicely is too difficult to use. For now I just did this by re-copying the cell because the context has been shortened, can find a more elegant way to do this later"
   ]
  },
  {
   "cell_type": "code",
   "execution_count": 556,
   "id": "9cbeed29-7eaf-4579-9f4a-cb6c07e60674",
   "metadata": {
    "ChapyterCell": {
     "cellType": "original"
    }
   },
   "outputs": [
    {
     "name": "stdout",
     "output_type": "stream",
     "text": [
      "\n",
      "\n",
      "\n"
     ]
    }
   ],
   "source": [
    "%%mimicPython\n",
    "Please print table_one_numeric in a way that a large language model such as yourself could use it for analysis"
   ]
  },
  {
   "cell_type": "code",
   "execution_count": 24,
   "id": "50f099a0-e339-4543-a1c6-217d66952726",
   "metadata": {},
   "outputs": [
    {
     "name": "stdout",
     "output_type": "stream",
     "text": [
      "{'Variable': {0: 'n =', 1: 'WHITE', 2: 'BLACK/AFRICAN AMERICAN', 3: 'HISPANIC OR LATINO', 4: 'ASIAN', 5: 'OTHER', 6: 'CCU', 7: 'MICU', 8: 'CSRU', 9: 'SICU', 10: 'ELECTIVE', 11: 'EMERGENCY', 12: 'URGENT'}, 'Men': {0: '4256 (100.00%)', 1: '3129 (73.52%)', 2: '338 (7.94%)', 3: '134 (3.15%)', 4: '87 (2.04%)', 5: '81 (1.90%)', 6: '374 (8.79%)', 7: '2932 (68.89%)', 8: '154 (3.62%)', 9: '527 (12.38%)', 10: '138 (3.24%)', 11: '4054 (95.25%)', 12: '64 (1.50%)'}, 'Women': {0: '3485 (100.00%)', 1: '2515 (72.17%)', 2: '423 (12.14%)', 3: '58 (1.66%)', 4: '60 (1.72%)', 5: '75 (2.15%)', 6: '271 (7.78%)', 7: '2537 (72.80%)', 8: '79 (2.27%)', 9: '422 (12.11%)', 10: '73 (2.09%)', 11: '3357 (96.33%)', 12: '55 (1.58%)'}}\n"
     ]
    }
   ],
   "source": [
    "##AI-generated-code\n",
    "\n",
    "\n",
    "# Convert the dataframe to a dictionary for easier use by a language model\n",
    "table_one_numeric_dict = table_one_numeric.to_dict()\n",
    "\n",
    "print(table_one_numeric_dict)\n"
   ]
  },
  {
   "cell_type": "code",
   "execution_count": 488,
   "id": "eacfd1d9-0891-407f-91a3-c6cc700ad683",
   "metadata": {
    "ChapyterCell": {
     "cellType": "original"
    }
   },
   "outputs": [
    {
     "name": "stdout",
     "output_type": "stream",
     "text": [
      "\n",
      "\n",
      "This code first extracts the numbers from the strings in the dictionary using regular expressions. It then creates a contingency table with the number of white men and women and the number of non-white men and women. Finally, it performs a Chi-square test of independence to determine whether the difference in the number of white men and women is statistically significant. The p-value is printed at the end. If the p-value is less than 0.05, we can reject the null hypothesis that the difference is not statistically significant.\n"
     ]
    }
   ],
   "source": [
    "%%mimicPython\n",
    "I'd like to determine whether there's a statistically significant difference in the number of white men and women \\\n",
    "in the following dataset: \n",
    "{'Variable': {0: 'n =', 1: 'WHITE', 2: 'BLACK/AFRICAN AMERICAN', 3: 'HISPANIC OR LATINO', 4: 'ASIAN', 5: 'OTHER', 6: 'CCU', 7: 'MICU', 8: 'CSRU', 9: 'SICU', 10: 'ELECTIVE', 11: 'EMERGENCY', 12: 'URGENT'}, 'Men': {0: '4256 (100.00%)', 1: '3129 (73.52%)', 2: '337 (7.92%)', 3: '135 (3.17%)', 4: '87 (2.04%)', 5: '81 (1.90%)', 6: '375 (8.81%)', 7: '2931 (68.87%)', 8: '154 (3.62%)', 9: '528 (12.41%)', 10: '138 (3.24%)', 11: '4055 (95.28%)', 12: '63 (1.48%)'}, 'Women': {0: '3485 (100.00%)', 1: '2514 (72.14%)', 2: '423 (12.14%)', 3: '58 (1.66%)', 4: '60 (1.72%)', 5: '75 (2.15%)', 6: '271 (7.78%)', 7: '2537 (72.80%)', 8: '79 (2.27%)', 9: '422 (12.11%)', 10: '73 (2.09%)', 11: '3357 (96.33%)', 12: '55 (1.58%)'}}\n",
    "Remember to extract the number from the text in the cell rather than the percent, and to return executable \\\n",
    "python code denoted with \"```\"\n",
    "Please show your work and print the number of white men and white women as well as the total number of men and women in the sample.\n",
    "Next, calculate a p-value that represents whether the difference between the number of men and women is statistically significant. "
   ]
  },
  {
   "cell_type": "code",
   "execution_count": 25,
   "id": "e92d998f-d10c-4786-a39f-062d7f2ad720",
   "metadata": {},
   "outputs": [
    {
     "name": "stdout",
     "output_type": "stream",
     "text": [
      "Number of white men: 3129\n",
      "Number of white women: 2515\n",
      "Total number of men: 4256\n",
      "Total number of women: 3485\n",
      "The p-value is 0.19113772050061142\n"
     ]
    }
   ],
   "source": [
    "##AI-generated-code\n",
    "\n",
    "\n",
    "import re\n",
    "from scipy.stats import chi2_contingency\n",
    "\n",
    "# Extract the numbers from the strings\n",
    "num_white_men = int(re.findall(r'\\d+', table_one_numeric_dict['Men'][1])[0])\n",
    "num_white_women = int(re.findall(r'\\d+', table_one_numeric_dict['Women'][1])[0])\n",
    "total_men = int(re.findall(r'\\d+', table_one_numeric_dict['Men'][0])[0])\n",
    "total_women = int(re.findall(r'\\d+', table_one_numeric_dict['Women'][0])[0])\n",
    "\n",
    "print(f\"Number of white men: {num_white_men}\")\n",
    "print(f\"Number of white women: {num_white_women}\")\n",
    "print(f\"Total number of men: {total_men}\")\n",
    "print(f\"Total number of women: {total_women}\")\n",
    "\n",
    "# Create a contingency table\n",
    "contingency_table = [[num_white_men, num_white_women], [total_men - num_white_men, total_women - num_white_women]]\n",
    "\n",
    "# Perform a Chi-square test of independence\n",
    "chi2, p, dof, expected = chi2_contingency(contingency_table)\n",
    "\n",
    "print(f\"The p-value is {p}\")\n"
   ]
  },
  {
   "cell_type": "code",
   "execution_count": 592,
   "id": "3eb9d5b8-b1ed-415e-a357-e4b8b586dcce",
   "metadata": {
    "ChapyterCell": {
     "cellType": "original"
    }
   },
   "outputs": [
    {
     "name": "stdout",
     "output_type": "stream",
     "text": [
      "\n",
      "\n",
      "This code will return a pandas Series with the p-values for each variable in the dataset. The variable names are used as the index.\n"
     ]
    }
   ],
   "source": [
    "%%mimicPython\n",
    "\n",
    "Can you produce p-values for all of the variables in table_one_numeric (described with table_one_numeric_dict) above?\\\n",
    "Please store these in a vector called p_values. \n",
    "Remember to return executable python code denoted with triple ticks. "
   ]
  },
  {
   "cell_type": "code",
   "execution_count": 26,
   "id": "1a13f23d-d90a-4deb-a50b-8a4febb9239a",
   "metadata": {},
   "outputs": [
    {
     "name": "stdout",
     "output_type": "stream",
     "text": [
      "WHITE                     1.911377e-01\n",
      "BLACK/AFRICAN AMERICAN    8.751534e-10\n",
      "HISPANIC OR LATINO        4.061845e-05\n",
      "ASIAN                     3.418000e-01\n",
      "OTHER                     4.876863e-01\n",
      "CCU                       1.186202e-01\n",
      "MICU                      1.912436e-04\n",
      "CSRU                      6.845237e-04\n",
      "SICU                      7.412692e-01\n",
      "ELECTIVE                  2.566898e-03\n",
      "EMERGENCY                 2.326007e-02\n",
      "URGENT                    8.634535e-01\n",
      "dtype: float64\n"
     ]
    }
   ],
   "source": [
    "##AI-generated-code\n",
    "\n",
    "\n",
    "import pandas as pd\n",
    "\n",
    "# Initialize an empty dictionary to store the p-values\n",
    "p_values = {}\n",
    "\n",
    "# Loop through each variable in the dictionary\n",
    "for i in range(1, len(table_one_numeric_dict['Variable'])):\n",
    "    # Extract the numbers from the strings\n",
    "    num_men = int(re.findall(r'\\d+', table_one_numeric_dict['Men'][i])[0])\n",
    "    num_women = int(re.findall(r'\\d+', table_one_numeric_dict['Women'][i])[0])\n",
    "\n",
    "    # Create a contingency table\n",
    "    contingency_table = [[num_men, num_women], [total_men - num_men, total_women - num_women]]\n",
    "\n",
    "    # Perform a Chi-square test of independence\n",
    "    chi2, p, dof, expected = chi2_contingency(contingency_table)\n",
    "\n",
    "    # Store the p-value in the dictionary\n",
    "    p_values[table_one_numeric_dict['Variable'][i]] = p\n",
    "\n",
    "# Convert the dictionary to a pandas Series for easier viewing\n",
    "p_values = pd.Series(p_values)\n",
    "\n",
    "print(p_values)\n"
   ]
  },
  {
   "cell_type": "markdown",
   "id": "a4e731a3-e995-4705-b8b2-08ad6aaeb70e",
   "metadata": {},
   "source": [
    "Note: In the future, be sure to add p-values and everything BEFORE formatting the table. If you do it after, it\n",
    "becomes impossible to merge the p-values with the other table. "
   ]
  },
  {
   "cell_type": "markdown",
   "id": "4832d987-3488-44f2-8f0b-734f6c06f26b",
   "metadata": {},
   "source": [
    "# Step 5 - Kaplan Meier Curve\n",
    "Build a kaplan-meier curve for in-hospital mortality"
   ]
  },
  {
   "cell_type": "markdown",
   "id": "c940f9f1-d1dd-49ea-a36a-7042c9da4b7a",
   "metadata": {},
   "source": [
    "Cannot subtract datetime array from NDarray is a really common error"
   ]
  },
  {
   "cell_type": "code",
   "execution_count": 596,
   "id": "292d5741-2658-4923-962c-02c6a62189fa",
   "metadata": {
    "ChapyterCell": {
     "cellType": "original"
    }
   },
   "outputs": [
    {
     "name": "stdout",
     "output_type": "stream",
     "text": [
      "\n"
     ]
    }
   ],
   "source": [
    "%%mimicPython\n",
    "print a summary of full_cohort_cleaned (a variable in this notebook) (remember to return executable python code denoted with \"```\") that will allow a large \\\n",
    "language model such as yourself perform statistical analyses with its data. \n",
    "Please also rename this dataframe as \"df\" so that I can work with it in the next steps. "
   ]
  },
  {
   "cell_type": "code",
   "execution_count": 27,
   "id": "e3eb7f4b-0e42-4d00-8007-336d02c0e36f",
   "metadata": {},
   "outputs": [
    {
     "name": "stdout",
     "output_type": "stream",
     "text": [
      "       subject_id gender                      dob hadm_id  \\\n",
      "count        7741   7741                     7741    7741   \n",
      "unique       4673      2                     4480    5306   \n",
      "top         41976      M  2136-07-28 00:00:00.000  107047   \n",
      "freq           18   4256                       18       3   \n",
      "mean          NaN    NaN                      NaN     NaN   \n",
      "std           NaN    NaN                      NaN     NaN   \n",
      "min           NaN    NaN                      NaN     NaN   \n",
      "25%           NaN    NaN                      NaN     NaN   \n",
      "50%           NaN    NaN                      NaN     NaN   \n",
      "75%           NaN    NaN                      NaN     NaN   \n",
      "max           NaN    NaN                      NaN     NaN   \n",
      "\n",
      "                      admittime                dischtime  \\\n",
      "count                      7741                     7741   \n",
      "unique                     5305                     5302   \n",
      "top     2171-08-02 22:16:00.000  2163-02-23 15:32:00.000   \n",
      "freq                          4                        3   \n",
      "mean                        NaN                      NaN   \n",
      "std                         NaN                      NaN   \n",
      "min                         NaN                      NaN   \n",
      "25%                         NaN                      NaN   \n",
      "50%                         NaN                      NaN   \n",
      "75%                         NaN                      NaN   \n",
      "max                         NaN                      NaN   \n",
      "\n",
      "                      deathtime admission_type ethnicity first_careunit  \\\n",
      "count                      2554           7741      7741           7741   \n",
      "unique                     1659              3        36              5   \n",
      "top     2196-09-29 00:15:00.000      EMERGENCY     WHITE           MICU   \n",
      "freq                          2           7411      5644           5469   \n",
      "mean                        NaN            NaN       NaN            NaN   \n",
      "std                         NaN            NaN       NaN            NaN   \n",
      "min                         NaN            NaN       NaN            NaN   \n",
      "25%                         NaN            NaN       NaN            NaN   \n",
      "50%                         NaN            NaN       NaN            NaN   \n",
      "75%                         NaN            NaN       NaN            NaN   \n",
      "max                         NaN            NaN       NaN            NaN   \n",
      "\n",
      "       icd9_code  first_lactate  first_creatinine  \n",
      "count       7741    7741.000000       7741.000000  \n",
      "unique         3            NaN               NaN  \n",
      "top        99592            NaN               NaN  \n",
      "freq        3901            NaN               NaN  \n",
      "mean         NaN       2.981620          2.049851  \n",
      "std          NaN       2.273917          1.802800  \n",
      "min          NaN       0.300000          0.000000  \n",
      "25%          NaN       1.500000          1.000000  \n",
      "50%          NaN       2.300000          1.400000  \n",
      "75%          NaN       3.600000          2.500000  \n",
      "max          NaN      24.700000         18.900000  \n"
     ]
    }
   ],
   "source": [
    "##AI-generated-code\n",
    "\n",
    "\n",
    "# Rename the dataframe\n",
    "df = full_cohort_cleaned\n",
    "\n",
    "# Print a summary of the dataframe\n",
    "print(df.describe(include='all'))\n"
   ]
  },
  {
   "cell_type": "code",
   "execution_count": 598,
   "id": "c73b66b4-9897-43f8-8812-96bbe6dd1bf1",
   "metadata": {
    "ChapyterCell": {
     "cellType": "original"
    }
   },
   "outputs": [
    {
     "name": "stdout",
     "output_type": "stream",
     "text": [
      "\n",
      "\n",
      "This code will generate a Kaplan-Meier survival curve for men and women, showing the probability of survival over time after ICU admission. The time to event is calculated as the number of days from ICU admission to death or censoring at 365 days. Patients who died in the hospital are considered events, while those who survived or were censored are not. The survival curves are plotted separately for men and women.\n"
     ]
    }
   ],
   "source": [
    "%%mimicPython\n",
    "\n",
    "Can you write python code to generate a kaplan-meier survival curve for men and women? \n",
    "Specifically, I want to see probability of survival vs time after ICU admission from 0 to 365 days\n",
    "\n",
    "If the time of death is NaN or greater than 1 year then assume the patient is still alive and should be right-censored\n",
    "If the time of death is equal to or less than discharge time, then they died in the hospital. \n",
    "\n",
    "Please be sure to check all data types. Do not subtract datetimearrays from ndarrays. \n",
    "make sure you've converted things to the same data type before subtracting. \n",
    "Make sure you appropriately handle any NaNs in deathttime before giving it to a kaplan meier fitter. \n",
    "Assume the lifelines package has already been instsalled. "
   ]
  },
  {
   "cell_type": "code",
   "execution_count": 30,
   "id": "9fb022e0-7a2b-48b6-9899-be051c5e1312",
   "metadata": {},
   "outputs": [
    {
     "data": {
      "image/png": "[encoded data removed]",
      "text/plain": [
       "<Figure size 1000x700 with 1 Axes>"
      ]
     },
     "metadata": {},
     "output_type": "display_data"
    }
   ],
   "source": [
    "##AI-generated-code\n",
    "\n",
    "\n",
    "import pandas as pd\n",
    "import numpy as np\n",
    "from lifelines import KaplanMeierFitter\n",
    "import matplotlib.pyplot as plt\n",
    "\n",
    "# Convert dob, admittime, dischtime, and deathtime to datetime\n",
    "df['dob'] = pd.to_datetime(df['dob'])\n",
    "df['admittime'] = pd.to_datetime(df['admittime'])\n",
    "df['dischtime'] = pd.to_datetime(df['dischtime'])\n",
    "df['deathtime'] = pd.to_datetime(df['deathtime'])\n",
    "\n",
    "# Calculate time from ICU admission to death or censoring\n",
    "df['time_to_event'] = np.where(df['deathtime'].notna(), (df['deathtime'] - df['admittime']).dt.days, 365)\n",
    "df['time_to_event'] = np.where(df['time_to_event'] > 365, 365, df['time_to_event'])\n",
    "\n",
    "# Create event indicator: 1 if died in hospital, 0 otherwise\n",
    "df['event'] = np.where(df['deathtime'].notna() & (df['deathtime'] <= df['dischtime']), 1, 0)\n",
    "\n",
    "# Create separate dataframes for men and women\n",
    "df_men = df[df['gender'] == 'M']\n",
    "df_women = df[df['gender'] == 'F']\n",
    "\n",
    "# Initialize the KaplanMeierFitter\n",
    "kmf_men = KaplanMeierFitter()\n",
    "kmf_women = KaplanMeierFitter()\n",
    "\n",
    "# Fit the data into the model\n",
    "kmf_men.fit(df_men['time_to_event'], df_men['event'], label='Men')\n",
    "kmf_women.fit(df_women['time_to_event'], df_women['event'], label='Women')\n",
    "\n",
    "# Create the plot\n",
    "plt.figure(figsize=(10,7))\n",
    "kmf_men.plot(ci_show=False)\n",
    "kmf_women.plot(ci_show=False)\n",
    "plt.title('Kaplan-Meier Survival Curve')\n",
    "plt.xlabel('Time (days)')\n",
    "plt.ylabel('Survival Probability')\n",
    "plt.show()\n"
   ]
  },
  {
   "cell_type": "markdown",
   "id": "eeb99760-e27c-430e-a688-d4de59e34015",
   "metadata": {},
   "source": [
    "# Step 6 – P-value for Hospital Mortality & Univariate Cox Proporational Hazard Model\n",
    "Run a univariate cox proportional hazard model for in-hospital mortality on men vs women \n"
   ]
  },
  {
   "cell_type": "code",
   "execution_count": 31,
   "id": "179a78e3-6e53-4895-b023-4d786d42b1cf",
   "metadata": {
    "ChapyterCell": {
     "cellType": "original"
    }
   },
   "outputs": [
    {
     "name": "stdout",
     "output_type": "stream",
     "text": [
      "To calculate the in-hospital mortality rate in men and women, we can create a new variable that indicates whether each patient died before discharge. Then, we can calculate the mortality rate for each gender and use a chi-square test to determine whether the difference is statistically significant. Here is the Python code to do this:\n",
      "\n",
      "This code first creates a new variable 'died_in_hospital' that indicates whether each patient died before discharge. It then calculates the in-hospital mortality rate for men and women by taking the mean of this new variable for each gender. The contingency table is created using the 'crosstab' function from pandas, and the chi-square test of independence is performed using the 'chi2_contingency' function from scipy.stats. The results are then printed.\n"
     ]
    }
   ],
   "source": [
    "%%mimicPython\n",
    "\n",
    "can you calculate in-hospital mortality rate in men and women and give me a p-value for the difference? You may have to first create a variable denoting whether they died prior to discharge. \n",
    "\n",
    "To make it more challenging, do not use the append() method for dataframes anywhere in your code. concatenate \\\n",
    "the results instead. Do not set a value on a copy of a slice from a DataFrame."
   ]
  },
  {
   "cell_type": "code",
   "execution_count": 32,
   "id": "2c0109dc-fbb0-47f1-b782-6544cd80a51c",
   "metadata": {},
   "outputs": [
    {
     "name": "stdout",
     "output_type": "stream",
     "text": [
      "In-hospital mortality rate for men: 0.33787593984962405\n",
      "In-hospital mortality rate for women: 0.3187948350071736\n",
      "P-value for the difference in mortality rates: 0.0796091598212762\n"
     ]
    }
   ],
   "source": [
    "##AI-generated-code\n",
    "\n",
    "\n",
    "import scipy.stats as stats\n",
    "\n",
    "# Create a new variable indicating whether each patient died before discharge\n",
    "df['died_in_hospital'] = np.where(df['deathtime'].notna() & (df['deathtime'] <= df['dischtime']), 1, 0)\n",
    "\n",
    "# Calculate the in-hospital mortality rate for men and women\n",
    "mortality_rate_men = df[df['gender'] == 'M']['died_in_hospital'].mean()\n",
    "mortality_rate_women = df[df['gender'] == 'F']['died_in_hospital'].mean()\n",
    "\n",
    "# Create a contingency table\n",
    "contingency_table = pd.crosstab(df['gender'], df['died_in_hospital'])\n",
    "\n",
    "# Perform a chi-square test of independence\n",
    "chi2, p, dof, expected = stats.chi2_contingency(contingency_table)\n",
    "\n",
    "print(f\"In-hospital mortality rate for men: {mortality_rate_men}\")\n",
    "print(f\"In-hospital mortality rate for women: {mortality_rate_women}\")\n",
    "print(f\"P-value for the difference in mortality rates: {p}\")\n"
   ]
  },
  {
   "cell_type": "markdown",
   "id": "358bb181-1bff-4241-a727-a4aecaee9483",
   "metadata": {},
   "source": [
    "### Note\n",
    "I needed to install scikit-learn\n",
    "\n",
    "This is an interesting task because there are a lot of ways to build a cox proportional hazard model. \n",
    "When you have categorical variables, there's a few different ways you can handle it. \n",
    "one-hot encoding, lable encoding, and target encoding are all examples\n",
    "in this case, the model chooses one but doesn't tell you what it chose or why, or give you options for other ways of doing it (which would be nice) \n",
    "\n",
    "I wasn't able to get this to get it right in one go... "
   ]
  },
  {
   "cell_type": "code",
   "execution_count": 37,
   "id": "49c8b7d9-cd86-4997-9e19-7ddfa9e9b571",
   "metadata": {
    "ChapyterCell": {
     "cellType": "original"
    }
   },
   "outputs": [
    {
     "name": "stdout",
     "output_type": "stream",
     "text": [
      "To run a Cox Proportional Hazard model for 1-year mortality, we first need to one-hot encode the categorical variables. We will use the pandas function 'get_dummies' to do this. We will then drop the original columns from the dataframe to avoid multicollinearity. Here is the Python code to do this:\n",
      "\n",
      "This code first creates a copy of the original dataframe and filters it to include only the specified variables. It then one-hot encodes the categorical variables 'gender' and 'first_careunit', and combines the encoded features with the original dataframe. The original columns are then dropped to avoid multicollinearity. The Cox Proportional Hazard model is then initialized and fitted with the data, and the summary of the model is printed.\n"
     ]
    }
   ],
   "source": [
    "%%mimicPython\n",
    "\n",
    "Can you run a cox proportional hazard model for 1 year mortality? \n",
    "Please be sure to follow these instructions as part of your response:\n",
    "1. use one-hot encoding for all the variables – don't use label or target encoding\n",
    "2. do not modify our original df\n",
    "3. drop the columns of the variables used to encode the one-hot features to avoid multicollinearity and issues with model interpretation\n",
    "4. make sure if you combine any dataframes from the encoded features that you fix the indices\n",
    "5. to make it more challenging, if you want to use the function get_feature_names at any point, please instead use the function get_feature_names_out\n",
    "\n",
    "I'd like you to include the following variables. Make sure you specifically check for these variables by filtering the original dataframe: \n",
    "\n",
    "from gender, include:\n",
    "- men (reference)\n",
    "- women\n",
    "\n",
    "from first care unit, include: \n",
    "- MICU (reference)\n",
    "- CCU\n",
    "- CSRU\n",
    "- SICU\n",
    "\n",
    "from labs (continuous variables), include: \n",
    "- first_lactate\n",
    "- first_creatinine"
   ]
  },
  {
   "cell_type": "code",
   "execution_count": 113,
   "id": "cb59d80a-3f92-48b6-b50c-f913bf889a22",
   "metadata": {},
   "outputs": [
    {
     "name": "stderr",
     "output_type": "stream",
     "text": [
      "/Users/chloeoconnell/opt/anaconda3/envs/new_env/lib/python3.9/site-packages/sklearn/preprocessing/_encoders.py:975: FutureWarning: `sparse` was renamed to `sparse_output` in version 1.2 and will be removed in 1.4. `sparse_output` is ignored unless you leave `sparse` to its default value.\n",
      "  warnings.warn(\n"
     ]
    },
    {
     "data": {
      "text/html": [
       "<div>\n",
       "<style scoped>\n",
       "    .dataframe tbody tr th:only-of-type {\n",
       "        vertical-align: middle;\n",
       "    }\n",
       "\n",
       "    .dataframe tbody tr th {\n",
       "        vertical-align: top;\n",
       "    }\n",
       "\n",
       "    .dataframe thead th {\n",
       "        text-align: right;\n",
       "    }\n",
       "</style>\n",
       "<table border=\"1\" class=\"dataframe\">\n",
       "  <tbody>\n",
       "    <tr>\n",
       "      <th>model</th>\n",
       "      <td>lifelines.CoxPHFitter</td>\n",
       "    </tr>\n",
       "    <tr>\n",
       "      <th>duration col</th>\n",
       "      <td>'time_to_event'</td>\n",
       "    </tr>\n",
       "    <tr>\n",
       "      <th>event col</th>\n",
       "      <td>'event'</td>\n",
       "    </tr>\n",
       "    <tr>\n",
       "      <th>baseline estimation</th>\n",
       "      <td>breslow</td>\n",
       "    </tr>\n",
       "    <tr>\n",
       "      <th>number of observations</th>\n",
       "      <td>7741</td>\n",
       "    </tr>\n",
       "    <tr>\n",
       "      <th>number of events observed</th>\n",
       "      <td>2549</td>\n",
       "    </tr>\n",
       "    <tr>\n",
       "      <th>partial log-likelihood</th>\n",
       "      <td>-22119.08</td>\n",
       "    </tr>\n",
       "    <tr>\n",
       "      <th>time fit was run</th>\n",
       "      <td>2023-10-09 12:42:55 UTC</td>\n",
       "    </tr>\n",
       "  </tbody>\n",
       "</table>\n",
       "</div><table border=\"1\" class=\"dataframe\">\n",
       "  <thead>\n",
       "    <tr style=\"text-align: right;\">\n",
       "      <th style=\"min-width: 12px;\"></th>\n",
       "      <th style=\"min-width: 12px;\">coef</th>\n",
       "      <th style=\"min-width: 12px;\">exp(coef)</th>\n",
       "      <th style=\"min-width: 12px;\">se(coef)</th>\n",
       "      <th style=\"min-width: 12px;\">coef lower 95%</th>\n",
       "      <th style=\"min-width: 12px;\">coef upper 95%</th>\n",
       "      <th style=\"min-width: 12px;\">exp(coef) lower 95%</th>\n",
       "      <th style=\"min-width: 12px;\">exp(coef) upper 95%</th>\n",
       "      <th style=\"min-width: 12px;\">cmp to</th>\n",
       "      <th style=\"min-width: 12px;\">z</th>\n",
       "      <th style=\"min-width: 12px;\">p</th>\n",
       "      <th style=\"min-width: 12px;\">-log2(p)</th>\n",
       "    </tr>\n",
       "  </thead>\n",
       "  <tbody>\n",
       "    <tr>\n",
       "      <th>first_lactate</th>\n",
       "      <td>0.16</td>\n",
       "      <td>1.17</td>\n",
       "      <td>0.01</td>\n",
       "      <td>0.15</td>\n",
       "      <td>0.17</td>\n",
       "      <td>1.16</td>\n",
       "      <td>1.19</td>\n",
       "      <td>0.00</td>\n",
       "      <td>22.73</td>\n",
       "      <td>&lt;0.005</td>\n",
       "      <td>377.50</td>\n",
       "    </tr>\n",
       "    <tr>\n",
       "      <th>first_creatinine</th>\n",
       "      <td>0.05</td>\n",
       "      <td>1.06</td>\n",
       "      <td>0.01</td>\n",
       "      <td>0.04</td>\n",
       "      <td>0.07</td>\n",
       "      <td>1.04</td>\n",
       "      <td>1.08</td>\n",
       "      <td>0.00</td>\n",
       "      <td>5.56</td>\n",
       "      <td>&lt;0.005</td>\n",
       "      <td>25.12</td>\n",
       "    </tr>\n",
       "    <tr>\n",
       "      <th>gender_M</th>\n",
       "      <td>0.02</td>\n",
       "      <td>1.02</td>\n",
       "      <td>0.04</td>\n",
       "      <td>-0.06</td>\n",
       "      <td>0.10</td>\n",
       "      <td>0.94</td>\n",
       "      <td>1.10</td>\n",
       "      <td>0.00</td>\n",
       "      <td>0.50</td>\n",
       "      <td>0.61</td>\n",
       "      <td>0.70</td>\n",
       "    </tr>\n",
       "    <tr>\n",
       "      <th>first_careunit_CSRU</th>\n",
       "      <td>0.12</td>\n",
       "      <td>1.13</td>\n",
       "      <td>0.12</td>\n",
       "      <td>-0.10</td>\n",
       "      <td>0.35</td>\n",
       "      <td>0.90</td>\n",
       "      <td>1.42</td>\n",
       "      <td>0.00</td>\n",
       "      <td>1.07</td>\n",
       "      <td>0.29</td>\n",
       "      <td>1.80</td>\n",
       "    </tr>\n",
       "    <tr>\n",
       "      <th>first_careunit_MICU</th>\n",
       "      <td>-0.28</td>\n",
       "      <td>0.75</td>\n",
       "      <td>0.07</td>\n",
       "      <td>-0.41</td>\n",
       "      <td>-0.15</td>\n",
       "      <td>0.66</td>\n",
       "      <td>0.86</td>\n",
       "      <td>0.00</td>\n",
       "      <td>-4.21</td>\n",
       "      <td>&lt;0.005</td>\n",
       "      <td>15.28</td>\n",
       "    </tr>\n",
       "    <tr>\n",
       "      <th>first_careunit_SICU</th>\n",
       "      <td>-0.31</td>\n",
       "      <td>0.74</td>\n",
       "      <td>0.09</td>\n",
       "      <td>-0.47</td>\n",
       "      <td>-0.14</td>\n",
       "      <td>0.62</td>\n",
       "      <td>0.87</td>\n",
       "      <td>0.00</td>\n",
       "      <td>-3.59</td>\n",
       "      <td>&lt;0.005</td>\n",
       "      <td>11.57</td>\n",
       "    </tr>\n",
       "    <tr>\n",
       "      <th>first_careunit_TSICU</th>\n",
       "      <td>-0.21</td>\n",
       "      <td>0.81</td>\n",
       "      <td>0.10</td>\n",
       "      <td>-0.41</td>\n",
       "      <td>-0.01</td>\n",
       "      <td>0.67</td>\n",
       "      <td>0.99</td>\n",
       "      <td>0.00</td>\n",
       "      <td>-2.04</td>\n",
       "      <td>0.04</td>\n",
       "      <td>4.58</td>\n",
       "    </tr>\n",
       "  </tbody>\n",
       "</table><br><div>\n",
       "<style scoped>\n",
       "    .dataframe tbody tr th:only-of-type {\n",
       "        vertical-align: middle;\n",
       "    }\n",
       "\n",
       "    .dataframe tbody tr th {\n",
       "        vertical-align: top;\n",
       "    }\n",
       "\n",
       "    .dataframe thead th {\n",
       "        text-align: right;\n",
       "    }\n",
       "</style>\n",
       "<table border=\"1\" class=\"dataframe\">\n",
       "  <tbody>\n",
       "    <tr>\n",
       "      <th>Concordance</th>\n",
       "      <td>0.60</td>\n",
       "    </tr>\n",
       "    <tr>\n",
       "      <th>Partial AIC</th>\n",
       "      <td>44252.16</td>\n",
       "    </tr>\n",
       "    <tr>\n",
       "      <th>log-likelihood ratio test</th>\n",
       "      <td>459.45 on 7 df</td>\n",
       "    </tr>\n",
       "    <tr>\n",
       "      <th>-log2(p) of ll-ratio test</th>\n",
       "      <td>313.53</td>\n",
       "    </tr>\n",
       "  </tbody>\n",
       "</table>\n",
       "</div>"
      ],
      "text/latex": [
       "\\begin{tabular}{lrrrrrrrrrrr}\n",
       " & coef & exp(coef) & se(coef) & coef lower 95% & coef upper 95% & exp(coef) lower 95% & exp(coef) upper 95% & cmp to & z & p & -log2(p) \\\\\n",
       "covariate &  &  &  &  &  &  &  &  &  &  &  \\\\\n",
       "first_lactate & 0.16 & 1.17 & 0.01 & 0.15 & 0.17 & 1.16 & 1.19 & 0.00 & 22.73 & 0.00 & 377.50 \\\\\n",
       "first_creatinine & 0.05 & 1.06 & 0.01 & 0.04 & 0.07 & 1.04 & 1.08 & 0.00 & 5.56 & 0.00 & 25.12 \\\\\n",
       "gender_M & 0.02 & 1.02 & 0.04 & -0.06 & 0.10 & 0.94 & 1.10 & 0.00 & 0.50 & 0.61 & 0.70 \\\\\n",
       "first_careunit_CSRU & 0.12 & 1.13 & 0.12 & -0.10 & 0.35 & 0.90 & 1.42 & 0.00 & 1.07 & 0.29 & 1.80 \\\\\n",
       "first_careunit_MICU & -0.28 & 0.75 & 0.07 & -0.41 & -0.15 & 0.66 & 0.86 & 0.00 & -4.21 & 0.00 & 15.28 \\\\\n",
       "first_careunit_SICU & -0.31 & 0.74 & 0.09 & -0.47 & -0.14 & 0.62 & 0.87 & 0.00 & -3.59 & 0.00 & 11.57 \\\\\n",
       "first_careunit_TSICU & -0.21 & 0.81 & 0.10 & -0.41 & -0.01 & 0.67 & 0.99 & 0.00 & -2.04 & 0.04 & 4.58 \\\\\n",
       "\\end{tabular}\n"
      ],
      "text/plain": [
       "<lifelines.CoxPHFitter: fitted with 7741 total observations, 5192 right-censored observations>\n",
       "             duration col = 'time_to_event'\n",
       "                event col = 'event'\n",
       "      baseline estimation = breslow\n",
       "   number of observations = 7741\n",
       "number of events observed = 2549\n",
       "   partial log-likelihood = -22119.08\n",
       "         time fit was run = 2023-10-09 12:42:55 UTC\n",
       "\n",
       "---\n",
       "                       coef  exp(coef)   se(coef)   coef lower 95%   coef upper 95%  exp(coef) lower 95%  exp(coef) upper 95%\n",
       "covariate                                                                                                                    \n",
       "first_lactate          0.16       1.17       0.01             0.15             0.17                 1.16                 1.19\n",
       "first_creatinine       0.05       1.06       0.01             0.04             0.07                 1.04                 1.08\n",
       "gender_M               0.02       1.02       0.04            -0.06             0.10                 0.94                 1.10\n",
       "first_careunit_CSRU    0.12       1.13       0.12            -0.10             0.35                 0.90                 1.42\n",
       "first_careunit_MICU   -0.28       0.75       0.07            -0.41            -0.15                 0.66                 0.86\n",
       "first_careunit_SICU   -0.31       0.74       0.09            -0.47            -0.14                 0.62                 0.87\n",
       "first_careunit_TSICU  -0.21       0.81       0.10            -0.41            -0.01                 0.67                 0.99\n",
       "\n",
       "                       cmp to     z      p   -log2(p)\n",
       "covariate                                            \n",
       "first_lactate            0.00 22.73 <0.005     377.50\n",
       "first_creatinine         0.00  5.56 <0.005      25.12\n",
       "gender_M                 0.00  0.50   0.61       0.70\n",
       "first_careunit_CSRU      0.00  1.07   0.29       1.80\n",
       "first_careunit_MICU      0.00 -4.21 <0.005      15.28\n",
       "first_careunit_SICU      0.00 -3.59 <0.005      11.57\n",
       "first_careunit_TSICU     0.00 -2.04   0.04       4.58\n",
       "---\n",
       "Concordance = 0.60\n",
       "Partial AIC = 44252.16\n",
       "log-likelihood ratio test = 459.45 on 7 df\n",
       "-log2(p) of ll-ratio test = 313.53"
      ]
     },
     "metadata": {},
     "output_type": "display_data"
    },
    {
     "name": "stdout",
     "output_type": "stream",
     "text": [
      "None\n"
     ]
    }
   ],
   "source": [
    "##AI-generated-code\n",
    "\n",
    "\n",
    "from sklearn.preprocessing import OneHotEncoder\n",
    "from lifelines import CoxPHFitter\n",
    "\n",
    "# Create a copy of the dataframe to avoid modifying the original one\n",
    "df_copy = df.copy()\n",
    "\n",
    "# Filter the dataframe to include only the specified variables\n",
    "df_copy = df_copy[['gender', 'first_careunit', 'first_lactate', 'first_creatinine', 'time_to_event', 'event']]\n",
    "\n",
    "# One-hot encode the categorical variables\n",
    "encoder = OneHotEncoder(drop='first', sparse=False)\n",
    "encoded_features = encoder.fit_transform(df_copy[['gender', 'first_careunit']])\n",
    "encoded_df = pd.DataFrame(encoded_features, columns=encoder.get_feature_names_out(['gender', 'first_careunit']), index=df_copy.index)\n",
    "\n",
    "# Combine the encoded features with the original dataframe\n",
    "df_encoded = pd.concat([df_copy, encoded_df], axis=1)\n",
    "\n",
    "# Drop the original columns\n",
    "df_encoded.drop(['gender', 'first_careunit'], axis=1, inplace=True)\n",
    "\n",
    "# Initialize the Cox Proportional Hazard model\n",
    "cph = CoxPHFitter()\n",
    "\n",
    "# Fit the data into the model\n",
    "cph.fit(df_encoded, duration_col='time_to_event', event_col='event')\n",
    "\n",
    "# Print the summary of the model\n",
    "print(cph.print_summary())\n"
   ]
  },
  {
   "cell_type": "code",
   "execution_count": 43,
   "id": "9f200eb9-e0ca-480d-830d-6da07be7d231",
   "metadata": {
    "ChapyterCell": {
     "cellType": "original"
    }
   },
   "outputs": [
    {
     "name": "stdout",
     "output_type": "stream",
     "text": [
      "\n",
      "\n",
      "This code will create a horizontal plot where each line represents the 95% confidence interval for each coefficient, and the black dot represents the coefficient value. The y-axis labels are the names of the variables.\n"
     ]
    }
   ],
   "source": [
    "%%mimicPython\n",
    "\n",
    "can you plot the results of the cox proportional hazard model, with horizontal lines where each line represents \\\n",
    "the 95% CI range and the OR value is represented by a black dot on each line. \n",
    "Avoid multi-dimensional indexing; convert to a numpy array before indexing instead.\n",
    "Remember to return python code denoted by triple ticks. "
   ]
  },
  {
   "cell_type": "code",
   "execution_count": 114,
   "id": "e8e469e8-cfed-4cfa-965f-74f5f23d1338",
   "metadata": {},
   "outputs": [
    {
     "data": {
      "image/png": "[encoded data removed]",
      "text/plain": [
       "<Figure size 1000x600 with 1 Axes>"
      ]
     },
     "metadata": {},
     "output_type": "display_data"
    }
   ],
   "source": [
    "##AI-generated-code\n",
    "\n",
    "\n",
    "import matplotlib.pyplot as plt\n",
    "import numpy as np\n",
    "\n",
    "# Extract the coefficients and their confidence intervals from the model summary\n",
    "summary = cph.summary\n",
    "coef = summary['coef']\n",
    "lower = summary['coef lower 95%']\n",
    "upper = summary['coef upper 95%']\n",
    "\n",
    "# Convert to numpy arrays for easier indexing\n",
    "coef = np.array(coef)\n",
    "lower = np.array(lower)\n",
    "upper = np.array(upper)\n",
    "\n",
    "# Create an array of indices for plotting\n",
    "indices = np.arange(len(coef))\n",
    "\n",
    "# Create the plot\n",
    "plt.figure(figsize=(10, 6))\n",
    "plt.errorbar(coef, indices, xerr=[coef - lower, upper - coef], fmt='o')\n",
    "plt.yticks(indices, summary.index)\n",
    "plt.xlabel('Coefficient')\n",
    "plt.title('Cox Proportional Hazard Model Results')\n",
    "\n",
    "# Show the plot\n",
    "plt.show()\n"
   ]
  },
  {
   "cell_type": "code",
   "execution_count": 67,
   "id": "b2e3628d-abee-4c15-8347-78c06339b3bb",
   "metadata": {
    "ChapyterCell": {
     "cellType": "original"
    }
   },
   "outputs": [
    {
     "name": "stdout",
     "output_type": "stream",
     "text": [
      "\n",
      "\n",
      "This code will create the same plot as before, but with the labels reformatted as per your instructions and a dotted vertical line at x=0.\n"
     ]
    }
   ],
   "source": [
    "%%mimicPython\n",
    "\n",
    "That looks great. Could we edit that plot a bit? I'd like to do the following: \n",
    "1) Reformat the labels so that they make intuitive sense and each word is capitalized (acronyms like SICU in all caps). \\\n",
    "For example, \"first_careunit_SICU\" should become \"First Care Unit: SICU\", \"first_careunit_MICU\" should become \"First Care Unit: MICU\" and \"first_lactate\" should become \"First Lactate\"). Make sure that each word is capitalized.  \n",
    "2) add dotted vertical line at the 0.0 mark for coefficient"
   ]
  },
  {
   "cell_type": "code",
   "execution_count": 115,
   "id": "8e572df0-1765-4809-98d6-43ef6232395d",
   "metadata": {},
   "outputs": [
    {
     "data": {
      "image/png": "[encoded data removed]",
      "text/plain": [
       "<Figure size 1000x600 with 1 Axes>"
      ]
     },
     "metadata": {},
     "output_type": "display_data"
    }
   ],
   "source": [
    "##AI-generated-code\n",
    "\n",
    "\n",
    "# Create a dictionary to map the old labels to the new labels\n",
    "label_dict = {\n",
    "    'first_lactate': 'First Lactate',\n",
    "    'first_creatinine': 'First Creatinine',\n",
    "    'gender_M': 'Gender: M',\n",
    "    'first_careunit_CSRU': 'First Care Unit: CSRU',\n",
    "    'first_careunit_MICU': 'First Care Unit: MICU',\n",
    "    'first_careunit_SICU': 'First Care Unit: SICU',\n",
    "    'first_careunit_TSICU': 'First Care Unit: TSICU'\n",
    "}\n",
    "\n",
    "# Create new labels by mapping the old labels using the dictionary\n",
    "new_labels = [label_dict[label] for label in summary.index]\n",
    "\n",
    "# Create the plot\n",
    "plt.figure(figsize=(10, 6))\n",
    "plt.errorbar(coef, indices, xerr=[coef - lower, upper - coef], fmt='o')\n",
    "plt.yticks(indices, new_labels)\n",
    "plt.xlabel('Coefficient')\n",
    "plt.title('Cox Proportional Hazard Model Results')\n",
    "\n",
    "# Add a vertical line at x=0\n",
    "plt.axvline(x=0, color='grey', linestyle='--')\n",
    "\n",
    "# Show the plot\n",
    "plt.show()\n"
   ]
  },
  {
   "cell_type": "code",
   "execution_count": 117,
   "id": "f9c6af55-3ee8-44e2-a94e-6a87e115cd7e",
   "metadata": {
    "ChapyterCell": {
     "cellType": "original"
    }
   },
   "outputs": [
    {
     "name": "stdout",
     "output_type": "stream",
     "text": [
      "\n",
      "\n",
      "\n"
     ]
    }
   ],
   "source": [
    "%%mimicPython\n",
    "Great. Now can we do the following: \n",
    "1) Move the title a bit further up so that it's farther from the plot\n",
    "2) increase the size of all text and numbers (including the title and the scale of the x-axis)\n",
    "3) change the \"Gender: M\" label to \"Male Gender\"\n",
    "\n",
    "Please remember denote all executable python code between the characters \"```\". Never provide code without these characters. "
   ]
  },
  {
   "cell_type": "code",
   "execution_count": 118,
   "id": "e98ae7d6-dc05-4b84-bc52-5968357fdd33",
   "metadata": {},
   "outputs": [
    {
     "data": {
      "image/png": "[encoded data removed]",
      "text/plain": [
       "<Figure size 1000x600 with 1 Axes>"
      ]
     },
     "metadata": {},
     "output_type": "display_data"
    }
   ],
   "source": [
    "##AI-generated-code\n",
    "\n",
    "\n",
    "# Update the dictionary to change the label for 'gender_M'\n",
    "label_dict['gender_M'] = 'Male Gender'\n",
    "\n",
    "# Create new labels by mapping the old labels using the dictionary\n",
    "new_labels = [label_dict[label] for label in summary.index]\n",
    "\n",
    "# Create the plot\n",
    "plt.figure(figsize=(10, 6))\n",
    "plt.errorbar(coef, indices, xerr=[coef - lower, upper - coef], fmt='o')\n",
    "plt.yticks(indices, new_labels, fontsize=12)  # Increase the size of the y-axis labels\n",
    "plt.xlabel('Coefficient', fontsize=12)  # Increase the size of the x-axis label\n",
    "plt.title('Cox Proportional Hazard Model Results', fontsize=14, pad=20)  # Increase the size of the title and move it up\n",
    "\n",
    "# Add a vertical line at x=0\n",
    "plt.axvline(x=0, color='grey', linestyle='--')\n",
    "\n",
    "# Increase the size of the x-axis tick labels\n",
    "plt.xticks(fontsize=12)\n",
    "\n",
    "# Show the plot\n",
    "plt.show()\n"
   ]
  },
  {
   "cell_type": "code",
   "execution_count": null,
   "id": "f16fdfb9-a263-4372-81ff-26d8bec9aa55",
   "metadata": {},
   "outputs": [],
   "source": []
  }
 ],
 "metadata": {
  "kernelspec": {
   "display_name": "Python 3 (ipykernel)",
   "language": "python",
   "name": "python3"
  },
  "language_info": {
   "codemirror_mode": {
    "name": "ipython",
    "version": 3
   },
   "file_extension": ".py",
   "mimetype": "text/x-python",
   "name": "python",
   "nbconvert_exporter": "python",
   "pygments_lexer": "ipython3",
   "version": "3.9.18"
  }
 },
 "nbformat": 4,
 "nbformat_minor": 5
}
