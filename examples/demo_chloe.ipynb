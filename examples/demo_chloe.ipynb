{
 "cells": [
  {
   "cell_type": "code",
   "execution_count": 1,
   "id": "be381b9f-5f40-497b-8bcb-bc4c5c1dfea1",
   "metadata": {},
   "outputs": [],
   "source": [
    "# make sure changes in code take place immediately\n",
    "%load_ext autoreload\n",
    "%autoreload 2\n",
    "import pandas as pd # occasionally this would get left out\n",
    "    \n",
    "# load the chapyter extension for Jupyter Notebook\n",
    "%load_ext chapyter"
   ]
  },
  {
   "cell_type": "code",
   "execution_count": 2,
   "id": "75017f6b-db8c-4165-b798-d7df9dceeb99",
   "metadata": {},
   "outputs": [],
   "source": [
    "#Define the notebook name as a variable\n",
    "import os\n",
    "os.environ[\"NOTEBOOK_NAME\"] = \"demo_chloe.ipynb\"\n"
   ]
  },
  {
   "cell_type": "markdown",
   "id": "004f0856-308e-4212-9584-ad5bfe419486",
   "metadata": {},
   "source": [
    "## Mocha Demo V1"
   ]
  },
  {
   "cell_type": "markdown",
   "id": "18036ec2-d6af-412b-8fdd-940143e64df8",
   "metadata": {},
   "source": [
    "Our goal is to replicate the findings in this paper: https://www.ncbi.nlm.nih.gov/pmc/articles/PMC6687414/pdf/shk-52-146.pdf\n",
    "\n",
    "Hypothesis: Gender is associated with in-hospital mortality and LOS in patients with sepsis admitted to the ICU\n",
    "\n",
    "* 1 - get data from mimic \n",
    "* 2 - build a basic table 1 to summarize the data [ICU Service, Admission Location, Ethnicity], adding in a few of our own variables (lactate, creatinine)\n",
    "* 3 - do a univariate analysis to understand if the groups are similar or different\n",
    "* 4 - build a kaplan-meier curve for in-hospital mortality \n",
    "* 5 - do a univariate cox proportional hazard model to understand if men or women are more likely to die in-hospital \n",
    "* 6 - redo the analysis, but controlling for significant factors from our univariate analysis"
   ]
  },
  {
   "cell_type": "markdown",
   "id": "b783af5a-5b2b-4372-9938-749b6aa8fb13",
   "metadata": {},
   "source": [
    "## Step 1: Get data from MIMIC \n",
    "1. Get patients from MIMIC diagnosed with sepsis, severe sepsis, or septic shock.\n",
    "2. Apply exclusion criteria – only get patients 18+. Only get patients admitted to the ICU. Only include a patient's first ICU admission.\n",
    "3. Add a few variables – ethnicity, ICU Service, admission type, first ICU service, date of ICU admission and discharge\n",
    "4. Add relevant labs (lactate, creatinine)"
   ]
  },
  {
   "cell_type": "code",
   "execution_count": 3,
   "id": "7ce8446b-3c0e-45d3-9d0b-77ac684fcfa7",
   "metadata": {
    "ChapyterCell": {
     "cellType": "original"
    }
   },
   "outputs": [
    {
     "name": "stdout",
     "output_type": "stream",
     "text": [
      "Sure, I can help with that. We will need to join several tables to get all the information you need. We will use the `diagnoses_icd` table to identify patients with sepsis, severe sepsis, or septic shock using the relevant ICD-9 codes (995.91, 995.92, 785.52). We will also use the `patients` table to get the sex and ethnicity of the patients, the `admissions` table to get the admission and discharge times, and the `icustays` table to get the first ICU service the patient was admitted to. Here is the SQL query:\n",
      "\n",
      "This query will return a data frame with the patient ID, sex, date of birth, hospital admission ID, admission time, discharge time, time of death, admission type, ethnicity, and the first ICU service the patient was admitted to for all patients aged 18 or older who were admitted to an ICU with sepsis, severe sepsis, or septic shock.\n"
     ]
    }
   ],
   "source": [
    "%%mimicSQL \n",
    "\n",
    "I'd like to study if there is an association between sex and in-hospital mortality in patients with sepsis admitted to the ICU.\n",
    "Can you get me all the patients admitted to an ICU with sepsis, severe sepsis, or septic shock that are 18 or older, as well as their admit times, discharge time, and time of death? \n",
    "I'd also like to add a few variables – can you include the following variables in the data frame? \n",
    "- ethnicity\n",
    "- the first ICU service the patient was admitted to\n",
    "- admission type\n",
    "\n",
    "Remember that every column in the SELECT clause must be part of an aggregate function or listed in the GROUP BY clause. "
   ]
  },
  {
   "cell_type": "code",
   "execution_count": 4,
   "id": "e0bba750-3668-4247-9945-192324cd483b",
   "metadata": {
    "ChapyterCell": {
     "cellType": "original"
    }
   },
   "outputs": [
    {
     "data": {
      "text/html": [
       "<div>\n",
       "<style scoped>\n",
       "    .dataframe tbody tr th:only-of-type {\n",
       "        vertical-align: middle;\n",
       "    }\n",
       "\n",
       "    .dataframe tbody tr th {\n",
       "        vertical-align: top;\n",
       "    }\n",
       "\n",
       "    .dataframe thead th {\n",
       "        text-align: right;\n",
       "    }\n",
       "</style>\n",
       "<table border=\"1\" class=\"dataframe\">\n",
       "  <thead>\n",
       "    <tr style=\"text-align: right;\">\n",
       "      <th></th>\n",
       "      <th>subject_id</th>\n",
       "      <th>gender</th>\n",
       "      <th>dob</th>\n",
       "      <th>hadm_id</th>\n",
       "      <th>admittime</th>\n",
       "      <th>dischtime</th>\n",
       "      <th>deathtime</th>\n",
       "      <th>admission_type</th>\n",
       "      <th>ethnicity</th>\n",
       "      <th>first_careunit</th>\n",
       "    </tr>\n",
       "  </thead>\n",
       "  <tbody>\n",
       "    <tr>\n",
       "      <th>0</th>\n",
       "      <td>66876</td>\n",
       "      <td>M</td>\n",
       "      <td>2057-06-23 00:00:00.000</td>\n",
       "      <td>122645</td>\n",
       "      <td>2133-02-09 14:00:00.000</td>\n",
       "      <td>2133-02-20 13:38:00.000</td>\n",
       "      <td>2133-02-20 13:38:00.000</td>\n",
       "      <td>ELECTIVE</td>\n",
       "      <td>WHITE</td>\n",
       "      <td>CSRU</td>\n",
       "    </tr>\n",
       "    <tr>\n",
       "      <th>1</th>\n",
       "      <td>66894</td>\n",
       "      <td>F</td>\n",
       "      <td>2069-03-07 00:00:00.000</td>\n",
       "      <td>157688</td>\n",
       "      <td>2126-08-10 21:10:00.000</td>\n",
       "      <td>2126-08-11 19:29:00.000</td>\n",
       "      <td>2126-08-11 19:29:00.000</td>\n",
       "      <td>EMERGENCY</td>\n",
       "      <td>HISPANIC OR LATINO</td>\n",
       "      <td>MICU</td>\n",
       "    </tr>\n",
       "    <tr>\n",
       "      <th>2</th>\n",
       "      <td>66965</td>\n",
       "      <td>M</td>\n",
       "      <td>2116-06-07 00:00:00.000</td>\n",
       "      <td>177338</td>\n",
       "      <td>2198-01-22 22:20:00.000</td>\n",
       "      <td>2198-02-14 14:51:00.000</td>\n",
       "      <td>None</td>\n",
       "      <td>EMERGENCY</td>\n",
       "      <td>WHITE</td>\n",
       "      <td>CCU</td>\n",
       "    </tr>\n",
       "    <tr>\n",
       "      <th>3</th>\n",
       "      <td>67050</td>\n",
       "      <td>M</td>\n",
       "      <td>2143-08-27 00:00:00.000</td>\n",
       "      <td>135268</td>\n",
       "      <td>2200-02-10 02:07:00.000</td>\n",
       "      <td>2200-02-21 00:45:00.000</td>\n",
       "      <td>2200-02-21 00:45:00.000</td>\n",
       "      <td>EMERGENCY</td>\n",
       "      <td>HISPANIC/LATINO - PUERTO RICAN</td>\n",
       "      <td>MICU</td>\n",
       "    </tr>\n",
       "    <tr>\n",
       "      <th>4</th>\n",
       "      <td>67104</td>\n",
       "      <td>F</td>\n",
       "      <td>2053-12-18 00:00:00.000</td>\n",
       "      <td>116413</td>\n",
       "      <td>2134-09-09 03:27:00.000</td>\n",
       "      <td>2134-10-30 20:11:00.000</td>\n",
       "      <td>2134-10-30 20:11:00.000</td>\n",
       "      <td>EMERGENCY</td>\n",
       "      <td>OTHER</td>\n",
       "      <td>MICU</td>\n",
       "    </tr>\n",
       "  </tbody>\n",
       "</table>\n",
       "</div>"
      ],
      "text/plain": [
       "  subject_id gender                      dob hadm_id                admittime  \\\n",
       "0      66876      M  2057-06-23 00:00:00.000  122645  2133-02-09 14:00:00.000   \n",
       "1      66894      F  2069-03-07 00:00:00.000  157688  2126-08-10 21:10:00.000   \n",
       "2      66965      M  2116-06-07 00:00:00.000  177338  2198-01-22 22:20:00.000   \n",
       "3      67050      M  2143-08-27 00:00:00.000  135268  2200-02-10 02:07:00.000   \n",
       "4      67104      F  2053-12-18 00:00:00.000  116413  2134-09-09 03:27:00.000   \n",
       "\n",
       "                 dischtime                deathtime admission_type  \\\n",
       "0  2133-02-20 13:38:00.000  2133-02-20 13:38:00.000       ELECTIVE   \n",
       "1  2126-08-11 19:29:00.000  2126-08-11 19:29:00.000      EMERGENCY   \n",
       "2  2198-02-14 14:51:00.000                     None      EMERGENCY   \n",
       "3  2200-02-21 00:45:00.000  2200-02-21 00:45:00.000      EMERGENCY   \n",
       "4  2134-10-30 20:11:00.000  2134-10-30 20:11:00.000      EMERGENCY   \n",
       "\n",
       "                        ethnicity first_careunit  \n",
       "0                           WHITE           CSRU  \n",
       "1              HISPANIC OR LATINO           MICU  \n",
       "2                           WHITE            CCU  \n",
       "3  HISPANIC/LATINO - PUERTO RICAN           MICU  \n",
       "4                           OTHER           MICU  "
      ]
     },
     "metadata": {},
     "output_type": "display_data"
    }
   ],
   "source": [
    "%%runSQL \n",
    "\n",
    "\n",
    "SELECT \n",
    "    p.subject_id,\n",
    "    p.gender,\n",
    "    p.dob,\n",
    "    a.hadm_id,\n",
    "    a.admittime,\n",
    "    a.dischtime,\n",
    "    a.deathtime,\n",
    "    a.admission_type,\n",
    "    a.ethnicity,\n",
    "    i.first_careunit\n",
    "FROM \n",
    "    patients p\n",
    "JOIN \n",
    "    admissions a ON p.subject_id = a.subject_id\n",
    "JOIN \n",
    "    icustays i ON a.hadm_id = i.hadm_id\n",
    "JOIN \n",
    "    diagnoses_icd d ON a.hadm_id = d.hadm_id\n",
    "WHERE \n",
    "    d.icd9_code IN ('99591', '99592', '78552')\n",
    "    AND DATE_DIFF('year', p.dob, a.admittime) >= 18\n",
    "GROUP BY \n",
    "    p.subject_id,\n",
    "    p.gender,\n",
    "    p.dob,\n",
    "    a.hadm_id,\n",
    "    a.admittime,\n",
    "    a.dischtime,\n",
    "    a.deathtime,\n",
    "    a.admission_type,\n",
    "    a.ethnicity,\n",
    "    i.first_careunit\n"
   ]
  },
  {
   "cell_type": "code",
   "execution_count": 9,
   "id": "fd70f1cb-e3ee-4c09-a06c-dafdbb76bad9",
   "metadata": {
    "ChapyterCell": {
     "cellType": "original"
    }
   },
   "outputs": [
    {
     "name": "stdout",
     "output_type": "stream",
     "text": [
      "Sure, to get the first ICU admission for each patient, we can modify the previous query to include a subquery that selects the minimum `intime` for each `subject_id` from the `icustays` table. Here is the updated SQL query:\n",
      "\n",
      "This query will return the same information as the previous one, but only for the first ICU admission of each patient.\n"
     ]
    }
   ],
   "source": [
    "%%mimicSQL \n",
    "\n",
    "Great. Now I'd like to get the same patients, but only select their first ICU admission in the database. "
   ]
  },
  {
   "cell_type": "code",
   "execution_count": 5,
   "id": "cbaeff93-e0ad-4deb-91e8-995092545d8a",
   "metadata": {
    "ChapyterCell": {
     "cellType": "original"
    }
   },
   "outputs": [
    {
     "data": {
      "text/html": [
       "<div>\n",
       "<style scoped>\n",
       "    .dataframe tbody tr th:only-of-type {\n",
       "        vertical-align: middle;\n",
       "    }\n",
       "\n",
       "    .dataframe tbody tr th {\n",
       "        vertical-align: top;\n",
       "    }\n",
       "\n",
       "    .dataframe thead th {\n",
       "        text-align: right;\n",
       "    }\n",
       "</style>\n",
       "<table border=\"1\" class=\"dataframe\">\n",
       "  <thead>\n",
       "    <tr style=\"text-align: right;\">\n",
       "      <th></th>\n",
       "      <th>subject_id</th>\n",
       "      <th>gender</th>\n",
       "      <th>hadm_id</th>\n",
       "      <th>admittime</th>\n",
       "      <th>dischtime</th>\n",
       "      <th>deathtime</th>\n",
       "      <th>admission_type</th>\n",
       "      <th>ethnicity</th>\n",
       "      <th>first_careunit</th>\n",
       "    </tr>\n",
       "  </thead>\n",
       "  <tbody>\n",
       "    <tr>\n",
       "      <th>0</th>\n",
       "      <td>797</td>\n",
       "      <td>M</td>\n",
       "      <td>100863</td>\n",
       "      <td>2139-08-24 22:00:00.000</td>\n",
       "      <td>2139-08-29 14:45:00.000</td>\n",
       "      <td>None</td>\n",
       "      <td>EMERGENCY</td>\n",
       "      <td>WHITE</td>\n",
       "      <td>MICU</td>\n",
       "    </tr>\n",
       "    <tr>\n",
       "      <th>1</th>\n",
       "      <td>38</td>\n",
       "      <td>M</td>\n",
       "      <td>185910</td>\n",
       "      <td>2166-08-10 00:28:00.000</td>\n",
       "      <td>2166-09-04 11:30:00.000</td>\n",
       "      <td>None</td>\n",
       "      <td>EMERGENCY</td>\n",
       "      <td>WHITE</td>\n",
       "      <td>CCU</td>\n",
       "    </tr>\n",
       "    <tr>\n",
       "      <th>2</th>\n",
       "      <td>195</td>\n",
       "      <td>F</td>\n",
       "      <td>118936</td>\n",
       "      <td>2167-11-29 16:25:00.000</td>\n",
       "      <td>2167-12-23 12:20:00.000</td>\n",
       "      <td>None</td>\n",
       "      <td>ELECTIVE</td>\n",
       "      <td>WHITE</td>\n",
       "      <td>CSRU</td>\n",
       "    </tr>\n",
       "    <tr>\n",
       "      <th>3</th>\n",
       "      <td>406</td>\n",
       "      <td>F</td>\n",
       "      <td>113900</td>\n",
       "      <td>2119-08-25 22:37:00.000</td>\n",
       "      <td>2119-09-01 18:00:00.000</td>\n",
       "      <td>None</td>\n",
       "      <td>EMERGENCY</td>\n",
       "      <td>WHITE</td>\n",
       "      <td>MICU</td>\n",
       "    </tr>\n",
       "    <tr>\n",
       "      <th>4</th>\n",
       "      <td>430</td>\n",
       "      <td>F</td>\n",
       "      <td>110233</td>\n",
       "      <td>2155-09-16 00:14:00.000</td>\n",
       "      <td>2155-09-16 10:30:00.000</td>\n",
       "      <td>2155-09-16 10:30:00.000</td>\n",
       "      <td>EMERGENCY</td>\n",
       "      <td>WHITE</td>\n",
       "      <td>MICU</td>\n",
       "    </tr>\n",
       "  </tbody>\n",
       "</table>\n",
       "</div>"
      ],
      "text/plain": [
       "  subject_id gender hadm_id                admittime                dischtime  \\\n",
       "0        797      M  100863  2139-08-24 22:00:00.000  2139-08-29 14:45:00.000   \n",
       "1         38      M  185910  2166-08-10 00:28:00.000  2166-09-04 11:30:00.000   \n",
       "2        195      F  118936  2167-11-29 16:25:00.000  2167-12-23 12:20:00.000   \n",
       "3        406      F  113900  2119-08-25 22:37:00.000  2119-09-01 18:00:00.000   \n",
       "4        430      F  110233  2155-09-16 00:14:00.000  2155-09-16 10:30:00.000   \n",
       "\n",
       "                 deathtime admission_type ethnicity first_careunit  \n",
       "0                     None      EMERGENCY     WHITE           MICU  \n",
       "1                     None      EMERGENCY     WHITE            CCU  \n",
       "2                     None       ELECTIVE     WHITE           CSRU  \n",
       "3                     None      EMERGENCY     WHITE           MICU  \n",
       "4  2155-09-16 10:30:00.000      EMERGENCY     WHITE           MICU  "
      ]
     },
     "metadata": {},
     "output_type": "display_data"
    }
   ],
   "source": [
    "%%runSQL \n",
    "\n",
    "\n",
    "SELECT \n",
    "    p.subject_id,\n",
    "    p.gender,\n",
    "    a.hadm_id,\n",
    "    a.admittime,\n",
    "    a.dischtime,\n",
    "    a.deathtime,\n",
    "    a.admission_type,\n",
    "    a.ethnicity,\n",
    "    i.first_careunit\n",
    "FROM \n",
    "    patients p\n",
    "JOIN \n",
    "    admissions a ON p.subject_id = a.subject_id\n",
    "JOIN \n",
    "    icustays i ON a.hadm_id = i.hadm_id\n",
    "JOIN \n",
    "    diagnoses_icd d ON a.hadm_id = d.hadm_id\n",
    "WHERE \n",
    "    d.icd9_code IN ('99591', '99592', '78552')\n",
    "    AND DATE_DIFF('year', p.dob, a.admittime) >= 18\n",
    "    AND i.intime = (\n",
    "        SELECT MIN(intime)\n",
    "        FROM icustays\n",
    "        WHERE subject_id = p.subject_id\n",
    "    )\n",
    "GROUP BY \n",
    "    p.subject_id,\n",
    "    p.gender,\n",
    "    a.hadm_id,\n",
    "    a.admittime,\n",
    "    a.dischtime,\n",
    "    a.deathtime,\n",
    "    a.admission_type,\n",
    "    a.ethnicity,\n",
    "    i.first_careunit\n"
   ]
  },
  {
   "cell_type": "code",
   "execution_count": 25,
   "id": "38fdb45d-fc6a-45ba-a38c-98f8231face1",
   "metadata": {
    "ChapyterCell": {
     "cellType": "original"
    }
   },
   "outputs": [
    {
     "name": "stdout",
     "output_type": "stream",
     "text": [
      "Sure, to add the first lactate and creatinine values of each patient's ICU admission, we can join the `labevents` table on `subject_id` and `hadm_id`. We'll also need to add a subquery to select the minimum `charttime` for each `subject_id` and `itemid` for lactate and creatinine. The `itemid` for lactate is typically 50813 and for creatinine it's 50912. Here is the updated SQL query:\n",
      "\n",
      "This query will return the same information as the previous one, but with the addition of the first lactate and creatinine values of each patient's ICU admission.\n"
     ]
    }
   ],
   "source": [
    "%%mimicSQL\n",
    "Perfect. Now can we add two things to that data frame (without changing the number of entries): \n",
    "- the patient's first lactate of that ICU admission\n",
    "- the patient's first creatinine of that ICU admission\n",
    "The number of rows should stay the same, we simply want to add those two lab values to the existing table. "
   ]
  },
  {
   "cell_type": "code",
   "execution_count": 6,
   "id": "6e0daf69-cd00-435e-b374-f690089a645c",
   "metadata": {},
   "outputs": [
    {
     "name": "stdout",
     "output_type": "stream",
     "text": [
      "Query failed! State: FAILED\n",
      "Reason: COLUMN_NOT_FOUND: line 28:28: Column 'p.subject_id' cannot be resolved or requester is not authorized to access requested resources\n"
     ]
    },
    {
     "ename": "AttributeError",
     "evalue": "'bool' object has no attribute 'head'",
     "output_type": "error",
     "traceback": [
      "\u001b[0;31m---------------------------------------------------------------------------\u001b[0m",
      "\u001b[0;31mAttributeError\u001b[0m                            Traceback (most recent call last)",
      "Cell \u001b[0;32mIn[6], line 1\u001b[0m\n\u001b[0;32m----> 1\u001b[0m \u001b[43mget_ipython\u001b[49m\u001b[43m(\u001b[49m\u001b[43m)\u001b[49m\u001b[38;5;241;43m.\u001b[39;49m\u001b[43mrun_cell_magic\u001b[49m\u001b[43m(\u001b[49m\u001b[38;5;124;43m'\u001b[39;49m\u001b[38;5;124;43mrunSQL\u001b[39;49m\u001b[38;5;124;43m'\u001b[39;49m\u001b[43m,\u001b[49m\u001b[43m \u001b[49m\u001b[38;5;124;43m'\u001b[39;49m\u001b[38;5;124;43m'\u001b[39;49m\u001b[43m,\u001b[49m\u001b[43m \u001b[49m\u001b[38;5;124;43m\"\u001b[39;49m\u001b[38;5;130;43;01m\\n\u001b[39;49;00m\u001b[38;5;130;43;01m\\n\u001b[39;49;00m\u001b[38;5;124;43mSELECT \u001b[39;49m\u001b[38;5;130;43;01m\\n\u001b[39;49;00m\u001b[38;5;124;43m    p.subject_id,\u001b[39;49m\u001b[38;5;130;43;01m\\n\u001b[39;49;00m\u001b[38;5;124;43m    p.gender,\u001b[39;49m\u001b[38;5;130;43;01m\\n\u001b[39;49;00m\u001b[38;5;124;43m    a.hadm_id,\u001b[39;49m\u001b[38;5;130;43;01m\\n\u001b[39;49;00m\u001b[38;5;124;43m    a.admittime,\u001b[39;49m\u001b[38;5;130;43;01m\\n\u001b[39;49;00m\u001b[38;5;124;43m    a.dischtime,\u001b[39;49m\u001b[38;5;130;43;01m\\n\u001b[39;49;00m\u001b[38;5;124;43m    a.deathtime,\u001b[39;49m\u001b[38;5;130;43;01m\\n\u001b[39;49;00m\u001b[38;5;124;43m    a.admission_type,\u001b[39;49m\u001b[38;5;130;43;01m\\n\u001b[39;49;00m\u001b[38;5;124;43m    a.ethnicity,\u001b[39;49m\u001b[38;5;130;43;01m\\n\u001b[39;49;00m\u001b[38;5;124;43m    i.first_careunit,\u001b[39;49m\u001b[38;5;130;43;01m\\n\u001b[39;49;00m\u001b[38;5;124;43m    l1.valuenum AS first_lactate,\u001b[39;49m\u001b[38;5;130;43;01m\\n\u001b[39;49;00m\u001b[38;5;124;43m    l2.valuenum AS first_creatinine\u001b[39;49m\u001b[38;5;130;43;01m\\n\u001b[39;49;00m\u001b[38;5;124;43mFROM \u001b[39;49m\u001b[38;5;130;43;01m\\n\u001b[39;49;00m\u001b[38;5;124;43m    patients p\u001b[39;49m\u001b[38;5;130;43;01m\\n\u001b[39;49;00m\u001b[38;5;124;43mJOIN \u001b[39;49m\u001b[38;5;130;43;01m\\n\u001b[39;49;00m\u001b[38;5;124;43m    admissions a ON p.subject_id = a.subject_id\u001b[39;49m\u001b[38;5;130;43;01m\\n\u001b[39;49;00m\u001b[38;5;124;43mJOIN \u001b[39;49m\u001b[38;5;130;43;01m\\n\u001b[39;49;00m\u001b[38;5;124;43m    icustays i ON a.hadm_id = i.hadm_id\u001b[39;49m\u001b[38;5;130;43;01m\\n\u001b[39;49;00m\u001b[38;5;124;43mJOIN \u001b[39;49m\u001b[38;5;130;43;01m\\n\u001b[39;49;00m\u001b[38;5;124;43m    diagnoses_icd d ON a.hadm_id = d.hadm_id\u001b[39;49m\u001b[38;5;130;43;01m\\n\u001b[39;49;00m\u001b[38;5;124;43mLEFT JOIN \u001b[39;49m\u001b[38;5;130;43;01m\\n\u001b[39;49;00m\u001b[38;5;124;43m    (SELECT subject_id, hadm_id, valuenum, charttime\u001b[39;49m\u001b[38;5;130;43;01m\\n\u001b[39;49;00m\u001b[38;5;124;43m    FROM labevents\u001b[39;49m\u001b[38;5;130;43;01m\\n\u001b[39;49;00m\u001b[38;5;124;43m    WHERE itemid = 50813\u001b[39;49m\u001b[38;5;130;43;01m\\n\u001b[39;49;00m\u001b[38;5;124;43m    AND charttime = (\u001b[39;49m\u001b[38;5;130;43;01m\\n\u001b[39;49;00m\u001b[38;5;124;43m        SELECT MIN(charttime)\u001b[39;49m\u001b[38;5;130;43;01m\\n\u001b[39;49;00m\u001b[38;5;124;43m        FROM labevents\u001b[39;49m\u001b[38;5;130;43;01m\\n\u001b[39;49;00m\u001b[38;5;124;43m        WHERE subject_id = p.subject_id\u001b[39;49m\u001b[38;5;130;43;01m\\n\u001b[39;49;00m\u001b[38;5;124;43m        AND itemid = 50813\u001b[39;49m\u001b[38;5;130;43;01m\\n\u001b[39;49;00m\u001b[38;5;124;43m    )) l1 ON p.subject_id = l1.subject_id AND a.hadm_id = l1.hadm_id\u001b[39;49m\u001b[38;5;130;43;01m\\n\u001b[39;49;00m\u001b[38;5;124;43mLEFT JOIN \u001b[39;49m\u001b[38;5;130;43;01m\\n\u001b[39;49;00m\u001b[38;5;124;43m    (SELECT subject_id, hadm_id, valuenum, charttime\u001b[39;49m\u001b[38;5;130;43;01m\\n\u001b[39;49;00m\u001b[38;5;124;43m    FROM labevents\u001b[39;49m\u001b[38;5;130;43;01m\\n\u001b[39;49;00m\u001b[38;5;124;43m    WHERE itemid = 50912\u001b[39;49m\u001b[38;5;130;43;01m\\n\u001b[39;49;00m\u001b[38;5;124;43m    AND charttime = (\u001b[39;49m\u001b[38;5;130;43;01m\\n\u001b[39;49;00m\u001b[38;5;124;43m        SELECT MIN(charttime)\u001b[39;49m\u001b[38;5;130;43;01m\\n\u001b[39;49;00m\u001b[38;5;124;43m        FROM labevents\u001b[39;49m\u001b[38;5;130;43;01m\\n\u001b[39;49;00m\u001b[38;5;124;43m        WHERE subject_id = p.subject_id\u001b[39;49m\u001b[38;5;130;43;01m\\n\u001b[39;49;00m\u001b[38;5;124;43m        AND itemid = 50912\u001b[39;49m\u001b[38;5;130;43;01m\\n\u001b[39;49;00m\u001b[38;5;124;43m    )) l2 ON p.subject_id = l2.subject_id AND a.hadm_id = l2.hadm_id\u001b[39;49m\u001b[38;5;130;43;01m\\n\u001b[39;49;00m\u001b[38;5;124;43mWHERE \u001b[39;49m\u001b[38;5;130;43;01m\\n\u001b[39;49;00m\u001b[38;5;124;43m    d.icd9_code IN (\u001b[39;49m\u001b[38;5;124;43m'\u001b[39;49m\u001b[38;5;124;43m99591\u001b[39;49m\u001b[38;5;124;43m'\u001b[39;49m\u001b[38;5;124;43m, \u001b[39;49m\u001b[38;5;124;43m'\u001b[39;49m\u001b[38;5;124;43m99592\u001b[39;49m\u001b[38;5;124;43m'\u001b[39;49m\u001b[38;5;124;43m, \u001b[39;49m\u001b[38;5;124;43m'\u001b[39;49m\u001b[38;5;124;43m78552\u001b[39;49m\u001b[38;5;124;43m'\u001b[39;49m\u001b[38;5;124;43m)\u001b[39;49m\u001b[38;5;130;43;01m\\n\u001b[39;49;00m\u001b[38;5;124;43m    AND DATE_DIFF(\u001b[39;49m\u001b[38;5;124;43m'\u001b[39;49m\u001b[38;5;124;43myear\u001b[39;49m\u001b[38;5;124;43m'\u001b[39;49m\u001b[38;5;124;43m, p.dob, a.admittime) >= 18\u001b[39;49m\u001b[38;5;130;43;01m\\n\u001b[39;49;00m\u001b[38;5;124;43m    AND i.intime = (\u001b[39;49m\u001b[38;5;130;43;01m\\n\u001b[39;49;00m\u001b[38;5;124;43m        SELECT MIN(intime)\u001b[39;49m\u001b[38;5;130;43;01m\\n\u001b[39;49;00m\u001b[38;5;124;43m        FROM icustays\u001b[39;49m\u001b[38;5;130;43;01m\\n\u001b[39;49;00m\u001b[38;5;124;43m        WHERE subject_id = p.subject_id\u001b[39;49m\u001b[38;5;130;43;01m\\n\u001b[39;49;00m\u001b[38;5;124;43m    )\u001b[39;49m\u001b[38;5;130;43;01m\\n\u001b[39;49;00m\u001b[38;5;124;43mGROUP BY \u001b[39;49m\u001b[38;5;130;43;01m\\n\u001b[39;49;00m\u001b[38;5;124;43m    p.subject_id,\u001b[39;49m\u001b[38;5;130;43;01m\\n\u001b[39;49;00m\u001b[38;5;124;43m    p.gender,\u001b[39;49m\u001b[38;5;130;43;01m\\n\u001b[39;49;00m\u001b[38;5;124;43m    a.hadm_id,\u001b[39;49m\u001b[38;5;130;43;01m\\n\u001b[39;49;00m\u001b[38;5;124;43m    a.admittime,\u001b[39;49m\u001b[38;5;130;43;01m\\n\u001b[39;49;00m\u001b[38;5;124;43m    a.dischtime,\u001b[39;49m\u001b[38;5;130;43;01m\\n\u001b[39;49;00m\u001b[38;5;124;43m    a.deathtime,\u001b[39;49m\u001b[38;5;130;43;01m\\n\u001b[39;49;00m\u001b[38;5;124;43m    a.admission_type,\u001b[39;49m\u001b[38;5;130;43;01m\\n\u001b[39;49;00m\u001b[38;5;124;43m    a.ethnicity,\u001b[39;49m\u001b[38;5;130;43;01m\\n\u001b[39;49;00m\u001b[38;5;124;43m    i.first_careunit,\u001b[39;49m\u001b[38;5;130;43;01m\\n\u001b[39;49;00m\u001b[38;5;124;43m    l1.valuenum,\u001b[39;49m\u001b[38;5;130;43;01m\\n\u001b[39;49;00m\u001b[38;5;124;43m    l2.valuenum\u001b[39;49m\u001b[38;5;130;43;01m\\n\u001b[39;49;00m\u001b[38;5;124;43m\"\u001b[39;49m\u001b[43m)\u001b[49m\n",
      "File \u001b[0;32m~/opt/anaconda3/envs/new_env/lib/python3.9/site-packages/IPython/core/interactiveshell.py:2493\u001b[0m, in \u001b[0;36mInteractiveShell.run_cell_magic\u001b[0;34m(self, magic_name, line, cell)\u001b[0m\n\u001b[1;32m   2491\u001b[0m \u001b[38;5;28;01mwith\u001b[39;00m \u001b[38;5;28mself\u001b[39m\u001b[38;5;241m.\u001b[39mbuiltin_trap:\n\u001b[1;32m   2492\u001b[0m     args \u001b[38;5;241m=\u001b[39m (magic_arg_s, cell)\n\u001b[0;32m-> 2493\u001b[0m     result \u001b[38;5;241m=\u001b[39m \u001b[43mfn\u001b[49m\u001b[43m(\u001b[49m\u001b[38;5;241;43m*\u001b[39;49m\u001b[43margs\u001b[49m\u001b[43m,\u001b[49m\u001b[43m \u001b[49m\u001b[38;5;241;43m*\u001b[39;49m\u001b[38;5;241;43m*\u001b[39;49m\u001b[43mkwargs\u001b[49m\u001b[43m)\u001b[49m\n\u001b[1;32m   2495\u001b[0m \u001b[38;5;66;03m# The code below prevents the output from being displayed\u001b[39;00m\n\u001b[1;32m   2496\u001b[0m \u001b[38;5;66;03m# when using magics with decorator @output_can_be_silenced\u001b[39;00m\n\u001b[1;32m   2497\u001b[0m \u001b[38;5;66;03m# when the last Python token in the expression is a ';'.\u001b[39;00m\n\u001b[1;32m   2498\u001b[0m \u001b[38;5;28;01mif\u001b[39;00m \u001b[38;5;28mgetattr\u001b[39m(fn, magic\u001b[38;5;241m.\u001b[39mMAGIC_OUTPUT_CAN_BE_SILENCED, \u001b[38;5;28;01mFalse\u001b[39;00m):\n",
      "File \u001b[0;32m~/Documents/Mocha/chapyterMed/chapyter/magic.py:553\u001b[0m, in \u001b[0;36mChapyter.runSQL\u001b[0;34m(self, line, cell)\u001b[0m\n\u001b[1;32m    551\u001b[0m \u001b[38;5;66;03m#retrieve the df, and put it in notebook memory\u001b[39;00m\n\u001b[1;32m    552\u001b[0m df, _ \u001b[38;5;241m=\u001b[39m sql_query_to_athena_df(current_message)\n\u001b[0;32m--> 553\u001b[0m display(\u001b[43mdf\u001b[49m\u001b[38;5;241;43m.\u001b[39;49m\u001b[43mhead\u001b[49m(\u001b[38;5;241m5\u001b[39m))\n\u001b[1;32m    554\u001b[0m \u001b[38;5;28mself\u001b[39m\u001b[38;5;241m.\u001b[39mshell\u001b[38;5;241m.\u001b[39muser_ns[\u001b[38;5;124m'\u001b[39m\u001b[38;5;124mdf\u001b[39m\u001b[38;5;124m'\u001b[39m] \u001b[38;5;241m=\u001b[39m df\n\u001b[1;32m    556\u001b[0m \u001b[38;5;66;03m#add only the first two rows to llm_responses\u001b[39;00m\n",
      "\u001b[0;31mAttributeError\u001b[0m: 'bool' object has no attribute 'head'"
     ]
    }
   ],
   "source": [
    "%%runSQL \n",
    "\n",
    "\n",
    "SELECT \n",
    "    p.subject_id,\n",
    "    p.gender,\n",
    "    a.hadm_id,\n",
    "    a.admittime,\n",
    "    a.dischtime,\n",
    "    a.deathtime,\n",
    "    a.admission_type,\n",
    "    a.ethnicity,\n",
    "    i.first_careunit,\n",
    "    l1.valuenum AS first_lactate,\n",
    "    l2.valuenum AS first_creatinine\n",
    "FROM \n",
    "    patients p\n",
    "JOIN \n",
    "    admissions a ON p.subject_id = a.subject_id\n",
    "JOIN \n",
    "    icustays i ON a.hadm_id = i.hadm_id\n",
    "JOIN \n",
    "    diagnoses_icd d ON a.hadm_id = d.hadm_id\n",
    "LEFT JOIN \n",
    "    (SELECT subject_id, hadm_id, valuenum, charttime\n",
    "    FROM labevents\n",
    "    WHERE itemid = 50813\n",
    "    AND charttime = (\n",
    "        SELECT MIN(charttime)\n",
    "        FROM labevents\n",
    "        WHERE subject_id = p.subject_id\n",
    "        AND itemid = 50813\n",
    "    )) l1 ON p.subject_id = l1.subject_id AND a.hadm_id = l1.hadm_id\n",
    "LEFT JOIN \n",
    "    (SELECT subject_id, hadm_id, valuenum, charttime\n",
    "    FROM labevents\n",
    "    WHERE itemid = 50912\n",
    "    AND charttime = (\n",
    "        SELECT MIN(charttime)\n",
    "        FROM labevents\n",
    "        WHERE subject_id = p.subject_id\n",
    "        AND itemid = 50912\n",
    "    )) l2 ON p.subject_id = l2.subject_id AND a.hadm_id = l2.hadm_id\n",
    "WHERE \n",
    "    d.icd9_code IN ('99591', '99592', '78552')\n",
    "    AND DATE_DIFF('year', p.dob, a.admittime) >= 18\n",
    "    AND i.intime = (\n",
    "        SELECT MIN(intime)\n",
    "        FROM icustays\n",
    "        WHERE subject_id = p.subject_id\n",
    "    )\n",
    "GROUP BY \n",
    "    p.subject_id,\n",
    "    p.gender,\n",
    "    a.hadm_id,\n",
    "    a.admittime,\n",
    "    a.dischtime,\n",
    "    a.deathtime,\n",
    "    a.admission_type,\n",
    "    a.ethnicity,\n",
    "    i.first_careunit,\n",
    "    l1.valuenum,\n",
    "    l2.valuenum\n"
   ]
  },
  {
   "cell_type": "markdown",
   "id": "d291c75c-6925-4f0a-aecb-64c1b8bfa7c3",
   "metadata": {},
   "source": [
    "Was tempted to now calculate SOFA score but we can wait to do that for the next iteration of the demo because it depends on a lot of other calculated measures that get pretty complicated. "
   ]
  },
  {
   "cell_type": "code",
   "execution_count": 27,
   "id": "002ff794-d6f6-4dc1-bffb-abb6ada8fa33",
   "metadata": {
    "ChapyterCell": {
     "cellType": "original"
    }
   },
   "outputs": [
    {
     "name": "stdout",
     "output_type": "stream",
     "text": [
      "I apologize for the confusion. The error is due to the subquery not recognizing the alias 'p' for the patients table. We need to modify the subquery to include the patients table and join it on subject_id. Here is the corrected SQL:\n",
      "\n",
      "This query should return the same number of rows as the previous one, but with the addition of the first lactate and creatinine values of each patient's ICU admission.\n"
     ]
    }
   ],
   "source": [
    "%%mimicSQL\n",
    "I get the following error: Query failed! State: FAILED\n",
    "Reason: COLUMN_NOT_FOUND: line 28:28: Column 'p.subject_id' cannot be resolved or requester is not authorized to access requested resources\n",
    "Can you fix the error and produce new SQL that pulls the labs I'm interested in ?"
   ]
  },
  {
   "cell_type": "code",
   "execution_count": 7,
   "id": "e1f2a9a3-6b9b-46fd-be0e-d064d35a8642",
   "metadata": {
    "ChapyterCell": {
     "cellType": "original"
    }
   },
   "outputs": [
    {
     "data": {
      "text/html": [
       "<div>\n",
       "<style scoped>\n",
       "    .dataframe tbody tr th:only-of-type {\n",
       "        vertical-align: middle;\n",
       "    }\n",
       "\n",
       "    .dataframe tbody tr th {\n",
       "        vertical-align: top;\n",
       "    }\n",
       "\n",
       "    .dataframe thead th {\n",
       "        text-align: right;\n",
       "    }\n",
       "</style>\n",
       "<table border=\"1\" class=\"dataframe\">\n",
       "  <thead>\n",
       "    <tr style=\"text-align: right;\">\n",
       "      <th></th>\n",
       "      <th>subject_id</th>\n",
       "      <th>gender</th>\n",
       "      <th>hadm_id</th>\n",
       "      <th>admittime</th>\n",
       "      <th>dischtime</th>\n",
       "      <th>deathtime</th>\n",
       "      <th>admission_type</th>\n",
       "      <th>ethnicity</th>\n",
       "      <th>first_careunit</th>\n",
       "      <th>first_lactate</th>\n",
       "      <th>first_creatinine</th>\n",
       "    </tr>\n",
       "  </thead>\n",
       "  <tbody>\n",
       "    <tr>\n",
       "      <th>0</th>\n",
       "      <td>1601</td>\n",
       "      <td>M</td>\n",
       "      <td>100160</td>\n",
       "      <td>2153-02-03 21:49:00.000</td>\n",
       "      <td>2153-02-07 15:30:00.000</td>\n",
       "      <td>None</td>\n",
       "      <td>EMERGENCY</td>\n",
       "      <td>WHITE</td>\n",
       "      <td>MICU</td>\n",
       "      <td>1.3</td>\n",
       "      <td>1.1</td>\n",
       "    </tr>\n",
       "    <tr>\n",
       "      <th>1</th>\n",
       "      <td>1886</td>\n",
       "      <td>M</td>\n",
       "      <td>162771</td>\n",
       "      <td>2183-04-25 10:40:00.000</td>\n",
       "      <td>2183-05-08 11:14:00.000</td>\n",
       "      <td>2183-05-08 11:14:00.000</td>\n",
       "      <td>EMERGENCY</td>\n",
       "      <td>WHITE</td>\n",
       "      <td>CCU</td>\n",
       "      <td>1.8</td>\n",
       "      <td>0.9</td>\n",
       "    </tr>\n",
       "    <tr>\n",
       "      <th>2</th>\n",
       "      <td>1918</td>\n",
       "      <td>M</td>\n",
       "      <td>132428</td>\n",
       "      <td>2107-04-08 07:03:00.000</td>\n",
       "      <td>2107-04-14 13:00:00.000</td>\n",
       "      <td>None</td>\n",
       "      <td>EMERGENCY</td>\n",
       "      <td>WHITE</td>\n",
       "      <td>MICU</td>\n",
       "      <td>1.0</td>\n",
       "      <td>None</td>\n",
       "    </tr>\n",
       "    <tr>\n",
       "      <th>3</th>\n",
       "      <td>4272</td>\n",
       "      <td>F</td>\n",
       "      <td>196156</td>\n",
       "      <td>2195-09-14 22:25:00.000</td>\n",
       "      <td>2195-09-26 12:45:00.000</td>\n",
       "      <td>2195-09-26 12:45:00.000</td>\n",
       "      <td>EMERGENCY</td>\n",
       "      <td>WHITE</td>\n",
       "      <td>TSICU</td>\n",
       "      <td>1.8</td>\n",
       "      <td>None</td>\n",
       "    </tr>\n",
       "    <tr>\n",
       "      <th>4</th>\n",
       "      <td>4457</td>\n",
       "      <td>M</td>\n",
       "      <td>163341</td>\n",
       "      <td>2158-10-17 07:15:00.000</td>\n",
       "      <td>2158-10-31 15:20:00.000</td>\n",
       "      <td>None</td>\n",
       "      <td>ELECTIVE</td>\n",
       "      <td>WHITE</td>\n",
       "      <td>CSRU</td>\n",
       "      <td>4.6</td>\n",
       "      <td>1.4</td>\n",
       "    </tr>\n",
       "  </tbody>\n",
       "</table>\n",
       "</div>"
      ],
      "text/plain": [
       "  subject_id gender hadm_id                admittime                dischtime  \\\n",
       "0       1601      M  100160  2153-02-03 21:49:00.000  2153-02-07 15:30:00.000   \n",
       "1       1886      M  162771  2183-04-25 10:40:00.000  2183-05-08 11:14:00.000   \n",
       "2       1918      M  132428  2107-04-08 07:03:00.000  2107-04-14 13:00:00.000   \n",
       "3       4272      F  196156  2195-09-14 22:25:00.000  2195-09-26 12:45:00.000   \n",
       "4       4457      M  163341  2158-10-17 07:15:00.000  2158-10-31 15:20:00.000   \n",
       "\n",
       "                 deathtime admission_type ethnicity first_careunit  \\\n",
       "0                     None      EMERGENCY     WHITE           MICU   \n",
       "1  2183-05-08 11:14:00.000      EMERGENCY     WHITE            CCU   \n",
       "2                     None      EMERGENCY     WHITE           MICU   \n",
       "3  2195-09-26 12:45:00.000      EMERGENCY     WHITE          TSICU   \n",
       "4                     None       ELECTIVE     WHITE           CSRU   \n",
       "\n",
       "  first_lactate first_creatinine  \n",
       "0           1.3              1.1  \n",
       "1           1.8              0.9  \n",
       "2           1.0             None  \n",
       "3           1.8             None  \n",
       "4           4.6              1.4  "
      ]
     },
     "metadata": {},
     "output_type": "display_data"
    }
   ],
   "source": [
    "%%runSQL \n",
    "\n",
    "\n",
    "SELECT \n",
    "    p.subject_id,\n",
    "    p.gender,\n",
    "    a.hadm_id,\n",
    "    a.admittime,\n",
    "    a.dischtime,\n",
    "    a.deathtime,\n",
    "    a.admission_type,\n",
    "    a.ethnicity,\n",
    "    i.first_careunit,\n",
    "    l1.valuenum AS first_lactate,\n",
    "    l2.valuenum AS first_creatinine\n",
    "FROM \n",
    "    patients p\n",
    "JOIN \n",
    "    admissions a ON p.subject_id = a.subject_id\n",
    "JOIN \n",
    "    icustays i ON a.hadm_id = i.hadm_id\n",
    "JOIN \n",
    "    diagnoses_icd d ON a.hadm_id = d.hadm_id\n",
    "LEFT JOIN \n",
    "    (SELECT le.subject_id, le.hadm_id, le.valuenum, le.charttime\n",
    "    FROM labevents le\n",
    "    JOIN patients p ON le.subject_id = p.subject_id\n",
    "    WHERE le.itemid = 50813\n",
    "    AND le.charttime = (\n",
    "        SELECT MIN(charttime)\n",
    "        FROM labevents\n",
    "        WHERE subject_id = le.subject_id\n",
    "        AND itemid = 50813\n",
    "    )) l1 ON p.subject_id = l1.subject_id AND a.hadm_id = l1.hadm_id\n",
    "LEFT JOIN \n",
    "    (SELECT le.subject_id, le.hadm_id, le.valuenum, le.charttime\n",
    "    FROM labevents le\n",
    "    JOIN patients p ON le.subject_id = p.subject_id\n",
    "    WHERE le.itemid = 50912\n",
    "    AND le.charttime = (\n",
    "        SELECT MIN(charttime)\n",
    "        FROM labevents\n",
    "        WHERE subject_id = le.subject_id\n",
    "        AND itemid = 50912\n",
    "    )) l2 ON p.subject_id = l2.subject_id AND a.hadm_id = l2.hadm_id\n",
    "WHERE \n",
    "    d.icd9_code IN ('99591', '99592', '78552')\n",
    "    AND DATE_DIFF('year', p.dob, a.admittime) >= 18\n",
    "    AND i.intime = (\n",
    "        SELECT MIN(intime)\n",
    "        FROM icustays\n",
    "        WHERE subject_id = p.subject_id\n",
    "    )\n",
    "GROUP BY \n",
    "    p.subject_id,\n",
    "    p.gender,\n",
    "    a.hadm_id,\n",
    "    a.admittime,\n",
    "    a.dischtime,\n",
    "    a.deathtime,\n",
    "    a.admission_type,\n",
    "    a.ethnicity,\n",
    "    i.first_careunit,\n",
    "    l1.valuenum,\n",
    "    l2.valuenum\n"
   ]
  },
  {
   "cell_type": "markdown",
   "id": "c4b332f4-44f7-447d-b4d2-d5d34a2adac6",
   "metadata": {},
   "source": [
    "Unfortunately could only get this working by allowing it to produce non-functional code and then getting it to fix the error. But I think it's sort of cool to see it fixing its own error (eventually this is the sort of thing that can be handled behind the scenes with agents)"
   ]
  },
  {
   "cell_type": "code",
   "execution_count": 11,
   "id": "5767d9bd-1d8a-42c9-aa44-5f21654c8c15",
   "metadata": {
    "ChapyterCell": {
     "cellType": "original"
    }
   },
   "outputs": [
    {
     "name": "stdout",
     "output_type": "stream",
     "text": [
      "\n"
     ]
    }
   ],
   "source": [
    "%%mimicPython\n",
    "How many unique patients do I have in my dataset? And are there any duplicated patients? I should have only have one entry per patient. "
   ]
  },
  {
   "cell_type": "code",
   "execution_count": 12,
   "id": "b496e56d-d979-4373-ac95-fc7ba97e8779",
   "metadata": {},
   "outputs": [
    {
     "name": "stdout",
     "output_type": "stream",
     "text": [
      "Number of unique patients:  3504\n",
      "Number of duplicated patients:  0\n"
     ]
    }
   ],
   "source": [
    "##AI-generated-code\n",
    "\n",
    "\n",
    "import pandas as pd\n",
    "\n",
    "# Count the number of unique patients\n",
    "num_unique_patients = df['subject_id'].nunique()\n",
    "print(\"Number of unique patients: \", num_unique_patients)\n",
    "\n",
    "# Check for duplicate patients\n",
    "duplicate_patients = df.duplicated(subset='subject_id', keep=False).sum()\n",
    "print(\"Number of duplicated patients: \", duplicate_patients)\n"
   ]
  },
  {
   "cell_type": "code",
   "execution_count": 13,
   "id": "8e70e906-a8a5-4c61-bffb-ec9e00abd837",
   "metadata": {
    "ChapyterCell": {
     "cellType": "original"
    }
   },
   "outputs": [
    {
     "name": "stdout",
     "output_type": "stream",
     "text": [
      "\n",
      "\n",
      "\n"
     ]
    }
   ],
   "source": [
    "%%mimicPython\n",
    "Write code to make histograms of the first creatinine and first lactate values (two separate plots) in df, breaking the lab values into 20 bins or so.\n",
    "Be sure to check the column names to make sure that they match exactly and exclude NA values. Be sure to \\\n",
    "    convert the lab values into numeric data types if they aren't numeric already. Do not modify the original \\\n",
    "    dataframe (df). "
   ]
  },
  {
   "cell_type": "code",
   "execution_count": 14,
   "id": "f420c717-2070-47ca-b043-371327728067",
   "metadata": {},
   "outputs": [
    {
     "data": {
      "image/png": "[encoded data removed]",
      "text/plain": [
       "<Figure size 1000x600 with 1 Axes>"
      ]
     },
     "metadata": {},
     "output_type": "display_data"
    },
    {
     "data": {
      "image/png": "[encoded data removed]",
      "text/plain": [
       "<Figure size 1000x600 with 1 Axes>"
      ]
     },
     "metadata": {},
     "output_type": "display_data"
    }
   ],
   "source": [
    "##AI-generated-code\n",
    "\n",
    "\n",
    "import matplotlib.pyplot as plt\n",
    "\n",
    "# Convert the lab values into numeric data types\n",
    "df['first_lactate'] = pd.to_numeric(df['first_lactate'], errors='coerce')\n",
    "df['first_creatinine'] = pd.to_numeric(df['first_creatinine'], errors='coerce')\n",
    "\n",
    "# Exclude NA values\n",
    "df_lactate = df['first_lactate'].dropna()\n",
    "df_creatinine = df['first_creatinine'].dropna()\n",
    "\n",
    "# Plot histogram for first lactate values\n",
    "plt.figure(figsize=(10, 6))\n",
    "plt.hist(df_lactate, bins=20, color='skyblue', edgecolor='black')\n",
    "plt.title('Histogram of First Lactate Values')\n",
    "plt.xlabel('First Lactate Values')\n",
    "plt.ylabel('Frequency')\n",
    "plt.show()\n",
    "\n",
    "# Plot histogram for first creatinine values\n",
    "plt.figure(figsize=(10, 6))\n",
    "plt.hist(df_creatinine, bins=20, color='skyblue', edgecolor='black')\n",
    "plt.title('Histogram of First Creatinine Values')\n",
    "plt.xlabel('First Creatinine Values')\n",
    "plt.ylabel('Frequency')\n",
    "plt.show()\n"
   ]
  },
  {
   "cell_type": "code",
   "execution_count": 15,
   "id": "47edc541-4885-4bab-91b4-aa5ea269c660",
   "metadata": {
    "ChapyterCell": {
     "cellType": "original"
    }
   },
   "outputs": [
    {
     "name": "stdout",
     "output_type": "stream",
     "text": [
      "\n",
      "\n",
      "\n"
     ]
    }
   ],
   "source": [
    "%%mimicPython --model gpt-3.5-turbo\n",
    "\n",
    "Can you tell me how many patients have a creatinine over 20? "
   ]
  },
  {
   "cell_type": "code",
   "execution_count": 16,
   "id": "337224f8-2ed8-4f6a-9a5c-5290a7aa1832",
   "metadata": {},
   "outputs": [
    {
     "name": "stdout",
     "output_type": "stream",
     "text": [
      "Number of patients with a creatinine over 20:  2\n"
     ]
    }
   ],
   "source": [
    "##AI-generated-code\n",
    "\n",
    "\n",
    "# Count the number of patients with a creatinine over 20\n",
    "num_patients_high_creatinine = df[df['first_creatinine'] > 20]['subject_id'].count()\n",
    "print(\"Number of patients with a creatinine over 20: \", num_patients_high_creatinine)\n"
   ]
  },
  {
   "cell_type": "code",
   "execution_count": 31,
   "id": "b0607024-6872-4e7e-9660-63facc59cb67",
   "metadata": {
    "ChapyterCell": {
     "cellType": "original"
    }
   },
   "outputs": [
    {
     "name": "stdout",
     "output_type": "stream",
     "text": [
      "\n"
     ]
    }
   ],
   "source": [
    "%%mimicPython\n",
    "Now can we plot the lactate vs. creatinine values for each patient? If a value of lactate or creatinine is missing for one subject, \\\n",
    "exclude them from the scatter plot entirely. Also exclude subjects with a creatinine >20. Make the points very, very small (the \\\n",
    "minimum number of pixels in order to just be visible) to minimize overlap. Lactate should be on the X axis and creatinine should be on the Y axis."
   ]
  },
  {
   "cell_type": "code",
   "execution_count": 32,
   "id": "a41aff27-b744-4bf6-8565-00f6047cbed4",
   "metadata": {},
   "outputs": [
    {
     "data": {
      "image/png": "[encoded data removed]",
      "text/plain": [
       "<Figure size 1000x600 with 1 Axes>"
      ]
     },
     "metadata": {},
     "output_type": "display_data"
    }
   ],
   "source": [
    "##AI-generated-code\n",
    "\n",
    "##AI-generated-code --- \n",
    "import matplotlib.pyplot as plt\n",
    "\n",
    "# Exclude subjects with missing values and creatinine > 20\n",
    "df_filtered = df.dropna(subset=['first_lactate', 'first_creatinine'])\n",
    "df_filtered = df_filtered[df_filtered['first_creatinine'] <= 20]\n",
    "\n",
    "# Plot lactate vs. creatinine\n",
    "plt.figure(figsize=(10, 6))\n",
    "plt.scatter(df_filtered['first_lactate'], df_filtered['first_creatinine'], s=1)\n",
    "plt.title('Lactate vs. Creatinine')\n",
    "plt.xlabel('First Lactate Values')\n",
    "plt.ylabel('First Creatinine Values')\n",
    "plt.show()"
   ]
  },
  {
   "cell_type": "code",
   "execution_count": null,
   "id": "affda857-d6d1-4e6d-9c87-971d5380d729",
   "metadata": {},
   "outputs": [],
   "source": []
  }
 ],
 "metadata": {
  "kernelspec": {
   "display_name": "Python 3 (ipykernel)",
   "language": "python",
   "name": "python3"
  },
  "language_info": {
   "codemirror_mode": {
    "name": "ipython",
    "version": 3
   },
   "file_extension": ".py",
   "mimetype": "text/x-python",
   "name": "python",
   "nbconvert_exporter": "python",
   "pygments_lexer": "ipython3",
   "version": "3.9.18"
  }
 },
 "nbformat": 4,
 "nbformat_minor": 5
}
