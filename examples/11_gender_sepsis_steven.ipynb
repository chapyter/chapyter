{
 "cells": [
  {
   "cell_type": "code",
   "execution_count": 3,
   "id": "8f6a1319-08ab-4408-beea-52d29b192fa3",
   "metadata": {},
   "outputs": [],
   "source": [
    "%load_ext autoreload"
   ]
  },
  {
   "cell_type": "code",
   "execution_count": 4,
   "id": "b19c79a0-e987-4cc9-95c1-2f1a2bed0208",
   "metadata": {},
   "outputs": [],
   "source": [
    "%autoreload 2"
   ]
  },
  {
   "cell_type": "code",
   "execution_count": 5,
   "id": "7f68b57f-98f5-4d3b-b2f0-74a26658d0b4",
   "metadata": {},
   "outputs": [],
   "source": []
  },
  {
   "cell_type": "code",
   "execution_count": 6,
   "id": "e6ab9a3d-cc59-4465-ad63-3658839a56f5",
   "metadata": {},
   "outputs": [
    {
     "name": "stderr",
     "output_type": "stream",
     "text": [
      "2023-09-25 19:01:42.592 WARNING streamlit.runtime.state.session_state_proxy: Session state does not function when running a script without `streamlit run`\n"
     ]
    }
   ],
   "source": [
    "%load_ext chapyter"
   ]
  },
  {
   "cell_type": "code",
   "execution_count": 7,
   "id": "6d3bc2a9-c44c-4786-8b53-e3eb3f161dd0",
   "metadata": {},
   "outputs": [],
   "source": [
    "import os\n",
    "os.environ[\"NOTEBOOK_NAME\"] = \"11_gender_sepsis_steven.ipynb\""
   ]
  },
  {
   "cell_type": "markdown",
   "id": "72054fb6-8d1c-4c04-a5df-e5d0d6431a19",
   "metadata": {},
   "source": [
    "# Notebook Summary\n",
    "\n",
    "## Goal: \n",
    "This notebook will attempt to replicate table 1 of a 2019 study on the association of sex with clinical outcome in critically ill sepsis patients. \n",
    "The study link is here: https://www.ncbi.nlm.nih.gov/pmc/articles/PMC6687414/pdf/shk-52-146.pdf\n",
    "\n",
    "## Summary Metrics: \n",
    "* All patients diagnosed with \"sepsis,\" \"severe sepsis,\" or \"septic shock\" were included\n",
    "  - The specific methodology is not defined, but presumably ICD-9 codes were used based on the tables they referenced\n",
    "* Patients under 18yo were excluded"
   ]
  },
  {
   "cell_type": "markdown",
   "id": "3d1bb4a9-aff0-42f6-821e-3089a8174328",
   "metadata": {},
   "source": [
    "### Step 1 – Pull the correct data from MIMIC"
   ]
  },
  {
   "cell_type": "code",
   "execution_count": 10,
   "id": "e527f4db-372a-4027-896d-d7731adee35d",
   "metadata": {
    "ChapyterCell": {
     "cellType": "original"
    }
   },
   "outputs": [
    {
     "name": "stdout",
     "output_type": "stream",
     "text": [
      "Sure, I can help with that. Here is a SQL query that retrieves the relevant data from the MIMIC-III dataset. This query selects patients over 18 years old with a diagnosis of sepsis, severe sepsis, or septic shock and their mortality status.\n",
      "\n",
      "\n",
      "\n",
      "This query returns the patient's ID, date of birth, gender, admission ID, admission time, discharge time, death time (if applicable), ICD9 code for the diagnosis, age at the time of admission, and a binary indicator for mortality (1 if the patient died during the hospital stay, 0 otherwise). The ICD9 codes '99591', '99592', and '78552' correspond to sepsis, severe sepsis, and septic shock, respectively.\n"
     ]
    }
   ],
   "source": [
    "%%mimicSQL2 --notebook_name 11_gender_sepsis_steven.ipynb\n",
    "\n",
    "I want to understand if patients over 18yo with a diagnosis of sepsis, severe sepsis, or septic shock have an association between age and mortality. Can you help pull the relevant data from MIMIC for me? "
   ]
  },
  {
   "cell_type": "code",
   "execution_count": 11,
   "id": "75b257c7-8490-4a9a-a61e-e3ed857376c6",
   "metadata": {},
   "outputs": [
    {
     "name": "stdout",
     "output_type": "stream",
     "text": [
      "Query failed! State: FAILED\n",
      "Reason: FUNCTION_NOT_FOUND: line 22:5: Function 'datediff' not registered\n"
     ]
    },
    {
     "ename": "AttributeError",
     "evalue": "'bool' object has no attribute 'head'",
     "output_type": "error",
     "traceback": [
      "\u001b[0;31m---------------------------------------------------------------------------\u001b[0m",
      "\u001b[0;31mAttributeError\u001b[0m                            Traceback (most recent call last)",
      "Cell \u001b[0;32mIn[11], line 1\u001b[0m\n\u001b[0;32m----> 1\u001b[0m \u001b[43mget_ipython\u001b[49m\u001b[43m(\u001b[49m\u001b[43m)\u001b[49m\u001b[38;5;241;43m.\u001b[39;49m\u001b[43mrun_cell_magic\u001b[49m\u001b[43m(\u001b[49m\u001b[38;5;124;43m'\u001b[39;49m\u001b[38;5;124;43mrunSQL\u001b[39;49m\u001b[38;5;124;43m'\u001b[39;49m\u001b[43m,\u001b[49m\u001b[43m \u001b[49m\u001b[38;5;124;43m'\u001b[39;49m\u001b[38;5;124;43m--notebook_name 11_gender_sepsis_steven.ipynb\u001b[39;49m\u001b[38;5;124;43m'\u001b[39;49m\u001b[43m,\u001b[49m\u001b[43m \u001b[49m\u001b[38;5;124;43m\"\u001b[39;49m\u001b[38;5;130;43;01m\\n\u001b[39;49;00m\u001b[38;5;124;43mSELECT \u001b[39;49m\u001b[38;5;130;43;01m\\n\u001b[39;49;00m\u001b[38;5;124;43m    patients.subject_id,\u001b[39;49m\u001b[38;5;130;43;01m\\n\u001b[39;49;00m\u001b[38;5;124;43m    patients.dob,\u001b[39;49m\u001b[38;5;130;43;01m\\n\u001b[39;49;00m\u001b[38;5;124;43m    patients.gender,\u001b[39;49m\u001b[38;5;130;43;01m\\n\u001b[39;49;00m\u001b[38;5;124;43m    admissions.hadm_id,\u001b[39;49m\u001b[38;5;130;43;01m\\n\u001b[39;49;00m\u001b[38;5;124;43m    admissions.admittime,\u001b[39;49m\u001b[38;5;130;43;01m\\n\u001b[39;49;00m\u001b[38;5;124;43m    admissions.dischtime,\u001b[39;49m\u001b[38;5;130;43;01m\\n\u001b[39;49;00m\u001b[38;5;124;43m    admissions.deathtime,\u001b[39;49m\u001b[38;5;130;43;01m\\n\u001b[39;49;00m\u001b[38;5;124;43m    diagnoses_icd.icd9_code,\u001b[39;49m\u001b[38;5;130;43;01m\\n\u001b[39;49;00m\u001b[38;5;124;43m    DATEDIFF(\u001b[39;49m\u001b[38;5;124;43m'\u001b[39;49m\u001b[38;5;124;43myear\u001b[39;49m\u001b[38;5;124;43m'\u001b[39;49m\u001b[38;5;124;43m, patients.dob, admissions.admittime) AS age,\u001b[39;49m\u001b[38;5;130;43;01m\\n\u001b[39;49;00m\u001b[38;5;124;43m    CASE \u001b[39;49m\u001b[38;5;130;43;01m\\n\u001b[39;49;00m\u001b[38;5;124;43m        WHEN admissions.deathtime IS NOT NULL THEN 1\u001b[39;49m\u001b[38;5;130;43;01m\\n\u001b[39;49;00m\u001b[38;5;124;43m        ELSE 0\u001b[39;49m\u001b[38;5;130;43;01m\\n\u001b[39;49;00m\u001b[38;5;124;43m    END AS mortality\u001b[39;49m\u001b[38;5;130;43;01m\\n\u001b[39;49;00m\u001b[38;5;124;43mFROM \u001b[39;49m\u001b[38;5;130;43;01m\\n\u001b[39;49;00m\u001b[38;5;124;43m    patients\u001b[39;49m\u001b[38;5;130;43;01m\\n\u001b[39;49;00m\u001b[38;5;124;43mJOIN \u001b[39;49m\u001b[38;5;130;43;01m\\n\u001b[39;49;00m\u001b[38;5;124;43m    admissions ON patients.subject_id = admissions.subject_id\u001b[39;49m\u001b[38;5;130;43;01m\\n\u001b[39;49;00m\u001b[38;5;124;43mJOIN \u001b[39;49m\u001b[38;5;130;43;01m\\n\u001b[39;49;00m\u001b[38;5;124;43m    diagnoses_icd ON admissions.hadm_id = diagnoses_icd.hadm_id\u001b[39;49m\u001b[38;5;130;43;01m\\n\u001b[39;49;00m\u001b[38;5;124;43mWHERE \u001b[39;49m\u001b[38;5;130;43;01m\\n\u001b[39;49;00m\u001b[38;5;124;43m    DATEDIFF(\u001b[39;49m\u001b[38;5;124;43m'\u001b[39;49m\u001b[38;5;124;43myear\u001b[39;49m\u001b[38;5;124;43m'\u001b[39;49m\u001b[38;5;124;43m, patients.dob, admissions.admittime) > 18\u001b[39;49m\u001b[38;5;130;43;01m\\n\u001b[39;49;00m\u001b[38;5;124;43m    AND (\u001b[39;49m\u001b[38;5;130;43;01m\\n\u001b[39;49;00m\u001b[38;5;124;43m        diagnoses_icd.icd9_code LIKE \u001b[39;49m\u001b[38;5;124;43m'\u001b[39;49m\u001b[38;5;124;43m99591\u001b[39;49m\u001b[38;5;124;43m'\u001b[39;49m\u001b[38;5;124;43m OR \u001b[39;49m\u001b[38;5;130;43;01m\\n\u001b[39;49;00m\u001b[38;5;124;43m        diagnoses_icd.icd9_code LIKE \u001b[39;49m\u001b[38;5;124;43m'\u001b[39;49m\u001b[38;5;124;43m99592\u001b[39;49m\u001b[38;5;124;43m'\u001b[39;49m\u001b[38;5;124;43m OR \u001b[39;49m\u001b[38;5;130;43;01m\\n\u001b[39;49;00m\u001b[38;5;124;43m        diagnoses_icd.icd9_code LIKE \u001b[39;49m\u001b[38;5;124;43m'\u001b[39;49m\u001b[38;5;124;43m78552\u001b[39;49m\u001b[38;5;124;43m'\u001b[39;49m\u001b[38;5;130;43;01m\\n\u001b[39;49;00m\u001b[38;5;124;43m    )\u001b[39;49m\u001b[38;5;130;43;01m\\n\u001b[39;49;00m\u001b[38;5;124;43m\"\u001b[39;49m\u001b[43m)\u001b[49m\n",
      "File \u001b[0;32m/opt/homebrew/lib/python3.11/site-packages/IPython/core/interactiveshell.py:2475\u001b[0m, in \u001b[0;36mInteractiveShell.run_cell_magic\u001b[0;34m(self, magic_name, line, cell)\u001b[0m\n\u001b[1;32m   2473\u001b[0m \u001b[38;5;28;01mwith\u001b[39;00m \u001b[38;5;28mself\u001b[39m\u001b[38;5;241m.\u001b[39mbuiltin_trap:\n\u001b[1;32m   2474\u001b[0m     args \u001b[38;5;241m=\u001b[39m (magic_arg_s, cell)\n\u001b[0;32m-> 2475\u001b[0m     result \u001b[38;5;241m=\u001b[39m \u001b[43mfn\u001b[49m\u001b[43m(\u001b[49m\u001b[38;5;241;43m*\u001b[39;49m\u001b[43margs\u001b[49m\u001b[43m,\u001b[49m\u001b[43m \u001b[49m\u001b[38;5;241;43m*\u001b[39;49m\u001b[38;5;241;43m*\u001b[39;49m\u001b[43mkwargs\u001b[49m\u001b[43m)\u001b[49m\n\u001b[1;32m   2477\u001b[0m \u001b[38;5;66;03m# The code below prevents the output from being displayed\u001b[39;00m\n\u001b[1;32m   2478\u001b[0m \u001b[38;5;66;03m# when using magics with decodator @output_can_be_silenced\u001b[39;00m\n\u001b[1;32m   2479\u001b[0m \u001b[38;5;66;03m# when the last Python token in the expression is a ';'.\u001b[39;00m\n\u001b[1;32m   2480\u001b[0m \u001b[38;5;28;01mif\u001b[39;00m \u001b[38;5;28mgetattr\u001b[39m(fn, magic\u001b[38;5;241m.\u001b[39mMAGIC_OUTPUT_CAN_BE_SILENCED, \u001b[38;5;28;01mFalse\u001b[39;00m):\n",
      "File \u001b[0;32m~/Mocha/Code/chapyterMed/chapyter/magic.py:702\u001b[0m, in \u001b[0;36mChapyter.runSQL\u001b[0;34m(self, line, cell)\u001b[0m\n\u001b[1;32m    699\u001b[0m execution_id \u001b[38;5;241m=\u001b[39m \u001b[38;5;28mself\u001b[39m\u001b[38;5;241m.\u001b[39mshell\u001b[38;5;241m.\u001b[39mexecution_count\n\u001b[1;32m    701\u001b[0m df, sql_query \u001b[38;5;241m=\u001b[39m sql_query_to_athena_df(current_message)\n\u001b[0;32m--> 702\u001b[0m display(\u001b[43mdf\u001b[49m\u001b[38;5;241;43m.\u001b[39;49m\u001b[43mhead\u001b[49m(\u001b[38;5;241m5\u001b[39m))\n\u001b[1;32m    703\u001b[0m \u001b[38;5;28mself\u001b[39m\u001b[38;5;241m.\u001b[39mshell\u001b[38;5;241m.\u001b[39muser_ns[\u001b[38;5;124m'\u001b[39m\u001b[38;5;124mdf\u001b[39m\u001b[38;5;124m'\u001b[39m] \u001b[38;5;241m=\u001b[39m df\n\u001b[1;32m    705\u001b[0m first_two_rows_str \u001b[38;5;241m=\u001b[39m df\u001b[38;5;241m.\u001b[39mhead(\u001b[38;5;241m2\u001b[39m)\u001b[38;5;241m.\u001b[39mto_string()\n",
      "\u001b[0;31mAttributeError\u001b[0m: 'bool' object has no attribute 'head'"
     ]
    }
   ],
   "source": [
    "%%runSQL --notebook_name 11_gender_sepsis_steven.ipynb\n",
    "\n",
    "SELECT \n",
    "    patients.subject_id,\n",
    "    patients.dob,\n",
    "    patients.gender,\n",
    "    admissions.hadm_id,\n",
    "    admissions.admittime,\n",
    "    admissions.dischtime,\n",
    "    admissions.deathtime,\n",
    "    diagnoses_icd.icd9_code,\n",
    "    DATEDIFF('year', patients.dob, admissions.admittime) AS age,\n",
    "    CASE \n",
    "        WHEN admissions.deathtime IS NOT NULL THEN 1\n",
    "        ELSE 0\n",
    "    END AS mortality\n",
    "FROM \n",
    "    patients\n",
    "JOIN \n",
    "    admissions ON patients.subject_id = admissions.subject_id\n",
    "JOIN \n",
    "    diagnoses_icd ON admissions.hadm_id = diagnoses_icd.hadm_id\n",
    "WHERE \n",
    "    DATEDIFF('year', patients.dob, admissions.admittime) > 18\n",
    "    AND (\n",
    "        diagnoses_icd.icd9_code LIKE '99591' OR \n",
    "        diagnoses_icd.icd9_code LIKE '99592' OR \n",
    "        diagnoses_icd.icd9_code LIKE '78552'\n",
    "    )"
   ]
  },
  {
   "cell_type": "code",
   "execution_count": 13,
   "id": "4917c58b-0876-4508-b216-9654eb6c99e5",
   "metadata": {
    "ChapyterCell": {
     "cellType": "original"
    }
   },
   "outputs": [
    {
     "name": "stdout",
     "output_type": "stream",
     "text": [
      "Sure, I can help with that. Here is a SQL query that retrieves the relevant data from the MIMIC-III dataset. This query selects patients over 18 years old with a diagnosis of sepsis, severe sepsis, or septic shock and their mortality status.\n",
      "\n",
      "\n",
      "\n",
      "This query returns the patient's ID, date of birth, gender, admission ID, admission time, discharge time, death time (if applicable), ICD9 code for the diagnosis, age at the time of admission, and a binary indicator for mortality (1 if the patient died during the hospital stay, 0 otherwise). The ICD9 codes '99591', '99592', and '78552' correspond to sepsis, severe sepsis, and septic shock, respectively.\n"
     ]
    }
   ],
   "source": [
    "%%mimicSQL2 --notebook_name 11_gender_sepsis_steven.ipynb\n",
    "\n",
    "we got an error - can you fix it? "
   ]
  },
  {
   "cell_type": "markdown",
   "id": "2539ab51-8662-4bd0-b2fc-7969784ea727",
   "metadata": {},
   "source": [
    "## This query works!"
   ]
  },
  {
   "cell_type": "code",
   "execution_count": 14,
   "id": "2c86e172-57ee-4005-bf36-aec32f8f25de",
   "metadata": {
    "ChapyterCell": {
     "cellType": "original"
    }
   },
   "outputs": [
    {
     "data": {
      "text/html": [
       "<div>\n",
       "<style scoped>\n",
       "    .dataframe tbody tr th:only-of-type {\n",
       "        vertical-align: middle;\n",
       "    }\n",
       "\n",
       "    .dataframe tbody tr th {\n",
       "        vertical-align: top;\n",
       "    }\n",
       "\n",
       "    .dataframe thead th {\n",
       "        text-align: right;\n",
       "    }\n",
       "</style>\n",
       "<table border=\"1\" class=\"dataframe\">\n",
       "  <thead>\n",
       "    <tr style=\"text-align: right;\">\n",
       "      <th></th>\n",
       "      <th>subject_id</th>\n",
       "      <th>dob</th>\n",
       "      <th>gender</th>\n",
       "      <th>hadm_id</th>\n",
       "      <th>admittime</th>\n",
       "      <th>dischtime</th>\n",
       "      <th>deathtime</th>\n",
       "      <th>icd9_code</th>\n",
       "      <th>age</th>\n",
       "      <th>mortality</th>\n",
       "    </tr>\n",
       "  </thead>\n",
       "  <tbody>\n",
       "    <tr>\n",
       "      <th>0</th>\n",
       "      <td>66876</td>\n",
       "      <td>2057-06-23 00:00:00.000</td>\n",
       "      <td>M</td>\n",
       "      <td>122645</td>\n",
       "      <td>2133-02-09 14:00:00.000</td>\n",
       "      <td>2133-02-20 13:38:00.000</td>\n",
       "      <td>2133-02-20 13:38:00.000</td>\n",
       "      <td>99592</td>\n",
       "      <td>76</td>\n",
       "      <td>1</td>\n",
       "    </tr>\n",
       "    <tr>\n",
       "      <th>1</th>\n",
       "      <td>66876</td>\n",
       "      <td>2057-06-23 00:00:00.000</td>\n",
       "      <td>M</td>\n",
       "      <td>122645</td>\n",
       "      <td>2133-02-09 14:00:00.000</td>\n",
       "      <td>2133-02-20 13:38:00.000</td>\n",
       "      <td>2133-02-20 13:38:00.000</td>\n",
       "      <td>78552</td>\n",
       "      <td>76</td>\n",
       "      <td>1</td>\n",
       "    </tr>\n",
       "    <tr>\n",
       "      <th>2</th>\n",
       "      <td>66894</td>\n",
       "      <td>2069-03-07 00:00:00.000</td>\n",
       "      <td>F</td>\n",
       "      <td>157688</td>\n",
       "      <td>2126-08-10 21:10:00.000</td>\n",
       "      <td>2126-08-11 19:29:00.000</td>\n",
       "      <td>2126-08-11 19:29:00.000</td>\n",
       "      <td>99592</td>\n",
       "      <td>57</td>\n",
       "      <td>1</td>\n",
       "    </tr>\n",
       "    <tr>\n",
       "      <th>3</th>\n",
       "      <td>66894</td>\n",
       "      <td>2069-03-07 00:00:00.000</td>\n",
       "      <td>F</td>\n",
       "      <td>157688</td>\n",
       "      <td>2126-08-10 21:10:00.000</td>\n",
       "      <td>2126-08-11 19:29:00.000</td>\n",
       "      <td>2126-08-11 19:29:00.000</td>\n",
       "      <td>78552</td>\n",
       "      <td>57</td>\n",
       "      <td>1</td>\n",
       "    </tr>\n",
       "    <tr>\n",
       "      <th>4</th>\n",
       "      <td>66965</td>\n",
       "      <td>2116-06-07 00:00:00.000</td>\n",
       "      <td>M</td>\n",
       "      <td>177338</td>\n",
       "      <td>2198-01-22 22:20:00.000</td>\n",
       "      <td>2198-02-14 14:51:00.000</td>\n",
       "      <td>None</td>\n",
       "      <td>99591</td>\n",
       "      <td>82</td>\n",
       "      <td>0</td>\n",
       "    </tr>\n",
       "  </tbody>\n",
       "</table>\n",
       "</div>"
      ],
      "text/plain": [
       "  subject_id                      dob gender hadm_id                admittime   \n",
       "0      66876  2057-06-23 00:00:00.000      M  122645  2133-02-09 14:00:00.000  \\\n",
       "1      66876  2057-06-23 00:00:00.000      M  122645  2133-02-09 14:00:00.000   \n",
       "2      66894  2069-03-07 00:00:00.000      F  157688  2126-08-10 21:10:00.000   \n",
       "3      66894  2069-03-07 00:00:00.000      F  157688  2126-08-10 21:10:00.000   \n",
       "4      66965  2116-06-07 00:00:00.000      M  177338  2198-01-22 22:20:00.000   \n",
       "\n",
       "                 dischtime                deathtime icd9_code age mortality  \n",
       "0  2133-02-20 13:38:00.000  2133-02-20 13:38:00.000     99592  76         1  \n",
       "1  2133-02-20 13:38:00.000  2133-02-20 13:38:00.000     78552  76         1  \n",
       "2  2126-08-11 19:29:00.000  2126-08-11 19:29:00.000     99592  57         1  \n",
       "3  2126-08-11 19:29:00.000  2126-08-11 19:29:00.000     78552  57         1  \n",
       "4  2198-02-14 14:51:00.000                     None     99591  82         0  "
      ]
     },
     "metadata": {},
     "output_type": "display_data"
    }
   ],
   "source": [
    "%%runSQL --notebook_name 11_gender_sepsis_steven.ipynb\n",
    "\n",
    "SELECT \n",
    "    p.subject_id, \n",
    "    p.dob, \n",
    "    p.gender, \n",
    "    a.hadm_id, \n",
    "    a.admittime, \n",
    "    a.dischtime, \n",
    "    a.deathtime, \n",
    "    d.icd9_code, \n",
    "    EXTRACT(YEAR FROM a.admittime) - EXTRACT(YEAR FROM p.dob) AS age, \n",
    "    CASE WHEN a.deathtime IS NOT NULL THEN 1 ELSE 0 END AS mortality\n",
    "FROM \n",
    "    patients p\n",
    "JOIN \n",
    "    admissions a ON p.subject_id = a.subject_id\n",
    "JOIN \n",
    "    diagnoses_icd d ON a.hadm_id = d.hadm_id\n",
    "WHERE \n",
    "    d.icd9_code IN ('99591', '99592', '78552') \n",
    "    AND EXTRACT(YEAR FROM a.admittime) - EXTRACT(YEAR FROM p.dob) > 18"
   ]
  },
  {
   "cell_type": "markdown",
   "id": "1f901f67-435c-43cc-bf76-6b2f658e58ed",
   "metadata": {},
   "source": [
    "### Note:\n",
    "I was unable to get mechanical ventilation time to work. I didn't try SOFA or SAPS, which are likely too complicated right now. I also did not try vasoactive drugs applied or dialysis demand, which would likely require agents since multi-step thinking is required. "
   ]
  },
  {
   "cell_type": "code",
   "execution_count": 21,
   "id": "106fbcfc-6538-4782-ae30-3dfc64560387",
   "metadata": {
    "ChapyterCell": {
     "cellType": "original"
    }
   },
   "outputs": [
    {
     "name": "stdout",
     "output_type": "stream",
     "text": [
      "Absolutely, I can modify the query to include the additional data you need. Here is the updated SQL query:\n",
      "This query now also returns the patient's ethnicity, admission type, admission location, first ICU service, and the date of ICU admission and discharge.\n"
     ]
    }
   ],
   "source": [
    "%%mimicSQL2 --notebook_name 11_gender_sepsis_steven.ipynb \n",
    "\n",
    "The last query you wrote is great, but I forgot a few pieces of data we need. Can you get ethnicity, admission type and location, first ICU service, date of ICU admission and discharge?"
   ]
  },
  {
   "cell_type": "code",
   "execution_count": 22,
   "id": "212540fc-46fd-4f5c-ae23-bcae93e0e6c1",
   "metadata": {
    "ChapyterCell": {
     "cellType": "original"
    }
   },
   "outputs": [
    {
     "data": {
      "text/html": [
       "<div>\n",
       "<style scoped>\n",
       "    .dataframe tbody tr th:only-of-type {\n",
       "        vertical-align: middle;\n",
       "    }\n",
       "\n",
       "    .dataframe tbody tr th {\n",
       "        vertical-align: top;\n",
       "    }\n",
       "\n",
       "    .dataframe thead th {\n",
       "        text-align: right;\n",
       "    }\n",
       "</style>\n",
       "<table border=\"1\" class=\"dataframe\">\n",
       "  <thead>\n",
       "    <tr style=\"text-align: right;\">\n",
       "      <th></th>\n",
       "      <th>subject_id</th>\n",
       "      <th>dob</th>\n",
       "      <th>gender</th>\n",
       "      <th>hadm_id</th>\n",
       "      <th>admittime</th>\n",
       "      <th>dischtime</th>\n",
       "      <th>deathtime</th>\n",
       "      <th>admission_type</th>\n",
       "      <th>admission_location</th>\n",
       "      <th>ethnicity</th>\n",
       "      <th>first_careunit</th>\n",
       "      <th>icu_intime</th>\n",
       "      <th>icu_outtime</th>\n",
       "      <th>icd9_code</th>\n",
       "      <th>age_at_admission</th>\n",
       "      <th>mortality</th>\n",
       "    </tr>\n",
       "  </thead>\n",
       "  <tbody>\n",
       "    <tr>\n",
       "      <th>0</th>\n",
       "      <td>250</td>\n",
       "      <td>2164-12-27 00:00:00.000</td>\n",
       "      <td>F</td>\n",
       "      <td>124271</td>\n",
       "      <td>2188-11-12 09:22:00.000</td>\n",
       "      <td>2188-11-22 12:00:00.000</td>\n",
       "      <td>2188-11-22 12:00:00.000</td>\n",
       "      <td>EMERGENCY</td>\n",
       "      <td>EMERGENCY ROOM ADMIT</td>\n",
       "      <td>BLACK/AFRICAN AMERICAN</td>\n",
       "      <td>MICU</td>\n",
       "      <td>2188-11-12 09:25:47.000</td>\n",
       "      <td>2188-11-23 01:24:45.000</td>\n",
       "      <td>78552</td>\n",
       "      <td>24</td>\n",
       "      <td>1</td>\n",
       "    </tr>\n",
       "    <tr>\n",
       "      <th>1</th>\n",
       "      <td>250</td>\n",
       "      <td>2164-12-27 00:00:00.000</td>\n",
       "      <td>F</td>\n",
       "      <td>124271</td>\n",
       "      <td>2188-11-12 09:22:00.000</td>\n",
       "      <td>2188-11-22 12:00:00.000</td>\n",
       "      <td>2188-11-22 12:00:00.000</td>\n",
       "      <td>EMERGENCY</td>\n",
       "      <td>EMERGENCY ROOM ADMIT</td>\n",
       "      <td>BLACK/AFRICAN AMERICAN</td>\n",
       "      <td>MICU</td>\n",
       "      <td>2188-11-12 09:25:47.000</td>\n",
       "      <td>2188-11-23 01:24:45.000</td>\n",
       "      <td>99592</td>\n",
       "      <td>24</td>\n",
       "      <td>1</td>\n",
       "    </tr>\n",
       "    <tr>\n",
       "      <th>2</th>\n",
       "      <td>269</td>\n",
       "      <td>2130-09-30 00:00:00.000</td>\n",
       "      <td>M</td>\n",
       "      <td>106296</td>\n",
       "      <td>2170-11-05 11:04:00.000</td>\n",
       "      <td>2170-11-27 18:00:00.000</td>\n",
       "      <td>None</td>\n",
       "      <td>EMERGENCY</td>\n",
       "      <td>EMERGENCY ROOM ADMIT</td>\n",
       "      <td>WHITE</td>\n",
       "      <td>MICU</td>\n",
       "      <td>2170-11-05 11:05:29.000</td>\n",
       "      <td>2170-11-08 17:46:57.000</td>\n",
       "      <td>78552</td>\n",
       "      <td>40</td>\n",
       "      <td>0</td>\n",
       "    </tr>\n",
       "    <tr>\n",
       "      <th>3</th>\n",
       "      <td>269</td>\n",
       "      <td>2130-09-30 00:00:00.000</td>\n",
       "      <td>M</td>\n",
       "      <td>106296</td>\n",
       "      <td>2170-11-05 11:04:00.000</td>\n",
       "      <td>2170-11-27 18:00:00.000</td>\n",
       "      <td>None</td>\n",
       "      <td>EMERGENCY</td>\n",
       "      <td>EMERGENCY ROOM ADMIT</td>\n",
       "      <td>WHITE</td>\n",
       "      <td>MICU</td>\n",
       "      <td>2170-11-05 11:05:29.000</td>\n",
       "      <td>2170-11-08 17:46:57.000</td>\n",
       "      <td>99592</td>\n",
       "      <td>40</td>\n",
       "      <td>0</td>\n",
       "    </tr>\n",
       "    <tr>\n",
       "      <th>4</th>\n",
       "      <td>689</td>\n",
       "      <td>2128-12-27 00:00:00.000</td>\n",
       "      <td>F</td>\n",
       "      <td>129080</td>\n",
       "      <td>2183-04-01 13:56:00.000</td>\n",
       "      <td>2183-04-09 12:00:00.000</td>\n",
       "      <td>None</td>\n",
       "      <td>EMERGENCY</td>\n",
       "      <td>EMERGENCY ROOM ADMIT</td>\n",
       "      <td>BLACK/AFRICAN AMERICAN</td>\n",
       "      <td>MICU</td>\n",
       "      <td>2183-04-02 00:43:43.000</td>\n",
       "      <td>2183-04-04 22:30:03.000</td>\n",
       "      <td>99591</td>\n",
       "      <td>55</td>\n",
       "      <td>0</td>\n",
       "    </tr>\n",
       "  </tbody>\n",
       "</table>\n",
       "</div>"
      ],
      "text/plain": [
       "  subject_id                      dob gender hadm_id                admittime   \n",
       "0        250  2164-12-27 00:00:00.000      F  124271  2188-11-12 09:22:00.000  \\\n",
       "1        250  2164-12-27 00:00:00.000      F  124271  2188-11-12 09:22:00.000   \n",
       "2        269  2130-09-30 00:00:00.000      M  106296  2170-11-05 11:04:00.000   \n",
       "3        269  2130-09-30 00:00:00.000      M  106296  2170-11-05 11:04:00.000   \n",
       "4        689  2128-12-27 00:00:00.000      F  129080  2183-04-01 13:56:00.000   \n",
       "\n",
       "                 dischtime                deathtime admission_type   \n",
       "0  2188-11-22 12:00:00.000  2188-11-22 12:00:00.000      EMERGENCY  \\\n",
       "1  2188-11-22 12:00:00.000  2188-11-22 12:00:00.000      EMERGENCY   \n",
       "2  2170-11-27 18:00:00.000                     None      EMERGENCY   \n",
       "3  2170-11-27 18:00:00.000                     None      EMERGENCY   \n",
       "4  2183-04-09 12:00:00.000                     None      EMERGENCY   \n",
       "\n",
       "     admission_location               ethnicity first_careunit   \n",
       "0  EMERGENCY ROOM ADMIT  BLACK/AFRICAN AMERICAN           MICU  \\\n",
       "1  EMERGENCY ROOM ADMIT  BLACK/AFRICAN AMERICAN           MICU   \n",
       "2  EMERGENCY ROOM ADMIT                   WHITE           MICU   \n",
       "3  EMERGENCY ROOM ADMIT                   WHITE           MICU   \n",
       "4  EMERGENCY ROOM ADMIT  BLACK/AFRICAN AMERICAN           MICU   \n",
       "\n",
       "                icu_intime              icu_outtime icd9_code   \n",
       "0  2188-11-12 09:25:47.000  2188-11-23 01:24:45.000     78552  \\\n",
       "1  2188-11-12 09:25:47.000  2188-11-23 01:24:45.000     99592   \n",
       "2  2170-11-05 11:05:29.000  2170-11-08 17:46:57.000     78552   \n",
       "3  2170-11-05 11:05:29.000  2170-11-08 17:46:57.000     99592   \n",
       "4  2183-04-02 00:43:43.000  2183-04-04 22:30:03.000     99591   \n",
       "\n",
       "  age_at_admission mortality  \n",
       "0               24         1  \n",
       "1               24         1  \n",
       "2               40         0  \n",
       "3               40         0  \n",
       "4               55         0  "
      ]
     },
     "metadata": {},
     "output_type": "display_data"
    }
   ],
   "source": [
    "%%runSQL --notebook_name 11_gender_sepsis_steven.ipynb\n",
    "\n",
    "SELECT \n",
    "    p.subject_id, \n",
    "    p.dob, \n",
    "    p.gender, \n",
    "    a.hadm_id, \n",
    "    a.admittime, \n",
    "    a.dischtime, \n",
    "    a.deathtime, \n",
    "    a.admission_type, \n",
    "    a.admission_location, \n",
    "    a.ethnicity,\n",
    "    i.first_careunit,\n",
    "    i.intime as icu_intime,\n",
    "    i.outtime as icu_outtime,\n",
    "    d.icd9_code, \n",
    "    EXTRACT(YEAR FROM a.admittime) - EXTRACT(YEAR FROM p.dob) AS age_at_admission, \n",
    "    CASE WHEN a.deathtime IS NOT NULL THEN 1 ELSE 0 END AS mortality\n",
    "FROM \n",
    "    patients p\n",
    "JOIN \n",
    "    admissions a ON p.subject_id = a.subject_id\n",
    "JOIN \n",
    "    icustays i ON a.hadm_id = i.hadm_id\n",
    "JOIN \n",
    "    diagnoses_icd d ON a.hadm_id = d.hadm_id\n",
    "WHERE \n",
    "    (d.icd9_code = '99591' OR d.icd9_code = '99592' OR d.icd9_code = '78552') \n",
    "    AND EXTRACT(YEAR FROM a.admittime) - EXTRACT(YEAR FROM p.dob) > 18"
   ]
  },
  {
   "cell_type": "markdown",
   "id": "98277571-7301-482d-a511-30f829bdbb47",
   "metadata": {},
   "source": [
    "### Step 2 – Get a few extra data fields using python. I think we have everything we need via SQL\n",
    "\n",
    "#### Additional Data Fields to Get: \n",
    "* 1-year mortality (defined as death within 1 year after ICU admission\n",
    "* Hospital length of stay (calculated from date of admission)\n",
    "* ICU length of stay\n",
    "* 90-day mortality\n",
    "\n",
    "#### Note: \n",
    "We do not have access to the date of death from the social security database to determine out-of-hospital mortality. We may need to exclude these patients when we do death calculations. "
   ]
  },
  {
   "cell_type": "code",
   "execution_count": 25,
   "id": "91fdf7d1-517e-47a7-8046-3382c5f5ca5f",
   "metadata": {
    "ChapyterCell": {
     "cellType": "original"
    }
   },
   "outputs": [
    {
     "name": "stdout",
     "output_type": "stream",
     "text": [
      "Sure, I can help with that. Here's how you can calculate the additional fields:\n",
      "\n",
      "```python\n",
      "import pandas as pd\n",
      "from datetime import timedelta\n",
      "\n",
      "# Convert the admission and discharge times to datetime\n",
      "df['admittime'] = pd.to_datetime(df['admittime'])\n",
      "df['dischtime'] = pd.to_datetime(df['dischtime'])\n",
      "df['deathtime'] = pd.to_datetime(df['deathtime'])\n",
      "df['icu_intime'] = pd.to_datetime(df['icu_intime'])\n",
      "df['icu_outtime'] = pd.to_datetime(df['icu_outtime'])\n",
      "\n",
      "# Calculate the hospital length of stay\n",
      "df['hospital_los'] = (df['dischtime'] - df['admittime']).dt.total_seconds() / (60 * 60 * 24)\n",
      "\n",
      "# Calculate the ICU length of stay\n",
      "df['icu_los'] = (df['icu_outtime'] - df['icu_intime']).dt.total_seconds() / (60 * 60 * 24)\n",
      "\n",
      "# Calculate 1-year mortality\n",
      "df['1_year_mortality'] = ((df['deathtime'] - df['admittime']) <= pd.Timedelta(days=365)).astype(int)\n",
      "\n",
      "# Calculate 90-day mortality\n",
      "df['90_day_mortality'] = ((df['deathtime'] - df['admittime']) <= pd.Timedelta(days=90)).astype(int)\n",
      "```\n",
      "\n",
      "This code first converts the admission and discharge times to datetime format, then calculates the hospital and ICU lengths of stay in days. It also calculates 1-year and 90-day mortality as binary indicators (1 if the patient died within 1 year or 90 days of ICU admission, 0 otherwise).\n",
      "\n",
      "\n",
      "Result :      subject_id                      dob gender hadm_id           admittime   \n",
      "0           250  2164-12-27 00:00:00.000      F  124271 2188-11-12 09:22:00  \\\n",
      "1           250  2164-12-27 00:00:00.000      F  124271 2188-11-12 09:22:00   \n",
      "2           269  2130-09-30 00:00:00.000      M  106296 2170-11-05 11:04:00   \n",
      "3           269  2130-09-30 00:00:00.000      M  106296 2170-11-05 11:04:00   \n",
      "4           689  2128-12-27 00:00:00.000      F  129080 2183-04-01 13:56:00   \n",
      "...         ...                      ...    ...     ...                 ...   \n",
      "8873      73755  2066-10-11 00:00:00.000      M  197999 2138-11-25 18:19:00   \n",
      "8874      73755  2066-10-11 00:00:00.000      M  197999 2138-11-25 18:19:00   \n",
      "8875      73756  2137-07-28 00:00:00.000      F  108832 2199-07-13 11:17:00   \n",
      "8876      73756  2137-07-28 00:00:00.000      F  108832 2199-07-13 11:17:00   \n",
      "8877      73758  2122-06-13 00:00:00.000      M  155030 2177-08-27 22:18:00   \n",
      "\n",
      "               dischtime           deathtime admission_type   \n",
      "0    2188-11-22 12:00:00 2188-11-22 12:00:00      EMERGENCY  \\\n",
      "1    2188-11-22 12:00:00 2188-11-22 12:00:00      EMERGENCY   \n",
      "2    2170-11-27 18:00:00                 NaT      EMERGENCY   \n",
      "3    2170-11-27 18:00:00                 NaT      EMERGENCY   \n",
      "4    2183-04-09 12:00:00                 NaT      EMERGENCY   \n",
      "...                  ...                 ...            ...   \n",
      "8873 2138-12-14 06:15:00 2138-12-14 06:15:00      EMERGENCY   \n",
      "8874 2138-12-14 06:15:00 2138-12-14 06:15:00      EMERGENCY   \n",
      "8875 2199-07-19 17:30:00                 NaT      EMERGENCY   \n",
      "8876 2199-07-19 17:30:00                 NaT      EMERGENCY   \n",
      "8877 2177-09-08 14:13:00                 NaT      EMERGENCY   \n",
      "\n",
      "             admission_location               ethnicity first_careunit   \n",
      "0          EMERGENCY ROOM ADMIT  BLACK/AFRICAN AMERICAN           MICU  \\\n",
      "1          EMERGENCY ROOM ADMIT  BLACK/AFRICAN AMERICAN           MICU   \n",
      "2          EMERGENCY ROOM ADMIT                   WHITE           MICU   \n",
      "3          EMERGENCY ROOM ADMIT                   WHITE           MICU   \n",
      "4          EMERGENCY ROOM ADMIT  BLACK/AFRICAN AMERICAN           MICU   \n",
      "...                         ...                     ...            ...   \n",
      "8873  CLINIC REFERRAL/PREMATURE                   ASIAN           MICU   \n",
      "8874  CLINIC REFERRAL/PREMATURE                   ASIAN           SICU   \n",
      "8875  CLINIC REFERRAL/PREMATURE              PORTUGUESE           SICU   \n",
      "8876  CLINIC REFERRAL/PREMATURE              PORTUGUESE            CCU   \n",
      "8877  CLINIC REFERRAL/PREMATURE                   WHITE           MICU   \n",
      "\n",
      "              icu_intime         icu_outtime icd9_code age_at_admission   \n",
      "0    2188-11-12 09:25:47 2188-11-23 01:24:45     78552               24  \\\n",
      "1    2188-11-12 09:25:47 2188-11-23 01:24:45     99592               24   \n",
      "2    2170-11-05 11:05:29 2170-11-08 17:46:57     78552               40   \n",
      "3    2170-11-05 11:05:29 2170-11-08 17:46:57     99592               40   \n",
      "4    2183-04-02 00:43:43 2183-04-04 22:30:03     99591               55   \n",
      "...                  ...                 ...       ...              ...   \n",
      "8873 2138-12-06 12:14:34 2138-12-14 12:31:33     99592               72   \n",
      "8874 2138-11-25 18:20:32 2138-11-26 17:40:14     99592               72   \n",
      "8875 2199-07-16 08:21:44 2199-07-17 16:35:45     99592               62   \n",
      "8876 2199-07-13 11:18:16 2199-07-15 01:17:10     99592               62   \n",
      "8877 2177-08-29 13:32:08 2177-08-31 21:07:36     99591               55   \n",
      "\n",
      "     mortality  hospital_los    icu_los  1_year_mortality  90_day_mortality  \n",
      "0            1     10.109722  10.665949                 1                 1  \n",
      "1            1     10.109722  10.665949                 1                 1  \n",
      "2            0     22.288889   3.278796                 0                 0  \n",
      "3            0     22.288889   3.278796                 0                 0  \n",
      "4            0      7.919444   2.907176                 0                 0  \n",
      "...        ...           ...        ...               ...               ...  \n",
      "8873         1     18.497222   8.011794                 1                 1  \n",
      "8874         1     18.497222   0.972014                 1                 1  \n",
      "8875         0      6.259028   1.343067                 0                 0  \n",
      "8876         0      6.259028   1.582569                 0                 0  \n",
      "8877         0     11.663194   2.316296                 0                 0  \n",
      "\n",
      "[8878 rows x 20 columns]\n"
     ]
    }
   ],
   "source": [
    "%%mimicPython\n",
    "\n",
    "Can you calculate a few additional fields for me? I'd like help with the following added to the table from MIMIC: \n",
    "\n",
    "- 1-year mortality (defined as death within 1 year after ICU admission\n",
    "- Hospital length of stay (calculated from date of admission)\n",
    "- ICU length of stay\n",
    "- 90-day mortality\n",
    "\n",
    "In the past you tried to use a DoD column but DoD does not exist. Please use only columns that exist in the dataframe"
   ]
  },
  {
   "cell_type": "code",
   "execution_count": 24,
   "id": "e12212b3-13e5-4a55-8645-4fe3b66b089e",
   "metadata": {},
   "outputs": [
    {
     "name": "stdout",
     "output_type": "stream",
     "text": [
      "I apologize for the confusion earlier. It seems like the 'dod' column might not exist in the dataframe or it might not be in the correct format. Let's first check if the 'dod' column exists and if it's in the correct datetime format:\n",
      "\n",
      "```python\n",
      "# Check if 'dod' column exists\n",
      "if 'dod' in df.columns:\n",
      "    # Check the datatype of 'dod'\n",
      "    if df['dod'].dtype == 'object':\n",
      "        # Convert 'dod' to datetime\n",
      "        df['dod'] = pd.to_datetime(df['dod'])\n",
      "    else:\n",
      "        print(\"'dod' is not in the correct format. It should be a datetime object.\")\n",
      "else:\n",
      "    print(\"'dod' column does not exist in the dataframe.\")\n",
      "```\n",
      "\n",
      "If the 'dod' column exists and is in the correct format, we can proceed with the calculations:\n",
      "\n",
      "```python\n",
      "# Calculate the hospital length of stay\n",
      "df['hospital_los'] = (df['dischtime'] - df['admittime']).dt.total_seconds() / (60 * 60 * 24)\n",
      "\n",
      "# Calculate the ICU length of stay\n",
      "df['icu_los'] = (df['icu_outtime'] - df['icu_intime']).dt.total_seconds() / (60 * 60 * 24)\n",
      "\n",
      "# Calculate 1-year mortality\n",
      "df['1_year_mortality'] = ((df['dod'] - df['icu_intime']).dt.total_seconds() / (60 * 60 * 24) <= 365).astype(int)\n",
      "\n",
      "# Calculate 90-day mortality\n",
      "df['90_day_mortality'] = ((df['dod'] - df['icu_intime']).dt.total_seconds() / (60 * 60 * 24) <= 90).astype(int)\n",
      "\n",
      "df.head()\n",
      "```\n",
      "\n",
      "Please let me know if you encounter any other issues.\n",
      "GOT EXCEPTION 'dod'\n"
     ]
    },
    {
     "ename": "NameError",
     "evalue": "name 'df' is not defined",
     "output_type": "error",
     "traceback": [
      "\u001b[0;31m---------------------------------------------------------------------------\u001b[0m",
      "\u001b[0;31mKeyError\u001b[0m                                  Traceback (most recent call last)",
      "File \u001b[0;32m/opt/homebrew/lib/python3.11/site-packages/pandas/core/indexes/base.py:3652\u001b[0m, in \u001b[0;36mIndex.get_loc\u001b[0;34m(self, key)\u001b[0m\n\u001b[1;32m   3651\u001b[0m \u001b[38;5;28;01mtry\u001b[39;00m:\n\u001b[0;32m-> 3652\u001b[0m     \u001b[38;5;28;01mreturn\u001b[39;00m \u001b[38;5;28;43mself\u001b[39;49m\u001b[38;5;241;43m.\u001b[39;49m\u001b[43m_engine\u001b[49m\u001b[38;5;241;43m.\u001b[39;49m\u001b[43mget_loc\u001b[49m\u001b[43m(\u001b[49m\u001b[43mcasted_key\u001b[49m\u001b[43m)\u001b[49m\n\u001b[1;32m   3653\u001b[0m \u001b[38;5;28;01mexcept\u001b[39;00m \u001b[38;5;167;01mKeyError\u001b[39;00m \u001b[38;5;28;01mas\u001b[39;00m err:\n",
      "File \u001b[0;32m/opt/homebrew/lib/python3.11/site-packages/pandas/_libs/index.pyx:147\u001b[0m, in \u001b[0;36mpandas._libs.index.IndexEngine.get_loc\u001b[0;34m()\u001b[0m\n",
      "File \u001b[0;32m/opt/homebrew/lib/python3.11/site-packages/pandas/_libs/index.pyx:176\u001b[0m, in \u001b[0;36mpandas._libs.index.IndexEngine.get_loc\u001b[0;34m()\u001b[0m\n",
      "File \u001b[0;32mpandas/_libs/hashtable_class_helper.pxi:7080\u001b[0m, in \u001b[0;36mpandas._libs.hashtable.PyObjectHashTable.get_item\u001b[0;34m()\u001b[0m\n",
      "File \u001b[0;32mpandas/_libs/hashtable_class_helper.pxi:7088\u001b[0m, in \u001b[0;36mpandas._libs.hashtable.PyObjectHashTable.get_item\u001b[0;34m()\u001b[0m\n",
      "\u001b[0;31mKeyError\u001b[0m: 'dod'",
      "\nThe above exception was the direct cause of the following exception:\n",
      "\u001b[0;31mKeyError\u001b[0m                                  Traceback (most recent call last)",
      "File \u001b[0;32m~/Mocha/Code/chapyterMed/chapyter/magic.py:628\u001b[0m, in \u001b[0;36mChapyter.mimicPython\u001b[0;34m(self, line, cell)\u001b[0m\n\u001b[1;32m    626\u001b[0m \u001b[38;5;66;03m# print(\"SHAPAE OF THINGS\", df.shape)\u001b[39;00m\n\u001b[1;32m    627\u001b[0m \u001b[38;5;66;03m# print(df['gender'].value_counts())\u001b[39;00m\n\u001b[0;32m--> 628\u001b[0m \u001b[43mexec\u001b[49m\u001b[43m(\u001b[49m\u001b[43mcontains_python\u001b[49m\u001b[43m,\u001b[49m\u001b[43m \u001b[49m\u001b[38;5;28;43mglobals\u001b[39;49m\u001b[43m(\u001b[49m\u001b[43m)\u001b[49m\u001b[43m,\u001b[49m\u001b[43m \u001b[49m\u001b[43mcontext\u001b[49m\u001b[43m)\u001b[49m\n\u001b[1;32m    629\u001b[0m answer \u001b[38;5;241m=\u001b[39m context\u001b[38;5;241m.\u001b[39mget(\u001b[38;5;124m'\u001b[39m\u001b[38;5;124manswer\u001b[39m\u001b[38;5;124m'\u001b[39m, \u001b[38;5;28;01mNone\u001b[39;00m)\n",
      "File \u001b[0;32m<string>:21\u001b[0m\n",
      "File \u001b[0;32m/opt/homebrew/lib/python3.11/site-packages/pandas/core/frame.py:3761\u001b[0m, in \u001b[0;36mDataFrame.__getitem__\u001b[0;34m(self, key)\u001b[0m\n\u001b[1;32m   3760\u001b[0m     \u001b[38;5;28;01mreturn\u001b[39;00m \u001b[38;5;28mself\u001b[39m\u001b[38;5;241m.\u001b[39m_getitem_multilevel(key)\n\u001b[0;32m-> 3761\u001b[0m indexer \u001b[38;5;241m=\u001b[39m \u001b[38;5;28;43mself\u001b[39;49m\u001b[38;5;241;43m.\u001b[39;49m\u001b[43mcolumns\u001b[49m\u001b[38;5;241;43m.\u001b[39;49m\u001b[43mget_loc\u001b[49m\u001b[43m(\u001b[49m\u001b[43mkey\u001b[49m\u001b[43m)\u001b[49m\n\u001b[1;32m   3762\u001b[0m \u001b[38;5;28;01mif\u001b[39;00m is_integer(indexer):\n",
      "File \u001b[0;32m/opt/homebrew/lib/python3.11/site-packages/pandas/core/indexes/base.py:3654\u001b[0m, in \u001b[0;36mIndex.get_loc\u001b[0;34m(self, key)\u001b[0m\n\u001b[1;32m   3653\u001b[0m \u001b[38;5;28;01mexcept\u001b[39;00m \u001b[38;5;167;01mKeyError\u001b[39;00m \u001b[38;5;28;01mas\u001b[39;00m err:\n\u001b[0;32m-> 3654\u001b[0m     \u001b[38;5;28;01mraise\u001b[39;00m \u001b[38;5;167;01mKeyError\u001b[39;00m(key) \u001b[38;5;28;01mfrom\u001b[39;00m \u001b[38;5;21;01merr\u001b[39;00m\n\u001b[1;32m   3655\u001b[0m \u001b[38;5;28;01mexcept\u001b[39;00m \u001b[38;5;167;01mTypeError\u001b[39;00m:\n\u001b[1;32m   3656\u001b[0m     \u001b[38;5;66;03m# If we have a listlike key, _check_indexing_error will raise\u001b[39;00m\n\u001b[1;32m   3657\u001b[0m     \u001b[38;5;66;03m#  InvalidIndexError. Otherwise we fall through and re-raise\u001b[39;00m\n\u001b[1;32m   3658\u001b[0m     \u001b[38;5;66;03m#  the TypeError.\u001b[39;00m\n",
      "\u001b[0;31mKeyError\u001b[0m: 'dod'",
      "\nDuring handling of the above exception, another exception occurred:\n",
      "\u001b[0;31mNameError\u001b[0m                                 Traceback (most recent call last)",
      "Cell \u001b[0;32mIn[24], line 1\u001b[0m\n\u001b[0;32m----> 1\u001b[0m \u001b[43mget_ipython\u001b[49m\u001b[43m(\u001b[49m\u001b[43m)\u001b[49m\u001b[38;5;241;43m.\u001b[39;49m\u001b[43mrun_cell_magic\u001b[49m\u001b[43m(\u001b[49m\u001b[38;5;124;43m'\u001b[39;49m\u001b[38;5;124;43mmimicPython\u001b[39;49m\u001b[38;5;124;43m'\u001b[39;49m\u001b[43m,\u001b[49m\u001b[43m \u001b[49m\u001b[38;5;124;43m'\u001b[39;49m\u001b[38;5;124;43m'\u001b[39;49m\u001b[43m,\u001b[49m\u001b[43m \u001b[49m\u001b[38;5;124;43m'\u001b[39;49m\u001b[38;5;130;43;01m\\n\u001b[39;49;00m\u001b[38;5;124;43mcan you fix the errors and try again? \u001b[39;49m\u001b[38;5;130;43;01m\\n\u001b[39;49;00m\u001b[38;5;124;43m'\u001b[39;49m\u001b[43m)\u001b[49m\n",
      "File \u001b[0;32m/opt/homebrew/lib/python3.11/site-packages/IPython/core/interactiveshell.py:2475\u001b[0m, in \u001b[0;36mInteractiveShell.run_cell_magic\u001b[0;34m(self, magic_name, line, cell)\u001b[0m\n\u001b[1;32m   2473\u001b[0m \u001b[38;5;28;01mwith\u001b[39;00m \u001b[38;5;28mself\u001b[39m\u001b[38;5;241m.\u001b[39mbuiltin_trap:\n\u001b[1;32m   2474\u001b[0m     args \u001b[38;5;241m=\u001b[39m (magic_arg_s, cell)\n\u001b[0;32m-> 2475\u001b[0m     result \u001b[38;5;241m=\u001b[39m \u001b[43mfn\u001b[49m\u001b[43m(\u001b[49m\u001b[38;5;241;43m*\u001b[39;49m\u001b[43margs\u001b[49m\u001b[43m,\u001b[49m\u001b[43m \u001b[49m\u001b[38;5;241;43m*\u001b[39;49m\u001b[38;5;241;43m*\u001b[39;49m\u001b[43mkwargs\u001b[49m\u001b[43m)\u001b[49m\n\u001b[1;32m   2477\u001b[0m \u001b[38;5;66;03m# The code below prevents the output from being displayed\u001b[39;00m\n\u001b[1;32m   2478\u001b[0m \u001b[38;5;66;03m# when using magics with decodator @output_can_be_silenced\u001b[39;00m\n\u001b[1;32m   2479\u001b[0m \u001b[38;5;66;03m# when the last Python token in the expression is a ';'.\u001b[39;00m\n\u001b[1;32m   2480\u001b[0m \u001b[38;5;28;01mif\u001b[39;00m \u001b[38;5;28mgetattr\u001b[39m(fn, magic\u001b[38;5;241m.\u001b[39mMAGIC_OUTPUT_CAN_BE_SILENCED, \u001b[38;5;28;01mFalse\u001b[39;00m):\n",
      "File \u001b[0;32m~/Mocha/Code/chapyterMed/chapyter/magic.py:633\u001b[0m, in \u001b[0;36mChapyter.mimicPython\u001b[0;34m(self, line, cell)\u001b[0m\n\u001b[1;32m    631\u001b[0m \u001b[38;5;28;01mexcept\u001b[39;00m \u001b[38;5;167;01mException\u001b[39;00m \u001b[38;5;28;01mas\u001b[39;00m e:\n\u001b[1;32m    632\u001b[0m     \u001b[38;5;28mprint\u001b[39m(\u001b[38;5;124m\"\u001b[39m\u001b[38;5;124mGOT EXCEPTION\u001b[39m\u001b[38;5;124m\"\u001b[39m, e)\n\u001b[0;32m--> 633\u001b[0m     \u001b[43mexec\u001b[49m\u001b[43m(\u001b[49m\u001b[43mcontains_python\u001b[49m\u001b[43m,\u001b[49m\u001b[43m \u001b[49m\u001b[38;5;28;43mglobals\u001b[39;49m\u001b[43m(\u001b[49m\u001b[43m)\u001b[49m\u001b[43m)\u001b[49m\n\u001b[1;32m    634\u001b[0m     answer \u001b[38;5;241m=\u001b[39m context\u001b[38;5;241m.\u001b[39mget(\u001b[38;5;124m'\u001b[39m\u001b[38;5;124manswer\u001b[39m\u001b[38;5;124m'\u001b[39m)\n\u001b[1;32m    636\u001b[0m calculated_answer_string \u001b[38;5;241m=\u001b[39m \u001b[38;5;124mf\u001b[39m\u001b[38;5;124m\"\u001b[39m\u001b[38;5;124mResult : \u001b[39m\u001b[38;5;132;01m{\u001b[39;00manswer\u001b[38;5;132;01m}\u001b[39;00m\u001b[38;5;124m\"\u001b[39m\n",
      "File \u001b[0;32m<string>:4\u001b[0m\n",
      "\u001b[0;31mNameError\u001b[0m: name 'df' is not defined"
     ]
    }
   ],
   "source": [
    "%%mimicPython\n",
    "\n",
    "can you fix the errors and try again? "
   ]
  },
  {
   "cell_type": "code",
   "execution_count": null,
   "id": "ad76c0e9-b305-4026-8e24-eb3ec44d10f5",
   "metadata": {},
   "outputs": [],
   "source": []
  }
 ],
 "metadata": {
  "kernelspec": {
   "display_name": "Python 3 (ipykernel)",
   "language": "python",
   "name": "python3"
  },
  "language_info": {
   "codemirror_mode": {
    "name": "ipython",
    "version": 3
   },
   "file_extension": ".py",
   "mimetype": "text/x-python",
   "name": "python",
   "nbconvert_exporter": "python",
   "pygments_lexer": "ipython3",
   "version": "3.10.10"
  }
 },
 "nbformat": 4,
 "nbformat_minor": 5
}
