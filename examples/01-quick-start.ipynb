{
 "cells": [
  {
   "cell_type": "code",
   "execution_count": 1,
   "id": "305f5dfc-d2e5-44eb-b6b5-4850e86274f4",
   "metadata": {
    "editable": true,
    "slideshow": {
     "slide_type": ""
    },
    "tags": []
   },
   "outputs": [
    {
     "name": "stderr",
     "output_type": "stream",
     "text": [
      "2023-09-17 22:05:41.544 WARNING streamlit.runtime.state.session_state_proxy: Session state does not function when running a script without `streamlit run`\n"
     ]
    }
   ],
   "source": [
    "%load_ext chapyter"
   ]
  },
  {
   "cell_type": "code",
   "execution_count": 2,
   "id": "7d5a874f-0ed2-417d-ad33-91a9f42e553c",
   "metadata": {
    "ChapyterCell": {
     "cellType": "original",
     "linkedCellId": "afd649c8-2155-4a28-9af3-4a00514275e8"
    }
   },
   "outputs": [
    {
     "name": "stdout",
     "output_type": "stream",
     "text": [
      "\n",
      "\n",
      "\n",
      "Clinical Researcher: Retrieve all data from ICUSTAYS table\n",
      "\n",
      "AI Research Assistant:  \n",
      "\n",
      "\n",
      "And response\n",
      "SELECT * FROM icustays;\n"
     ]
    },
    {
     "data": {
      "text/html": [
       "<div>\n",
       "<style scoped>\n",
       "    .dataframe tbody tr th:only-of-type {\n",
       "        vertical-align: middle;\n",
       "    }\n",
       "\n",
       "    .dataframe tbody tr th {\n",
       "        vertical-align: top;\n",
       "    }\n",
       "\n",
       "    .dataframe thead th {\n",
       "        text-align: right;\n",
       "    }\n",
       "</style>\n",
       "<table border=\"1\" class=\"dataframe\">\n",
       "  <thead>\n",
       "    <tr style=\"text-align: right;\">\n",
       "      <th></th>\n",
       "      <th>row_id</th>\n",
       "      <th>subject_id</th>\n",
       "      <th>hadm_id</th>\n",
       "      <th>icustay_id</th>\n",
       "      <th>dbsource</th>\n",
       "      <th>first_careunit</th>\n",
       "      <th>last_careunit</th>\n",
       "      <th>first_wardid</th>\n",
       "      <th>last_wardid</th>\n",
       "      <th>intime</th>\n",
       "      <th>outtime</th>\n",
       "      <th>los</th>\n",
       "    </tr>\n",
       "  </thead>\n",
       "  <tbody>\n",
       "    <tr>\n",
       "      <th>0</th>\n",
       "      <td>365</td>\n",
       "      <td>268</td>\n",
       "      <td>110404</td>\n",
       "      <td>280836</td>\n",
       "      <td>carevue</td>\n",
       "      <td>MICU</td>\n",
       "      <td>MICU</td>\n",
       "      <td>52</td>\n",
       "      <td>52</td>\n",
       "      <td>2198-02-14 23:27:38.000</td>\n",
       "      <td>2198-02-18 05:26:11.000</td>\n",
       "      <td>3.249</td>\n",
       "    </tr>\n",
       "    <tr>\n",
       "      <th>1</th>\n",
       "      <td>366</td>\n",
       "      <td>269</td>\n",
       "      <td>106296</td>\n",
       "      <td>206613</td>\n",
       "      <td>carevue</td>\n",
       "      <td>MICU</td>\n",
       "      <td>MICU</td>\n",
       "      <td>52</td>\n",
       "      <td>52</td>\n",
       "      <td>2170-11-05 11:05:29.000</td>\n",
       "      <td>2170-11-08 17:46:57.000</td>\n",
       "      <td>3.2788</td>\n",
       "    </tr>\n",
       "    <tr>\n",
       "      <th>2</th>\n",
       "      <td>367</td>\n",
       "      <td>270</td>\n",
       "      <td>188028</td>\n",
       "      <td>220345</td>\n",
       "      <td>carevue</td>\n",
       "      <td>CCU</td>\n",
       "      <td>CCU</td>\n",
       "      <td>57</td>\n",
       "      <td>57</td>\n",
       "      <td>2128-06-24 15:05:20.000</td>\n",
       "      <td>2128-06-27 12:32:29.000</td>\n",
       "      <td>2.8939</td>\n",
       "    </tr>\n",
       "    <tr>\n",
       "      <th>3</th>\n",
       "      <td>368</td>\n",
       "      <td>271</td>\n",
       "      <td>173727</td>\n",
       "      <td>249196</td>\n",
       "      <td>carevue</td>\n",
       "      <td>MICU</td>\n",
       "      <td>SICU</td>\n",
       "      <td>52</td>\n",
       "      <td>23</td>\n",
       "      <td>2120-08-07 23:12:42.000</td>\n",
       "      <td>2120-08-10 00:39:04.000</td>\n",
       "      <td>2.06</td>\n",
       "    </tr>\n",
       "    <tr>\n",
       "      <th>4</th>\n",
       "      <td>369</td>\n",
       "      <td>272</td>\n",
       "      <td>164716</td>\n",
       "      <td>210407</td>\n",
       "      <td>carevue</td>\n",
       "      <td>CCU</td>\n",
       "      <td>CCU</td>\n",
       "      <td>57</td>\n",
       "      <td>57</td>\n",
       "      <td>2186-12-25 21:08:04.000</td>\n",
       "      <td>2186-12-27 12:01:13.000</td>\n",
       "      <td>1.6202</td>\n",
       "    </tr>\n",
       "  </tbody>\n",
       "</table>\n",
       "</div>"
      ],
      "text/plain": [
       "  row_id subject_id hadm_id icustay_id dbsource first_careunit last_careunit  \\\n",
       "0    365        268  110404     280836  carevue           MICU          MICU   \n",
       "1    366        269  106296     206613  carevue           MICU          MICU   \n",
       "2    367        270  188028     220345  carevue            CCU           CCU   \n",
       "3    368        271  173727     249196  carevue           MICU          SICU   \n",
       "4    369        272  164716     210407  carevue            CCU           CCU   \n",
       "\n",
       "  first_wardid last_wardid                   intime                  outtime  \\\n",
       "0           52          52  2198-02-14 23:27:38.000  2198-02-18 05:26:11.000   \n",
       "1           52          52  2170-11-05 11:05:29.000  2170-11-08 17:46:57.000   \n",
       "2           57          57  2128-06-24 15:05:20.000  2128-06-27 12:32:29.000   \n",
       "3           52          23  2120-08-07 23:12:42.000  2120-08-10 00:39:04.000   \n",
       "4           57          57  2186-12-25 21:08:04.000  2186-12-27 12:01:13.000   \n",
       "\n",
       "      los  \n",
       "0   3.249  \n",
       "1  3.2788  \n",
       "2  2.8939  \n",
       "3    2.06  \n",
       "4  1.6202  "
      ]
     },
     "metadata": {},
     "output_type": "display_data"
    }
   ],
   "source": [
    "%%mimicSQL\n",
    "\n",
    "Retrieve all data from ICUSTAYS table"
   ]
  },
  {
   "cell_type": "code",
   "execution_count": null,
   "id": "afd649c8-2155-4a28-9af3-4a00514275e8",
   "metadata": {
    "ChapyterCell": {
     "cellType": "generated",
     "linkedCellId": "7d5a874f-0ed2-417d-ad33-91a9f42e553c"
    },
    "jupyter": {
     "source_hidden": true
    }
   },
   "outputs": [],
   "source": [
    "# Assistant Code for Cell [2]:\n",
    "SELECT * FROM icustays;"
   ]
  },
  {
   "cell_type": "code",
   "execution_count": 3,
   "id": "78459545-9b1f-416e-ab9c-ffdfad6f7c9e",
   "metadata": {
    "ChapyterCell": {
     "cellType": "original",
     "linkedCellId": "d744500d-1898-4a33-ad82-c088fd5a7744"
    }
   },
   "outputs": [
    {
     "name": "stdout",
     "output_type": "stream",
     "text": [
      "\n",
      "\n",
      "\n",
      "Clinical Researcher: Retrieve all data from ICUSTAYS table\n",
      "\n",
      "AI Research Assistant: SELECT * FROM icustays;\n",
      "\n",
      "Clinical Researcher: What is the average first_wardid value?\n",
      "\n",
      "AI Research Assistant:  \n",
      "\n",
      "\n",
      "And response\n",
      "df['first_wardid'] = df['first_wardid'].astype(int)\n",
      "answer = df['first_wardid'].mean()\n",
      "Result : 33.368368368368365\n"
     ]
    }
   ],
   "source": [
    "%%mimicPython\n",
    "\n",
    "What is the average first_wardid value?"
   ]
  },
  {
   "cell_type": "code",
   "execution_count": null,
   "id": "d744500d-1898-4a33-ad82-c088fd5a7744",
   "metadata": {
    "ChapyterCell": {
     "cellType": "generated",
     "linkedCellId": "78459545-9b1f-416e-ab9c-ffdfad6f7c9e"
    },
    "jupyter": {
     "source_hidden": true
    }
   },
   "outputs": [],
   "source": [
    "# Assistant Code for Cell [3]:\n",
    "df['first_wardid'] = df['first_wardid'].astype(int)\n",
    "answer = df['first_wardid'].mean()\n",
    "Result : 33.368368368368365\n"
   ]
  },
  {
   "cell_type": "code",
   "execution_count": 4,
   "id": "79d66a4e-5565-44d1-b047-8ee3b100d5b6",
   "metadata": {
    "ChapyterCell": {
     "cellType": "original",
     "linkedCellId": "d2691b7a-f6ff-4628-a253-465cc8b59d19"
    }
   },
   "outputs": [
    {
     "name": "stdout",
     "output_type": "stream",
     "text": [
      "\n",
      "\n",
      "\n",
      "Clinical Researcher: Retrieve all data from ICUSTAYS table\n",
      "\n",
      "AI Research Assistant: SELECT * FROM icustays;\n",
      "\n",
      "Clinical Researcher: What is the average first_wardid value?\n",
      "\n",
      "AI Research Assistant: df['first_wardid'] = df['first_wardid'].astype(int)\n",
      "answer = df['first_wardid'].mean()\n",
      "\n",
      "Clinical Researcher: What is the minimum, mean, and max first_wardid values?\n",
      "\n",
      "AI Research Assistant:  \n",
      "\n",
      "\n",
      "And response\n",
      "df['first_wardid'] = df['first_wardid'].astype(int)\n",
      "min_value = df['first_wardid'].min()\n",
      "mean_value = df['first_wardid'].mean()\n",
      "max_value = df['first_wardid'].max()\n",
      "answer = (min_value, mean_value, max_value)\n",
      "Result : (7, 33.368368368368365, 57)\n"
     ]
    }
   ],
   "source": [
    "%%mimicPython\n",
    "\n",
    "What is the minimum, mean, and max first_wardid values?"
   ]
  },
  {
   "cell_type": "code",
   "execution_count": null,
   "id": "d2691b7a-f6ff-4628-a253-465cc8b59d19",
   "metadata": {
    "ChapyterCell": {
     "cellType": "generated",
     "linkedCellId": "79d66a4e-5565-44d1-b047-8ee3b100d5b6"
    },
    "jupyter": {
     "source_hidden": true
    }
   },
   "outputs": [],
   "source": [
    "# Assistant Code for Cell [4]:\n",
    "df['first_wardid'] = df['first_wardid'].astype(int)\n",
    "min_value = df['first_wardid'].min()\n",
    "mean_value = df['first_wardid'].mean()\n",
    "max_value = df['first_wardid'].max()\n",
    "answer = (min_value, mean_value, max_value)\n",
    "Result : (7, 33.368368368368365, 57)\n"
   ]
  },
  {
   "cell_type": "code",
   "execution_count": 6,
   "id": "ebec450e-c57a-4423-9a69-dc593c5e8f90",
   "metadata": {
    "ChapyterCell": {
     "cellType": "original",
     "linkedCellId": "815bdd5d-0650-4fa9-ac61-2e20934eed2f"
    }
   },
   "outputs": [
    {
     "name": "stdout",
     "output_type": "stream",
     "text": [
      "Result : (999, 12)\n"
     ]
    }
   ],
   "source": [
    "%%mimicPython\n",
    "\n",
    "How many rows and columns are in this dataset?"
   ]
  },
  {
   "cell_type": "code",
   "execution_count": null,
   "id": "815bdd5d-0650-4fa9-ac61-2e20934eed2f",
   "metadata": {
    "ChapyterCell": {
     "cellType": "generated",
     "linkedCellId": "ebec450e-c57a-4423-9a69-dc593c5e8f90"
    },
    "jupyter": {
     "source_hidden": true
    }
   },
   "outputs": [],
   "source": [
    "# Assistant Code for Cell [6]:\n",
    "answer = df.shape\n",
    "Result : (999, 12)\n"
   ]
  },
  {
   "cell_type": "code",
   "execution_count": 7,
   "id": "ced603ea-2cf0-47a4-8c3f-cd88b5bfbc16",
   "metadata": {
    "ChapyterCell": {
     "cellType": "original",
     "linkedCellId": "1220af1b-58ee-4e09-9403-3437217268e8"
    }
   },
   "outputs": [
    {
     "data": {
      "text/html": [
       "<div>\n",
       "<style scoped>\n",
       "    .dataframe tbody tr th:only-of-type {\n",
       "        vertical-align: middle;\n",
       "    }\n",
       "\n",
       "    .dataframe tbody tr th {\n",
       "        vertical-align: top;\n",
       "    }\n",
       "\n",
       "    .dataframe thead th {\n",
       "        text-align: right;\n",
       "    }\n",
       "</style>\n",
       "<table border=\"1\" class=\"dataframe\">\n",
       "  <thead>\n",
       "    <tr style=\"text-align: right;\">\n",
       "      <th></th>\n",
       "      <th>row_id</th>\n",
       "      <th>subject_id</th>\n",
       "      <th>hadm_id</th>\n",
       "      <th>icustay_id</th>\n",
       "      <th>dbsource</th>\n",
       "      <th>first_careunit</th>\n",
       "      <th>last_careunit</th>\n",
       "      <th>first_wardid</th>\n",
       "      <th>last_wardid</th>\n",
       "      <th>intime</th>\n",
       "      <th>outtime</th>\n",
       "      <th>los</th>\n",
       "      <th>row_id</th>\n",
       "      <th>subject_id</th>\n",
       "      <th>gender</th>\n",
       "      <th>dob</th>\n",
       "      <th>dod</th>\n",
       "      <th>dod_hosp</th>\n",
       "      <th>dod_ssn</th>\n",
       "      <th>expire_flag</th>\n",
       "    </tr>\n",
       "  </thead>\n",
       "  <tbody>\n",
       "    <tr>\n",
       "      <th>0</th>\n",
       "      <td>365</td>\n",
       "      <td>268</td>\n",
       "      <td>110404</td>\n",
       "      <td>280836</td>\n",
       "      <td>carevue</td>\n",
       "      <td>MICU</td>\n",
       "      <td>MICU</td>\n",
       "      <td>52</td>\n",
       "      <td>52</td>\n",
       "      <td>2198-02-14 23:27:38.000</td>\n",
       "      <td>2198-02-18 05:26:11.000</td>\n",
       "      <td>3.249</td>\n",
       "      <td>251</td>\n",
       "      <td>268</td>\n",
       "      <td>F</td>\n",
       "      <td>2132-02-21 00:00:00.000</td>\n",
       "      <td>2198-02-18 00:00:00.000</td>\n",
       "      <td>2198-02-18 00:00:00.000</td>\n",
       "      <td>None</td>\n",
       "      <td>1</td>\n",
       "    </tr>\n",
       "    <tr>\n",
       "      <th>1</th>\n",
       "      <td>366</td>\n",
       "      <td>269</td>\n",
       "      <td>106296</td>\n",
       "      <td>206613</td>\n",
       "      <td>carevue</td>\n",
       "      <td>MICU</td>\n",
       "      <td>MICU</td>\n",
       "      <td>52</td>\n",
       "      <td>52</td>\n",
       "      <td>2170-11-05 11:05:29.000</td>\n",
       "      <td>2170-11-08 17:46:57.000</td>\n",
       "      <td>3.2788</td>\n",
       "      <td>252</td>\n",
       "      <td>269</td>\n",
       "      <td>M</td>\n",
       "      <td>2130-09-30 00:00:00.000</td>\n",
       "      <td>None</td>\n",
       "      <td>None</td>\n",
       "      <td>None</td>\n",
       "      <td>0</td>\n",
       "    </tr>\n",
       "    <tr>\n",
       "      <th>2</th>\n",
       "      <td>367</td>\n",
       "      <td>270</td>\n",
       "      <td>188028</td>\n",
       "      <td>220345</td>\n",
       "      <td>carevue</td>\n",
       "      <td>CCU</td>\n",
       "      <td>CCU</td>\n",
       "      <td>57</td>\n",
       "      <td>57</td>\n",
       "      <td>2128-06-24 15:05:20.000</td>\n",
       "      <td>2128-06-27 12:32:29.000</td>\n",
       "      <td>2.8939</td>\n",
       "      <td>253</td>\n",
       "      <td>270</td>\n",
       "      <td>M</td>\n",
       "      <td>2048-05-26 00:00:00.000</td>\n",
       "      <td>None</td>\n",
       "      <td>None</td>\n",
       "      <td>None</td>\n",
       "      <td>0</td>\n",
       "    </tr>\n",
       "    <tr>\n",
       "      <th>3</th>\n",
       "      <td>368</td>\n",
       "      <td>271</td>\n",
       "      <td>173727</td>\n",
       "      <td>249196</td>\n",
       "      <td>carevue</td>\n",
       "      <td>MICU</td>\n",
       "      <td>SICU</td>\n",
       "      <td>52</td>\n",
       "      <td>23</td>\n",
       "      <td>2120-08-07 23:12:42.000</td>\n",
       "      <td>2120-08-10 00:39:04.000</td>\n",
       "      <td>2.06</td>\n",
       "      <td>254</td>\n",
       "      <td>271</td>\n",
       "      <td>F</td>\n",
       "      <td>2074-11-30 00:00:00.000</td>\n",
       "      <td>None</td>\n",
       "      <td>None</td>\n",
       "      <td>None</td>\n",
       "      <td>0</td>\n",
       "    </tr>\n",
       "    <tr>\n",
       "      <th>4</th>\n",
       "      <td>369</td>\n",
       "      <td>272</td>\n",
       "      <td>164716</td>\n",
       "      <td>210407</td>\n",
       "      <td>carevue</td>\n",
       "      <td>CCU</td>\n",
       "      <td>CCU</td>\n",
       "      <td>57</td>\n",
       "      <td>57</td>\n",
       "      <td>2186-12-25 21:08:04.000</td>\n",
       "      <td>2186-12-27 12:01:13.000</td>\n",
       "      <td>1.6202</td>\n",
       "      <td>255</td>\n",
       "      <td>272</td>\n",
       "      <td>M</td>\n",
       "      <td>2119-11-21 00:00:00.000</td>\n",
       "      <td>None</td>\n",
       "      <td>None</td>\n",
       "      <td>None</td>\n",
       "      <td>0</td>\n",
       "    </tr>\n",
       "  </tbody>\n",
       "</table>\n",
       "</div>"
      ],
      "text/plain": [
       "  row_id subject_id hadm_id icustay_id dbsource first_careunit last_careunit  \\\n",
       "0    365        268  110404     280836  carevue           MICU          MICU   \n",
       "1    366        269  106296     206613  carevue           MICU          MICU   \n",
       "2    367        270  188028     220345  carevue            CCU           CCU   \n",
       "3    368        271  173727     249196  carevue           MICU          SICU   \n",
       "4    369        272  164716     210407  carevue            CCU           CCU   \n",
       "\n",
       "  first_wardid last_wardid                   intime                  outtime  \\\n",
       "0           52          52  2198-02-14 23:27:38.000  2198-02-18 05:26:11.000   \n",
       "1           52          52  2170-11-05 11:05:29.000  2170-11-08 17:46:57.000   \n",
       "2           57          57  2128-06-24 15:05:20.000  2128-06-27 12:32:29.000   \n",
       "3           52          23  2120-08-07 23:12:42.000  2120-08-10 00:39:04.000   \n",
       "4           57          57  2186-12-25 21:08:04.000  2186-12-27 12:01:13.000   \n",
       "\n",
       "      los row_id subject_id gender                      dob  \\\n",
       "0   3.249    251        268      F  2132-02-21 00:00:00.000   \n",
       "1  3.2788    252        269      M  2130-09-30 00:00:00.000   \n",
       "2  2.8939    253        270      M  2048-05-26 00:00:00.000   \n",
       "3    2.06    254        271      F  2074-11-30 00:00:00.000   \n",
       "4  1.6202    255        272      M  2119-11-21 00:00:00.000   \n",
       "\n",
       "                       dod                 dod_hosp dod_ssn expire_flag  \n",
       "0  2198-02-18 00:00:00.000  2198-02-18 00:00:00.000    None           1  \n",
       "1                     None                     None    None           0  \n",
       "2                     None                     None    None           0  \n",
       "3                     None                     None    None           0  \n",
       "4                     None                     None    None           0  "
      ]
     },
     "metadata": {},
     "output_type": "display_data"
    }
   ],
   "source": [
    "%%mimicSQL\n",
    "\n",
    "Join the first table we retrieved with the PATIENTS table."
   ]
  },
  {
   "cell_type": "code",
   "execution_count": null,
   "id": "1220af1b-58ee-4e09-9403-3437217268e8",
   "metadata": {
    "ChapyterCell": {
     "cellType": "generated",
     "linkedCellId": "ced603ea-2cf0-47a4-8c3f-cd88b5bfbc16"
    },
    "jupyter": {
     "source_hidden": true
    }
   },
   "outputs": [],
   "source": [
    "# Assistant Code for Cell [7]:\n",
    "SELECT * FROM icustays\n",
    "JOIN patients\n",
    "ON icustays.subject_id = patients.subject_id"
   ]
  },
  {
   "cell_type": "code",
   "execution_count": 8,
   "id": "1356c709-22af-4e3e-be61-c79a0610c4a0",
   "metadata": {
    "ChapyterCell": {
     "cellType": "original",
     "linkedCellId": "1c3d39a5-ccea-4176-be3f-7b63008ce5e2"
    }
   },
   "outputs": [
    {
     "name": "stdout",
     "output_type": "stream",
     "text": [
      "Result : (999, 20)\n"
     ]
    }
   ],
   "source": [
    "%%mimicPython\n",
    "\n",
    "How many rows and columns are in this new dataset?"
   ]
  },
  {
   "cell_type": "code",
   "execution_count": null,
   "id": "1c3d39a5-ccea-4176-be3f-7b63008ce5e2",
   "metadata": {
    "ChapyterCell": {
     "cellType": "generated",
     "linkedCellId": "1356c709-22af-4e3e-be61-c79a0610c4a0"
    },
    "jupyter": {
     "source_hidden": true
    }
   },
   "outputs": [],
   "source": [
    "# Assistant Code for Cell [8]:\n",
    "answer = df.shape\n",
    "Result : (999, 20)\n"
   ]
  },
  {
   "cell_type": "code",
   "execution_count": null,
   "id": "76600e46-78e7-45d9-a038-27d197b0de98",
   "metadata": {},
   "outputs": [],
   "source": []
  }
 ],
 "metadata": {
  "kernelspec": {
   "display_name": "Python 3 (ipykernel)",
   "language": "python",
   "name": "python3"
  },
  "language_info": {
   "codemirror_mode": {
    "name": "ipython",
    "version": 3
   },
   "file_extension": ".py",
   "mimetype": "text/x-python",
   "name": "python",
   "nbconvert_exporter": "python",
   "pygments_lexer": "ipython3",
   "version": "3.10.10"
  }
 },
 "nbformat": 4,
 "nbformat_minor": 5
}
