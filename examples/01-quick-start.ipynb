{
 "cells": [
  {
   "cell_type": "code",
   "execution_count": 1,
   "id": "305f5dfc-d2e5-44eb-b6b5-4850e86274f4",
   "metadata": {
    "editable": true,
    "slideshow": {
     "slide_type": ""
    },
    "tags": []
   },
   "outputs": [],
   "source": [
    "%load_ext autoreload"
   ]
  },
  {
   "cell_type": "code",
   "execution_count": 2,
   "id": "35f98b98-8b1f-4ccd-a395-1b5bd6792105",
   "metadata": {},
   "outputs": [],
   "source": [
    "%autoreload 2"
   ]
  },
  {
   "cell_type": "code",
   "execution_count": 3,
   "id": "d091328b-6bea-4c73-af5f-3859424c192b",
   "metadata": {},
   "outputs": [
    {
     "name": "stderr",
     "output_type": "stream",
     "text": [
      "2023-09-19 22:33:30.380 WARNING streamlit.runtime.state.session_state_proxy: Session state does not function when running a script without `streamlit run`\n"
     ]
    }
   ],
   "source": [
    "%load_ext chapyter"
   ]
  },
  {
   "cell_type": "code",
   "execution_count": 4,
   "id": "af93ae1d-0b72-47e0-ba95-0e4f360e341f",
   "metadata": {
    "ChapyterCell": {
     "cellType": "original",
     "linkedCellId": "63e44485-f0f4-44f6-8750-1498e748ad02"
    }
   },
   "outputs": [
    {
     "data": {
      "text/html": [
       "<div>\n",
       "<style scoped>\n",
       "    .dataframe tbody tr th:only-of-type {\n",
       "        vertical-align: middle;\n",
       "    }\n",
       "\n",
       "    .dataframe tbody tr th {\n",
       "        vertical-align: top;\n",
       "    }\n",
       "\n",
       "    .dataframe thead th {\n",
       "        text-align: right;\n",
       "    }\n",
       "</style>\n",
       "<table border=\"1\" class=\"dataframe\">\n",
       "  <thead>\n",
       "    <tr style=\"text-align: right;\">\n",
       "      <th></th>\n",
       "      <th>subject_id</th>\n",
       "      <th>gender</th>\n",
       "      <th>hospital_expire_flag</th>\n",
       "      <th>icd9_code</th>\n",
       "    </tr>\n",
       "  </thead>\n",
       "  <tbody>\n",
       "    <tr>\n",
       "      <th>0</th>\n",
       "      <td>250</td>\n",
       "      <td>F</td>\n",
       "      <td>1</td>\n",
       "      <td>78552</td>\n",
       "    </tr>\n",
       "    <tr>\n",
       "      <th>1</th>\n",
       "      <td>250</td>\n",
       "      <td>F</td>\n",
       "      <td>1</td>\n",
       "      <td>99592</td>\n",
       "    </tr>\n",
       "    <tr>\n",
       "      <th>2</th>\n",
       "      <td>269</td>\n",
       "      <td>M</td>\n",
       "      <td>0</td>\n",
       "      <td>78552</td>\n",
       "    </tr>\n",
       "    <tr>\n",
       "      <th>3</th>\n",
       "      <td>269</td>\n",
       "      <td>M</td>\n",
       "      <td>0</td>\n",
       "      <td>99592</td>\n",
       "    </tr>\n",
       "    <tr>\n",
       "      <th>4</th>\n",
       "      <td>689</td>\n",
       "      <td>F</td>\n",
       "      <td>0</td>\n",
       "      <td>99591</td>\n",
       "    </tr>\n",
       "  </tbody>\n",
       "</table>\n",
       "</div>"
      ],
      "text/plain": [
       "  subject_id gender hospital_expire_flag icd9_code\n",
       "0        250      F                    1     78552\n",
       "1        250      F                    1     99592\n",
       "2        269      M                    0     78552\n",
       "3        269      M                    0     99592\n",
       "4        689      F                    0     99591"
      ]
     },
     "metadata": {},
     "output_type": "display_data"
    }
   ],
   "source": [
    "%%mimicSQL\n",
    "\n",
    "I want to study the impact of sepsis on mortality using MIMIC-III. \n",
    "I want to study the likelihood of death as a function of gender.\n",
    "Can you help me retrieve relevant data for this analysis, and explain why?"
   ]
  },
  {
   "cell_type": "code",
   "execution_count": null,
   "id": "63e44485-f0f4-44f6-8750-1498e748ad02",
   "metadata": {
    "ChapyterCell": {
     "cellType": "generated",
     "linkedCellId": "af93ae1d-0b72-47e0-ba95-0e4f360e341f"
    },
    "jupyter": {
     "source_hidden": true
    }
   },
   "outputs": [],
   "source": [
    "# Assistant Code for Cell [4]:\n",
    "Sure, I can help with that. To study the impact of sepsis on mortality as a function of gender, we need to retrieve data from several tables in the MIMIC-III dataset. \n",
    "\n",
    "The DIAGNOSES_ICD table contains ICD-9 codes for each patient's diagnoses. We can use this table to identify patients who were diagnosed with sepsis. \n",
    "\n",
    "The PATIENTS table contains demographic information about each patient, including their gender. \n",
    "\n",
    "The ADMISSIONS table contains information about each patient's hospital stay, including whether they died in the hospital. \n",
    "\n",
    "Here is a SQL query that retrieves the relevant data:\n",
    "\n",
    "```sql\n",
    "SELECT \n",
    "    p.subject_id, \n",
    "    p.gender, \n",
    "    a.hospital_expire_flag,\n",
    "    d.icd9_code\n",
    "FROM \n",
    "    patients p\n",
    "JOIN \n",
    "    admissions a ON p.subject_id = a.subject_id\n",
    "JOIN \n",
    "    diagnoses_icd d ON a.hadm_id = d.hadm_id\n",
    "WHERE \n",
    "    d.icd9_code LIKE '99591' OR d.icd9_code LIKE '99592' OR d.icd9_code LIKE '78552'\n",
    "```\n",
    "\n",
    "In this query, '99591', '99592', and '78552' are the ICD-9 codes for sepsis. The `hospital_expire_flag` column in the ADMISSIONS table is a binary flag that indicates whether the patient died in the hospital. \n",
    "\n",
    "This query will return a dataset where each row represents a hospital stay for a patient diagnosed with sepsis. The dataset includes the patient's gender and whether they died in the hospital. You can use this dataset to study the likelihood of death as a function of gender for patients diagnosed with sepsis."
   ]
  },
  {
   "cell_type": "code",
   "execution_count": null,
   "id": "37d769a9-64e4-469b-8285-fc297f876171",
   "metadata": {
    "ChapyterCell": {
     "cellType": "original",
     "linkedCellId": "0ff40f75-8b94-4ff7-be4b-1fa3caf54794"
    }
   },
   "outputs": [],
   "source": [
    "%%mimicPython\n",
    "\n",
    "Great! Now, given the dataset you retrieved, help me compose a statistical test.\n",
    "I want to see if it is more likely men admitted with sepsis die than women that were admitted with sepsis."
   ]
  },
  {
   "cell_type": "code",
   "execution_count": null,
   "id": "cac2d210-315b-4461-8d74-c92095a7dbe0",
   "metadata": {
    "ChapyterCell": {
     "cellType": "original",
     "linkedCellId": "f76ac9ea-2bb6-4411-b5b8-97df63e70178"
    }
   },
   "outputs": [],
   "source": [
    "%%mimicPython\n",
    "\n",
    "Is that result significant?"
   ]
  },
  {
   "cell_type": "code",
   "execution_count": null,
   "id": "c3633979-01ba-48e8-b8af-f3812acd3899",
   "metadata": {},
   "outputs": [],
   "source": []
  }
 ],
 "metadata": {
  "kernelspec": {
   "display_name": "Python 3 (ipykernel)",
   "language": "python",
   "name": "python3"
  },
  "language_info": {
   "codemirror_mode": {
    "name": "ipython",
    "version": 3
   },
   "file_extension": ".py",
   "mimetype": "text/x-python",
   "name": "python",
   "nbconvert_exporter": "python",
   "pygments_lexer": "ipython3",
   "version": "3.10.10"
  }
 },
 "nbformat": 4,
 "nbformat_minor": 5
}
