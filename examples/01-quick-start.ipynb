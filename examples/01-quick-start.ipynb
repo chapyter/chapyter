{
 "cells": [
  {
   "cell_type": "code",
   "execution_count": 1,
   "id": "305f5dfc-d2e5-44eb-b6b5-4850e86274f4",
   "metadata": {
    "editable": true,
    "slideshow": {
     "slide_type": ""
    },
    "tags": []
   },
   "outputs": [],
   "source": [
    "%load_ext autoreload"
   ]
  },
  {
   "cell_type": "code",
   "execution_count": 2,
   "id": "35f98b98-8b1f-4ccd-a395-1b5bd6792105",
   "metadata": {},
   "outputs": [],
   "source": [
    "%autoreload 2"
   ]
  },
  {
   "cell_type": "code",
   "execution_count": 3,
   "id": "d091328b-6bea-4c73-af5f-3859424c192b",
   "metadata": {},
   "outputs": [
    {
     "name": "stderr",
     "output_type": "stream",
     "text": [
      "2023-09-19 23:26:40.275 WARNING streamlit.runtime.state.session_state_proxy: Session state does not function when running a script without `streamlit run`\n"
     ]
    }
   ],
   "source": [
    "%load_ext chapyter"
   ]
  },
  {
   "cell_type": "code",
   "execution_count": 4,
   "id": "af93ae1d-0b72-47e0-ba95-0e4f360e341f",
   "metadata": {
    "ChapyterCell": {
     "cellType": "original",
     "linkedCellId": "c00691b3-318c-427a-b560-ed7114d4a8e1"
    }
   },
   "outputs": [
    {
     "name": "stdout",
     "output_type": "stream",
     "text": [
      "Sure, I can help with that. To study the impact of sepsis on mortality as a function of gender, we need to retrieve data from several tables in the MIMIC-III dataset. \n",
      "\n",
      "1. `PATIENTS` table: This table contains demographic information about the patients, including their gender.\n",
      "\n",
      "2. `DIAGNOSES_ICD` table: This table contains the ICD diagnoses for each hospital admission. We can use this to identify patients who were diagnosed with sepsis.\n",
      "\n",
      "3. `ADMISSIONS` table: This table contains information about each hospital admission, including whether the patient died during the hospital stay.\n",
      "\n",
      "Here is a SQL query that retrieves the relevant data:\n",
      "\n",
      "```sql\n",
      "SELECT p.subject_id, p.gender, a.hospital_expire_flag, d.icd9_code\n",
      "FROM patients p\n",
      "JOIN admissions a ON p.subject_id = a.subject_id\n",
      "JOIN diagnoses_icd d ON a.hadm_id = d.hadm_id\n",
      "WHERE d.icd9_code LIKE '99591' OR d.icd9_code LIKE '99592' OR d.icd9_code LIKE '78552'\n",
      "```\n",
      "\n",
      "In this query, we are retrieving the patient's ID, gender, whether they died in the hospital, and their ICD diagnosis codes. We are filtering to only include patients who were diagnosed with sepsis, which is represented by the ICD-9 codes '99591', '99592', and '78552'. \n",
      "\n",
      "This data can be used to analyze the likelihood of death as a function of gender for patients diagnosed with sepsis.\n"
     ]
    },
    {
     "data": {
      "text/html": [
       "<div>\n",
       "<style scoped>\n",
       "    .dataframe tbody tr th:only-of-type {\n",
       "        vertical-align: middle;\n",
       "    }\n",
       "\n",
       "    .dataframe tbody tr th {\n",
       "        vertical-align: top;\n",
       "    }\n",
       "\n",
       "    .dataframe thead th {\n",
       "        text-align: right;\n",
       "    }\n",
       "</style>\n",
       "<table border=\"1\" class=\"dataframe\">\n",
       "  <thead>\n",
       "    <tr style=\"text-align: right;\">\n",
       "      <th></th>\n",
       "      <th>subject_id</th>\n",
       "      <th>gender</th>\n",
       "      <th>hospital_expire_flag</th>\n",
       "      <th>icd9_code</th>\n",
       "    </tr>\n",
       "  </thead>\n",
       "  <tbody>\n",
       "    <tr>\n",
       "      <th>0</th>\n",
       "      <td>250</td>\n",
       "      <td>F</td>\n",
       "      <td>1</td>\n",
       "      <td>78552</td>\n",
       "    </tr>\n",
       "    <tr>\n",
       "      <th>1</th>\n",
       "      <td>250</td>\n",
       "      <td>F</td>\n",
       "      <td>1</td>\n",
       "      <td>99592</td>\n",
       "    </tr>\n",
       "    <tr>\n",
       "      <th>2</th>\n",
       "      <td>269</td>\n",
       "      <td>M</td>\n",
       "      <td>0</td>\n",
       "      <td>78552</td>\n",
       "    </tr>\n",
       "    <tr>\n",
       "      <th>3</th>\n",
       "      <td>269</td>\n",
       "      <td>M</td>\n",
       "      <td>0</td>\n",
       "      <td>99592</td>\n",
       "    </tr>\n",
       "    <tr>\n",
       "      <th>4</th>\n",
       "      <td>689</td>\n",
       "      <td>F</td>\n",
       "      <td>0</td>\n",
       "      <td>99591</td>\n",
       "    </tr>\n",
       "  </tbody>\n",
       "</table>\n",
       "</div>"
      ],
      "text/plain": [
       "  subject_id gender hospital_expire_flag icd9_code\n",
       "0        250      F                    1     78552\n",
       "1        250      F                    1     99592\n",
       "2        269      M                    0     78552\n",
       "3        269      M                    0     99592\n",
       "4        689      F                    0     99591"
      ]
     },
     "metadata": {},
     "output_type": "display_data"
    }
   ],
   "source": [
    "%%mimicSQL\n",
    "\n",
    "I want to study the impact of sepsis on mortality using MIMIC-III. \n",
    "I want to study the likelihood of death as a function of gender.\n",
    "Can you help me retrieve relevant data for this analysis, and explain why?"
   ]
  },
  {
   "cell_type": "code",
   "execution_count": 5,
   "id": "37d769a9-64e4-469b-8285-fc297f876171",
   "metadata": {
    "ChapyterCell": {
     "cellType": "original",
     "linkedCellId": "9d6cc1db-559b-413b-ab8e-a3b741dafd92"
    }
   },
   "outputs": [
    {
     "name": "stdout",
     "output_type": "stream",
     "text": [
      "To test if it is more likely for men admitted with sepsis to die than women admitted with sepsis, we can perform a Chi-Square test of independence. This test is appropriate because we are comparing two categorical variables: gender and mortality.\n",
      "\n",
      "First, we need to create a contingency table that shows the frequency of death and survival for men and women. Then, we can perform the Chi-Square test on this table.\n",
      "\n",
      "Here is the Python code to do this:\n",
      "\n",
      "```python\n",
      "import pandas as pd\n",
      "from scipy.stats import chi2_contingency\n",
      "\n",
      "# Create a contingency table\n",
      "contingency_table = pd.crosstab(df['gender'], df['hospital_expire_flag'])\n",
      "\n",
      "# Perform the Chi-Square test\n",
      "chi2, p, dof, expected = chi2_contingency(contingency_table)\n",
      "\n",
      "print(f\"Chi-Square statistic: {chi2}\")\n",
      "print(f\"P-value: {p}\")\n",
      "```\n",
      "\n",
      "The p-value will tell us whether the difference in mortality between men and women is statistically significant. If the p-value is less than 0.05, we can reject the null hypothesis that gender and mortality are independent, and conclude that there is a significant difference in mortality between men and women admitted with sepsis.\n",
      "\n",
      " Result : 0.5227740302821215\n"
     ]
    }
   ],
   "source": [
    "%%mimicPython\n",
    "\n",
    "Great! Now, given the dataset you retrieved, help me compose a statistical test.\n",
    "I want to see if it is more likely men admitted with sepsis die than women that were admitted with sepsis."
   ]
  },
  {
   "cell_type": "code",
   "execution_count": 6,
   "id": "cac2d210-315b-4461-8d74-c92095a7dbe0",
   "metadata": {
    "ChapyterCell": {
     "cellType": "original",
     "linkedCellId": "0d9fd18a-70fd-4a46-98c8-5309f5e7799a"
    }
   },
   "outputs": [
    {
     "name": "stdout",
     "output_type": "stream",
     "text": [
      "The p-value is a measure of the probability that an observed difference could have occurred just by random chance. In this case, the p-value is approximately 0.523.\n",
      "\n",
      "A common threshold for significance is 0.05. If the p-value is less than 0.05, we would reject the null hypothesis and conclude that there is a significant difference.\n",
      "\n",
      "However, in this case, the p-value is greater than 0.05. This means that we fail to reject the null hypothesis. In other words, the observed difference in mortality rates between men and women admitted with sepsis could have occurred by chance, and we do not have enough evidence to conclude that there is a significant difference in mortality rates between the genders in this case.\n"
     ]
    }
   ],
   "source": [
    "%%mimicPython\n",
    "\n",
    "What does that p-value mean?"
   ]
  },
  {
   "cell_type": "code",
   "execution_count": null,
   "id": "ff966816-8c10-495f-8a01-e3873e8bcca7",
   "metadata": {},
   "outputs": [],
   "source": []
  },
  {
   "cell_type": "code",
   "execution_count": null,
   "id": "3ec1463e-65a2-49eb-a0aa-6d6b878a444c",
   "metadata": {},
   "outputs": [],
   "source": []
  }
 ],
 "metadata": {
  "kernelspec": {
   "display_name": "Python 3 (ipykernel)",
   "language": "python",
   "name": "python3"
  },
  "language_info": {
   "codemirror_mode": {
    "name": "ipython",
    "version": 3
   },
   "file_extension": ".py",
   "mimetype": "text/x-python",
   "name": "python",
   "nbconvert_exporter": "python",
   "pygments_lexer": "ipython3",
   "version": "3.10.10"
  }
 },
 "nbformat": 4,
 "nbformat_minor": 5
}
