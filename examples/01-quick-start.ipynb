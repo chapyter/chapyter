{
 "cells": [
  {
   "cell_type": "code",
   "execution_count": 1,
   "id": "305f5dfc-d2e5-44eb-b6b5-4850e86274f4",
   "metadata": {
    "editable": true,
    "slideshow": {
     "slide_type": ""
    },
    "tags": []
   },
   "outputs": [
    {
     "name": "stderr",
     "output_type": "stream",
     "text": [
      "2023-09-17 22:57:25.467 WARNING streamlit.runtime.state.session_state_proxy: Session state does not function when running a script without `streamlit run`\n"
     ]
    }
   ],
   "source": [
    "%load_ext chapyter"
   ]
  },
  {
   "cell_type": "code",
   "execution_count": 2,
   "id": "7d5a874f-0ed2-417d-ad33-91a9f42e553c",
   "metadata": {
    "ChapyterCell": {
     "cellType": "original",
     "linkedCellId": "3e55963d-88f3-46ef-b6fb-86195097a904"
    }
   },
   "outputs": [
    {
     "data": {
      "text/html": [
       "<div>\n",
       "<style scoped>\n",
       "    .dataframe tbody tr th:only-of-type {\n",
       "        vertical-align: middle;\n",
       "    }\n",
       "\n",
       "    .dataframe tbody tr th {\n",
       "        vertical-align: top;\n",
       "    }\n",
       "\n",
       "    .dataframe thead th {\n",
       "        text-align: right;\n",
       "    }\n",
       "</style>\n",
       "<table border=\"1\" class=\"dataframe\">\n",
       "  <thead>\n",
       "    <tr style=\"text-align: right;\">\n",
       "      <th></th>\n",
       "      <th>row_id</th>\n",
       "      <th>subject_id</th>\n",
       "      <th>hadm_id</th>\n",
       "      <th>icustay_id</th>\n",
       "      <th>dbsource</th>\n",
       "      <th>first_careunit</th>\n",
       "      <th>last_careunit</th>\n",
       "      <th>first_wardid</th>\n",
       "      <th>last_wardid</th>\n",
       "      <th>intime</th>\n",
       "      <th>outtime</th>\n",
       "      <th>los</th>\n",
       "    </tr>\n",
       "  </thead>\n",
       "  <tbody>\n",
       "    <tr>\n",
       "      <th>0</th>\n",
       "      <td>365</td>\n",
       "      <td>268</td>\n",
       "      <td>110404</td>\n",
       "      <td>280836</td>\n",
       "      <td>carevue</td>\n",
       "      <td>MICU</td>\n",
       "      <td>MICU</td>\n",
       "      <td>52</td>\n",
       "      <td>52</td>\n",
       "      <td>2198-02-14 23:27:38.000</td>\n",
       "      <td>2198-02-18 05:26:11.000</td>\n",
       "      <td>3.249</td>\n",
       "    </tr>\n",
       "    <tr>\n",
       "      <th>1</th>\n",
       "      <td>366</td>\n",
       "      <td>269</td>\n",
       "      <td>106296</td>\n",
       "      <td>206613</td>\n",
       "      <td>carevue</td>\n",
       "      <td>MICU</td>\n",
       "      <td>MICU</td>\n",
       "      <td>52</td>\n",
       "      <td>52</td>\n",
       "      <td>2170-11-05 11:05:29.000</td>\n",
       "      <td>2170-11-08 17:46:57.000</td>\n",
       "      <td>3.2788</td>\n",
       "    </tr>\n",
       "    <tr>\n",
       "      <th>2</th>\n",
       "      <td>367</td>\n",
       "      <td>270</td>\n",
       "      <td>188028</td>\n",
       "      <td>220345</td>\n",
       "      <td>carevue</td>\n",
       "      <td>CCU</td>\n",
       "      <td>CCU</td>\n",
       "      <td>57</td>\n",
       "      <td>57</td>\n",
       "      <td>2128-06-24 15:05:20.000</td>\n",
       "      <td>2128-06-27 12:32:29.000</td>\n",
       "      <td>2.8939</td>\n",
       "    </tr>\n",
       "    <tr>\n",
       "      <th>3</th>\n",
       "      <td>368</td>\n",
       "      <td>271</td>\n",
       "      <td>173727</td>\n",
       "      <td>249196</td>\n",
       "      <td>carevue</td>\n",
       "      <td>MICU</td>\n",
       "      <td>SICU</td>\n",
       "      <td>52</td>\n",
       "      <td>23</td>\n",
       "      <td>2120-08-07 23:12:42.000</td>\n",
       "      <td>2120-08-10 00:39:04.000</td>\n",
       "      <td>2.06</td>\n",
       "    </tr>\n",
       "    <tr>\n",
       "      <th>4</th>\n",
       "      <td>369</td>\n",
       "      <td>272</td>\n",
       "      <td>164716</td>\n",
       "      <td>210407</td>\n",
       "      <td>carevue</td>\n",
       "      <td>CCU</td>\n",
       "      <td>CCU</td>\n",
       "      <td>57</td>\n",
       "      <td>57</td>\n",
       "      <td>2186-12-25 21:08:04.000</td>\n",
       "      <td>2186-12-27 12:01:13.000</td>\n",
       "      <td>1.6202</td>\n",
       "    </tr>\n",
       "  </tbody>\n",
       "</table>\n",
       "</div>"
      ],
      "text/plain": [
       "  row_id subject_id hadm_id icustay_id dbsource first_careunit last_careunit  \\\n",
       "0    365        268  110404     280836  carevue           MICU          MICU   \n",
       "1    366        269  106296     206613  carevue           MICU          MICU   \n",
       "2    367        270  188028     220345  carevue            CCU           CCU   \n",
       "3    368        271  173727     249196  carevue           MICU          SICU   \n",
       "4    369        272  164716     210407  carevue            CCU           CCU   \n",
       "\n",
       "  first_wardid last_wardid                   intime                  outtime  \\\n",
       "0           52          52  2198-02-14 23:27:38.000  2198-02-18 05:26:11.000   \n",
       "1           52          52  2170-11-05 11:05:29.000  2170-11-08 17:46:57.000   \n",
       "2           57          57  2128-06-24 15:05:20.000  2128-06-27 12:32:29.000   \n",
       "3           52          23  2120-08-07 23:12:42.000  2120-08-10 00:39:04.000   \n",
       "4           57          57  2186-12-25 21:08:04.000  2186-12-27 12:01:13.000   \n",
       "\n",
       "      los  \n",
       "0   3.249  \n",
       "1  3.2788  \n",
       "2  2.8939  \n",
       "3    2.06  \n",
       "4  1.6202  "
      ]
     },
     "metadata": {},
     "output_type": "display_data"
    }
   ],
   "source": [
    "%%mimicSQL\n",
    "\n",
    "Retrieve all data from ICUSTAYS table"
   ]
  },
  {
   "cell_type": "code",
   "execution_count": null,
   "id": "3e55963d-88f3-46ef-b6fb-86195097a904",
   "metadata": {
    "ChapyterCell": {
     "cellType": "generated",
     "linkedCellId": "7d5a874f-0ed2-417d-ad33-91a9f42e553c"
    },
    "jupyter": {
     "source_hidden": true
    }
   },
   "outputs": [],
   "source": [
    "# Assistant Code for Cell [2]:\n",
    "Sure, here is the SQL query to retrieve all data from the ICUSTAYS table:\n",
    "\n",
    "```sql\n",
    "SELECT * \n",
    "FROM mimic.icustays;\n",
    "```\n",
    "\n",
    "Please note that this query will return all the rows and columns from the ICUSTAYS table. If you are looking for specific columns or rows, you might want to modify the query to suit your needs."
   ]
  },
  {
   "cell_type": "code",
   "execution_count": 3,
   "id": "d4da1164-a8ec-4d1a-8bec-efebcc6ab113",
   "metadata": {
    "ChapyterCell": {
     "cellType": "original",
     "linkedCellId": "a08043cc-ae4a-46e8-b705-e32e86e63998"
    }
   },
   "outputs": [
    {
     "name": "stdout",
     "output_type": "stream",
     "text": [
      "Result : (999, 12)\n"
     ]
    }
   ],
   "source": [
    "%%mimicPython\n",
    "\n",
    "How many rows and columns are in this dataset?"
   ]
  },
  {
   "cell_type": "code",
   "execution_count": null,
   "id": "a08043cc-ae4a-46e8-b705-e32e86e63998",
   "metadata": {
    "ChapyterCell": {
     "cellType": "generated",
     "linkedCellId": "d4da1164-a8ec-4d1a-8bec-efebcc6ab113"
    },
    "jupyter": {
     "source_hidden": true
    }
   },
   "outputs": [],
   "source": [
    "# Assistant Code for Cell [3]:\n",
    "To find out the number of rows and columns in the dataframe, you can use the shape attribute. Here is the Python code:\n",
    "\n",
    "```python\n",
    "num_rows, num_cols = df.shape\n",
    "print(f'There are {num_rows} rows and {num_cols} columns in the dataframe.')\n",
    "```\n",
    "\n",
    "Please replace `df` with the actual variable name of your dataframe.\n",
    "Result : (999, 12)\n"
   ]
  },
  {
   "cell_type": "code",
   "execution_count": null,
   "id": "78459545-9b1f-416e-ab9c-ffdfad6f7c9e",
   "metadata": {
    "ChapyterCell": {
     "cellType": "original",
     "linkedCellId": "fda6ef8b-8bec-4465-9eaf-6301ea0f0de8"
    }
   },
   "outputs": [],
   "source": [
    "%%mimicPython\n",
    "\n",
    "What is the average first_wardid value?"
   ]
  },
  {
   "cell_type": "code",
   "execution_count": null,
   "id": "769789c4-340f-497e-aa8a-2137dbf09d56",
   "metadata": {
    "ChapyterCell": {
     "cellType": "original",
     "linkedCellId": "10ce92a0-07b1-49ec-960b-ab1b6e88734f"
    }
   },
   "outputs": [],
   "source": [
    "%%mimicSQL\n",
    "\n",
    "What are the column names of that table? And what do they mean?"
   ]
  },
  {
   "cell_type": "code",
   "execution_count": null,
   "id": "79d66a4e-5565-44d1-b047-8ee3b100d5b6",
   "metadata": {
    "ChapyterCell": {
     "cellType": "original",
     "linkedCellId": "0ca37c90-0850-4992-aae9-f7d44cadc12e"
    }
   },
   "outputs": [],
   "source": [
    "%%mimicPython\n",
    "\n",
    "What is the minimum, mean, and max first_wardid values?"
   ]
  },
  {
   "cell_type": "code",
   "execution_count": null,
   "id": "ebec450e-c57a-4423-9a69-dc593c5e8f90",
   "metadata": {
    "ChapyterCell": {
     "cellType": "original",
     "linkedCellId": "5d79cea0-d7d2-45c6-a0ba-2fe3127a9237"
    }
   },
   "outputs": [],
   "source": [
    "%%mimicPython\n",
    "\n",
    "How many rows and columns are in this dataset?"
   ]
  },
  {
   "cell_type": "code",
   "execution_count": null,
   "id": "ced603ea-2cf0-47a4-8c3f-cd88b5bfbc16",
   "metadata": {
    "ChapyterCell": {
     "cellType": "original",
     "linkedCellId": "82c5fc77-c433-4d6c-ba05-803e8e0e99a4"
    }
   },
   "outputs": [],
   "source": [
    "%%mimicSQL\n",
    "\n",
    "Join the first table we retrieved with the PATIENTS table."
   ]
  },
  {
   "cell_type": "code",
   "execution_count": null,
   "id": "1356c709-22af-4e3e-be61-c79a0610c4a0",
   "metadata": {
    "ChapyterCell": {
     "cellType": "original",
     "linkedCellId": "642a4fe0-63f3-48ea-b16d-2ac8efe3a3c5"
    }
   },
   "outputs": [],
   "source": [
    "%%mimicPython\n",
    "\n",
    "How many rows and columns are in this new dataset?"
   ]
  }
 ],
 "metadata": {
  "kernelspec": {
   "display_name": "Python 3 (ipykernel)",
   "language": "python",
   "name": "python3"
  },
  "language_info": {
   "codemirror_mode": {
    "name": "ipython",
    "version": 3
   },
   "file_extension": ".py",
   "mimetype": "text/x-python",
   "name": "python",
   "nbconvert_exporter": "python",
   "pygments_lexer": "ipython3",
   "version": "3.10.10"
  }
 },
 "nbformat": 4,
 "nbformat_minor": 5
}
