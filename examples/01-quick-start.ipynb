{
 "cells": [
  {
   "cell_type": "code",
   "execution_count": 1,
   "id": "305f5dfc-d2e5-44eb-b6b5-4850e86274f4",
   "metadata": {
    "editable": true,
    "slideshow": {
     "slide_type": ""
    },
    "tags": []
   },
   "outputs": [],
   "source": [
    "%load_ext autoreload"
   ]
  },
  {
   "cell_type": "code",
   "execution_count": 2,
   "id": "35f98b98-8b1f-4ccd-a395-1b5bd6792105",
   "metadata": {},
   "outputs": [],
   "source": [
    "%autoreload 2"
   ]
  },
  {
   "cell_type": "code",
   "execution_count": 3,
   "id": "d091328b-6bea-4c73-af5f-3859424c192b",
   "metadata": {},
   "outputs": [
    {
     "name": "stderr",
     "output_type": "stream",
     "text": [
      "2023-09-18 23:20:15.756 WARNING streamlit.runtime.state.session_state_proxy: Session state does not function when running a script without `streamlit run`\n"
     ]
    }
   ],
   "source": [
    "%load_ext chapyter"
   ]
  },
  {
   "cell_type": "code",
   "execution_count": 4,
   "id": "1c2bbd8b-319f-4052-a7a8-46f7ac01fd7b",
   "metadata": {},
   "outputs": [
    {
     "data": {
      "text/plain": [
       "4"
      ]
     },
     "execution_count": 4,
     "metadata": {},
     "output_type": "execute_result"
    }
   ],
   "source": [
    "2+2"
   ]
  },
  {
   "cell_type": "code",
   "execution_count": 5,
   "id": "90b99733-3542-4da7-a99f-21fa39a1f354",
   "metadata": {},
   "outputs": [
    {
     "name": "stdout",
     "output_type": "stream",
     "text": [
      "THIS IS A TEST\n"
     ]
    }
   ],
   "source": [
    "print(\"THIS IS A TEST\")"
   ]
  },
  {
   "cell_type": "code",
   "execution_count": 6,
   "id": "de4ace6e-b8d3-4ace-aad8-321d690189ce",
   "metadata": {},
   "outputs": [],
   "source": [
    "import sys\n",
    "sys.path.append(\"../chapyter/\")\n",
    "from programs import get_notebook_ordered_history"
   ]
  },
  {
   "cell_type": "code",
   "execution_count": 16,
   "id": "37d769a9-64e4-469b-8285-fc297f876171",
   "metadata": {
    "ChapyterCell": {
     "cellType": "original",
     "linkedCellId": "3fc27cea-92fc-445c-95c1-a7aafc0bad28"
    }
   },
   "outputs": [
    {
     "data": {
      "text/html": [
       "<div>\n",
       "<style scoped>\n",
       "    .dataframe tbody tr th:only-of-type {\n",
       "        vertical-align: middle;\n",
       "    }\n",
       "\n",
       "    .dataframe tbody tr th {\n",
       "        vertical-align: top;\n",
       "    }\n",
       "\n",
       "    .dataframe thead th {\n",
       "        text-align: right;\n",
       "    }\n",
       "</style>\n",
       "<table border=\"1\" class=\"dataframe\">\n",
       "  <thead>\n",
       "    <tr style=\"text-align: right;\">\n",
       "      <th></th>\n",
       "      <th>row_id</th>\n",
       "      <th>subject_id</th>\n",
       "      <th>gender</th>\n",
       "      <th>dob</th>\n",
       "      <th>dod</th>\n",
       "      <th>dod_hosp</th>\n",
       "      <th>dod_ssn</th>\n",
       "      <th>expire_flag</th>\n",
       "    </tr>\n",
       "  </thead>\n",
       "  <tbody>\n",
       "    <tr>\n",
       "      <th>0</th>\n",
       "      <td>234</td>\n",
       "      <td>249</td>\n",
       "      <td>F</td>\n",
       "      <td>2075-03-13 00:00:00.000</td>\n",
       "      <td>None</td>\n",
       "      <td>None</td>\n",
       "      <td>None</td>\n",
       "      <td>0</td>\n",
       "    </tr>\n",
       "    <tr>\n",
       "      <th>1</th>\n",
       "      <td>235</td>\n",
       "      <td>250</td>\n",
       "      <td>F</td>\n",
       "      <td>2164-12-27 00:00:00.000</td>\n",
       "      <td>2188-11-22 00:00:00.000</td>\n",
       "      <td>2188-11-22 00:00:00.000</td>\n",
       "      <td>None</td>\n",
       "      <td>1</td>\n",
       "    </tr>\n",
       "    <tr>\n",
       "      <th>2</th>\n",
       "      <td>236</td>\n",
       "      <td>251</td>\n",
       "      <td>M</td>\n",
       "      <td>2090-03-15 00:00:00.000</td>\n",
       "      <td>None</td>\n",
       "      <td>None</td>\n",
       "      <td>None</td>\n",
       "      <td>0</td>\n",
       "    </tr>\n",
       "    <tr>\n",
       "      <th>3</th>\n",
       "      <td>237</td>\n",
       "      <td>252</td>\n",
       "      <td>M</td>\n",
       "      <td>2078-03-06 00:00:00.000</td>\n",
       "      <td>None</td>\n",
       "      <td>None</td>\n",
       "      <td>None</td>\n",
       "      <td>0</td>\n",
       "    </tr>\n",
       "    <tr>\n",
       "      <th>4</th>\n",
       "      <td>238</td>\n",
       "      <td>253</td>\n",
       "      <td>F</td>\n",
       "      <td>2089-11-26 00:00:00.000</td>\n",
       "      <td>None</td>\n",
       "      <td>None</td>\n",
       "      <td>None</td>\n",
       "      <td>0</td>\n",
       "    </tr>\n",
       "  </tbody>\n",
       "</table>\n",
       "</div>"
      ],
      "text/plain": [
       "  row_id subject_id gender                      dob                      dod  \\\n",
       "0    234        249      F  2075-03-13 00:00:00.000                     None   \n",
       "1    235        250      F  2164-12-27 00:00:00.000  2188-11-22 00:00:00.000   \n",
       "2    236        251      M  2090-03-15 00:00:00.000                     None   \n",
       "3    237        252      M  2078-03-06 00:00:00.000                     None   \n",
       "4    238        253      F  2089-11-26 00:00:00.000                     None   \n",
       "\n",
       "                  dod_hosp dod_ssn expire_flag  \n",
       "0                     None    None           0  \n",
       "1  2188-11-22 00:00:00.000    None           1  \n",
       "2                     None    None           0  \n",
       "3                     None    None           0  \n",
       "4                     None    None           0  "
      ]
     },
     "metadata": {},
     "output_type": "display_data"
    }
   ],
   "source": [
    "%%mimicSQL\n",
    "\n",
    "Retrieve all data from PATIENTS table please."
   ]
  },
  {
   "cell_type": "code",
   "execution_count": null,
   "id": "3fc27cea-92fc-445c-95c1-a7aafc0bad28",
   "metadata": {
    "ChapyterCell": {
     "cellType": "generated",
     "linkedCellId": "37d769a9-64e4-469b-8285-fc297f876171"
    },
    "jupyter": {
     "source_hidden": true
    }
   },
   "outputs": [],
   "source": [
    "# Assistant Code for Cell [16]:\n",
    "Sure, here is the SQL query to retrieve all data from the PATIENTS table:\n",
    "\n",
    "```sql\n",
    "SELECT * \n",
    "FROM PATIENTS;\n",
    "```"
   ]
  },
  {
   "cell_type": "code",
   "execution_count": 14,
   "id": "447608a1-8563-4317-9042-ae8feba788d3",
   "metadata": {
    "ChapyterCell": {
     "cellType": "original",
     "linkedCellId": "91ff2d86-b58f-4803-80b8-d36014a67f4f"
    }
   },
   "outputs": [
    {
     "name": "stdout",
     "output_type": "stream",
     "text": [
      "Result : 12\n"
     ]
    }
   ],
   "source": [
    "%%mimicPython\n",
    "\n",
    "What is the minimum first_wardid?"
   ]
  },
  {
   "cell_type": "code",
   "execution_count": null,
   "id": "91ff2d86-b58f-4803-80b8-d36014a67f4f",
   "metadata": {
    "ChapyterCell": {
     "cellType": "generated",
     "linkedCellId": "447608a1-8563-4317-9042-ae8feba788d3"
    },
    "jupyter": {
     "source_hidden": true
    }
   },
   "outputs": [],
   "source": [
    "# Assistant Code for Cell [14]:\n",
    "To find the minimum of the 'first_wardid' column, you can use the min() function from pandas. Here is the code:\n",
    "\n",
    "```python\n",
    "minimum_first_wardid = df['first_wardid'].min()\n",
    "print(minimum_first_wardid)\n",
    "```\n",
    "\n",
    "Please replace 'df' with your dataframe's name.\n",
    "Result : 12\n"
   ]
  },
  {
   "cell_type": "code",
   "execution_count": 20,
   "id": "b93463f4-2723-47a5-97ae-24573af595b3",
   "metadata": {},
   "outputs": [
    {
     "data": {
      "text/markdown": [
       "**Clinical Researcher:** %%mimicSQL --- Retrieve all data from PATIENTS table please.\n",
       "\n",
       "**AI Research Assistant:** Sure, here is the SQL query to retrieve all data from the PATIENTS table:\n",
       "\n",
       "```sql\n",
       "SELECT * \n",
       "FROM PATIENTS;\n",
       "```\n",
       "\n",
       "**Result of Analysis:** <div>\n",
       "<style scoped>\n",
       "    .dataframe tbody tr th:only-of-type {\n",
       "        vertical-align: middle;\n",
       "    }\n",
       "\n",
       "    .dataframe tbody tr th {\n",
       "        vertical-align: top;\n",
       "    }\n",
       "\n",
       "    .dataframe thead th {\n",
       "        text-align: right;\n",
       "    }\n",
       "</style>\n",
       "<table border=\"1\" class=\"dataframe\">\n",
       "  <thead>\n",
       "    <tr style=\"text-align: right;\">\n",
       "      <th></th>\n",
       "      <th>row_id</th>\n",
       "      <th>subject_id</th>\n",
       "      <th>gender</th>\n",
       "      <th>dob</th>\n",
       "      <th>dod</th>\n",
       "      <th>dod_hosp</th>\n",
       "      <th>dod_ssn</th>\n",
       "      <th>expire_flag</th>\n",
       "    </tr>\n",
       "  </thead>\n",
       "  <tbody>\n",
       "    <tr>\n",
       "      <th>0</th>\n",
       "      <td>234</td>\n",
       "      <td>249</td>\n",
       "      <td>F</td>\n",
       "      <td>2075-03-13 00:00:00.000</td>\n",
       "      <td>None</td>\n",
       "      <td>None</td>\n",
       "      <td>None</td>\n",
       "      <td>0</td>\n",
       "    </tr>\n",
       "    <tr>\n",
       "      <th>1</th>\n",
       "      <td>235</td>\n",
       "      <td>250</td>\n",
       "      <td>F</td>\n",
       "      <td>2164-12-27 00:00:00.000</td>\n",
       "      <td>2188-11-22 00:00:00.000</td>\n",
       "      <td>2188-11-22 00:00:00.000</td>\n",
       "      <td>None</td>\n",
       "      <td>1</td>\n",
       "    </tr>\n",
       "    <tr>\n",
       "      <th>2</th>\n",
       "      <td>236</td>\n",
       "      <td>251</td>\n",
       "      <td>M</td>\n",
       "      <td>2090-03-15 00:00:00.000</td>\n",
       "      <td>None</td>\n",
       "      <td>None</td>\n",
       "      <td>None</td>\n",
       "      <td>0</td>\n",
       "    </tr>\n",
       "    <tr>\n",
       "      <th>3</th>\n",
       "      <td>237</td>\n",
       "      <td>252</td>\n",
       "      <td>M</td>\n",
       "      <td>2078-03-06 00:00:00.000</td>\n",
       "      <td>None</td>\n",
       "      <td>None</td>\n",
       "      <td>None</td>\n",
       "      <td>0</td>\n",
       "    </tr>\n",
       "    <tr>\n",
       "      <th>4</th>\n",
       "      <td>238</td>\n",
       "      <td>253</td>\n",
       "      <td>F</td>\n",
       "      <td>2089-11-26 00:00:00.000</td>\n",
       "      <td>None</td>\n",
       "      <td>None</td>\n",
       "      <td>None</td>\n",
       "      <td>0</td>\n",
       "    </tr>\n",
       "  </tbody>\n",
       "</table>\n",
       "</div>\n",
       "\n",
       "============================================================\n",
       "\n",
       "**Clinical Researcher:** %%mimicPython --- What is the minimum first_wardid?\n",
       "\n",
       "**AI Research Assistant:** To find the minimum of the 'first_wardid' column, you can use the min() function from pandas. Here is the code:\n",
       "\n",
       "```python\n",
       "minimum_first_wardid = df['first_wardid'].min()\n",
       "print(minimum_first_wardid)\n",
       "```\n",
       "\n",
       "Please replace 'df' with your dataframe's name.\n",
       "Result : 12\n",
       "\n",
       "\n",
       "**Result of Analysis:** Result : 12\n",
       "\n",
       "\n",
       "============================================================\n",
       "\n"
      ],
      "text/plain": [
       "<IPython.core.display.Markdown object>"
      ]
     },
     "metadata": {},
     "output_type": "display_data"
    }
   ],
   "source": [
    "get_notebook_ordered_history()"
   ]
  },
  {
   "cell_type": "code",
   "execution_count": null,
   "id": "c458df47-e1a9-4577-9ecb-3219429bea6e",
   "metadata": {},
   "outputs": [],
   "source": []
  }
 ],
 "metadata": {
  "kernelspec": {
   "display_name": "Python 3 (ipykernel)",
   "language": "python",
   "name": "python3"
  },
  "language_info": {
   "codemirror_mode": {
    "name": "ipython",
    "version": 3
   },
   "file_extension": ".py",
   "mimetype": "text/x-python",
   "name": "python",
   "nbconvert_exporter": "python",
   "pygments_lexer": "ipython3",
   "version": "3.10.10"
  }
 },
 "nbformat": 4,
 "nbformat_minor": 5
}
