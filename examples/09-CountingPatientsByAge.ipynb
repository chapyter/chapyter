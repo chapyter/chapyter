{
 "cells": [
  {
   "cell_type": "code",
   "execution_count": 1,
   "id": "305f5dfc-d2e5-44eb-b6b5-4850e86274f4",
   "metadata": {
    "editable": true,
    "slideshow": {
     "slide_type": ""
    },
    "tags": []
   },
   "outputs": [],
   "source": [
    "%load_ext autoreload"
   ]
  },
  {
   "cell_type": "code",
   "execution_count": 2,
   "id": "35f98b98-8b1f-4ccd-a395-1b5bd6792105",
   "metadata": {},
   "outputs": [],
   "source": [
    "%autoreload 2"
   ]
  },
  {
   "cell_type": "code",
   "execution_count": 3,
   "id": "d091328b-6bea-4c73-af5f-3859424c192b",
   "metadata": {},
   "outputs": [
    {
     "name": "stderr",
     "output_type": "stream",
     "text": [
      "2023-09-23 17:07:10.931 WARNING streamlit.runtime.state.session_state_proxy: Session state does not function when running a script without `streamlit run`\n"
     ]
    }
   ],
   "source": [
    "%load_ext chapyter"
   ]
  },
  {
   "cell_type": "code",
   "execution_count": 4,
   "id": "2a23821b-301f-4402-8454-a0b74f531328",
   "metadata": {},
   "outputs": [],
   "source": [
    "import os\n",
    "os.environ[\"NOTEBOOK_NAME\"] = \"09-CountingPatientsByAge.ipynb\""
   ]
  },
  {
   "cell_type": "code",
   "execution_count": 5,
   "id": "f9004506-e65d-4afa-8f58-8581393d6e35",
   "metadata": {
    "ChapyterCell": {
     "cellType": "original"
    }
   },
   "outputs": [
    {
     "name": "stdout",
     "output_type": "stream",
     "text": [
      "Sure, here is a SQL query to retrieve all data from the PATIENTS table:\n",
      "\n",
      "```sql\n",
      "SELECT * \n",
      "FROM mimic.mimiciii.patients;\n",
      "```\n",
      "\n",
      "This query will return all columns and rows from the PATIENTS table in the MIMIC-III database. Please replace 'mimic.mimiciii' with your actual database schema if it's different.\n"
     ]
    },
    {
     "data": {
      "text/html": [
       "<div>\n",
       "<style scoped>\n",
       "    .dataframe tbody tr th:only-of-type {\n",
       "        vertical-align: middle;\n",
       "    }\n",
       "\n",
       "    .dataframe tbody tr th {\n",
       "        vertical-align: top;\n",
       "    }\n",
       "\n",
       "    .dataframe thead th {\n",
       "        text-align: right;\n",
       "    }\n",
       "</style>\n",
       "<table border=\"1\" class=\"dataframe\">\n",
       "  <thead>\n",
       "    <tr style=\"text-align: right;\">\n",
       "      <th></th>\n",
       "      <th>row_id</th>\n",
       "      <th>subject_id</th>\n",
       "      <th>gender</th>\n",
       "      <th>dob</th>\n",
       "      <th>dod</th>\n",
       "      <th>dod_hosp</th>\n",
       "      <th>dod_ssn</th>\n",
       "      <th>expire_flag</th>\n",
       "    </tr>\n",
       "  </thead>\n",
       "  <tbody>\n",
       "    <tr>\n",
       "      <th>0</th>\n",
       "      <td>234</td>\n",
       "      <td>249</td>\n",
       "      <td>F</td>\n",
       "      <td>2075-03-13 00:00:00.000</td>\n",
       "      <td>None</td>\n",
       "      <td>None</td>\n",
       "      <td>None</td>\n",
       "      <td>0</td>\n",
       "    </tr>\n",
       "    <tr>\n",
       "      <th>1</th>\n",
       "      <td>235</td>\n",
       "      <td>250</td>\n",
       "      <td>F</td>\n",
       "      <td>2164-12-27 00:00:00.000</td>\n",
       "      <td>2188-11-22 00:00:00.000</td>\n",
       "      <td>2188-11-22 00:00:00.000</td>\n",
       "      <td>None</td>\n",
       "      <td>1</td>\n",
       "    </tr>\n",
       "    <tr>\n",
       "      <th>2</th>\n",
       "      <td>236</td>\n",
       "      <td>251</td>\n",
       "      <td>M</td>\n",
       "      <td>2090-03-15 00:00:00.000</td>\n",
       "      <td>None</td>\n",
       "      <td>None</td>\n",
       "      <td>None</td>\n",
       "      <td>0</td>\n",
       "    </tr>\n",
       "    <tr>\n",
       "      <th>3</th>\n",
       "      <td>237</td>\n",
       "      <td>252</td>\n",
       "      <td>M</td>\n",
       "      <td>2078-03-06 00:00:00.000</td>\n",
       "      <td>None</td>\n",
       "      <td>None</td>\n",
       "      <td>None</td>\n",
       "      <td>0</td>\n",
       "    </tr>\n",
       "    <tr>\n",
       "      <th>4</th>\n",
       "      <td>238</td>\n",
       "      <td>253</td>\n",
       "      <td>F</td>\n",
       "      <td>2089-11-26 00:00:00.000</td>\n",
       "      <td>None</td>\n",
       "      <td>None</td>\n",
       "      <td>None</td>\n",
       "      <td>0</td>\n",
       "    </tr>\n",
       "  </tbody>\n",
       "</table>\n",
       "</div>"
      ],
      "text/plain": [
       "  row_id subject_id gender                      dob                      dod  \\\n",
       "0    234        249      F  2075-03-13 00:00:00.000                     None   \n",
       "1    235        250      F  2164-12-27 00:00:00.000  2188-11-22 00:00:00.000   \n",
       "2    236        251      M  2090-03-15 00:00:00.000                     None   \n",
       "3    237        252      M  2078-03-06 00:00:00.000                     None   \n",
       "4    238        253      F  2089-11-26 00:00:00.000                     None   \n",
       "\n",
       "                  dod_hosp dod_ssn expire_flag  \n",
       "0                     None    None           0  \n",
       "1  2188-11-22 00:00:00.000    None           1  \n",
       "2                     None    None           0  \n",
       "3                     None    None           0  \n",
       "4                     None    None           0  "
      ]
     },
     "metadata": {},
     "output_type": "display_data"
    }
   ],
   "source": [
    "%%mimicSQL\n",
    "\n",
    "Retrieve all data from PATIENTS table where patients database. "
   ]
  },
  {
   "cell_type": "code",
   "execution_count": 8,
   "id": "b42cb9c3-d0bb-4df2-8b5a-76501cfcde7d",
   "metadata": {
    "ChapyterCell": {
     "cellType": "original"
    }
   },
   "outputs": [
    {
     "name": "stdout",
     "output_type": "stream",
     "text": [
      "To find out the number of men and women in the dataframe, you can use the `value_counts()` function on the 'gender' column. Here is the Python code:\n",
      "\n",
      "```python\n",
      "df['gender'].value_counts()\n",
      "```\n",
      "\n",
      "This will return the count of each unique value in the 'gender' column, which should be 'M' for male and 'F' for female.\n",
      "\n",
      "\n",
      "Result : gender\n",
      "M    26088\n",
      "F    20386\n",
      "Name: count, dtype: int64\n"
     ]
    }
   ],
   "source": [
    "%%mimicPython\n",
    "\n",
    "How many men and women are there?"
   ]
  },
  {
   "cell_type": "code",
   "execution_count": 9,
   "id": "3a978aa7-1653-4f16-8b9a-cd5f5577bcc0",
   "metadata": {
    "ChapyterCell": {
     "cellType": "original"
    }
   },
   "outputs": [
    {
     "name": "stdout",
     "output_type": "stream",
     "text": [
      "In the MIMIC-III database, the patient's age is not directly given. However, we can calculate it using the difference between the admission time (from the ADMISSIONS table) and the date of birth (from the PATIENTS table). \n",
      "\n",
      "Please note that for patients over 89, the ages are shifted to 300 to de-identify the data. Here is a SQL query to retrieve the data for patients over 18:\n",
      "\n",
      "```sql\n",
      "SELECT p.*\n",
      "FROM mimic.mimiciii.patients p\n",
      "JOIN mimic.mimiciii.admissions a ON p.subject_id = a.subject_id\n",
      "WHERE DATE_PART('year', AGE(a.admittime, p.dob)) > 18;\n",
      "```\n",
      "\n",
      "This query will return all columns from the PATIENTS table for patients over 18 years old at the time of their admission. Please replace 'mimic.mimiciii' with your actual database schema if it's different.\n",
      "Query failed! State: FAILED\n",
      "Reason: FUNCTION_NOT_FOUND: line 4:25: Function 'age' not registered\n",
      "SQL RETRIEVAL FAILED!\n"
     ]
    }
   ],
   "source": [
    "%%mimicSQL\n",
    "\n",
    "Now retrieve the same dataset from MIMIC-III, except only patients over 18."
   ]
  },
  {
   "cell_type": "code",
   "execution_count": 10,
   "id": "af93ae1d-0b72-47e0-ba95-0e4f360e341f",
   "metadata": {
    "ChapyterCell": {
     "cellType": "original",
     "linkedCellId": "c00691b3-318c-427a-b560-ed7114d4a8e1"
    }
   },
   "outputs": [
    {
     "name": "stdout",
     "output_type": "stream",
     "text": [
      "I apologize for the confusion. The AGE function is not available in AWS Athena. We can instead use the DATEDIFF function to calculate the age. Here is the corrected SQL query:\n",
      "\n",
      "```sql\n",
      "SELECT p.*\n",
      "FROM mimic.mimiciii.patients p\n",
      "JOIN mimic.mimiciii.admissions a ON p.subject_id = a.subject_id\n",
      "WHERE DATEDIFF('year', p.dob, a.admittime) > 18;\n",
      "```\n",
      "\n",
      "This query will return all columns from the PATIENTS table for patients over 18 years old at the time of their admission. Please replace 'mimic.mimiciii' with your actual database schema if it's different.\n",
      "Query failed! State: FAILED\n",
      "Reason: FUNCTION_NOT_FOUND: line 4:7: Function 'datediff' not registered\n",
      "SQL RETRIEVAL FAILED!\n"
     ]
    }
   ],
   "source": [
    "%%mimicSQL\n",
    "\n",
    "Try again."
   ]
  },
  {
   "cell_type": "code",
   "execution_count": 14,
   "id": "cbdb23dc-acba-45a1-8ca0-e93651520592",
   "metadata": {
    "ChapyterCell": {
     "cellType": "original"
    }
   },
   "outputs": [
    {
     "name": "stdout",
     "output_type": "stream",
     "text": [
      "I apologize for the confusion earlier. AWS Athena uses a different syntax for date operations. Here is the corrected SQL query:\n",
      "\n",
      "```sql\n",
      "SELECT p.*\n",
      "FROM mimic.mimiciii.patients p\n",
      "JOIN mimic.mimiciii.admissions a ON p.subject_id = a.subject_id\n",
      "WHERE DATE_DIFF('year', DATE(p.dob), DATE(a.admittime)) > 18;\n",
      "```\n",
      "\n",
      "This query will return all columns from the PATIENTS table for patients over 18 years old at the time of their admission. Please replace 'mimic.mimiciii' with your actual database schema if it's different.\n"
     ]
    },
    {
     "data": {
      "text/html": [
       "<div>\n",
       "<style scoped>\n",
       "    .dataframe tbody tr th:only-of-type {\n",
       "        vertical-align: middle;\n",
       "    }\n",
       "\n",
       "    .dataframe tbody tr th {\n",
       "        vertical-align: top;\n",
       "    }\n",
       "\n",
       "    .dataframe thead th {\n",
       "        text-align: right;\n",
       "    }\n",
       "</style>\n",
       "<table border=\"1\" class=\"dataframe\">\n",
       "  <thead>\n",
       "    <tr style=\"text-align: right;\">\n",
       "      <th></th>\n",
       "      <th>row_id</th>\n",
       "      <th>subject_id</th>\n",
       "      <th>gender</th>\n",
       "      <th>dob</th>\n",
       "      <th>dod</th>\n",
       "      <th>dod_hosp</th>\n",
       "      <th>dod_ssn</th>\n",
       "      <th>expire_flag</th>\n",
       "    </tr>\n",
       "  </thead>\n",
       "  <tbody>\n",
       "    <tr>\n",
       "      <th>0</th>\n",
       "      <td>234</td>\n",
       "      <td>249</td>\n",
       "      <td>F</td>\n",
       "      <td>2075-03-13 00:00:00.000</td>\n",
       "      <td>None</td>\n",
       "      <td>None</td>\n",
       "      <td>None</td>\n",
       "      <td>0</td>\n",
       "    </tr>\n",
       "    <tr>\n",
       "      <th>1</th>\n",
       "      <td>234</td>\n",
       "      <td>249</td>\n",
       "      <td>F</td>\n",
       "      <td>2075-03-13 00:00:00.000</td>\n",
       "      <td>None</td>\n",
       "      <td>None</td>\n",
       "      <td>None</td>\n",
       "      <td>0</td>\n",
       "    </tr>\n",
       "    <tr>\n",
       "      <th>2</th>\n",
       "      <td>234</td>\n",
       "      <td>249</td>\n",
       "      <td>F</td>\n",
       "      <td>2075-03-13 00:00:00.000</td>\n",
       "      <td>None</td>\n",
       "      <td>None</td>\n",
       "      <td>None</td>\n",
       "      <td>0</td>\n",
       "    </tr>\n",
       "    <tr>\n",
       "      <th>3</th>\n",
       "      <td>235</td>\n",
       "      <td>250</td>\n",
       "      <td>F</td>\n",
       "      <td>2164-12-27 00:00:00.000</td>\n",
       "      <td>2188-11-22 00:00:00.000</td>\n",
       "      <td>2188-11-22 00:00:00.000</td>\n",
       "      <td>None</td>\n",
       "      <td>1</td>\n",
       "    </tr>\n",
       "    <tr>\n",
       "      <th>4</th>\n",
       "      <td>236</td>\n",
       "      <td>251</td>\n",
       "      <td>M</td>\n",
       "      <td>2090-03-15 00:00:00.000</td>\n",
       "      <td>None</td>\n",
       "      <td>None</td>\n",
       "      <td>None</td>\n",
       "      <td>0</td>\n",
       "    </tr>\n",
       "  </tbody>\n",
       "</table>\n",
       "</div>"
      ],
      "text/plain": [
       "  row_id subject_id gender                      dob                      dod  \\\n",
       "0    234        249      F  2075-03-13 00:00:00.000                     None   \n",
       "1    234        249      F  2075-03-13 00:00:00.000                     None   \n",
       "2    234        249      F  2075-03-13 00:00:00.000                     None   \n",
       "3    235        250      F  2164-12-27 00:00:00.000  2188-11-22 00:00:00.000   \n",
       "4    236        251      M  2090-03-15 00:00:00.000                     None   \n",
       "\n",
       "                  dod_hosp dod_ssn expire_flag  \n",
       "0                     None    None           0  \n",
       "1                     None    None           0  \n",
       "2                     None    None           0  \n",
       "3  2188-11-22 00:00:00.000    None           1  \n",
       "4                     None    None           0  "
      ]
     },
     "metadata": {},
     "output_type": "display_data"
    }
   ],
   "source": [
    "%%mimicSQL\n",
    "\n",
    "Try again please."
   ]
  },
  {
   "cell_type": "code",
   "execution_count": 15,
   "id": "b497fdfb-0407-41e1-8161-d64fea698911",
   "metadata": {
    "ChapyterCell": {
     "cellType": "original"
    }
   },
   "outputs": [
    {
     "name": "stdout",
     "output_type": "stream",
     "text": [
      "You can use the `value_counts()` function in pandas to count the number of men and women in the dataframe. Here is the Python code:\n",
      "\n",
      "```python\n",
      "df['gender'].value_counts()\n",
      "```\n",
      "\n",
      "This will return the count of each unique value in the 'gender' column, which should be 'M' for male and 'F' for female.\n",
      "\n",
      "\n",
      "Result : gender\n",
      "M    28402\n",
      "F    22179\n",
      "Name: count, dtype: int64\n"
     ]
    }
   ],
   "source": [
    "%%mimicPython\n",
    "\n",
    "How many men and women are there?"
   ]
  },
  {
   "cell_type": "code",
   "execution_count": 16,
   "id": "a558f16c-4ca4-4ec1-95ab-c4d419798c7e",
   "metadata": {
    "ChapyterCell": {
     "cellType": "original"
    }
   },
   "outputs": [
    {
     "name": "stdout",
     "output_type": "stream",
     "text": [
      "To calculate the difference in the number of people from the last time, you can subtract the previous count from the current count. Here is the Python code:\n",
      "\n",
      "```python\n",
      "previous_count = 26088 + 20386\n",
      "current_count = df['gender'].value_counts().sum()\n",
      "\n",
      "difference = current_count - previous_count\n",
      "difference\n",
      "```\n",
      "\n",
      "This will return the difference in the number of people from the last time we calculated.\n",
      "\n",
      "\n",
      "Result : 4107\n"
     ]
    }
   ],
   "source": [
    "%%mimicPython\n",
    "\n",
    "How many more people do we have in this than the last time we calculated the number of people?"
   ]
  },
  {
   "cell_type": "code",
   "execution_count": 17,
   "id": "55e45e2d-3495-4a0d-a434-0e9a368821f7",
   "metadata": {
    "ChapyterCell": {
     "cellType": "original"
    }
   },
   "outputs": [
    {
     "name": "stdout",
     "output_type": "stream",
     "text": [
      "The increase in the number of people, despite adding an age restriction, could be due to the fact that the same patient might have multiple admissions records. When we joined the PATIENTS table with the ADMISSIONS table, we might have counted the same patient multiple times if they had more than one admission. \n",
      "\n",
      "To get the unique number of patients, we should count the distinct 'subject_id' in the dataframe. Here is the Python code:\n",
      "\n",
      "```python\n",
      "current_unique_patients = df['subject_id'].nunique()\n",
      "```\n",
      "\n",
      "This will return the number of unique patients in the current dataframe.\n",
      "\n",
      "\n",
      "Result : 38388\n"
     ]
    }
   ],
   "source": [
    "%%mimicPython\n",
    "\n",
    "Why are there more people in that last query, if I put an additional restriction in?"
   ]
  },
  {
   "cell_type": "code",
   "execution_count": null,
   "id": "5f7d447e-87d2-4aba-b18b-4a2340e65f22",
   "metadata": {},
   "outputs": [],
   "source": []
  }
 ],
 "metadata": {
  "kernelspec": {
   "display_name": "Python 3 (ipykernel)",
   "language": "python",
   "name": "python3"
  },
  "language_info": {
   "codemirror_mode": {
    "name": "ipython",
    "version": 3
   },
   "file_extension": ".py",
   "mimetype": "text/x-python",
   "name": "python",
   "nbconvert_exporter": "python",
   "pygments_lexer": "ipython3",
   "version": "3.10.10"
  }
 },
 "nbformat": 4,
 "nbformat_minor": 5
}
