{
 "cells": [
  {
   "cell_type": "code",
   "execution_count": 20,
   "id": "fb216e71-4c6e-4928-bcdb-29636d439402",
   "metadata": {},
   "outputs": [
    {
     "name": "stdout",
     "output_type": "stream",
     "text": [
      "The autoreload extension is already loaded. To reload it, use:\n",
      "  %reload_ext autoreload\n",
      "The chapyter extension is already loaded. To reload it, use:\n",
      "  %reload_ext chapyter\n"
     ]
    }
   ],
   "source": [
    "# make sure changes in code take place immediately\n",
    "%load_ext autoreload\n",
    "%autoreload 2\n",
    "import pandas as pd\n",
    "    \n",
    "# load the chapyter extension for Jupyter Notebook\n",
    "%load_ext chapyter"
   ]
  },
  {
   "cell_type": "code",
   "execution_count": 4,
   "id": "89ad6aef-bbcf-42bc-9ac1-5e71ce251b6e",
   "metadata": {},
   "outputs": [],
   "source": [
    "#Define the notebook name as a variable\n",
    "import os\n",
    "os.environ[\"NOTEBOOK_NAME\"] = \"Demo_Fullrun.ipynb\""
   ]
  },
  {
   "cell_type": "code",
   "execution_count": 5,
   "id": "3efb065e-437b-4aa8-aa18-e0372a825297",
   "metadata": {},
   "outputs": [],
   "source": [
    "#This notebook requires a few deprecated installs:\n",
    "#Pandas = Version 1.3.5\n",
    "#scikit-learn = Version 0.24.2 [unfortunately i couldn't figure out how to install this]"
   ]
  },
  {
   "cell_type": "markdown",
   "id": "ce8cb389-112f-4724-80cd-02104251453c",
   "metadata": {},
   "source": [
    "# Mocha Demo V1.0"
   ]
  },
  {
   "cell_type": "markdown",
   "id": "7e190330-af8b-4b35-b509-c9e70c10371e",
   "metadata": {},
   "source": [
    "Our goal is to replicate the findings in this paper: https://www.ncbi.nlm.nih.gov/pmc/articles/PMC6687414/pdf/shk-52-146.pdf\n",
    "\n",
    "Hypothesis: Gender is associated with in-hospital mortality and LOS in patients with sepsis admitted to the ICU\n",
    "\n",
    "* 1 - get data from mimic \n",
    "* 2 - build a basic table 1 to summarize the data [ICU Service, Admission Location, Ethnicity]\n",
    "* 3 - do a univariate analysis to understand if the groups are similar or different\n",
    "* 4 - build a kaplan-meier curve for in-hospital mortality \n",
    "* 5 - do a univariate cox proportional hazard model to understand if men or women are more likely to die in-hospital \n",
    "* 6 - redo the analysis, but controlling for significant factors from our univariate analysis"
   ]
  },
  {
   "cell_type": "markdown",
   "id": "39d4904d-b145-4ce6-8187-3495ef0f2345",
   "metadata": {},
   "source": [
    "## Step 1: Get data from mimic \n",
    "1. Get patients from MIMIC diagnosed with sepsis, severe sepsis, or septic shock.\n",
    "2. Apply exclusion criteria – only get patients 18+. Only get patients admitted to the ICU. Only include a patient's first ICU admission.\n",
    "3. Add a few variables – ethnicity, ICU Service, admission type, first ICU service, date of ICU admission and discharge?"
   ]
  },
  {
   "cell_type": "code",
   "execution_count": 6,
   "id": "2faca326-06d4-49a6-a17a-6cb5af908a3e",
   "metadata": {},
   "outputs": [],
   "source": [
    "##--model gpt-3.5-turbo"
   ]
  },
  {
   "cell_type": "code",
   "execution_count": 7,
   "id": "1c9925f2-98fd-4ad9-b1c7-06324dc04ce0",
   "metadata": {},
   "outputs": [],
   "source": [
    "##this worked in GPT4 but not 3.5"
   ]
  },
  {
   "cell_type": "code",
   "execution_count": 8,
   "id": "514cef3d-5b2b-47c3-8f37-01e2e76e32f6",
   "metadata": {
    "ChapyterCell": {
     "cellType": "original"
    }
   },
   "outputs": [
    {
     "name": "stdout",
     "output_type": "stream",
     "text": [
      "\n",
      "\n",
      "This query will return the data for all patients admitted to an ICU with sepsis, severe sepsis, or septic shock that are 18 or older, including their admit times, discharge time, and time of death, ethnicity, the first ICU service they were admitted to, and admission type.\n"
     ]
    }
   ],
   "source": [
    "%%mimicSQL \n",
    "\n",
    "I'd like to study if there is an association between gender and in-hospital mortality in patients with sepsis admitted to the ICU.\n",
    "Can you get me all the patients admitted to an ICU with sepsis, severe sepsis, or septic shock that are 18 or older, as well as their admit times, discharge time, and time of death? \n",
    "I'd also like to add a few variables – can you include ethnicity, the first ICU service the patient was admitted to, and admission type?"
   ]
  },
  {
   "cell_type": "code",
   "execution_count": 10,
   "id": "ebf8ff71-334c-4e5d-ab31-50e5cbced021",
   "metadata": {
    "ChapyterCell": {
     "cellType": "original"
    }
   },
   "outputs": [
    {
     "data": {
      "text/html": [
       "<div>\n",
       "<style scoped>\n",
       "    .dataframe tbody tr th:only-of-type {\n",
       "        vertical-align: middle;\n",
       "    }\n",
       "\n",
       "    .dataframe tbody tr th {\n",
       "        vertical-align: top;\n",
       "    }\n",
       "\n",
       "    .dataframe thead th {\n",
       "        text-align: right;\n",
       "    }\n",
       "</style>\n",
       "<table border=\"1\" class=\"dataframe\">\n",
       "  <thead>\n",
       "    <tr style=\"text-align: right;\">\n",
       "      <th></th>\n",
       "      <th>subject_id</th>\n",
       "      <th>gender</th>\n",
       "      <th>dob</th>\n",
       "      <th>hadm_id</th>\n",
       "      <th>admittime</th>\n",
       "      <th>dischtime</th>\n",
       "      <th>deathtime</th>\n",
       "      <th>admission_type</th>\n",
       "      <th>ethnicity</th>\n",
       "      <th>first_careunit</th>\n",
       "    </tr>\n",
       "  </thead>\n",
       "  <tbody>\n",
       "    <tr>\n",
       "      <th>0</th>\n",
       "      <td>66876</td>\n",
       "      <td>M</td>\n",
       "      <td>2057-06-23 00:00:00.000</td>\n",
       "      <td>122645</td>\n",
       "      <td>2133-02-09 14:00:00.000</td>\n",
       "      <td>2133-02-20 13:38:00.000</td>\n",
       "      <td>2133-02-20 13:38:00.000</td>\n",
       "      <td>ELECTIVE</td>\n",
       "      <td>WHITE</td>\n",
       "      <td>CSRU</td>\n",
       "    </tr>\n",
       "    <tr>\n",
       "      <th>1</th>\n",
       "      <td>66876</td>\n",
       "      <td>M</td>\n",
       "      <td>2057-06-23 00:00:00.000</td>\n",
       "      <td>122645</td>\n",
       "      <td>2133-02-09 14:00:00.000</td>\n",
       "      <td>2133-02-20 13:38:00.000</td>\n",
       "      <td>2133-02-20 13:38:00.000</td>\n",
       "      <td>ELECTIVE</td>\n",
       "      <td>WHITE</td>\n",
       "      <td>CSRU</td>\n",
       "    </tr>\n",
       "    <tr>\n",
       "      <th>2</th>\n",
       "      <td>66894</td>\n",
       "      <td>F</td>\n",
       "      <td>2069-03-07 00:00:00.000</td>\n",
       "      <td>157688</td>\n",
       "      <td>2126-08-10 21:10:00.000</td>\n",
       "      <td>2126-08-11 19:29:00.000</td>\n",
       "      <td>2126-08-11 19:29:00.000</td>\n",
       "      <td>EMERGENCY</td>\n",
       "      <td>HISPANIC OR LATINO</td>\n",
       "      <td>MICU</td>\n",
       "    </tr>\n",
       "    <tr>\n",
       "      <th>3</th>\n",
       "      <td>66894</td>\n",
       "      <td>F</td>\n",
       "      <td>2069-03-07 00:00:00.000</td>\n",
       "      <td>157688</td>\n",
       "      <td>2126-08-10 21:10:00.000</td>\n",
       "      <td>2126-08-11 19:29:00.000</td>\n",
       "      <td>2126-08-11 19:29:00.000</td>\n",
       "      <td>EMERGENCY</td>\n",
       "      <td>HISPANIC OR LATINO</td>\n",
       "      <td>MICU</td>\n",
       "    </tr>\n",
       "    <tr>\n",
       "      <th>4</th>\n",
       "      <td>66965</td>\n",
       "      <td>M</td>\n",
       "      <td>2116-06-07 00:00:00.000</td>\n",
       "      <td>177338</td>\n",
       "      <td>2198-01-22 22:20:00.000</td>\n",
       "      <td>2198-02-14 14:51:00.000</td>\n",
       "      <td>None</td>\n",
       "      <td>EMERGENCY</td>\n",
       "      <td>WHITE</td>\n",
       "      <td>CCU</td>\n",
       "    </tr>\n",
       "  </tbody>\n",
       "</table>\n",
       "</div>"
      ],
      "text/plain": [
       "  subject_id gender                      dob hadm_id                admittime  \\\n",
       "0      66876      M  2057-06-23 00:00:00.000  122645  2133-02-09 14:00:00.000   \n",
       "1      66876      M  2057-06-23 00:00:00.000  122645  2133-02-09 14:00:00.000   \n",
       "2      66894      F  2069-03-07 00:00:00.000  157688  2126-08-10 21:10:00.000   \n",
       "3      66894      F  2069-03-07 00:00:00.000  157688  2126-08-10 21:10:00.000   \n",
       "4      66965      M  2116-06-07 00:00:00.000  177338  2198-01-22 22:20:00.000   \n",
       "\n",
       "                 dischtime                deathtime admission_type  \\\n",
       "0  2133-02-20 13:38:00.000  2133-02-20 13:38:00.000       ELECTIVE   \n",
       "1  2133-02-20 13:38:00.000  2133-02-20 13:38:00.000       ELECTIVE   \n",
       "2  2126-08-11 19:29:00.000  2126-08-11 19:29:00.000      EMERGENCY   \n",
       "3  2126-08-11 19:29:00.000  2126-08-11 19:29:00.000      EMERGENCY   \n",
       "4  2198-02-14 14:51:00.000                     None      EMERGENCY   \n",
       "\n",
       "            ethnicity first_careunit  \n",
       "0               WHITE           CSRU  \n",
       "1               WHITE           CSRU  \n",
       "2  HISPANIC OR LATINO           MICU  \n",
       "3  HISPANIC OR LATINO           MICU  \n",
       "4               WHITE            CCU  "
      ]
     },
     "metadata": {},
     "output_type": "display_data"
    }
   ],
   "source": [
    "%%runSQL \n",
    "\n",
    "\n",
    "SELECT \n",
    "    patients.subject_id,\n",
    "    patients.gender,\n",
    "    patients.dob,\n",
    "    admissions.hadm_id,\n",
    "    admissions.admittime,\n",
    "    admissions.dischtime,\n",
    "    admissions.deathtime,\n",
    "    admissions.admission_type,\n",
    "    admissions.ethnicity,\n",
    "    icustays.first_careunit\n",
    "FROM \n",
    "    patients\n",
    "JOIN \n",
    "    admissions ON patients.subject_id = admissions.subject_id\n",
    "JOIN \n",
    "    icustays ON admissions.hadm_id = icustays.hadm_id\n",
    "JOIN \n",
    "    diagnoses_icd ON admissions.hadm_id = diagnoses_icd.hadm_id\n",
    "WHERE \n",
    "    diagnoses_icd.icd9_code IN ('99591', '99592', '78552') -- ICD-9 codes for Sepsis, Severe Sepsis, and Septic Shock\n",
    "    AND DATE_DIFF('year', patients.dob, admissions.admittime) >= 18 -- Patients 18 or older\n"
   ]
  },
  {
   "cell_type": "code",
   "execution_count": 11,
   "id": "7db9e124-5ef6-444b-a60a-2daa495e5dde",
   "metadata": {
    "ChapyterCell": {
     "cellType": "original"
    }
   },
   "outputs": [
    {
     "name": "stdout",
     "output_type": "stream",
     "text": [
      "Sure, we can modify the query to only consider the first ICU stay for each patient. We can achieve this by adding a condition to only select the rows where the ICU stay ID (`icustays.icustay_id`) is the minimum ICU stay ID for that patient. Here's the updated query:\n",
      "\n",
      "This query will return the same columns as before, but now only for the first ICU stay of each patient.\n"
     ]
    }
   ],
   "source": [
    "%%mimicSQL \n",
    "\n",
    "Can we  only look at a patient's first ICU stay? "
   ]
  },
  {
   "cell_type": "code",
   "execution_count": 12,
   "id": "561da3ac-aa16-4368-8233-d561d3c3505f",
   "metadata": {
    "ChapyterCell": {
     "cellType": "original"
    }
   },
   "outputs": [
    {
     "data": {
      "text/html": [
       "<div>\n",
       "<style scoped>\n",
       "    .dataframe tbody tr th:only-of-type {\n",
       "        vertical-align: middle;\n",
       "    }\n",
       "\n",
       "    .dataframe tbody tr th {\n",
       "        vertical-align: top;\n",
       "    }\n",
       "\n",
       "    .dataframe thead th {\n",
       "        text-align: right;\n",
       "    }\n",
       "</style>\n",
       "<table border=\"1\" class=\"dataframe\">\n",
       "  <thead>\n",
       "    <tr style=\"text-align: right;\">\n",
       "      <th></th>\n",
       "      <th>subject_id</th>\n",
       "      <th>gender</th>\n",
       "      <th>dob</th>\n",
       "      <th>hadm_id</th>\n",
       "      <th>admittime</th>\n",
       "      <th>dischtime</th>\n",
       "      <th>deathtime</th>\n",
       "      <th>admission_type</th>\n",
       "      <th>ethnicity</th>\n",
       "      <th>first_careunit</th>\n",
       "    </tr>\n",
       "  </thead>\n",
       "  <tbody>\n",
       "    <tr>\n",
       "      <th>0</th>\n",
       "      <td>20518</td>\n",
       "      <td>F</td>\n",
       "      <td>2067-11-18 00:00:00.000</td>\n",
       "      <td>159459</td>\n",
       "      <td>2145-01-10 01:24:00.000</td>\n",
       "      <td>2145-01-14 15:10:00.000</td>\n",
       "      <td>None</td>\n",
       "      <td>EMERGENCY</td>\n",
       "      <td>WHITE</td>\n",
       "      <td>MICU</td>\n",
       "    </tr>\n",
       "    <tr>\n",
       "      <th>1</th>\n",
       "      <td>20534</td>\n",
       "      <td>M</td>\n",
       "      <td>2110-07-25 00:00:00.000</td>\n",
       "      <td>192795</td>\n",
       "      <td>2162-10-28 00:17:00.000</td>\n",
       "      <td>2162-11-11 03:48:00.000</td>\n",
       "      <td>None</td>\n",
       "      <td>EMERGENCY</td>\n",
       "      <td>UNKNOWN/NOT SPECIFIED</td>\n",
       "      <td>MICU</td>\n",
       "    </tr>\n",
       "    <tr>\n",
       "      <th>2</th>\n",
       "      <td>20546</td>\n",
       "      <td>M</td>\n",
       "      <td>2076-12-15 00:00:00.000</td>\n",
       "      <td>174445</td>\n",
       "      <td>2138-03-26 14:16:00.000</td>\n",
       "      <td>2138-04-04 13:30:00.000</td>\n",
       "      <td>None</td>\n",
       "      <td>EMERGENCY</td>\n",
       "      <td>WHITE</td>\n",
       "      <td>MICU</td>\n",
       "    </tr>\n",
       "    <tr>\n",
       "      <th>3</th>\n",
       "      <td>20546</td>\n",
       "      <td>M</td>\n",
       "      <td>2076-12-15 00:00:00.000</td>\n",
       "      <td>174445</td>\n",
       "      <td>2138-03-26 14:16:00.000</td>\n",
       "      <td>2138-04-04 13:30:00.000</td>\n",
       "      <td>None</td>\n",
       "      <td>EMERGENCY</td>\n",
       "      <td>WHITE</td>\n",
       "      <td>MICU</td>\n",
       "    </tr>\n",
       "    <tr>\n",
       "      <th>4</th>\n",
       "      <td>20553</td>\n",
       "      <td>M</td>\n",
       "      <td>2029-10-12 00:00:00.000</td>\n",
       "      <td>184905</td>\n",
       "      <td>2113-02-13 20:07:00.000</td>\n",
       "      <td>2113-03-05 07:20:00.000</td>\n",
       "      <td>2113-03-05 07:20:00.000</td>\n",
       "      <td>EMERGENCY</td>\n",
       "      <td>UNKNOWN/NOT SPECIFIED</td>\n",
       "      <td>SICU</td>\n",
       "    </tr>\n",
       "  </tbody>\n",
       "</table>\n",
       "</div>"
      ],
      "text/plain": [
       "  subject_id gender                      dob hadm_id                admittime  \\\n",
       "0      20518      F  2067-11-18 00:00:00.000  159459  2145-01-10 01:24:00.000   \n",
       "1      20534      M  2110-07-25 00:00:00.000  192795  2162-10-28 00:17:00.000   \n",
       "2      20546      M  2076-12-15 00:00:00.000  174445  2138-03-26 14:16:00.000   \n",
       "3      20546      M  2076-12-15 00:00:00.000  174445  2138-03-26 14:16:00.000   \n",
       "4      20553      M  2029-10-12 00:00:00.000  184905  2113-02-13 20:07:00.000   \n",
       "\n",
       "                 dischtime                deathtime admission_type  \\\n",
       "0  2145-01-14 15:10:00.000                     None      EMERGENCY   \n",
       "1  2162-11-11 03:48:00.000                     None      EMERGENCY   \n",
       "2  2138-04-04 13:30:00.000                     None      EMERGENCY   \n",
       "3  2138-04-04 13:30:00.000                     None      EMERGENCY   \n",
       "4  2113-03-05 07:20:00.000  2113-03-05 07:20:00.000      EMERGENCY   \n",
       "\n",
       "               ethnicity first_careunit  \n",
       "0                  WHITE           MICU  \n",
       "1  UNKNOWN/NOT SPECIFIED           MICU  \n",
       "2                  WHITE           MICU  \n",
       "3                  WHITE           MICU  \n",
       "4  UNKNOWN/NOT SPECIFIED           SICU  "
      ]
     },
     "metadata": {},
     "output_type": "display_data"
    }
   ],
   "source": [
    "%%runSQL \n",
    "\n",
    "\n",
    "SELECT \n",
    "    patients.subject_id,\n",
    "    patients.gender,\n",
    "    patients.dob,\n",
    "    admissions.hadm_id,\n",
    "    admissions.admittime,\n",
    "    admissions.dischtime,\n",
    "    admissions.deathtime,\n",
    "    admissions.admission_type,\n",
    "    admissions.ethnicity,\n",
    "    icustays.first_careunit\n",
    "FROM \n",
    "    patients\n",
    "JOIN \n",
    "    admissions ON patients.subject_id = admissions.subject_id\n",
    "JOIN \n",
    "    icustays ON admissions.hadm_id = icustays.hadm_id\n",
    "JOIN \n",
    "    diagnoses_icd ON admissions.hadm_id = diagnoses_icd.hadm_id\n",
    "WHERE \n",
    "    diagnoses_icd.icd9_code IN ('99591', '99592', '78552') -- ICD-9 codes for Sepsis, Severe Sepsis, and Septic Shock\n",
    "    AND DATE_DIFF('year', patients.dob, admissions.admittime) >= 18 -- Patients 18 or older\n",
    "    AND icustays.icustay_id = (\n",
    "        SELECT MIN(icustays.icustay_id)\n",
    "        FROM icustays\n",
    "        WHERE icustays.subject_id = patients.subject_id\n",
    "    )\n"
   ]
  },
  {
   "cell_type": "code",
   "execution_count": 13,
   "id": "3eb77dc6-9dc8-499b-99b5-29966b42a8bb",
   "metadata": {
    "ChapyterCell": {
     "cellType": "original"
    }
   },
   "outputs": [
    {
     "name": "stdout",
     "output_type": "stream",
     "text": [
      "Sure, we can pull the first lactate and creatinine values after admission. We can use the `labevents` table for this, which contains laboratory test results for patients. The `itemid` for lactate is typically 50813 and for creatinine it's 50912. Here's the updated query:\n",
      "\n",
      "This query will return the same columns as before, plus the first lactate and creatinine values after admission for each patient.\n"
     ]
    }
   ],
   "source": [
    "%%mimicSQL \n",
    "\n",
    "Great! Now can we pull the patient's first lactate value after admission as well as their first creatinine value? "
   ]
  },
  {
   "cell_type": "code",
   "execution_count": 14,
   "id": "6dd86a3d-b223-44ff-bff3-0ddaf0936734",
   "metadata": {
    "ChapyterCell": {
     "cellType": "original"
    }
   },
   "outputs": [
    {
     "data": {
      "text/html": [
       "<div>\n",
       "<style scoped>\n",
       "    .dataframe tbody tr th:only-of-type {\n",
       "        vertical-align: middle;\n",
       "    }\n",
       "\n",
       "    .dataframe tbody tr th {\n",
       "        vertical-align: top;\n",
       "    }\n",
       "\n",
       "    .dataframe thead th {\n",
       "        text-align: right;\n",
       "    }\n",
       "</style>\n",
       "<table border=\"1\" class=\"dataframe\">\n",
       "  <thead>\n",
       "    <tr style=\"text-align: right;\">\n",
       "      <th></th>\n",
       "      <th>subject_id</th>\n",
       "      <th>gender</th>\n",
       "      <th>dob</th>\n",
       "      <th>hadm_id</th>\n",
       "      <th>admittime</th>\n",
       "      <th>dischtime</th>\n",
       "      <th>deathtime</th>\n",
       "      <th>admission_type</th>\n",
       "      <th>ethnicity</th>\n",
       "      <th>first_careunit</th>\n",
       "      <th>first_lactate</th>\n",
       "      <th>first_creatinine</th>\n",
       "    </tr>\n",
       "  </thead>\n",
       "  <tbody>\n",
       "    <tr>\n",
       "      <th>0</th>\n",
       "      <td>773</td>\n",
       "      <td>M</td>\n",
       "      <td>2051-06-10 00:00:00.000</td>\n",
       "      <td>170261</td>\n",
       "      <td>2109-02-18 06:04:00.000</td>\n",
       "      <td>2109-03-17 20:25:00.000</td>\n",
       "      <td>2109-03-17 20:25:00.000</td>\n",
       "      <td>EMERGENCY</td>\n",
       "      <td>WHITE</td>\n",
       "      <td>MICU</td>\n",
       "      <td>1.1</td>\n",
       "      <td>0.4</td>\n",
       "    </tr>\n",
       "    <tr>\n",
       "      <th>1</th>\n",
       "      <td>366</td>\n",
       "      <td>M</td>\n",
       "      <td>2112-05-22 00:00:00.000</td>\n",
       "      <td>134462</td>\n",
       "      <td>2164-11-18 20:27:00.000</td>\n",
       "      <td>2164-11-22 15:18:00.000</td>\n",
       "      <td>None</td>\n",
       "      <td>EMERGENCY</td>\n",
       "      <td>HISPANIC OR LATINO</td>\n",
       "      <td>MICU</td>\n",
       "      <td>2.5</td>\n",
       "      <td>1.3</td>\n",
       "    </tr>\n",
       "    <tr>\n",
       "      <th>2</th>\n",
       "      <td>402</td>\n",
       "      <td>F</td>\n",
       "      <td>2105-09-26 00:00:00.000</td>\n",
       "      <td>177951</td>\n",
       "      <td>2155-05-23 01:28:00.000</td>\n",
       "      <td>2155-05-29 15:55:00.000</td>\n",
       "      <td>None</td>\n",
       "      <td>EMERGENCY</td>\n",
       "      <td>WHITE</td>\n",
       "      <td>MICU</td>\n",
       "      <td>0.7</td>\n",
       "      <td>0.5</td>\n",
       "    </tr>\n",
       "    <tr>\n",
       "      <th>3</th>\n",
       "      <td>502</td>\n",
       "      <td>M</td>\n",
       "      <td>2093-04-27 00:00:00.000</td>\n",
       "      <td>116367</td>\n",
       "      <td>2143-10-23 21:05:00.000</td>\n",
       "      <td>2143-11-04 17:28:00.000</td>\n",
       "      <td>2143-11-04 17:28:00.000</td>\n",
       "      <td>EMERGENCY</td>\n",
       "      <td>WHITE</td>\n",
       "      <td>MICU</td>\n",
       "      <td>0.7</td>\n",
       "      <td>0.6</td>\n",
       "    </tr>\n",
       "    <tr>\n",
       "      <th>4</th>\n",
       "      <td>605</td>\n",
       "      <td>F</td>\n",
       "      <td>1895-04-05 00:00:00.000</td>\n",
       "      <td>149601</td>\n",
       "      <td>2197-12-04 02:01:00.000</td>\n",
       "      <td>2197-12-14 18:29:00.000</td>\n",
       "      <td>None</td>\n",
       "      <td>EMERGENCY</td>\n",
       "      <td>ASIAN</td>\n",
       "      <td>CCU</td>\n",
       "      <td>0.7</td>\n",
       "      <td>0.7</td>\n",
       "    </tr>\n",
       "  </tbody>\n",
       "</table>\n",
       "</div>"
      ],
      "text/plain": [
       "  subject_id gender                      dob hadm_id                admittime  \\\n",
       "0        773      M  2051-06-10 00:00:00.000  170261  2109-02-18 06:04:00.000   \n",
       "1        366      M  2112-05-22 00:00:00.000  134462  2164-11-18 20:27:00.000   \n",
       "2        402      F  2105-09-26 00:00:00.000  177951  2155-05-23 01:28:00.000   \n",
       "3        502      M  2093-04-27 00:00:00.000  116367  2143-10-23 21:05:00.000   \n",
       "4        605      F  1895-04-05 00:00:00.000  149601  2197-12-04 02:01:00.000   \n",
       "\n",
       "                 dischtime                deathtime admission_type  \\\n",
       "0  2109-03-17 20:25:00.000  2109-03-17 20:25:00.000      EMERGENCY   \n",
       "1  2164-11-22 15:18:00.000                     None      EMERGENCY   \n",
       "2  2155-05-29 15:55:00.000                     None      EMERGENCY   \n",
       "3  2143-11-04 17:28:00.000  2143-11-04 17:28:00.000      EMERGENCY   \n",
       "4  2197-12-14 18:29:00.000                     None      EMERGENCY   \n",
       "\n",
       "            ethnicity first_careunit first_lactate first_creatinine  \n",
       "0               WHITE           MICU           1.1              0.4  \n",
       "1  HISPANIC OR LATINO           MICU           2.5              1.3  \n",
       "2               WHITE           MICU           0.7              0.5  \n",
       "3               WHITE           MICU           0.7              0.6  \n",
       "4               ASIAN            CCU           0.7              0.7  "
      ]
     },
     "metadata": {},
     "output_type": "display_data"
    }
   ],
   "source": [
    "%%runSQL \n",
    "\n",
    "\n",
    "SELECT \n",
    "    patients.subject_id,\n",
    "    patients.gender,\n",
    "    patients.dob,\n",
    "    admissions.hadm_id,\n",
    "    admissions.admittime,\n",
    "    admissions.dischtime,\n",
    "    admissions.deathtime,\n",
    "    admissions.admission_type,\n",
    "    admissions.ethnicity,\n",
    "    icustays.first_careunit,\n",
    "    MIN(case when labevents.itemid = 50813 then labevents.valuenum end) as first_lactate,\n",
    "    MIN(case when labevents.itemid = 50912 then labevents.valuenum end) as first_creatinine\n",
    "FROM \n",
    "    patients\n",
    "JOIN \n",
    "    admissions ON patients.subject_id = admissions.subject_id\n",
    "JOIN \n",
    "    icustays ON admissions.hadm_id = icustays.hadm_id\n",
    "JOIN \n",
    "    diagnoses_icd ON admissions.hadm_id = diagnoses_icd.hadm_id\n",
    "LEFT JOIN \n",
    "    labevents ON patients.subject_id = labevents.subject_id\n",
    "WHERE \n",
    "    diagnoses_icd.icd9_code IN ('99591', '99592', '78552') -- ICD-9 codes for Sepsis, Severe Sepsis, and Septic Shock\n",
    "    AND DATE_DIFF('year', patients.dob, admissions.admittime) >= 18 -- Patients 18 or older\n",
    "    AND icustays.icustay_id = (\n",
    "        SELECT MIN(icustays.icustay_id)\n",
    "        FROM icustays\n",
    "        WHERE icustays.subject_id = patients.subject_id\n",
    "    )\n",
    "GROUP BY \n",
    "    patients.subject_id,\n",
    "    patients.gender,\n",
    "    patients.dob,\n",
    "    admissions.hadm_id,\n",
    "    admissions.admittime,\n",
    "    admissions.dischtime,\n",
    "    admissions.deathtime,\n",
    "    admissions.admission_type,\n",
    "    admissions.ethnicity,\n",
    "    icustays.first_careunit\n"
   ]
  },
  {
   "cell_type": "code",
   "execution_count": 18,
   "id": "ee4681f3-cc3a-4b85-bbb5-5d67f1311d0c",
   "metadata": {
    "ChapyterCell": {
     "cellType": "original"
    }
   },
   "outputs": [
    {
     "name": "stdout",
     "output_type": "stream",
     "text": [
      "\n",
      "\n",
      "This code will create a scatter plot of the first lactate values (x-axis) against the first creatinine values (y-axis). Each dot represents one patient. The size of the dots is set to the minimum (1 pixel) to minimize overlap.\n"
     ]
    }
   ],
   "source": [
    "%%mimicPython\n",
    "\n",
    "Can you give me a plot of the first lactate and first creatinine values across subjects? Make each dot very small \\\n",
    "(minimum number of pixels to be visible) to minimize overlap between dots. Remember to import any relevant packages. "
   ]
  },
  {
   "cell_type": "code",
   "execution_count": 21,
   "id": "dca2b379-1d46-4ed0-b89b-8773925163a3",
   "metadata": {},
   "outputs": [
    {
     "data": {
      "image/png": "[encoded data removed]",
      "text/plain": [
       "<Figure size 1000x600 with 1 Axes>"
      ]
     },
     "metadata": {},
     "output_type": "display_data"
    }
   ],
   "source": [
    "##AI-generated-code\n",
    "\n",
    "\n",
    "import matplotlib.pyplot as plt\n",
    "\n",
    "# Convert the 'first_lactate' and 'first_creatinine' columns to numeric\n",
    "df['first_lactate'] = pd.to_numeric(df['first_lactate'])\n",
    "df['first_creatinine'] = pd.to_numeric(df['first_creatinine'])\n",
    "\n",
    "# Create a scatter plot\n",
    "plt.figure(figsize=(10, 6))\n",
    "plt.scatter(df['first_lactate'], df['first_creatinine'], s=1)  # s=1 sets the size of the dots to the minimum\n",
    "plt.title('First Lactate vs First Creatinine Values')\n",
    "plt.xlabel('First Lactate Value')\n",
    "plt.ylabel('First Creatinine Value')\n",
    "plt.show()\n"
   ]
  },
  {
   "cell_type": "markdown",
   "id": "640c1441-f99a-4003-aa55-16e846613e66",
   "metadata": {},
   "source": [
    "# Step 2 - Clean the data up\n",
    "Only look at the first ICU admission for a patient - already did this above. "
   ]
  },
  {
   "cell_type": "markdown",
   "id": "1bd736cf-3991-41c6-90fc-127a12ade0f9",
   "metadata": {},
   "source": [
    "# Step 3 - Build a basic table 1 to summarize the data\n",
    "Build a table 1 stratified by gender summarizing ICU service, admission type, and ethnicity. Use only the first ICU admission."
   ]
  },
  {
   "cell_type": "code",
   "execution_count": null,
   "id": "d307e9f7-a8fb-439f-87e6-ce4cee0b877f",
   "metadata": {},
   "outputs": [],
   "source": [
    "### Note – the append() function being deprecated makes this really hard to do live"
   ]
  },
  {
   "cell_type": "code",
   "execution_count": 27,
   "id": "a7fdb1f9-b920-48b5-8dce-af6233185a51",
   "metadata": {
    "ChapyterCell": {
     "cellType": "original"
    }
   },
   "outputs": [
    {
     "ename": "RateLimitError",
     "evalue": "You exceeded your current quota, please check your plan and billing details.",
     "output_type": "error",
     "traceback": [
      "\u001b[0;31m---------------------------------------------------------------------------\u001b[0m",
      "\u001b[0;31mRateLimitError\u001b[0m                            Traceback (most recent call last)",
      "Cell \u001b[0;32mIn[27], line 1\u001b[0m\n\u001b[0;32m----> 1\u001b[0m \u001b[43mget_ipython\u001b[49m\u001b[43m(\u001b[49m\u001b[43m)\u001b[49m\u001b[38;5;241;43m.\u001b[39;49m\u001b[43mrun_cell_magic\u001b[49m\u001b[43m(\u001b[49m\u001b[38;5;124;43m'\u001b[39;49m\u001b[38;5;124;43mmimicPython\u001b[39;49m\u001b[38;5;124;43m'\u001b[39;49m\u001b[43m,\u001b[49m\u001b[43m \u001b[49m\u001b[38;5;124;43m'\u001b[39;49m\u001b[38;5;124;43m'\u001b[39;49m\u001b[43m,\u001b[49m\u001b[43m \u001b[49m\u001b[38;5;124;43m'\u001b[39;49m\u001b[38;5;130;43;01m\\n\u001b[39;49;00m\u001b[38;5;124;43msplit the data into two groups. one for men and one for women. \u001b[39;49m\u001b[38;5;130;43;01m\\n\u001b[39;49;00m\u001b[38;5;124;43mthen, generate a dataframe table called table one where the first column is a variable name, the second is the result for men, and the third the result for women\u001b[39;49m\u001b[38;5;130;43;01m\\n\u001b[39;49;00m\u001b[38;5;130;43;01m\\n\u001b[39;49;00m\u001b[38;5;124;43mTo make it more challenging, you are not allowed to use the \u001b[39;49m\u001b[38;5;124;43m\"\u001b[39;49m\u001b[38;5;124;43mappend\u001b[39;49m\u001b[38;5;124;43m\"\u001b[39;49m\u001b[38;5;124;43m function on any dataframe objects. Instead, use concatenate to add anything to the table_one dataframe\u001b[39;49m\u001b[38;5;130;43;01m\\n\u001b[39;49;00m\u001b[38;5;130;43;01m\\n\u001b[39;49;00m\u001b[38;5;124;43mReturn results for the following variables for each group: \u001b[39;49m\u001b[38;5;130;43;01m\\n\u001b[39;49;00m\u001b[38;5;124;43m                                                                                                                                                                                                                                             \u001b[39;49m\u001b[38;5;130;43;01m\\n\u001b[39;49;00m\u001b[38;5;124;43m- white patients\u001b[39;49m\u001b[38;5;130;43;01m\\n\u001b[39;49;00m\u001b[38;5;124;43m- black patients\u001b[39;49m\u001b[38;5;130;43;01m\\n\u001b[39;49;00m\u001b[38;5;124;43m- hispanic or latino patients\u001b[39;49m\u001b[38;5;130;43;01m\\n\u001b[39;49;00m\u001b[38;5;124;43m- asian patients \u001b[39;49m\u001b[38;5;130;43;01m\\n\u001b[39;49;00m\u001b[38;5;124;43m- \u001b[39;49m\u001b[38;5;124;43m\"\u001b[39;49m\u001b[38;5;124;43mother\u001b[39;49m\u001b[38;5;124;43m\"\u001b[39;49m\u001b[38;5;124;43m patients in each group that do not meet one of the previous race categories described above (make sure that this comes with the other ethnicities)\u001b[39;49m\u001b[38;5;130;43;01m\\n\u001b[39;49;00m\u001b[38;5;124;43m- patients admitted to the CCU\u001b[39;49m\u001b[38;5;130;43;01m\\n\u001b[39;49;00m\u001b[38;5;124;43m- MICU\u001b[39;49m\u001b[38;5;130;43;01m\\n\u001b[39;49;00m\u001b[38;5;124;43m- CSRU\u001b[39;49m\u001b[38;5;130;43;01m\\n\u001b[39;49;00m\u001b[38;5;124;43m- SICU \u001b[39;49m\u001b[38;5;130;43;01m\\n\u001b[39;49;00m\u001b[38;5;124;43m- patients with an admission type of elective\u001b[39;49m\u001b[38;5;130;43;01m\\n\u001b[39;49;00m\u001b[38;5;124;43m- emergency\u001b[39;49m\u001b[38;5;130;43;01m\\n\u001b[39;49;00m\u001b[38;5;124;43m- urgent \u001b[39;49m\u001b[38;5;130;43;01m\\n\u001b[39;49;00m\u001b[38;5;130;43;01m\\n\u001b[39;49;00m\u001b[38;5;124;43mRemember that the exact names of the race categories may be slightly different. \u001b[39;49m\u001b[38;5;130;43;01m\\n\u001b[39;49;00m\u001b[38;5;124;43m'\u001b[39;49m\u001b[43m)\u001b[49m\n",
      "File \u001b[0;32m~/opt/anaconda3/envs/new_env/lib/python3.9/site-packages/IPython/core/interactiveshell.py:2493\u001b[0m, in \u001b[0;36mInteractiveShell.run_cell_magic\u001b[0;34m(self, magic_name, line, cell)\u001b[0m\n\u001b[1;32m   2491\u001b[0m \u001b[38;5;28;01mwith\u001b[39;00m \u001b[38;5;28mself\u001b[39m\u001b[38;5;241m.\u001b[39mbuiltin_trap:\n\u001b[1;32m   2492\u001b[0m     args \u001b[38;5;241m=\u001b[39m (magic_arg_s, cell)\n\u001b[0;32m-> 2493\u001b[0m     result \u001b[38;5;241m=\u001b[39m \u001b[43mfn\u001b[49m\u001b[43m(\u001b[49m\u001b[38;5;241;43m*\u001b[39;49m\u001b[43margs\u001b[49m\u001b[43m,\u001b[49m\u001b[43m \u001b[49m\u001b[38;5;241;43m*\u001b[39;49m\u001b[38;5;241;43m*\u001b[39;49m\u001b[43mkwargs\u001b[49m\u001b[43m)\u001b[49m\n\u001b[1;32m   2495\u001b[0m \u001b[38;5;66;03m# The code below prevents the output from being displayed\u001b[39;00m\n\u001b[1;32m   2496\u001b[0m \u001b[38;5;66;03m# when using magics with decorator @output_can_be_silenced\u001b[39;00m\n\u001b[1;32m   2497\u001b[0m \u001b[38;5;66;03m# when the last Python token in the expression is a ';'.\u001b[39;00m\n\u001b[1;32m   2498\u001b[0m \u001b[38;5;28;01mif\u001b[39;00m \u001b[38;5;28mgetattr\u001b[39m(fn, magic\u001b[38;5;241m.\u001b[39mMAGIC_OUTPUT_CAN_BE_SILENCED, \u001b[38;5;28;01mFalse\u001b[39;00m):\n",
      "File \u001b[0;32m~/Documents/Mocha/chapyterMed/chapyter/magic.py:468\u001b[0m, in \u001b[0;36mChapyter.mimicPython\u001b[0;34m(self, line, cell)\u001b[0m\n\u001b[1;32m    464\u001b[0m current_message \u001b[38;5;241m=\u001b[39m cell\n\u001b[1;32m    466\u001b[0m context \u001b[38;5;241m=\u001b[39m get_notebook_ordered_history(current_message, os\u001b[38;5;241m.\u001b[39mgetenv(\u001b[38;5;124m'\u001b[39m\u001b[38;5;124mNOTEBOOK_NAME\u001b[39m\u001b[38;5;124m'\u001b[39m))\n\u001b[0;32m--> 468\u001b[0m program_out \u001b[38;5;241m=\u001b[39m \u001b[38;5;28;43mself\u001b[39;49m\u001b[38;5;241;43m.\u001b[39;49m\u001b[43mexecute_chat\u001b[49m\u001b[43m(\u001b[49m\u001b[43mcontext\u001b[49m\u001b[43m,\u001b[49m\u001b[43m \u001b[49m\u001b[43margs\u001b[49m\u001b[43m,\u001b[49m\u001b[43m \u001b[49m\u001b[38;5;28;43mself\u001b[39;49m\u001b[38;5;241;43m.\u001b[39;49m\u001b[43mshell\u001b[49m\u001b[43m,\u001b[49m\u001b[43m \u001b[49m\u001b[43moverall_sys_prompt\u001b[49m\u001b[43m)\u001b[49m\n\u001b[1;32m    469\u001b[0m \u001b[38;5;66;03m#regex to get rid of Python in the response\u001b[39;00m\n\u001b[1;32m    470\u001b[0m \u001b[38;5;66;03m#sql_pattern = r'```sql\\n(.*?)\\n```'\u001b[39;00m\n\u001b[1;32m    471\u001b[0m \u001b[38;5;66;03m# print(\"GOT RAW PROGRAM\", program_out)\u001b[39;00m\n\u001b[1;32m    472\u001b[0m program_out_noPython_list \u001b[38;5;241m=\u001b[39m program_out\u001b[38;5;241m.\u001b[39msplit(\u001b[38;5;124m\"\u001b[39m\u001b[38;5;124m```\u001b[39m\u001b[38;5;124m\"\u001b[39m)\n",
      "File \u001b[0;32m~/Documents/Mocha/chapyterMed/chapyter/magic.py:265\u001b[0m, in \u001b[0;36mChapyter.execute_chat\u001b[0;34m(self, message, args, shell, sys_prompt, **kwargs)\u001b[0m\n\u001b[1;32m    262\u001b[0m program \u001b[38;5;241m=\u001b[39m \u001b[38;5;28mself\u001b[39m\u001b[38;5;241m.\u001b[39m_get_program(args, chatonly\u001b[38;5;241m=\u001b[39mkwargs\u001b[38;5;241m.\u001b[39mpop(\u001b[38;5;124m\"\u001b[39m\u001b[38;5;124mchatonly\u001b[39m\u001b[38;5;124m\"\u001b[39m, \u001b[38;5;28;01mFalse\u001b[39;00m))\n\u001b[1;32m    263\u001b[0m llm \u001b[38;5;241m=\u001b[39m \u001b[38;5;28mself\u001b[39m\u001b[38;5;241m.\u001b[39m_load_model(args, program)\n\u001b[0;32m--> 265\u001b[0m response \u001b[38;5;241m=\u001b[39m \u001b[43mprogram\u001b[49m\u001b[38;5;241;43m.\u001b[39;49m\u001b[43mexecute\u001b[49m\u001b[43m(\u001b[49m\n\u001b[1;32m    266\u001b[0m \u001b[43m    \u001b[49m\u001b[43mmessage\u001b[49m\u001b[38;5;241;43m=\u001b[39;49m\u001b[43mmessage\u001b[49m\u001b[43m,\u001b[49m\n\u001b[1;32m    267\u001b[0m \u001b[43m    \u001b[49m\u001b[43mllm\u001b[49m\u001b[38;5;241;43m=\u001b[39;49m\u001b[43mllm\u001b[49m\u001b[43m,\u001b[49m\n\u001b[1;32m    268\u001b[0m \u001b[43m    \u001b[49m\u001b[43mshell\u001b[49m\u001b[38;5;241;43m=\u001b[39;49m\u001b[43mshell\u001b[49m\u001b[43m,\u001b[49m\n\u001b[1;32m    269\u001b[0m \u001b[43m    \u001b[49m\u001b[43msys_prompt\u001b[49m\u001b[38;5;241;43m=\u001b[39;49m\u001b[43msys_prompt\u001b[49m\u001b[43m,\u001b[49m\n\u001b[1;32m    270\u001b[0m \u001b[43m    \u001b[49m\u001b[38;5;241;43m*\u001b[39;49m\u001b[38;5;241;43m*\u001b[39;49m\u001b[43mkwargs\u001b[49m\u001b[43m,\u001b[49m\n\u001b[1;32m    271\u001b[0m \u001b[43m\u001b[49m\u001b[43m)\u001b[49m\n\u001b[1;32m    272\u001b[0m \u001b[38;5;28;01mreturn\u001b[39;00m response\n",
      "File \u001b[0;32m~/Documents/Mocha/chapyterMed/chapyter/programs.py:40\u001b[0m, in \u001b[0;36mChapyterAgentProgram.execute\u001b[0;34m(self, message, llm, shell, sys_prompt)\u001b[0m\n\u001b[1;32m     38\u001b[0m \u001b[38;5;28;01mdef\u001b[39;00m \u001b[38;5;21mexecute\u001b[39m(\u001b[38;5;28mself\u001b[39m, message: \u001b[38;5;28mstr\u001b[39m, llm: \u001b[38;5;28mstr\u001b[39m, shell: InteractiveShell, sys_prompt: \u001b[38;5;28mstr\u001b[39m) \u001b[38;5;241m-\u001b[39m\u001b[38;5;241m>\u001b[39m \u001b[38;5;28mstr\u001b[39m:\n\u001b[0;32m---> 40\u001b[0m     llm_response \u001b[38;5;241m=\u001b[39m \u001b[43mquery_llm\u001b[49m\u001b[43m(\u001b[49m\u001b[43mmessage\u001b[49m\u001b[43m,\u001b[49m\u001b[43m \u001b[49m\u001b[43msys_prompt\u001b[49m\u001b[43m)\u001b[49m\n\u001b[1;32m     42\u001b[0m     \u001b[38;5;28;01mreturn\u001b[39;00m llm_response\n",
      "File \u001b[0;32m~/Documents/Mocha/chapyterMed/chapyter/athena_utils.py:96\u001b[0m, in \u001b[0;36mquery_llm\u001b[0;34m(llm_prompt, sys_prompt)\u001b[0m\n\u001b[1;32m     95\u001b[0m \u001b[38;5;28;01mdef\u001b[39;00m \u001b[38;5;21mquery_llm\u001b[39m(llm_prompt, sys_prompt):\n\u001b[0;32m---> 96\u001b[0m     response \u001b[38;5;241m=\u001b[39m \u001b[43mopenai\u001b[49m\u001b[38;5;241;43m.\u001b[39;49m\u001b[43mChatCompletion\u001b[49m\u001b[38;5;241;43m.\u001b[39;49m\u001b[43mcreate\u001b[49m\u001b[43m(\u001b[49m\n\u001b[1;32m     97\u001b[0m \u001b[43m        \u001b[49m\u001b[43mmodel\u001b[49m\u001b[38;5;241;43m=\u001b[39;49m\u001b[38;5;124;43m'\u001b[39;49m\u001b[38;5;124;43mgpt-4\u001b[39;49m\u001b[38;5;124;43m'\u001b[39;49m\u001b[43m,\u001b[49m\n\u001b[1;32m     98\u001b[0m \u001b[43m        \u001b[49m\u001b[43mmessages\u001b[49m\u001b[38;5;241;43m=\u001b[39;49m\u001b[43m[\u001b[49m\n\u001b[1;32m     99\u001b[0m \u001b[43m            \u001b[49m\u001b[43m{\u001b[49m\u001b[38;5;124;43m\"\u001b[39;49m\u001b[38;5;124;43mrole\u001b[39;49m\u001b[38;5;124;43m\"\u001b[39;49m\u001b[43m:\u001b[49m\u001b[43m \u001b[49m\u001b[38;5;124;43m\"\u001b[39;49m\u001b[38;5;124;43msystem\u001b[39;49m\u001b[38;5;124;43m\"\u001b[39;49m\u001b[43m,\u001b[49m\u001b[43m \u001b[49m\u001b[38;5;124;43m\"\u001b[39;49m\u001b[38;5;124;43mcontent\u001b[39;49m\u001b[38;5;124;43m\"\u001b[39;49m\u001b[43m:\u001b[49m\u001b[43m \u001b[49m\u001b[43msys_prompt\u001b[49m\u001b[43m}\u001b[49m\u001b[43m,\u001b[49m\n\u001b[1;32m    100\u001b[0m \u001b[43m            \u001b[49m\u001b[43m{\u001b[49m\u001b[38;5;124;43m\"\u001b[39;49m\u001b[38;5;124;43mrole\u001b[39;49m\u001b[38;5;124;43m\"\u001b[39;49m\u001b[43m:\u001b[49m\u001b[43m \u001b[49m\u001b[38;5;124;43m\"\u001b[39;49m\u001b[38;5;124;43muser\u001b[39;49m\u001b[38;5;124;43m\"\u001b[39;49m\u001b[43m,\u001b[49m\u001b[43m \u001b[49m\u001b[38;5;124;43m\"\u001b[39;49m\u001b[38;5;124;43mcontent\u001b[39;49m\u001b[38;5;124;43m\"\u001b[39;49m\u001b[43m:\u001b[49m\u001b[43m \u001b[49m\u001b[43mllm_prompt\u001b[49m\u001b[43m}\u001b[49m\n\u001b[1;32m    101\u001b[0m \u001b[43m        \u001b[49m\u001b[43m]\u001b[49m\u001b[43m,\u001b[49m\n\u001b[1;32m    102\u001b[0m \u001b[43m        \u001b[49m\u001b[43mmax_tokens\u001b[49m\u001b[38;5;241;43m=\u001b[39;49m\u001b[38;5;241;43m1000\u001b[39;49m\u001b[43m,\u001b[49m\n\u001b[1;32m    103\u001b[0m \u001b[43m        \u001b[49m\u001b[43mtemperature\u001b[49m\u001b[38;5;241;43m=\u001b[39;49m\u001b[38;5;241;43m0.1\u001b[39;49m\u001b[43m,\u001b[49m\n\u001b[1;32m    104\u001b[0m \u001b[43m    \u001b[49m\u001b[43m)\u001b[49m\n\u001b[1;32m    105\u001b[0m     response \u001b[38;5;241m=\u001b[39m response[\u001b[38;5;124m\"\u001b[39m\u001b[38;5;124mchoices\u001b[39m\u001b[38;5;124m\"\u001b[39m][\u001b[38;5;241m0\u001b[39m][\u001b[38;5;124m\"\u001b[39m\u001b[38;5;124mmessage\u001b[39m\u001b[38;5;124m\"\u001b[39m][\u001b[38;5;124m\"\u001b[39m\u001b[38;5;124mcontent\u001b[39m\u001b[38;5;124m\"\u001b[39m]\n\u001b[1;32m    106\u001b[0m     \u001b[38;5;28;01mreturn\u001b[39;00m response\n",
      "File \u001b[0;32m~/opt/anaconda3/envs/new_env/lib/python3.9/site-packages/openai/api_resources/chat_completion.py:25\u001b[0m, in \u001b[0;36mChatCompletion.create\u001b[0;34m(cls, *args, **kwargs)\u001b[0m\n\u001b[1;32m     23\u001b[0m \u001b[38;5;28;01mwhile\u001b[39;00m \u001b[38;5;28;01mTrue\u001b[39;00m:\n\u001b[1;32m     24\u001b[0m     \u001b[38;5;28;01mtry\u001b[39;00m:\n\u001b[0;32m---> 25\u001b[0m         \u001b[38;5;28;01mreturn\u001b[39;00m \u001b[38;5;28;43msuper\u001b[39;49m\u001b[43m(\u001b[49m\u001b[43m)\u001b[49m\u001b[38;5;241;43m.\u001b[39;49m\u001b[43mcreate\u001b[49m\u001b[43m(\u001b[49m\u001b[38;5;241;43m*\u001b[39;49m\u001b[43margs\u001b[49m\u001b[43m,\u001b[49m\u001b[43m \u001b[49m\u001b[38;5;241;43m*\u001b[39;49m\u001b[38;5;241;43m*\u001b[39;49m\u001b[43mkwargs\u001b[49m\u001b[43m)\u001b[49m\n\u001b[1;32m     26\u001b[0m     \u001b[38;5;28;01mexcept\u001b[39;00m TryAgain \u001b[38;5;28;01mas\u001b[39;00m e:\n\u001b[1;32m     27\u001b[0m         \u001b[38;5;28;01mif\u001b[39;00m timeout \u001b[38;5;129;01mis\u001b[39;00m \u001b[38;5;129;01mnot\u001b[39;00m \u001b[38;5;28;01mNone\u001b[39;00m \u001b[38;5;129;01mand\u001b[39;00m time\u001b[38;5;241m.\u001b[39mtime() \u001b[38;5;241m>\u001b[39m start \u001b[38;5;241m+\u001b[39m timeout:\n",
      "File \u001b[0;32m~/opt/anaconda3/envs/new_env/lib/python3.9/site-packages/openai/api_resources/abstract/engine_api_resource.py:155\u001b[0m, in \u001b[0;36mEngineAPIResource.create\u001b[0;34m(cls, api_key, api_base, api_type, request_id, api_version, organization, **params)\u001b[0m\n\u001b[1;32m    129\u001b[0m \u001b[38;5;129m@classmethod\u001b[39m\n\u001b[1;32m    130\u001b[0m \u001b[38;5;28;01mdef\u001b[39;00m \u001b[38;5;21mcreate\u001b[39m(\n\u001b[1;32m    131\u001b[0m     \u001b[38;5;28mcls\u001b[39m,\n\u001b[0;32m   (...)\u001b[0m\n\u001b[1;32m    138\u001b[0m     \u001b[38;5;241m*\u001b[39m\u001b[38;5;241m*\u001b[39mparams,\n\u001b[1;32m    139\u001b[0m ):\n\u001b[1;32m    140\u001b[0m     (\n\u001b[1;32m    141\u001b[0m         deployment_id,\n\u001b[1;32m    142\u001b[0m         engine,\n\u001b[0;32m   (...)\u001b[0m\n\u001b[1;32m    152\u001b[0m         api_key, api_base, api_type, api_version, organization, \u001b[38;5;241m*\u001b[39m\u001b[38;5;241m*\u001b[39mparams\n\u001b[1;32m    153\u001b[0m     )\n\u001b[0;32m--> 155\u001b[0m     response, _, api_key \u001b[38;5;241m=\u001b[39m \u001b[43mrequestor\u001b[49m\u001b[38;5;241;43m.\u001b[39;49m\u001b[43mrequest\u001b[49m\u001b[43m(\u001b[49m\n\u001b[1;32m    156\u001b[0m \u001b[43m        \u001b[49m\u001b[38;5;124;43m\"\u001b[39;49m\u001b[38;5;124;43mpost\u001b[39;49m\u001b[38;5;124;43m\"\u001b[39;49m\u001b[43m,\u001b[49m\n\u001b[1;32m    157\u001b[0m \u001b[43m        \u001b[49m\u001b[43murl\u001b[49m\u001b[43m,\u001b[49m\n\u001b[1;32m    158\u001b[0m \u001b[43m        \u001b[49m\u001b[43mparams\u001b[49m\u001b[38;5;241;43m=\u001b[39;49m\u001b[43mparams\u001b[49m\u001b[43m,\u001b[49m\n\u001b[1;32m    159\u001b[0m \u001b[43m        \u001b[49m\u001b[43mheaders\u001b[49m\u001b[38;5;241;43m=\u001b[39;49m\u001b[43mheaders\u001b[49m\u001b[43m,\u001b[49m\n\u001b[1;32m    160\u001b[0m \u001b[43m        \u001b[49m\u001b[43mstream\u001b[49m\u001b[38;5;241;43m=\u001b[39;49m\u001b[43mstream\u001b[49m\u001b[43m,\u001b[49m\n\u001b[1;32m    161\u001b[0m \u001b[43m        \u001b[49m\u001b[43mrequest_id\u001b[49m\u001b[38;5;241;43m=\u001b[39;49m\u001b[43mrequest_id\u001b[49m\u001b[43m,\u001b[49m\n\u001b[1;32m    162\u001b[0m \u001b[43m        \u001b[49m\u001b[43mrequest_timeout\u001b[49m\u001b[38;5;241;43m=\u001b[39;49m\u001b[43mrequest_timeout\u001b[49m\u001b[43m,\u001b[49m\n\u001b[1;32m    163\u001b[0m \u001b[43m    \u001b[49m\u001b[43m)\u001b[49m\n\u001b[1;32m    165\u001b[0m     \u001b[38;5;28;01mif\u001b[39;00m stream:\n\u001b[1;32m    166\u001b[0m         \u001b[38;5;66;03m# must be an iterator\u001b[39;00m\n\u001b[1;32m    167\u001b[0m         \u001b[38;5;28;01massert\u001b[39;00m \u001b[38;5;129;01mnot\u001b[39;00m \u001b[38;5;28misinstance\u001b[39m(response, OpenAIResponse)\n",
      "File \u001b[0;32m~/opt/anaconda3/envs/new_env/lib/python3.9/site-packages/openai/api_requestor.py:299\u001b[0m, in \u001b[0;36mAPIRequestor.request\u001b[0;34m(self, method, url, params, headers, files, stream, request_id, request_timeout)\u001b[0m\n\u001b[1;32m    278\u001b[0m \u001b[38;5;28;01mdef\u001b[39;00m \u001b[38;5;21mrequest\u001b[39m(\n\u001b[1;32m    279\u001b[0m     \u001b[38;5;28mself\u001b[39m,\n\u001b[1;32m    280\u001b[0m     method,\n\u001b[0;32m   (...)\u001b[0m\n\u001b[1;32m    287\u001b[0m     request_timeout: Optional[Union[\u001b[38;5;28mfloat\u001b[39m, Tuple[\u001b[38;5;28mfloat\u001b[39m, \u001b[38;5;28mfloat\u001b[39m]]] \u001b[38;5;241m=\u001b[39m \u001b[38;5;28;01mNone\u001b[39;00m,\n\u001b[1;32m    288\u001b[0m ) \u001b[38;5;241m-\u001b[39m\u001b[38;5;241m>\u001b[39m Tuple[Union[OpenAIResponse, Iterator[OpenAIResponse]], \u001b[38;5;28mbool\u001b[39m, \u001b[38;5;28mstr\u001b[39m]:\n\u001b[1;32m    289\u001b[0m     result \u001b[38;5;241m=\u001b[39m \u001b[38;5;28mself\u001b[39m\u001b[38;5;241m.\u001b[39mrequest_raw(\n\u001b[1;32m    290\u001b[0m         method\u001b[38;5;241m.\u001b[39mlower(),\n\u001b[1;32m    291\u001b[0m         url,\n\u001b[0;32m   (...)\u001b[0m\n\u001b[1;32m    297\u001b[0m         request_timeout\u001b[38;5;241m=\u001b[39mrequest_timeout,\n\u001b[1;32m    298\u001b[0m     )\n\u001b[0;32m--> 299\u001b[0m     resp, got_stream \u001b[38;5;241m=\u001b[39m \u001b[38;5;28;43mself\u001b[39;49m\u001b[38;5;241;43m.\u001b[39;49m\u001b[43m_interpret_response\u001b[49m\u001b[43m(\u001b[49m\u001b[43mresult\u001b[49m\u001b[43m,\u001b[49m\u001b[43m \u001b[49m\u001b[43mstream\u001b[49m\u001b[43m)\u001b[49m\n\u001b[1;32m    300\u001b[0m     \u001b[38;5;28;01mreturn\u001b[39;00m resp, got_stream, \u001b[38;5;28mself\u001b[39m\u001b[38;5;241m.\u001b[39mapi_key\n",
      "File \u001b[0;32m~/opt/anaconda3/envs/new_env/lib/python3.9/site-packages/openai/api_requestor.py:710\u001b[0m, in \u001b[0;36mAPIRequestor._interpret_response\u001b[0;34m(self, result, stream)\u001b[0m\n\u001b[1;32m    702\u001b[0m     \u001b[38;5;28;01mreturn\u001b[39;00m (\n\u001b[1;32m    703\u001b[0m         \u001b[38;5;28mself\u001b[39m\u001b[38;5;241m.\u001b[39m_interpret_response_line(\n\u001b[1;32m    704\u001b[0m             line, result\u001b[38;5;241m.\u001b[39mstatus_code, result\u001b[38;5;241m.\u001b[39mheaders, stream\u001b[38;5;241m=\u001b[39m\u001b[38;5;28;01mTrue\u001b[39;00m\n\u001b[1;32m    705\u001b[0m         )\n\u001b[1;32m    706\u001b[0m         \u001b[38;5;28;01mfor\u001b[39;00m line \u001b[38;5;129;01min\u001b[39;00m parse_stream(result\u001b[38;5;241m.\u001b[39miter_lines())\n\u001b[1;32m    707\u001b[0m     ), \u001b[38;5;28;01mTrue\u001b[39;00m\n\u001b[1;32m    708\u001b[0m \u001b[38;5;28;01melse\u001b[39;00m:\n\u001b[1;32m    709\u001b[0m     \u001b[38;5;28;01mreturn\u001b[39;00m (\n\u001b[0;32m--> 710\u001b[0m         \u001b[38;5;28;43mself\u001b[39;49m\u001b[38;5;241;43m.\u001b[39;49m\u001b[43m_interpret_response_line\u001b[49m\u001b[43m(\u001b[49m\n\u001b[1;32m    711\u001b[0m \u001b[43m            \u001b[49m\u001b[43mresult\u001b[49m\u001b[38;5;241;43m.\u001b[39;49m\u001b[43mcontent\u001b[49m\u001b[38;5;241;43m.\u001b[39;49m\u001b[43mdecode\u001b[49m\u001b[43m(\u001b[49m\u001b[38;5;124;43m\"\u001b[39;49m\u001b[38;5;124;43mutf-8\u001b[39;49m\u001b[38;5;124;43m\"\u001b[39;49m\u001b[43m)\u001b[49m\u001b[43m,\u001b[49m\n\u001b[1;32m    712\u001b[0m \u001b[43m            \u001b[49m\u001b[43mresult\u001b[49m\u001b[38;5;241;43m.\u001b[39;49m\u001b[43mstatus_code\u001b[49m\u001b[43m,\u001b[49m\n\u001b[1;32m    713\u001b[0m \u001b[43m            \u001b[49m\u001b[43mresult\u001b[49m\u001b[38;5;241;43m.\u001b[39;49m\u001b[43mheaders\u001b[49m\u001b[43m,\u001b[49m\n\u001b[1;32m    714\u001b[0m \u001b[43m            \u001b[49m\u001b[43mstream\u001b[49m\u001b[38;5;241;43m=\u001b[39;49m\u001b[38;5;28;43;01mFalse\u001b[39;49;00m\u001b[43m,\u001b[49m\n\u001b[1;32m    715\u001b[0m \u001b[43m        \u001b[49m\u001b[43m)\u001b[49m,\n\u001b[1;32m    716\u001b[0m         \u001b[38;5;28;01mFalse\u001b[39;00m,\n\u001b[1;32m    717\u001b[0m     )\n",
      "File \u001b[0;32m~/opt/anaconda3/envs/new_env/lib/python3.9/site-packages/openai/api_requestor.py:775\u001b[0m, in \u001b[0;36mAPIRequestor._interpret_response_line\u001b[0;34m(self, rbody, rcode, rheaders, stream)\u001b[0m\n\u001b[1;32m    773\u001b[0m stream_error \u001b[38;5;241m=\u001b[39m stream \u001b[38;5;129;01mand\u001b[39;00m \u001b[38;5;124m\"\u001b[39m\u001b[38;5;124merror\u001b[39m\u001b[38;5;124m\"\u001b[39m \u001b[38;5;129;01min\u001b[39;00m resp\u001b[38;5;241m.\u001b[39mdata\n\u001b[1;32m    774\u001b[0m \u001b[38;5;28;01mif\u001b[39;00m stream_error \u001b[38;5;129;01mor\u001b[39;00m \u001b[38;5;129;01mnot\u001b[39;00m \u001b[38;5;241m200\u001b[39m \u001b[38;5;241m<\u001b[39m\u001b[38;5;241m=\u001b[39m rcode \u001b[38;5;241m<\u001b[39m \u001b[38;5;241m300\u001b[39m:\n\u001b[0;32m--> 775\u001b[0m     \u001b[38;5;28;01mraise\u001b[39;00m \u001b[38;5;28mself\u001b[39m\u001b[38;5;241m.\u001b[39mhandle_error_response(\n\u001b[1;32m    776\u001b[0m         rbody, rcode, resp\u001b[38;5;241m.\u001b[39mdata, rheaders, stream_error\u001b[38;5;241m=\u001b[39mstream_error\n\u001b[1;32m    777\u001b[0m     )\n\u001b[1;32m    778\u001b[0m \u001b[38;5;28;01mreturn\u001b[39;00m resp\n",
      "\u001b[0;31mRateLimitError\u001b[0m: You exceeded your current quota, please check your plan and billing details."
     ]
    }
   ],
   "source": [
    "%%mimicPython\n",
    "\n",
    "split the data into two groups. one for men and one for women. \n",
    "then, generate a dataframe table called table one where the first column is a variable name, the second is the result for men, and the third the result for women\n",
    "\n",
    "To make it more challenging, you are not allowed to use the \"append\" function on any dataframe objects. Instead, use concatenate to add anything to the table_one dataframe\n",
    "\n",
    "Return results for the following variables for each group: \n",
    "                                                                                                                                                                                                                                             \n",
    "- white patients\n",
    "- black patients\n",
    "- hispanic or latino patients\n",
    "- asian patients \n",
    "- \"other\" patients in each group that do not meet one of the previous race categories described above (make sure that this comes with the other ethnicities)\n",
    "- patients admitted to the CCU\n",
    "- MICU\n",
    "- CSRU\n",
    "- SICU \n",
    "- patients with an admission type of elective\n",
    "- emergency\n",
    "- urgent \n",
    "\n",
    "Remember that the exact names of the race categories may be slightly different. "
   ]
  },
  {
   "cell_type": "code",
   "execution_count": 26,
   "id": "15036359-2abb-4839-80e3-4565082e6470",
   "metadata": {},
   "outputs": [
    {
     "name": "stdout",
     "output_type": "stream",
     "text": [
      "                       Variable   Men  Women\n",
      "0                White Patients  1538   1221\n",
      "1                Black Patients     0      0\n",
      "2   Hispanic or Latino Patients    63     30\n",
      "3                Asian Patients    40     36\n",
      "4                Other Patients   468    425\n",
      "5                CCU Admissions   187    138\n",
      "6               MICU Admissions  1395   1225\n",
      "7               CSRU Admissions    91     36\n",
      "8               SICU Admissions   281    211\n",
      "9           Elective Admissions    82     42\n",
      "10         Emergency Admissions  1998   1640\n",
      "11            Urgent Admissions    29     30\n"
     ]
    }
   ],
   "source": [
    "##AI-generated-code\n",
    "\n",
    "\n",
    "import pandas as pd\n",
    "\n",
    "# Split the data into two groups\n",
    "men = df[df['gender'] == 'M']\n",
    "women = df[df['gender'] == 'F']\n",
    "\n",
    "# Define the variables and their corresponding calculations\n",
    "variables = {\n",
    "    'White Patients': lambda x: (x['ethnicity'] == 'WHITE').sum(),\n",
    "    'Black Patients': lambda x: (x['ethnicity'] == 'BLACK').sum(),\n",
    "    'Hispanic or Latino Patients': lambda x: (x['ethnicity'] == 'HISPANIC OR LATINO').sum(),\n",
    "    'Asian Patients': lambda x: (x['ethnicity'] == 'ASIAN').sum(),\n",
    "    'Other Patients': lambda x: (x['ethnicity'].isin(['WHITE', 'BLACK', 'HISPANIC OR LATINO', 'ASIAN']) == False).sum(),\n",
    "    'CCU Admissions': lambda x: (x['first_careunit'] == 'CCU').sum(),\n",
    "    'MICU Admissions': lambda x: (x['first_careunit'] == 'MICU').sum(),\n",
    "    'CSRU Admissions': lambda x: (x['first_careunit'] == 'CSRU').sum(),\n",
    "    'SICU Admissions': lambda x: (x['first_careunit'] == 'SICU').sum(),\n",
    "    'Elective Admissions': lambda x: (x['admission_type'] == 'ELECTIVE').sum(),\n",
    "    'Emergency Admissions': lambda x: (x['admission_type'] == 'EMERGENCY').sum(),\n",
    "    'Urgent Admissions': lambda x: (x['admission_type'] == 'URGENT').sum()\n",
    "}\n",
    "\n",
    "# Calculate the results for each group and store them in 'table_one'\n",
    "table_one = pd.DataFrame({\n",
    "    'Variable': list(variables.keys()),\n",
    "    'Men': [func(men) for func in variables.values()],\n",
    "    'Women': [func(women) for func in variables.values()]\n",
    "})\n",
    "\n",
    "print(table_one)\n"
   ]
  },
  {
   "cell_type": "markdown",
   "id": "0bc90fc3-fc0a-444b-abdb-5b9a68bee9b5",
   "metadata": {},
   "source": [
    "# Step 4 - Univariate analysis\n",
    "Do a univariate analysis to understand if the groups are similar"
   ]
  },
  {
   "cell_type": "code",
   "execution_count": 14,
   "id": "60abbdb4-760f-4df0-8b36-7d30d2981925",
   "metadata": {
    "ChapyterCell": {
     "cellType": "original"
    }
   },
   "outputs": [
    {
     "name": "stdout",
     "output_type": "stream",
     "text": [
      "##AI-generated-code --- \n",
      "\n",
      "from scipy.stats import chi2_contingency --- # Create a contingency table\n",
      "\n",
      "contingency_table = pd.crosstab(df['gender'], df['ethnicity'] == 'WHITE') --- # Perform a Chi-square test of independence\n",
      "\n",
      "chi2, p, dof, expected = chi2_contingency(contingency_table) --- print(f\"The p-value is {p}.\")\n"
     ]
    }
   ],
   "source": [
    "%%mimicPython\n",
    "\n",
    "can you tell me if there is a statistically significant difference in the number of white men and white women? "
   ]
  },
  {
   "cell_type": "code",
   "execution_count": 15,
   "id": "3753f4f4-b32a-463c-a765-e038ec80c851",
   "metadata": {},
   "outputs": [
    {
     "data": {
      "text/plain": [
       "0.06584043474655277"
      ]
     },
     "execution_count": 15,
     "metadata": {},
     "output_type": "execute_result"
    }
   ],
   "source": [
    "##AI-generated-code\n",
    "\n",
    "\n",
    "from scipy.stats import chi2_contingency\n",
    "\n",
    "# Create a contingency table\n",
    "contingency_table = pd.crosstab(df['gender'], df['ethnicity'] == 'WHITE')\n",
    "\n",
    "# Perform the chi-square test\n",
    "chi2, p, dof, expected = chi2_contingency(contingency_table)\n",
    "\n",
    "p\n"
   ]
  },
  {
   "cell_type": "code",
   "execution_count": 18,
   "id": "3eb9d5b8-b1ed-415e-a357-e4b8b586dcce",
   "metadata": {
    "ChapyterCell": {
     "cellType": "original"
    }
   },
   "outputs": [
    {
     "name": "stdout",
     "output_type": "stream",
     "text": [
      "##AI-generated-code --- \n",
      "\n",
      "from scipy.stats import chi2_contingency --- # Add a new column for p-values\n",
      "\n",
      "table_one['p-value'] = np.nan --- # Calculate the p-value for each variable\n",
      "\n",
      "for i, row in table_one.iterrows():\n",
      "\n",
      "    if row['Variable'] in ['CCU', 'MICU', 'CSRU', 'SICU']:\n",
      "\n",
      "        contingency_table = pd.crosstab(df['gender'], df['first_careunit'] == row['Variable'])\n",
      "\n",
      "    elif row['Variable'] in ['ELECTIVE', 'EMERGENCY', 'URGENT']:\n",
      "\n",
      "        contingency_table = pd.crosstab(df['gender'], df['admission_type'] == row['Variable'])\n",
      "\n",
      "    else:\n",
      "\n",
      "        contingency_table = pd.crosstab(df['gender'], df['ethnicity'] == row['Variable'])\n",
      "\n",
      "    \n",
      "\n",
      "    chi2, p, dof, expected = chi2_contingency(contingency_table)\n",
      "\n",
      "    table_one.loc[i, 'p-value'] = p --- print(table_one)\n"
     ]
    }
   ],
   "source": [
    "%%mimicPython\n",
    "\n",
    "Can you add p-values for all of the variables in table_one? "
   ]
  },
  {
   "cell_type": "code",
   "execution_count": 42,
   "id": "2122cc0d-17fd-4d9a-9ba4-a301ad0e6095",
   "metadata": {},
   "outputs": [
    {
     "data": {
      "text/html": [
       "<div>\n",
       "<style scoped>\n",
       "    .dataframe tbody tr th:only-of-type {\n",
       "        vertical-align: middle;\n",
       "    }\n",
       "\n",
       "    .dataframe tbody tr th {\n",
       "        vertical-align: top;\n",
       "    }\n",
       "\n",
       "    .dataframe thead th {\n",
       "        text-align: right;\n",
       "    }\n",
       "</style>\n",
       "<table border=\"1\" class=\"dataframe\">\n",
       "  <thead>\n",
       "    <tr style=\"text-align: right;\">\n",
       "      <th></th>\n",
       "      <th>Variable</th>\n",
       "      <th>Men</th>\n",
       "      <th>Women</th>\n",
       "      <th>p-value</th>\n",
       "    </tr>\n",
       "  </thead>\n",
       "  <tbody>\n",
       "    <tr>\n",
       "      <th>0</th>\n",
       "      <td>WHITE</td>\n",
       "      <td>1921</td>\n",
       "      <td>1487</td>\n",
       "      <td>6.319315e-02</td>\n",
       "    </tr>\n",
       "    <tr>\n",
       "      <th>1</th>\n",
       "      <td>BLACK/AFRICAN AMERICAN</td>\n",
       "      <td>183</td>\n",
       "      <td>243</td>\n",
       "      <td>5.765674e-08</td>\n",
       "    </tr>\n",
       "    <tr>\n",
       "      <th>2</th>\n",
       "      <td>HISPANIC OR LATINO</td>\n",
       "      <td>81</td>\n",
       "      <td>37</td>\n",
       "      <td>4.956007e-03</td>\n",
       "    </tr>\n",
       "    <tr>\n",
       "      <th>3</th>\n",
       "      <td>ASIAN</td>\n",
       "      <td>52</td>\n",
       "      <td>38</td>\n",
       "      <td>7.441771e-01</td>\n",
       "    </tr>\n",
       "    <tr>\n",
       "      <th>4</th>\n",
       "      <td>OTHER</td>\n",
       "      <td>55</td>\n",
       "      <td>48</td>\n",
       "      <td>7.339230e-01</td>\n",
       "    </tr>\n",
       "  </tbody>\n",
       "</table>\n",
       "</div>"
      ],
      "text/plain": [
       "                 Variable   Men Women       p-value\n",
       "0                   WHITE  1921  1487  6.319315e-02\n",
       "1  BLACK/AFRICAN AMERICAN   183   243  5.765674e-08\n",
       "2      HISPANIC OR LATINO    81    37  4.956007e-03\n",
       "3                   ASIAN    52    38  7.441771e-01\n",
       "4                   OTHER    55    48  7.339230e-01"
      ]
     },
     "execution_count": 42,
     "metadata": {},
     "output_type": "execute_result"
    }
   ],
   "source": [
    "##AI-generated-code\n",
    "\n",
    "\n",
    "from scipy.stats import chi2_contingency\n",
    "\n",
    "# Initialize a list to store the p-values\n",
    "p_values = []\n",
    "\n",
    "# Calculate the p-value for each variable and add it to the list\n",
    "for variable in table_one['Variable']:\n",
    "    if variable in ['CCU', 'MICU', 'CSRU', 'SICU']:\n",
    "        contingency_table = pd.crosstab(df['gender'], df['first_careunit'] == variable)\n",
    "    elif variable in ['ELECTIVE', 'EMERGENCY', 'URGENT']:\n",
    "        contingency_table = pd.crosstab(df['gender'], df['admission_type'] == variable)\n",
    "    else:\n",
    "        contingency_table = pd.crosstab(df['gender'], df['ethnicity'] == variable)\n",
    "    \n",
    "    chi2, p, dof, expected = chi2_contingency(contingency_table)\n",
    "    p_values.append(p)\n",
    "\n",
    "# Add the p-values to table_one\n",
    "table_one['p-value'] = p_values\n",
    "\n",
    "table_one.head()\n"
   ]
  },
  {
   "cell_type": "markdown",
   "id": "06ee410b-3574-45eb-be31-122ba228b42d",
   "metadata": {},
   "source": [
    "# Step 5 - Kaplan Meier Curve\n",
    "Build a kaplan-meier curve for in-hospital mortality"
   ]
  },
  {
   "cell_type": "markdown",
   "id": "c940f9f1-d1dd-49ea-a36a-7042c9da4b7a",
   "metadata": {},
   "source": [
    "Cannot subtract datetime array from NDarray is a really common error"
   ]
  },
  {
   "cell_type": "markdown",
   "id": "2220ba97-49bc-4c15-986f-6a81db2d19db",
   "metadata": {},
   "source": []
  },
  {
   "cell_type": "code",
   "execution_count": 25,
   "id": "c73b66b4-9897-43f8-8812-96bbe6dd1bf1",
   "metadata": {
    "ChapyterCell": {
     "cellType": "original"
    }
   },
   "outputs": [
    {
     "name": "stdout",
     "output_type": "stream",
     "text": [
      "Sure, we can create a Kaplan-Meier survival curve for the two groups (men and women). The Kaplan-Meier method is a way to estimate the survival function from lifetime data. In medical research, it is often used to measure the fraction of patients living for a certain amount of time after treatment.\n",
      "\n",
      "Here is the Python code to do this:\n",
      "\n",
      "This code will return a Kaplan-Meier survival curve showing the probability of survival vs time since ICU admission from 0 to 365 days. The time of death is handled as described: if it is NaN or greater than 1 year, the patient is assumed to be still alive and is right-censored; if it is equal to or less than the discharge time, they are assumed to have died in the hospital.\n",
      "\n",
      "Please note that this code assumes that 'admittime' and 'deathtime' are in a datetime format and 'gender' is a string. If this is not the case, you will need to convert them to the appropriate format before running the code.\n"
     ]
    }
   ],
   "source": [
    "%%mimicPython\n",
    "\n",
    "Can you make a kaplan-meier survival curve for these two groups (men and women)?\n",
    "Specifically, I want to see probability of survival vs time since ICU admission from 0 to 365 days\n",
    "\n",
    "If the time of death is NaN or greater than 1 year then assume the patient is still alive and should be right-censored\n",
    "If the time of death is equal to or less than discharge time, then they died in the hospital. \n",
    "\n",
    "Please be sure to check all data types. Do not subtract datetimearrays from ndarrays. \n",
    "make sure you've converted things to the same data type before subtracting. \n",
    "Make sure you appropriately handle any NaNs in deathttime before giving it to a kaplan meier fitter"
   ]
  },
  {
   "cell_type": "code",
   "execution_count": 43,
   "id": "e68a7e81-91f9-495f-9cc7-43d5aa623c1e",
   "metadata": {},
   "outputs": [
    {
     "data": {
      "image/png": "[encoded data removed]",
      "text/plain": [
       "<Figure size 640x480 with 1 Axes>"
      ]
     },
     "metadata": {},
     "output_type": "display_data"
    }
   ],
   "source": [
    "##AI-generated-code\n",
    "\n",
    "\n",
    "import numpy as np\n",
    "from lifelines import KaplanMeierFitter\n",
    "import matplotlib.pyplot as plt\n",
    "\n",
    "# Convert 'admittime' and 'deathtime' to datetime\n",
    "df['admittime'] = pd.to_datetime(df['admittime'])\n",
    "df['deathtime'] = pd.to_datetime(df['deathtime'])\n",
    "\n",
    "# Calculate time since ICU admission in days\n",
    "df['time'] = (df['deathtime'] - df['admittime']).dt.total_seconds() / (24 * 60 * 60)\n",
    "df['time'] = df['time'].where(df['time'] <= 365, 365)\n",
    "\n",
    "# Create a 'status' column where 1 indicates death and 0 indicates survival\n",
    "df['status'] = np.where(df['deathtime'].notna() & (df['deathtime'] <= df['dischtime']), 1, 0)\n",
    "\n",
    "# Split the data into two groups based on gender\n",
    "df_men = df[df['gender'] == 'M']\n",
    "df_women = df[df['gender'] == 'F']\n",
    "\n",
    "# Create a Kaplan-Meier fitter\n",
    "kmf = KaplanMeierFitter()\n",
    "\n",
    "# Fit the fitter to the data and plot the survival curve for men\n",
    "kmf.fit(df_men['time'], df_men['status'], label='Men')\n",
    "kmf.plot(ci_show=False)\n",
    "\n",
    "# Fit the fitter to the data and plot the survival curve for women\n",
    "kmf.fit(df_women['time'], df_women['status'], label='Women')\n",
    "kmf.plot(ci_show=False)\n",
    "\n",
    "# Show the plot\n",
    "plt.title('Kaplan-Meier Survival Curve')\n",
    "plt.xlabel('Time since ICU admission (days)')\n",
    "plt.ylabel('Probability of survival')\n",
    "plt.show()\n"
   ]
  },
  {
   "cell_type": "markdown",
   "id": "eeb99760-e27c-430e-a688-d4de59e34015",
   "metadata": {},
   "source": [
    "# Step 6 – P-value for Hospital Mortality & Univariate Cox Proporational Hazard Model\n",
    "Run a univariate cox proportional hazard model for in-hospital mortality on men vs women \n"
   ]
  },
  {
   "cell_type": "code",
   "execution_count": 27,
   "id": "179a78e3-6e53-4895-b023-4d786d42b1cf",
   "metadata": {
    "ChapyterCell": {
     "cellType": "original"
    }
   },
   "outputs": [
    {
     "name": "stdout",
     "output_type": "stream",
     "text": [
      "Sure, we can add a variable for in-hospital mortality to table_one and calculate the p-value. In-hospital mortality can be determined from the 'status' column we created earlier, where 1 indicates death in the hospital and 0 indicates survival.\n",
      "\n",
      "Here is the Python code to do this:\n",
      "\n",
      "This code will return the table_one dataframe with an additional row for in-hospital mortality and its corresponding p-value.\n",
      "\n",
      "\n"
     ]
    }
   ],
   "source": [
    "%%mimicPython\n",
    "\n",
    "can you add a variable to table_one for in-hospital mortality and give me a p-value as well?\n",
    "\n",
    "To make it more challenging, do not use the append() method for dataframes anywhere in your code. concatenate the results instead"
   ]
  },
  {
   "cell_type": "code",
   "execution_count": 44,
   "id": "abd9a7da-ad91-465f-a431-daf78ff689c1",
   "metadata": {},
   "outputs": [
    {
     "data": {
      "text/html": [
       "<div>\n",
       "<style scoped>\n",
       "    .dataframe tbody tr th:only-of-type {\n",
       "        vertical-align: middle;\n",
       "    }\n",
       "\n",
       "    .dataframe tbody tr th {\n",
       "        vertical-align: top;\n",
       "    }\n",
       "\n",
       "    .dataframe thead th {\n",
       "        text-align: right;\n",
       "    }\n",
       "</style>\n",
       "<table border=\"1\" class=\"dataframe\">\n",
       "  <thead>\n",
       "    <tr style=\"text-align: right;\">\n",
       "      <th></th>\n",
       "      <th>Variable</th>\n",
       "      <th>Men</th>\n",
       "      <th>Women</th>\n",
       "      <th>p-value</th>\n",
       "    </tr>\n",
       "  </thead>\n",
       "  <tbody>\n",
       "    <tr>\n",
       "      <th>0</th>\n",
       "      <td>WHITE</td>\n",
       "      <td>1921</td>\n",
       "      <td>1487</td>\n",
       "      <td>6.319315e-02</td>\n",
       "    </tr>\n",
       "    <tr>\n",
       "      <th>1</th>\n",
       "      <td>BLACK/AFRICAN AMERICAN</td>\n",
       "      <td>183</td>\n",
       "      <td>243</td>\n",
       "      <td>5.765674e-08</td>\n",
       "    </tr>\n",
       "    <tr>\n",
       "      <th>2</th>\n",
       "      <td>HISPANIC OR LATINO</td>\n",
       "      <td>81</td>\n",
       "      <td>37</td>\n",
       "      <td>4.956007e-03</td>\n",
       "    </tr>\n",
       "    <tr>\n",
       "      <th>3</th>\n",
       "      <td>ASIAN</td>\n",
       "      <td>52</td>\n",
       "      <td>38</td>\n",
       "      <td>7.441771e-01</td>\n",
       "    </tr>\n",
       "    <tr>\n",
       "      <th>4</th>\n",
       "      <td>OTHER</td>\n",
       "      <td>55</td>\n",
       "      <td>48</td>\n",
       "      <td>7.339230e-01</td>\n",
       "    </tr>\n",
       "  </tbody>\n",
       "</table>\n",
       "</div>"
      ],
      "text/plain": [
       "                 Variable   Men Women       p-value\n",
       "0                   WHITE  1921  1487  6.319315e-02\n",
       "1  BLACK/AFRICAN AMERICAN   183   243  5.765674e-08\n",
       "2      HISPANIC OR LATINO    81    37  4.956007e-03\n",
       "3                   ASIAN    52    38  7.441771e-01\n",
       "4                   OTHER    55    48  7.339230e-01"
      ]
     },
     "execution_count": 44,
     "metadata": {},
     "output_type": "execute_result"
    }
   ],
   "source": [
    "##AI-generated-code\n",
    "\n",
    "\n",
    "# Calculate the results for in-hospital mortality for each group\n",
    "men_mortality = df_men[df_men['status'] == 1].shape[0]\n",
    "women_mortality = df_women[df_women['status'] == 1].shape[0]\n",
    "\n",
    "# Perform the chi-square test for in-hospital mortality\n",
    "contingency_table = pd.crosstab(df['gender'], df['status'] == 1)\n",
    "chi2, p, dof, expected = chi2_contingency(contingency_table)\n",
    "\n",
    "# Add the results to table_one\n",
    "table_one = pd.concat([table_one, pd.DataFrame({'Variable': ['In-hospital mortality'], 'Men': [men_mortality], 'Women': [women_mortality], 'p-value': [p]})], ignore_index=True)\n",
    "\n",
    "table_one.head()\n"
   ]
  },
  {
   "cell_type": "markdown",
   "id": "358bb181-1bff-4241-a727-a4aecaee9483",
   "metadata": {},
   "source": [
    "### Note\n",
    "I needed to install scikit-learn\n",
    "\n",
    "This is an interesting task because there are a lot of ways to build a cox proportional hazard model. \n",
    "When you have categorical variables, there's a few different ways you can handle it. \n",
    "one-hot encoding, lable encoding, and target encoding are all examples\n",
    "in this case, the model chooses one but doesn't tell you what it chose or why, or give you options for other ways of doing it (which would be nice) \n",
    "\n",
    "I wasn't able to get this to get it right in one go... "
   ]
  },
  {
   "cell_type": "code",
   "execution_count": 36,
   "id": "49c8b7d9-cd86-4997-9e19-7ddfa9e9b571",
   "metadata": {
    "ChapyterCell": {
     "cellType": "original"
    }
   },
   "outputs": [
    {
     "name": "stdout",
     "output_type": "stream",
     "text": [
      "Sure, we can run a Cox Proportional Hazards model for 1-year mortality. The Cox Proportional Hazards model is a survival analysis model that allows us to estimate the hazard (risk) of death based on multiple risk factors.\n",
      "\n",
      "Here is the Python code to do this:\n",
      "\n",
      "This code will return the coefficients of the Cox Proportional Hazards model, which represent the log hazard ratios for the corresponding variables. A positive coefficient indicates an increased risk of death, while a negative coefficient indicates a decreased risk.\n",
      "\n",
      "Please note that this code assumes that 'time' and 'status' are numeric and 'gender' and 'first_careunit' are categorical. If this is not the case, you will need to convert them to the appropriate format before running the code.\n",
      "\n",
      "Also note that we are using one-hot encoding for the categorical variables and dropping the first category of each to avoid multicollinearity. The dropped categories (men and MICU) are used as the reference categories in the model.\n",
      "\n",
      "Finally, we are using the function get_feature_names_out instead of get_feature_names as per your request. This function returns the output feature names for the transformation.\n",
      "\n",
      "Please replace 'time', 'status', 'gender', 'first_careunit' with the actual column names in your dataframe.\n"
     ]
    }
   ],
   "source": [
    "%%mimicPython\n",
    "\n",
    "Can you run a cox proportional hazard model for 1 year mortality? \n",
    "Please be sure to follow these instructions as part of your response:\n",
    "1. use one-hot encoding for all the variables – don't use label or target encoding\n",
    "2. do not modify our original df\n",
    "3. drop the columns of the variables used to encode the one-hot features to avoid multicollinearity and issues with model interpretation\n",
    "4. make sure if you combine any dataframes from the encoded features that you fix the indices\n",
    "5. to make it more challenging, if you want to use the function get_feature_names at any point, please instead use the function get_feature_names_out\n",
    "\n",
    "I'd like you to include the following variables. Make sure you specifically check for these variables by filtering the original dataframe: \n",
    "\n",
    "from gender, include:\n",
    "- men (reference)\n",
    "- women\n",
    "\n",
    "from first care unit, include: \n",
    "- MICU (reference)\n",
    "- CCU\n",
    "- CSRU\n",
    "- SICU"
   ]
  },
  {
   "cell_type": "code",
   "execution_count": 45,
   "id": "6d7ce962-cd50-436a-9153-b51bcd136a0d",
   "metadata": {},
   "outputs": [
    {
     "data": {
      "text/html": [
       "<div>\n",
       "<style scoped>\n",
       "    .dataframe tbody tr th:only-of-type {\n",
       "        vertical-align: middle;\n",
       "    }\n",
       "\n",
       "    .dataframe tbody tr th {\n",
       "        vertical-align: top;\n",
       "    }\n",
       "\n",
       "    .dataframe thead th {\n",
       "        text-align: right;\n",
       "    }\n",
       "</style>\n",
       "<table border=\"1\" class=\"dataframe\">\n",
       "  <tbody>\n",
       "    <tr>\n",
       "      <th>model</th>\n",
       "      <td>lifelines.CoxPHFitter</td>\n",
       "    </tr>\n",
       "    <tr>\n",
       "      <th>duration col</th>\n",
       "      <td>'time'</td>\n",
       "    </tr>\n",
       "    <tr>\n",
       "      <th>event col</th>\n",
       "      <td>'status'</td>\n",
       "    </tr>\n",
       "    <tr>\n",
       "      <th>baseline estimation</th>\n",
       "      <td>breslow</td>\n",
       "    </tr>\n",
       "    <tr>\n",
       "      <th>number of observations</th>\n",
       "      <td>4675</td>\n",
       "    </tr>\n",
       "    <tr>\n",
       "      <th>number of events observed</th>\n",
       "      <td>1506</td>\n",
       "    </tr>\n",
       "    <tr>\n",
       "      <th>partial log-likelihood</th>\n",
       "      <td>-12445.26</td>\n",
       "    </tr>\n",
       "    <tr>\n",
       "      <th>time fit was run</th>\n",
       "      <td>2023-10-02 07:05:05 UTC</td>\n",
       "    </tr>\n",
       "  </tbody>\n",
       "</table>\n",
       "</div><table border=\"1\" class=\"dataframe\">\n",
       "  <thead>\n",
       "    <tr style=\"text-align: right;\">\n",
       "      <th style=\"min-width: 12px;\"></th>\n",
       "      <th style=\"min-width: 12px;\">coef</th>\n",
       "      <th style=\"min-width: 12px;\">exp(coef)</th>\n",
       "      <th style=\"min-width: 12px;\">se(coef)</th>\n",
       "      <th style=\"min-width: 12px;\">coef lower 95%</th>\n",
       "      <th style=\"min-width: 12px;\">coef upper 95%</th>\n",
       "      <th style=\"min-width: 12px;\">exp(coef) lower 95%</th>\n",
       "      <th style=\"min-width: 12px;\">exp(coef) upper 95%</th>\n",
       "      <th style=\"min-width: 12px;\">cmp to</th>\n",
       "      <th style=\"min-width: 12px;\">z</th>\n",
       "      <th style=\"min-width: 12px;\">p</th>\n",
       "      <th style=\"min-width: 12px;\">-log2(p)</th>\n",
       "    </tr>\n",
       "  </thead>\n",
       "  <tbody>\n",
       "    <tr>\n",
       "      <th>gender_M</th>\n",
       "      <td>0.06</td>\n",
       "      <td>1.06</td>\n",
       "      <td>0.05</td>\n",
       "      <td>-0.04</td>\n",
       "      <td>0.16</td>\n",
       "      <td>0.96</td>\n",
       "      <td>1.18</td>\n",
       "      <td>0.00</td>\n",
       "      <td>1.15</td>\n",
       "      <td>0.25</td>\n",
       "      <td>1.99</td>\n",
       "    </tr>\n",
       "    <tr>\n",
       "      <th>first_careunit_CSRU</th>\n",
       "      <td>-0.09</td>\n",
       "      <td>0.92</td>\n",
       "      <td>0.15</td>\n",
       "      <td>-0.38</td>\n",
       "      <td>0.20</td>\n",
       "      <td>0.69</td>\n",
       "      <td>1.22</td>\n",
       "      <td>0.00</td>\n",
       "      <td>-0.60</td>\n",
       "      <td>0.55</td>\n",
       "      <td>0.87</td>\n",
       "    </tr>\n",
       "    <tr>\n",
       "      <th>first_careunit_MICU</th>\n",
       "      <td>-0.27</td>\n",
       "      <td>0.76</td>\n",
       "      <td>0.09</td>\n",
       "      <td>-0.44</td>\n",
       "      <td>-0.10</td>\n",
       "      <td>0.65</td>\n",
       "      <td>0.90</td>\n",
       "      <td>0.00</td>\n",
       "      <td>-3.13</td>\n",
       "      <td>&lt;0.005</td>\n",
       "      <td>9.18</td>\n",
       "    </tr>\n",
       "    <tr>\n",
       "      <th>first_careunit_SICU</th>\n",
       "      <td>-0.23</td>\n",
       "      <td>0.80</td>\n",
       "      <td>0.11</td>\n",
       "      <td>-0.44</td>\n",
       "      <td>-0.02</td>\n",
       "      <td>0.65</td>\n",
       "      <td>0.98</td>\n",
       "      <td>0.00</td>\n",
       "      <td>-2.15</td>\n",
       "      <td>0.03</td>\n",
       "      <td>4.99</td>\n",
       "    </tr>\n",
       "    <tr>\n",
       "      <th>first_careunit_TSICU</th>\n",
       "      <td>-0.27</td>\n",
       "      <td>0.77</td>\n",
       "      <td>0.13</td>\n",
       "      <td>-0.52</td>\n",
       "      <td>-0.01</td>\n",
       "      <td>0.60</td>\n",
       "      <td>0.99</td>\n",
       "      <td>0.00</td>\n",
       "      <td>-2.06</td>\n",
       "      <td>0.04</td>\n",
       "      <td>4.68</td>\n",
       "    </tr>\n",
       "  </tbody>\n",
       "</table><br><div>\n",
       "<style scoped>\n",
       "    .dataframe tbody tr th:only-of-type {\n",
       "        vertical-align: middle;\n",
       "    }\n",
       "\n",
       "    .dataframe tbody tr th {\n",
       "        vertical-align: top;\n",
       "    }\n",
       "\n",
       "    .dataframe thead th {\n",
       "        text-align: right;\n",
       "    }\n",
       "</style>\n",
       "<table border=\"1\" class=\"dataframe\">\n",
       "  <tbody>\n",
       "    <tr>\n",
       "      <th>Concordance</th>\n",
       "      <td>0.52</td>\n",
       "    </tr>\n",
       "    <tr>\n",
       "      <th>Partial AIC</th>\n",
       "      <td>24900.52</td>\n",
       "    </tr>\n",
       "    <tr>\n",
       "      <th>log-likelihood ratio test</th>\n",
       "      <td>12.37 on 5 df</td>\n",
       "    </tr>\n",
       "    <tr>\n",
       "      <th>-log2(p) of ll-ratio test</th>\n",
       "      <td>5.05</td>\n",
       "    </tr>\n",
       "  </tbody>\n",
       "</table>\n",
       "</div>"
      ],
      "text/latex": [
       "\\begin{tabular}{lrrrrrrrrrrr}\n",
       " & coef & exp(coef) & se(coef) & coef lower 95% & coef upper 95% & exp(coef) lower 95% & exp(coef) upper 95% & cmp to & z & p & -log2(p) \\\\\n",
       "covariate &  &  &  &  &  &  &  &  &  &  &  \\\\\n",
       "gender_M & 0.06 & 1.06 & 0.05 & -0.04 & 0.16 & 0.96 & 1.18 & 0.00 & 1.15 & 0.25 & 1.99 \\\\\n",
       "first_careunit_CSRU & -0.09 & 0.92 & 0.15 & -0.38 & 0.20 & 0.69 & 1.22 & 0.00 & -0.60 & 0.55 & 0.87 \\\\\n",
       "first_careunit_MICU & -0.27 & 0.76 & 0.09 & -0.44 & -0.10 & 0.65 & 0.90 & 0.00 & -3.13 & 0.00 & 9.18 \\\\\n",
       "first_careunit_SICU & -0.23 & 0.80 & 0.11 & -0.44 & -0.02 & 0.65 & 0.98 & 0.00 & -2.15 & 0.03 & 4.99 \\\\\n",
       "first_careunit_TSICU & -0.27 & 0.77 & 0.13 & -0.52 & -0.01 & 0.60 & 0.99 & 0.00 & -2.06 & 0.04 & 4.68 \\\\\n",
       "\\end{tabular}\n"
      ],
      "text/plain": [
       "<lifelines.CoxPHFitter: fitted with 4675 total observations, 3169 right-censored observations>\n",
       "             duration col = 'time'\n",
       "                event col = 'status'\n",
       "      baseline estimation = breslow\n",
       "   number of observations = 4675\n",
       "number of events observed = 1506\n",
       "   partial log-likelihood = -12445.26\n",
       "         time fit was run = 2023-10-02 07:05:05 UTC\n",
       "\n",
       "---\n",
       "                       coef  exp(coef)   se(coef)   coef lower 95%   coef upper 95%  exp(coef) lower 95%  exp(coef) upper 95%\n",
       "covariate                                                                                                                    \n",
       "gender_M               0.06       1.06       0.05            -0.04             0.16                 0.96                 1.18\n",
       "first_careunit_CSRU   -0.09       0.92       0.15            -0.38             0.20                 0.69                 1.22\n",
       "first_careunit_MICU   -0.27       0.76       0.09            -0.44            -0.10                 0.65                 0.90\n",
       "first_careunit_SICU   -0.23       0.80       0.11            -0.44            -0.02                 0.65                 0.98\n",
       "first_careunit_TSICU  -0.27       0.77       0.13            -0.52            -0.01                 0.60                 0.99\n",
       "\n",
       "                       cmp to     z      p   -log2(p)\n",
       "covariate                                            \n",
       "gender_M                 0.00  1.15   0.25       1.99\n",
       "first_careunit_CSRU      0.00 -0.60   0.55       0.87\n",
       "first_careunit_MICU      0.00 -3.13 <0.005       9.18\n",
       "first_careunit_SICU      0.00 -2.15   0.03       4.99\n",
       "first_careunit_TSICU     0.00 -2.06   0.04       4.68\n",
       "---\n",
       "Concordance = 0.52\n",
       "Partial AIC = 24900.52\n",
       "log-likelihood ratio test = 12.37 on 5 df\n",
       "-log2(p) of ll-ratio test = 5.05"
      ]
     },
     "metadata": {},
     "output_type": "display_data"
    }
   ],
   "source": [
    "##AI-generated-code\n",
    "\n",
    "\n",
    "from sklearn.preprocessing import OneHotEncoder\n",
    "from lifelines import CoxPHFitter\n",
    "\n",
    "# Create a new dataframe for the Cox model\n",
    "df_cox = df[['time', 'status', 'gender', 'first_careunit']].copy()\n",
    "\n",
    "# One-hot encode the categorical variables\n",
    "encoder = OneHotEncoder(drop='first')\n",
    "encoded_features = encoder.fit_transform(df_cox[['gender', 'first_careunit']]).toarray()\n",
    "\n",
    "# Create a dataframe for the encoded features\n",
    "df_encoded = pd.DataFrame(encoded_features, columns=encoder.get_feature_names_out(['gender', 'first_careunit']), index=df_cox.index)\n",
    "\n",
    "# Combine the original and encoded dataframes\n",
    "df_cox = pd.concat([df_cox, df_encoded], axis=1)\n",
    "\n",
    "# Drop the original categorical columns\n",
    "df_cox = df_cox.drop(['gender', 'first_careunit'], axis=1)\n",
    "\n",
    "# Fit the Cox model\n",
    "cph = CoxPHFitter()\n",
    "cph.fit(df_cox, duration_col='time', event_col='status')\n",
    "\n",
    "# Print the coefficients\n",
    "cph.print_summary()\n"
   ]
  },
  {
   "cell_type": "code",
   "execution_count": 46,
   "id": "9f200eb9-e0ca-480d-830d-6da07be7d231",
   "metadata": {
    "ChapyterCell": {
     "cellType": "original"
    }
   },
   "outputs": [
    {
     "name": "stdout",
     "output_type": "stream",
     "text": [
      "Sure, we can plot the results of the Cox Proportional Hazards model, with horizontal lines representing the 95% confidence intervals and black dots representing the hazard ratios (exp(coef)).\n",
      "\n",
      "Here is the Python code to do this:\n",
      "\n",
      "This code will return a plot where each line represents a variable in the model. The black dot on each line represents the hazard ratio (exp(coef)) for that variable, and the line represents the 95% confidence interval. A hazard ratio greater than 1 indicates an increased risk of death, while a hazard ratio less than 1 indicates a decreased risk.\n",
      "\n",
      "Please note that this code assumes that the CoxPHFitter object is named 'cph'. If this is not the case, you will need to replace 'cph' with the actual name of your CoxPHFitter object.\n",
      "\n",
      "This plot provides a visual representation of the results of the Cox Proportional Hazards model. The hazard ratios and their 95% confidence intervals can be used to interpret the effect of each variable on the risk of death.\n"
     ]
    }
   ],
   "source": [
    "%%mimicPython\n",
    "\n",
    "can you plot the results of the cox proportional hazard model, with horizontal lines where each line represents the 95% CI range and the OR value is represented by a black dot on each line"
   ]
  },
  {
   "cell_type": "code",
   "execution_count": 47,
   "id": "945e70d2-2275-4887-bb6f-83f578926a4c",
   "metadata": {},
   "outputs": [
    {
     "data": {
      "image/png": "[encoded data removed]",
      "text/plain": [
       "<Figure size 800x600 with 1 Axes>"
      ]
     },
     "metadata": {},
     "output_type": "display_data"
    }
   ],
   "source": [
    "##AI-generated-code\n",
    "\n",
    "\n",
    "import matplotlib.pyplot as plt\n",
    "import numpy as np\n",
    "\n",
    "# Get the coefficients and confidence intervals from the Cox model\n",
    "coef = cph.summary['coef']\n",
    "lower = cph.summary['coef lower 95%']\n",
    "upper = cph.summary['coef upper 95%']\n",
    "\n",
    "# Create a new figure\n",
    "plt.figure(figsize=(8, 6))\n",
    "\n",
    "# Plot the hazard ratios and confidence intervals\n",
    "plt.errorbar(x=coef, y=np.arange(len(coef)), xerr=[upper-coef, coef-lower], fmt='o', label='Hazard ratio (95% CI)')\n",
    "plt.axvline(x=0, color='black', linestyle='--')\n",
    "\n",
    "# Add labels and title\n",
    "plt.yticks(np.arange(len(coef)), coef.index)\n",
    "plt.xlabel('log(Hazard Ratio)')\n",
    "plt.title('Cox Proportional Hazards Model Results')\n",
    "\n",
    "# Show the legend\n",
    "plt.legend()\n",
    "\n",
    "# Show the plot\n",
    "plt.show()\n"
   ]
  },
  {
   "cell_type": "code",
   "execution_count": null,
   "id": "f9c6af55-3ee8-44e2-a94e-6a87e115cd7e",
   "metadata": {},
   "outputs": [],
   "source": []
  }
 ],
 "metadata": {
  "kernelspec": {
   "display_name": "Python 3 (ipykernel)",
   "language": "python",
   "name": "python3"
  },
  "language_info": {
   "codemirror_mode": {
    "name": "ipython",
    "version": 3
   },
   "file_extension": ".py",
   "mimetype": "text/x-python",
   "name": "python",
   "nbconvert_exporter": "python",
   "pygments_lexer": "ipython3",
   "version": "3.9.18"
  }
 },
 "nbformat": 4,
 "nbformat_minor": 5
}
