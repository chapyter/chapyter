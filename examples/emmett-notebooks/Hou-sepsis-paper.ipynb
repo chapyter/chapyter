{
 "cells": [
  {
   "cell_type": "code",
   "execution_count": 1,
   "id": "305f5dfc-d2e5-44eb-b6b5-4850e86274f4",
   "metadata": {
    "editable": true,
    "slideshow": {
     "slide_type": ""
    },
    "tags": []
   },
   "outputs": [
    {
     "data": {
      "text/plain": [
       "6134"
      ]
     },
     "execution_count": 1,
     "metadata": {},
     "output_type": "execute_result"
    }
   ],
   "source": [
    "# https://www.ncbi.nlm.nih.gov/pmc/articles/PMC6687414/\n",
    "2677 + 3457"
   ]
  },
  {
   "cell_type": "code",
   "execution_count": 2,
   "id": "0dd73c65-10b2-41c9-9b56-2da33223224d",
   "metadata": {},
   "outputs": [],
   "source": [
    "%load_ext autoreload"
   ]
  },
  {
   "cell_type": "code",
   "execution_count": 3,
   "id": "35f98b98-8b1f-4ccd-a395-1b5bd6792105",
   "metadata": {},
   "outputs": [],
   "source": [
    "%autoreload 2"
   ]
  },
  {
   "cell_type": "code",
   "execution_count": 4,
   "id": "d091328b-6bea-4c73-af5f-3859424c192b",
   "metadata": {},
   "outputs": [
    {
     "name": "stderr",
     "output_type": "stream",
     "text": [
      "2023-09-26 21:41:18.210 WARNING streamlit.runtime.state.session_state_proxy: Session state does not function when running a script without `streamlit run`\n"
     ]
    }
   ],
   "source": [
    "%reload_ext chapyter"
   ]
  },
  {
   "cell_type": "code",
   "execution_count": 5,
   "id": "e6080161-8e91-4bfb-a64e-917fc1396524",
   "metadata": {},
   "outputs": [
    {
     "data": {
      "text/plain": [
       "True"
      ]
     },
     "execution_count": 5,
     "metadata": {},
     "output_type": "execute_result"
    }
   ],
   "source": [
    "#theoretically loads openai credentials from my .env file\n",
    "from dotenv import load_dotenv\n",
    "load_dotenv()"
   ]
  },
  {
   "cell_type": "code",
   "execution_count": 9,
   "id": "2a23821b-301f-4402-8454-a0b74f531328",
   "metadata": {},
   "outputs": [],
   "source": [
    "import os\n",
    "os.environ[\"NOTEBOOK_NAME\"] = \"Hou-sepsis-paper.ipynb\""
   ]
  },
  {
   "cell_type": "code",
   "execution_count": 10,
   "id": "f53ffd22-19ba-4df5-b8a2-6525907b49e6",
   "metadata": {
    "ChapyterCell": {
     "cellType": "original"
    }
   },
   "outputs": [
    {
     "name": "stdout",
     "output_type": "stream",
     "text": [
      "\n"
     ]
    }
   ],
   "source": [
    "%%mimicSQL --notebook_name Hou-sepsis-paper.ipynb\n",
    "\n",
    "Retrieve all data from PATIENTS table where patients have been diagnosed with “sepsis,” “severe sepsis,” or “septic shock”."
   ]
  },
  {
   "cell_type": "code",
   "execution_count": 11,
   "id": "7cbb22cc-e74b-49c9-aa55-85195dd49dce",
   "metadata": {},
   "outputs": [
    {
     "data": {
      "text/html": [
       "<div>\n",
       "<style scoped>\n",
       "    .dataframe tbody tr th:only-of-type {\n",
       "        vertical-align: middle;\n",
       "    }\n",
       "\n",
       "    .dataframe tbody tr th {\n",
       "        vertical-align: top;\n",
       "    }\n",
       "\n",
       "    .dataframe thead th {\n",
       "        text-align: right;\n",
       "    }\n",
       "</style>\n",
       "<table border=\"1\" class=\"dataframe\">\n",
       "  <thead>\n",
       "    <tr style=\"text-align: right;\">\n",
       "      <th></th>\n",
       "      <th>row_id</th>\n",
       "      <th>subject_id</th>\n",
       "      <th>gender</th>\n",
       "      <th>dob</th>\n",
       "      <th>dod</th>\n",
       "      <th>dod_hosp</th>\n",
       "      <th>dod_ssn</th>\n",
       "      <th>expire_flag</th>\n",
       "    </tr>\n",
       "  </thead>\n",
       "  <tbody>\n",
       "    <tr>\n",
       "      <th>0</th>\n",
       "      <td>235</td>\n",
       "      <td>250</td>\n",
       "      <td>F</td>\n",
       "      <td>2164-12-27 00:00:00.000</td>\n",
       "      <td>2188-11-22 00:00:00.000</td>\n",
       "      <td>2188-11-22 00:00:00.000</td>\n",
       "      <td>None</td>\n",
       "      <td>1</td>\n",
       "    </tr>\n",
       "    <tr>\n",
       "      <th>1</th>\n",
       "      <td>252</td>\n",
       "      <td>269</td>\n",
       "      <td>M</td>\n",
       "      <td>2130-09-30 00:00:00.000</td>\n",
       "      <td>None</td>\n",
       "      <td>None</td>\n",
       "      <td>None</td>\n",
       "      <td>0</td>\n",
       "    </tr>\n",
       "    <tr>\n",
       "      <th>2</th>\n",
       "      <td>650</td>\n",
       "      <td>689</td>\n",
       "      <td>F</td>\n",
       "      <td>2128-12-27 00:00:00.000</td>\n",
       "      <td>None</td>\n",
       "      <td>None</td>\n",
       "      <td>None</td>\n",
       "      <td>0</td>\n",
       "    </tr>\n",
       "    <tr>\n",
       "      <th>3</th>\n",
       "      <td>651</td>\n",
       "      <td>690</td>\n",
       "      <td>M</td>\n",
       "      <td>2109-09-24 00:00:00.000</td>\n",
       "      <td>2189-07-30 00:00:00.000</td>\n",
       "      <td>2189-07-30 00:00:00.000</td>\n",
       "      <td>2189-07-30 00:00:00.000</td>\n",
       "      <td>1</td>\n",
       "    </tr>\n",
       "    <tr>\n",
       "      <th>4</th>\n",
       "      <td>662</td>\n",
       "      <td>703</td>\n",
       "      <td>M</td>\n",
       "      <td>2032-03-08 00:00:00.000</td>\n",
       "      <td>None</td>\n",
       "      <td>None</td>\n",
       "      <td>None</td>\n",
       "      <td>0</td>\n",
       "    </tr>\n",
       "  </tbody>\n",
       "</table>\n",
       "</div>"
      ],
      "text/plain": [
       "  row_id subject_id gender                      dob                      dod  \\\n",
       "0    235        250      F  2164-12-27 00:00:00.000  2188-11-22 00:00:00.000   \n",
       "1    252        269      M  2130-09-30 00:00:00.000                     None   \n",
       "2    650        689      F  2128-12-27 00:00:00.000                     None   \n",
       "3    651        690      M  2109-09-24 00:00:00.000  2189-07-30 00:00:00.000   \n",
       "4    662        703      M  2032-03-08 00:00:00.000                     None   \n",
       "\n",
       "                  dod_hosp                  dod_ssn expire_flag  \n",
       "0  2188-11-22 00:00:00.000                     None           1  \n",
       "1                     None                     None           0  \n",
       "2                     None                     None           0  \n",
       "3  2189-07-30 00:00:00.000  2189-07-30 00:00:00.000           1  \n",
       "4                     None                     None           0  "
      ]
     },
     "metadata": {},
     "output_type": "display_data"
    }
   ],
   "source": [
    "%%runSQL --notebook_name Hou-sepsis-paper.ipynb\n",
    "\n",
    "SELECT * \n",
    "FROM patients \n",
    "WHERE subject_id IN (\n",
    "    SELECT subject_id \n",
    "    FROM diagnoses_icd \n",
    "    WHERE icd9_code IN ('99591', '99592', '78552')\n",
    ")"
   ]
  },
  {
   "cell_type": "code",
   "execution_count": 13,
   "id": "97d382b3-43af-46b8-a878-d2d8e8ae12d8",
   "metadata": {
    "ChapyterCell": {
     "cellType": "original"
    }
   },
   "outputs": [
    {
     "name": "stdout",
     "output_type": "stream",
     "text": [
      "There could be several reasons for the discrepancy in numbers:\n",
      "\n",
      "1. Different data sources: The paper you are trying to replicate might have used a different data source or a larger dataset. The MIMIC-III database is a large, freely-available database comprising deidentified health-related data associated with over forty thousand patients who stayed in critical care units of the Beth Israel Deaconess Medical Center between 2001 and 2012. If the paper used a different database or included more years, it could have a larger number of patients.\n",
      "\n",
      "2. Different inclusion criteria: The paper might have used different inclusion criteria for sepsis, severe sepsis, and septic shock. For example, they might have included patients with a broader range of ICD codes, or used clinical criteria (like SIRS criteria or SOFA score) in addition to ICD codes.\n",
      "\n",
      "3. Different definitions: The definitions of sepsis, severe sepsis, and septic shock have changed over time. If the paper used older definitions, it might have included more patients.\n",
      "\n",
      "4. Data cleaning and preprocessing: The process of data cleaning and preprocessing can also affect the final number of patients. For example, if you excluded patients with missing data or certain types of outliers, you might end up with fewer patients than the paper.\n",
      "\n",
      "Without more information about the methods used in the paper, it's hard to say exactly why there's a discrepancy. You might want to check the paper's methods section for more details, or contact the authors for clarification.\n"
     ]
    }
   ],
   "source": [
    "%%mimicPython\n",
    "\n",
    "A paper Im trying to replicate has n=10704 for \"Patients were diagnosed as sepsis, severe sepsis, and septic shock\". Any idea why were getting much lower numbers?"
   ]
  },
  {
   "cell_type": "code",
   "execution_count": 14,
   "id": "a105e6ea-1b27-4bf4-9d8e-1c9057f9c05c",
   "metadata": {
    "ChapyterCell": {
     "cellType": "original"
    }
   },
   "outputs": [
    {
     "name": "stdout",
     "output_type": "stream",
     "text": [
      "\n"
     ]
    }
   ],
   "source": [
    "%%mimicSQL --notebook_name Hou-sepsis-paper.ipynb\n",
    "\n",
    "Can you show me a table that shows the subject_id, and all the ICD codes they ever had?"
   ]
  },
  {
   "cell_type": "code",
   "execution_count": 15,
   "id": "7f4885b7-757e-46e9-bfd4-01a13d96dfda",
   "metadata": {},
   "outputs": [
    {
     "name": "stdout",
     "output_type": "stream",
     "text": [
      "Query failed! State: FAILED\n",
      "Reason: FUNCTION_NOT_FOUND: line 1:20: Function 'string_agg' not registered\n"
     ]
    },
    {
     "ename": "AttributeError",
     "evalue": "'bool' object has no attribute 'head'",
     "output_type": "error",
     "traceback": [
      "\u001b[0;31m---------------------------------------------------------------------------\u001b[0m",
      "\u001b[0;31mAttributeError\u001b[0m                            Traceback (most recent call last)",
      "Cell \u001b[0;32mIn[15], line 1\u001b[0m\n\u001b[0;32m----> 1\u001b[0m \u001b[43mget_ipython\u001b[49m\u001b[43m(\u001b[49m\u001b[43m)\u001b[49m\u001b[38;5;241;43m.\u001b[39;49m\u001b[43mrun_cell_magic\u001b[49m\u001b[43m(\u001b[49m\u001b[38;5;124;43m'\u001b[39;49m\u001b[38;5;124;43mrunSQL\u001b[39;49m\u001b[38;5;124;43m'\u001b[39;49m\u001b[43m,\u001b[49m\u001b[43m \u001b[49m\u001b[38;5;124;43m'\u001b[39;49m\u001b[38;5;124;43m--notebook_name Hou-sepsis-paper.ipynb\u001b[39;49m\u001b[38;5;124;43m'\u001b[39;49m\u001b[43m,\u001b[49m\u001b[43m \u001b[49m\u001b[38;5;124;43m\"\u001b[39;49m\u001b[38;5;130;43;01m\\n\u001b[39;49;00m\u001b[38;5;124;43mSELECT subject_id, STRING_AGG(icd9_code, \u001b[39;49m\u001b[38;5;124;43m'\u001b[39;49m\u001b[38;5;124;43m, \u001b[39;49m\u001b[38;5;124;43m'\u001b[39;49m\u001b[38;5;124;43m) AS icd_codes\u001b[39;49m\u001b[38;5;130;43;01m\\n\u001b[39;49;00m\u001b[38;5;124;43mFROM diagnoses_icd\u001b[39;49m\u001b[38;5;130;43;01m\\n\u001b[39;49;00m\u001b[38;5;124;43mGROUP BY subject_id\u001b[39;49m\u001b[38;5;130;43;01m\\n\u001b[39;49;00m\u001b[38;5;124;43m\"\u001b[39;49m\u001b[43m)\u001b[49m\n",
      "File \u001b[0;32m~/miniconda3/lib/python3.10/site-packages/IPython/core/interactiveshell.py:2478\u001b[0m, in \u001b[0;36mInteractiveShell.run_cell_magic\u001b[0;34m(self, magic_name, line, cell)\u001b[0m\n\u001b[1;32m   2476\u001b[0m \u001b[38;5;28;01mwith\u001b[39;00m \u001b[38;5;28mself\u001b[39m\u001b[38;5;241m.\u001b[39mbuiltin_trap:\n\u001b[1;32m   2477\u001b[0m     args \u001b[38;5;241m=\u001b[39m (magic_arg_s, cell)\n\u001b[0;32m-> 2478\u001b[0m     result \u001b[38;5;241m=\u001b[39m \u001b[43mfn\u001b[49m\u001b[43m(\u001b[49m\u001b[38;5;241;43m*\u001b[39;49m\u001b[43margs\u001b[49m\u001b[43m,\u001b[49m\u001b[43m \u001b[49m\u001b[38;5;241;43m*\u001b[39;49m\u001b[38;5;241;43m*\u001b[39;49m\u001b[43mkwargs\u001b[49m\u001b[43m)\u001b[49m\n\u001b[1;32m   2480\u001b[0m \u001b[38;5;66;03m# The code below prevents the output from being displayed\u001b[39;00m\n\u001b[1;32m   2481\u001b[0m \u001b[38;5;66;03m# when using magics with decodator @output_can_be_silenced\u001b[39;00m\n\u001b[1;32m   2482\u001b[0m \u001b[38;5;66;03m# when the last Python token in the expression is a ';'.\u001b[39;00m\n\u001b[1;32m   2483\u001b[0m \u001b[38;5;28;01mif\u001b[39;00m \u001b[38;5;28mgetattr\u001b[39m(fn, magic\u001b[38;5;241m.\u001b[39mMAGIC_OUTPUT_CAN_BE_SILENCED, \u001b[38;5;28;01mFalse\u001b[39;00m):\n",
      "File \u001b[0;32m~/Documents/startup/mocha/code/sept25/chapyterMed/chapyter/magic.py:771\u001b[0m, in \u001b[0;36mChapyter.runSQL\u001b[0;34m(self, line, cell)\u001b[0m\n\u001b[1;32m    768\u001b[0m execution_id \u001b[38;5;241m=\u001b[39m \u001b[38;5;28mself\u001b[39m\u001b[38;5;241m.\u001b[39mshell\u001b[38;5;241m.\u001b[39mexecution_count\n\u001b[1;32m    770\u001b[0m df, sql_query \u001b[38;5;241m=\u001b[39m sql_query_to_athena_df(current_message)\n\u001b[0;32m--> 771\u001b[0m display(\u001b[43mdf\u001b[49m\u001b[38;5;241;43m.\u001b[39;49m\u001b[43mhead\u001b[49m(\u001b[38;5;241m5\u001b[39m))\n\u001b[1;32m    772\u001b[0m \u001b[38;5;28mself\u001b[39m\u001b[38;5;241m.\u001b[39mshell\u001b[38;5;241m.\u001b[39muser_ns[\u001b[38;5;124m'\u001b[39m\u001b[38;5;124mdf\u001b[39m\u001b[38;5;124m'\u001b[39m] \u001b[38;5;241m=\u001b[39m df\n\u001b[1;32m    774\u001b[0m first_two_rows_str \u001b[38;5;241m=\u001b[39m df\u001b[38;5;241m.\u001b[39mhead(\u001b[38;5;241m2\u001b[39m)\u001b[38;5;241m.\u001b[39mto_string()\n",
      "\u001b[0;31mAttributeError\u001b[0m: 'bool' object has no attribute 'head'"
     ]
    }
   ],
   "source": [
    "%%runSQL --notebook_name Hou-sepsis-paper.ipynb\n",
    "\n",
    "SELECT subject_id, STRING_AGG(icd9_code, ', ') AS icd_codes\n",
    "FROM diagnoses_icd\n",
    "GROUP BY subject_id\n"
   ]
  },
  {
   "cell_type": "code",
   "execution_count": 16,
   "id": "103ac1fb-3628-426c-b067-b7c9876d8cb0",
   "metadata": {
    "ChapyterCell": {
     "cellType": "original"
    }
   },
   "outputs": [
    {
     "name": "stdout",
     "output_type": "stream",
     "text": [
      "SQL\n",
      "\n",
      "SELECT subject_id, GROUP_CONCAT(icd9_code, ', ') AS icd_codes\n",
      "\n",
      "FROM diagnoses_icd\n",
      "\n",
      "GROUP BY subject_id\n",
      "\n",
      "\n"
     ]
    }
   ],
   "source": [
    "%%mimicSQL --notebook_name Hou-sepsis-paper.ipynb\n",
    "\n",
    "Can you show me a table that shows the subject_id, and all the ICD codes they ever had? Please fix the previous error."
   ]
  },
  {
   "cell_type": "code",
   "execution_count": 17,
   "id": "b0ff7b65-dbe2-45f4-a796-753c3906f419",
   "metadata": {},
   "outputs": [
    {
     "name": "stdout",
     "output_type": "stream",
     "text": [
      "Query failed! State: FAILED\n",
      "Reason: FUNCTION_NOT_FOUND: line 1:20: Function 'group_concat' not registered\n"
     ]
    },
    {
     "ename": "AttributeError",
     "evalue": "'bool' object has no attribute 'head'",
     "output_type": "error",
     "traceback": [
      "\u001b[0;31m---------------------------------------------------------------------------\u001b[0m",
      "\u001b[0;31mAttributeError\u001b[0m                            Traceback (most recent call last)",
      "Cell \u001b[0;32mIn[17], line 1\u001b[0m\n\u001b[0;32m----> 1\u001b[0m \u001b[43mget_ipython\u001b[49m\u001b[43m(\u001b[49m\u001b[43m)\u001b[49m\u001b[38;5;241;43m.\u001b[39;49m\u001b[43mrun_cell_magic\u001b[49m\u001b[43m(\u001b[49m\u001b[38;5;124;43m'\u001b[39;49m\u001b[38;5;124;43mrunSQL\u001b[39;49m\u001b[38;5;124;43m'\u001b[39;49m\u001b[43m,\u001b[49m\u001b[43m \u001b[49m\u001b[38;5;124;43m'\u001b[39;49m\u001b[38;5;124;43m--notebook_name Hou-sepsis-paper.ipynb\u001b[39;49m\u001b[38;5;124;43m'\u001b[39;49m\u001b[43m,\u001b[49m\u001b[43m \u001b[49m\u001b[38;5;124;43m\"\u001b[39;49m\u001b[38;5;130;43;01m\\n\u001b[39;49;00m\u001b[38;5;124;43mSELECT subject_id, GROUP_CONCAT(icd9_code, \u001b[39;49m\u001b[38;5;124;43m'\u001b[39;49m\u001b[38;5;124;43m, \u001b[39;49m\u001b[38;5;124;43m'\u001b[39;49m\u001b[38;5;124;43m) AS icd_codes\u001b[39;49m\u001b[38;5;130;43;01m\\n\u001b[39;49;00m\u001b[38;5;124;43mFROM diagnoses_icd\u001b[39;49m\u001b[38;5;130;43;01m\\n\u001b[39;49;00m\u001b[38;5;124;43mGROUP BY subject_id\u001b[39;49m\u001b[38;5;130;43;01m\\n\u001b[39;49;00m\u001b[38;5;124;43m\"\u001b[39;49m\u001b[43m)\u001b[49m\n",
      "File \u001b[0;32m~/miniconda3/lib/python3.10/site-packages/IPython/core/interactiveshell.py:2478\u001b[0m, in \u001b[0;36mInteractiveShell.run_cell_magic\u001b[0;34m(self, magic_name, line, cell)\u001b[0m\n\u001b[1;32m   2476\u001b[0m \u001b[38;5;28;01mwith\u001b[39;00m \u001b[38;5;28mself\u001b[39m\u001b[38;5;241m.\u001b[39mbuiltin_trap:\n\u001b[1;32m   2477\u001b[0m     args \u001b[38;5;241m=\u001b[39m (magic_arg_s, cell)\n\u001b[0;32m-> 2478\u001b[0m     result \u001b[38;5;241m=\u001b[39m \u001b[43mfn\u001b[49m\u001b[43m(\u001b[49m\u001b[38;5;241;43m*\u001b[39;49m\u001b[43margs\u001b[49m\u001b[43m,\u001b[49m\u001b[43m \u001b[49m\u001b[38;5;241;43m*\u001b[39;49m\u001b[38;5;241;43m*\u001b[39;49m\u001b[43mkwargs\u001b[49m\u001b[43m)\u001b[49m\n\u001b[1;32m   2480\u001b[0m \u001b[38;5;66;03m# The code below prevents the output from being displayed\u001b[39;00m\n\u001b[1;32m   2481\u001b[0m \u001b[38;5;66;03m# when using magics with decodator @output_can_be_silenced\u001b[39;00m\n\u001b[1;32m   2482\u001b[0m \u001b[38;5;66;03m# when the last Python token in the expression is a ';'.\u001b[39;00m\n\u001b[1;32m   2483\u001b[0m \u001b[38;5;28;01mif\u001b[39;00m \u001b[38;5;28mgetattr\u001b[39m(fn, magic\u001b[38;5;241m.\u001b[39mMAGIC_OUTPUT_CAN_BE_SILENCED, \u001b[38;5;28;01mFalse\u001b[39;00m):\n",
      "File \u001b[0;32m~/Documents/startup/mocha/code/sept25/chapyterMed/chapyter/magic.py:771\u001b[0m, in \u001b[0;36mChapyter.runSQL\u001b[0;34m(self, line, cell)\u001b[0m\n\u001b[1;32m    768\u001b[0m execution_id \u001b[38;5;241m=\u001b[39m \u001b[38;5;28mself\u001b[39m\u001b[38;5;241m.\u001b[39mshell\u001b[38;5;241m.\u001b[39mexecution_count\n\u001b[1;32m    770\u001b[0m df, sql_query \u001b[38;5;241m=\u001b[39m sql_query_to_athena_df(current_message)\n\u001b[0;32m--> 771\u001b[0m display(\u001b[43mdf\u001b[49m\u001b[38;5;241;43m.\u001b[39;49m\u001b[43mhead\u001b[49m(\u001b[38;5;241m5\u001b[39m))\n\u001b[1;32m    772\u001b[0m \u001b[38;5;28mself\u001b[39m\u001b[38;5;241m.\u001b[39mshell\u001b[38;5;241m.\u001b[39muser_ns[\u001b[38;5;124m'\u001b[39m\u001b[38;5;124mdf\u001b[39m\u001b[38;5;124m'\u001b[39m] \u001b[38;5;241m=\u001b[39m df\n\u001b[1;32m    774\u001b[0m first_two_rows_str \u001b[38;5;241m=\u001b[39m df\u001b[38;5;241m.\u001b[39mhead(\u001b[38;5;241m2\u001b[39m)\u001b[38;5;241m.\u001b[39mto_string()\n",
      "\u001b[0;31mAttributeError\u001b[0m: 'bool' object has no attribute 'head'"
     ]
    }
   ],
   "source": [
    "%%runSQL --notebook_name Hou-sepsis-paper.ipynb\n",
    "\n",
    "SELECT subject_id, GROUP_CONCAT(icd9_code, ', ') AS icd_codes\n",
    "FROM diagnoses_icd\n",
    "GROUP BY subject_id"
   ]
  },
  {
   "cell_type": "code",
   "execution_count": 18,
   "id": "b9b60b14-73cd-44e5-8ff6-74c8983c510a",
   "metadata": {
    "ChapyterCell": {
     "cellType": "original"
    }
   },
   "outputs": [
    {
     "name": "stdout",
     "output_type": "stream",
     "text": [
      "SQL\n",
      "\n",
      "SELECT subject_id, ARRAY_JOIN(array_agg(icd9_code), ', ') AS icd_codes\n",
      "\n",
      "FROM diagnoses_icd\n",
      "\n",
      "GROUP BY subject_id\n",
      "\n",
      "\n"
     ]
    }
   ],
   "source": [
    "%%mimicSQL --notebook_name Hou-sepsis-paper.ipynb\n",
    "\n",
    "Please try again to fix that error!"
   ]
  },
  {
   "cell_type": "code",
   "execution_count": 19,
   "id": "2ef304e0-6c6d-4dc4-85f9-1bf32299408e",
   "metadata": {},
   "outputs": [
    {
     "data": {
      "text/html": [
       "<div>\n",
       "<style scoped>\n",
       "    .dataframe tbody tr th:only-of-type {\n",
       "        vertical-align: middle;\n",
       "    }\n",
       "\n",
       "    .dataframe tbody tr th {\n",
       "        vertical-align: top;\n",
       "    }\n",
       "\n",
       "    .dataframe thead th {\n",
       "        text-align: right;\n",
       "    }\n",
       "</style>\n",
       "<table border=\"1\" class=\"dataframe\">\n",
       "  <thead>\n",
       "    <tr style=\"text-align: right;\">\n",
       "      <th></th>\n",
       "      <th>subject_id</th>\n",
       "      <th>icd_codes</th>\n",
       "    </tr>\n",
       "  </thead>\n",
       "  <tbody>\n",
       "    <tr>\n",
       "      <th>0</th>\n",
       "      <td>117</td>\n",
       "      <td>5715, 7895, 07054, 2875, 4280, 2851, 2765, 401...</td>\n",
       "    </tr>\n",
       "    <tr>\n",
       "      <th>1</th>\n",
       "      <td>118</td>\n",
       "      <td>V3000, V053</td>\n",
       "    </tr>\n",
       "    <tr>\n",
       "      <th>2</th>\n",
       "      <td>120</td>\n",
       "      <td>V3000, V053, V290</td>\n",
       "    </tr>\n",
       "    <tr>\n",
       "      <th>3</th>\n",
       "      <td>127</td>\n",
       "      <td>19889, 1972, V103</td>\n",
       "    </tr>\n",
       "    <tr>\n",
       "      <th>4</th>\n",
       "      <td>129</td>\n",
       "      <td>85300, 78039, E8889</td>\n",
       "    </tr>\n",
       "  </tbody>\n",
       "</table>\n",
       "</div>"
      ],
      "text/plain": [
       "  subject_id                                          icd_codes\n",
       "0        117  5715, 7895, 07054, 2875, 4280, 2851, 2765, 401...\n",
       "1        118                                        V3000, V053\n",
       "2        120                                  V3000, V053, V290\n",
       "3        127                                  19889, 1972, V103\n",
       "4        129                                85300, 78039, E8889"
      ]
     },
     "metadata": {},
     "output_type": "display_data"
    }
   ],
   "source": [
    "%%runSQL --notebook_name Hou-sepsis-paper.ipynb\n",
    "\n",
    "SELECT subject_id, ARRAY_JOIN(array_agg(icd9_code), ', ') AS icd_codes\n",
    "FROM diagnoses_icd\n",
    "GROUP BY subject_id"
   ]
  },
  {
   "cell_type": "code",
   "execution_count": 20,
   "id": "c1a0e720-b85a-43fd-93b2-792873bd4ebd",
   "metadata": {},
   "outputs": [
    {
     "name": "stdout",
     "output_type": "stream",
     "text": [
      "(46474, 2)\n"
     ]
    }
   ],
   "source": [
    "print(df.shape)\n",
    "#('99591', '99592', '78552')"
   ]
  },
  {
   "cell_type": "code",
   "execution_count": 26,
   "id": "6f4364b5-cdaf-4142-a855-fd15649f8ed2",
   "metadata": {
    "ChapyterCell": {
     "cellType": "original"
    }
   },
   "outputs": [
    {
     "name": "stdout",
     "output_type": "stream",
     "text": [
      "\n"
     ]
    }
   ],
   "source": [
    "%%mimicPython\n",
    "\n",
    "How many subjects had icd code 99591 or 99592 or 78552?"
   ]
  },
  {
   "cell_type": "code",
   "execution_count": 27,
   "id": "6c9e2f5e-a84e-4667-b46e-ed539a20b062",
   "metadata": {},
   "outputs": [
    {
     "name": "stdout",
     "output_type": "stream",
     "text": [
      "4685\n"
     ]
    }
   ],
   "source": [
    "##AI-generated-code\n",
    "\n",
    "\n",
    "# Create a new column in the dataframe that checks if any of the icd codes '99591', '99592', '78552' are in the 'icd_codes' column for each subject\n",
    "df['has_sepsis'] = df['icd_codes'].apply(lambda x: any(code in x for code in ['99591', '99592', '78552']))\n",
    "\n",
    "# Count the number of subjects that have any of the icd codes '99591', '99592', '78552'\n",
    "num_subjects_with_sepsis = df['has_sepsis'].sum()\n",
    "\n",
    "print(num_subjects_with_sepsis)\n"
   ]
  },
  {
   "cell_type": "code",
   "execution_count": 29,
   "id": "fc24a2f2-cfee-4e5c-b7a2-08c5711474db",
   "metadata": {
    "ChapyterCell": {
     "cellType": "original"
    }
   },
   "outputs": [
    {
     "name": "stdout",
     "output_type": "stream",
     "text": [
      "\n"
     ]
    }
   ],
   "source": [
    "%%mimicPython\n",
    "\n",
    "Give me a set of all the ICD9 codes we see in this table."
   ]
  },
  {
   "cell_type": "code",
   "execution_count": 32,
   "id": "9b1ba3ed-ca22-4953-80d0-c750d3ea3b73",
   "metadata": {},
   "outputs": [
    {
     "name": "stdout",
     "output_type": "stream",
     "text": [
      "6984\n"
     ]
    }
   ],
   "source": [
    "##AI-generated-code\n",
    "\n",
    "\n",
    "# Split the 'icd_codes' column on ', ' to create a list of icd codes for each subject\n",
    "df['icd_codes_list'] = df['icd_codes'].apply(lambda x: x.split(', '))\n",
    "\n",
    "# Flatten the list of lists to get a single list of all icd codes\n",
    "all_icd_codes = [code for sublist in df['icd_codes_list'] for code in sublist]\n",
    "\n",
    "# Convert the list to a set to get the unique icd codes\n",
    "unique_icd_codes = set(all_icd_codes)\n",
    "\n",
    "print(len(unique_icd_codes))\n"
   ]
  },
  {
   "cell_type": "code",
   "execution_count": 33,
   "id": "86354d02-f5fb-4f23-a5d9-e72f3fb1a252",
   "metadata": {
    "ChapyterCell": {
     "cellType": "original"
    }
   },
   "outputs": [
    {
     "name": "stdout",
     "output_type": "stream",
     "text": [
      "Determining which of these ICD codes are affiliated with sepsis can be a bit tricky. The ICD codes you've mentioned ('99591', '99592', '78552') are directly related to sepsis, severe sepsis, and septic shock. However, there may be other ICD codes that are indirectly related to sepsis. For example, certain types of infections or organ dysfunctions might be associated with sepsis.\n",
      "\n",
      "One way to find out which ICD codes are related to sepsis is to look up each code in the ICD-9-CM manual or an online ICD-9-CM database. This can be time-consuming if you have a lot of codes.\n",
      "\n",
      "Another way is to use a mapping file that maps ICD codes to clinical conditions. For example, the Healthcare Cost and Utilization Project (HCUP) provides a set of tools called Clinical Classifications Software (CCS) that groups ICD codes into clinically meaningful categories. You could use the CCS for ICD-9-CM to find out which of your ICD codes are related to sepsis.\n",
      "\n",
      "Here's some Python code that counts the number of unique ICD codes in your dataframe that are directly related to sepsis:\n",
      "\n",
      "This will give you the number of unique ICD codes in your dataframe that are directly related to sepsis. If you want to find out which ICD codes are indirectly related to sepsis, you'll need to use a mapping file or a tool like the CCS for ICD-9-CM.\n"
     ]
    }
   ],
   "source": [
    "%%mimicPython\n",
    "\n",
    "Thats a lot! How many of these are affiliated with sepsis?! How can we tell?"
   ]
  },
  {
   "cell_type": "code",
   "execution_count": 34,
   "id": "0d992873-59e8-4246-94e4-dc076662904a",
   "metadata": {},
   "outputs": [
    {
     "name": "stdout",
     "output_type": "stream",
     "text": [
      "3\n"
     ]
    }
   ],
   "source": [
    "##AI-generated-code\n",
    "\n",
    "\n",
    "# Define a set of ICD codes that are directly related to sepsis\n",
    "sepsis_icd_codes = {'99591', '99592', '78552'}\n",
    "\n",
    "# Count the number of unique ICD codes in your dataframe that are directly related to sepsis\n",
    "num_sepsis_icd_codes = len([code for code in unique_icd_codes if code in sepsis_icd_codes])\n",
    "\n",
    "print(num_sepsis_icd_codes)"
   ]
  },
  {
   "cell_type": "code",
   "execution_count": 36,
   "id": "4ff8c341-f14a-46a9-b5b0-abebe57278c8",
   "metadata": {
    "ChapyterCell": {
     "cellType": "original"
    }
   },
   "outputs": [
    {
     "name": "stdout",
     "output_type": "stream",
     "text": [
      "Yes, there are other ways to identify sepsis patients in the MIMIC-III database without using ICD-9 codes. \n",
      "\n",
      "One approach is to use the clinical criteria for sepsis. According to the Sepsis-3 definition, sepsis is characterized by a suspected or confirmed infection and an acute increase of ≥ 2 SOFA (Sequential Organ Failure Assessment) points. The SOFA score can be calculated using data from the `chartevents` table (for vital signs and other clinical measurements), the `labevents` table (for laboratory test results), and the `prescriptions` table (for medications indicating treatment for infection).\n",
      "\n",
      "Another approach is to use the `microbiologyevents` table, which contains data on microbiology tests and their results. Patients with positive culture results might have an infection, which is a key component of sepsis.\n",
      "\n",
      "Here's an example of a SQL query that retrieves data on patients who have a suspected infection based on the `microbiologyevents` table:\n",
      "\n",
      "Please note that these methods are not perfect and might not capture all sepsis patients. The most accurate way to identify sepsis patients would be a combination of clinical criteria, ICD codes, and microbiology results.\n"
     ]
    }
   ],
   "source": [
    "%%mimicSQL --notebook_name Hou-sepsis-paper.ipynb\n",
    "\n",
    "Is there anyway to get data on sepsis patients from MIMIC-III without using the ICD-9 codes? Any other table or columns you think might be useful?"
   ]
  },
  {
   "cell_type": "code",
   "execution_count": 37,
   "id": "59cae98a-2d52-4959-b6d8-1faed4e83184",
   "metadata": {},
   "outputs": [
    {
     "data": {
      "text/html": [
       "<div>\n",
       "<style scoped>\n",
       "    .dataframe tbody tr th:only-of-type {\n",
       "        vertical-align: middle;\n",
       "    }\n",
       "\n",
       "    .dataframe tbody tr th {\n",
       "        vertical-align: top;\n",
       "    }\n",
       "\n",
       "    .dataframe thead th {\n",
       "        text-align: right;\n",
       "    }\n",
       "</style>\n",
       "<table border=\"1\" class=\"dataframe\">\n",
       "  <thead>\n",
       "    <tr style=\"text-align: right;\">\n",
       "      <th></th>\n",
       "      <th>subject_id</th>\n",
       "    </tr>\n",
       "  </thead>\n",
       "  <tbody>\n",
       "    <tr>\n",
       "      <th>0</th>\n",
       "      <td>96</td>\n",
       "    </tr>\n",
       "    <tr>\n",
       "      <th>1</th>\n",
       "      <td>101</td>\n",
       "    </tr>\n",
       "    <tr>\n",
       "      <th>2</th>\n",
       "      <td>105</td>\n",
       "    </tr>\n",
       "    <tr>\n",
       "      <th>3</th>\n",
       "      <td>106</td>\n",
       "    </tr>\n",
       "    <tr>\n",
       "      <th>4</th>\n",
       "      <td>106</td>\n",
       "    </tr>\n",
       "  </tbody>\n",
       "</table>\n",
       "</div>"
      ],
      "text/plain": [
       "  subject_id\n",
       "0         96\n",
       "1        101\n",
       "2        105\n",
       "3        106\n",
       "4        106"
      ]
     },
     "metadata": {},
     "output_type": "display_data"
    }
   ],
   "source": [
    "%%runSQL --notebook_name Hou-sepsis-paper.ipynb\n",
    "\n",
    "\n",
    "SELECT subject_id\n",
    "FROM microbiologyevents\n",
    "WHERE org_name IS NOT NULL\n"
   ]
  },
  {
   "cell_type": "code",
   "execution_count": 38,
   "id": "7c59afa0-9c4e-4803-a296-47309e316f7a",
   "metadata": {},
   "outputs": [
    {
     "name": "stdout",
     "output_type": "stream",
     "text": [
      "(327688, 1)\n"
     ]
    }
   ],
   "source": [
    "print(df.shape)"
   ]
  },
  {
   "cell_type": "code",
   "execution_count": 39,
   "id": "1a0040f9-9857-4ea9-b058-eaf3f5625ca1",
   "metadata": {},
   "outputs": [
    {
     "name": "stderr",
     "output_type": "stream",
     "text": [
      "/var/folders/jr/pzgvyjp95jdfzl0rzmg25j280000gn/T/ipykernel_2307/599611144.py:1: DeprecationWarning: Importing display from IPython.core.display is deprecated since IPython 7.14, please import from IPython display\n",
      "  from IPython.core.display import display, HTML\n"
     ]
    },
    {
     "data": {
      "text/html": [
       "\n",
       "<script>\n",
       "function changeCellColor(cellIdx, color) {\n",
       "    var cells = Jupyter.notebook.get_cells();\n",
       "    var cellElement = cells[cellIdx].element[0];\n",
       "    cellElement.style.backgroundColor = color;\n",
       "}\n",
       "// Change the background color of the next cell (assuming the current cell index is known)\n",
       "changeCellColor(currentCellIdx + 1, 'yellow');\n",
       "</script>\n"
      ],
      "text/plain": [
       "<IPython.core.display.HTML object>"
      ]
     },
     "metadata": {},
     "output_type": "display_data"
    }
   ],
   "source": [
    "from IPython.core.display import display, HTML\n",
    "\n",
    "# Define JavaScript code to change the background color of a cell\n",
    "js_code = \"\"\"\n",
    "<script>\n",
    "function changeCellColor(cellIdx, color) {\n",
    "    var cells = Jupyter.notebook.get_cells();\n",
    "    var cellElement = cells[cellIdx].element[0];\n",
    "    cellElement.style.backgroundColor = color;\n",
    "}\n",
    "// Change the background color of the next cell (assuming the current cell index is known)\n",
    "changeCellColor(39, 'yellow');\n",
    "</script>\n",
    "\"\"\"\n",
    "\n",
    "# Display the JavaScript code\n",
    "display(HTML(js_code))"
   ]
  },
  {
   "cell_type": "code",
   "execution_count": 40,
   "id": "66e6f740-93ce-4c4a-9706-46a41896f525",
   "metadata": {},
   "outputs": [
    {
     "name": "stderr",
     "output_type": "stream",
     "text": [
      "/var/folders/jr/pzgvyjp95jdfzl0rzmg25j280000gn/T/ipykernel_2307/168940334.py:1: DeprecationWarning: Importing display from IPython.core.display is deprecated since IPython 7.14, please import from IPython display\n",
      "  from IPython.core.display import display, HTML\n"
     ]
    },
    {
     "data": {
      "text/html": [
       "\n",
       "<script>\n",
       "function changeCellColor(cellIdx, color) {\n",
       "    var cells = Jupyter.notebook.get_cells();\n",
       "    var cellElement = cells[cellIdx].element[0];\n",
       "    cellElement.style.backgroundColor = color;\n",
       "}\n",
       "// Change the background color of the next cell (assuming the current cell index is known)\n",
       "changeCellColor(39, 'yellow');\n",
       "</script>\n"
      ],
      "text/plain": [
       "<IPython.core.display.HTML object>"
      ]
     },
     "metadata": {},
     "output_type": "display_data"
    }
   ],
   "source": [
    "from IPython.core.display import display, HTML\n",
    "\n",
    "# Define JavaScript code to change the background color of a cell\n",
    "js_code = \"\"\"\n",
    "<script>\n",
    "function changeCellColor(cellIdx, color) {\n",
    "    var cells = Jupyter.notebook.get_cells();\n",
    "    var cellElement = cells[cellIdx].element[0];\n",
    "    cellElement.style.backgroundColor = color;\n",
    "}\n",
    "// Change the background color of the next cell (assuming the current cell index is known)\n",
    "changeCellColor(39, 'yellow');\n",
    "</script>\n",
    "\"\"\"\n",
    "\n",
    "# Display the JavaScript code\n",
    "display(HTML(js_code))"
   ]
  },
  {
   "cell_type": "code",
   "execution_count": 46,
   "id": "81e70edb-92ce-4d18-b5b0-00df21183f4e",
   "metadata": {},
   "outputs": [],
   "source": [
    "from IPython.display import HTML, display\n",
    "\n",
    "def set_background(color):    \n",
    "    script = (\n",
    "        \"var cell = this.closest('.jp-CodeCell');\"\n",
    "        \"var editor = cell.querySelector('.jp-Editor');\"\n",
    "        \"editor.style.background='{}';\"\n",
    "        \"this.parentNode.removeChild(this)\"\n",
    "    ).format(color)\n",
    "    \n",
    "    display(HTML('<img src onerror=\"{}\" style=\"display:none\">'.format(script)))"
   ]
  },
  {
   "cell_type": "code",
   "execution_count": 54,
   "id": "e03109f1-8b5d-4b10-b7ad-18c5b00c1757",
   "metadata": {},
   "outputs": [
    {
     "data": {
      "text/html": [
       "<img src onerror=\"var cell = this.closest('.jp-CodeCell');var editor = cell.querySelector('.jp-Editor');editor.style.background='rgba(148, 0, 211, 0.15)';this.parentNode.removeChild(this)\" style=\"display:none\">"
      ],
      "text/plain": [
       "<IPython.core.display.HTML object>"
      ]
     },
     "metadata": {},
     "output_type": "display_data"
    }
   ],
   "source": [
    "set_background('rgba(148, 0, 211, 0.15)')"
   ]
  },
  {
   "cell_type": "code",
   "execution_count": null,
   "id": "2ccbcc3a-5892-4ffa-9814-02e394e520ad",
   "metadata": {},
   "outputs": [],
   "source": []
  }
 ],
 "metadata": {
  "kernelspec": {
   "display_name": "Python 3 (ipykernel)",
   "language": "python",
   "name": "python3"
  },
  "language_info": {
   "codemirror_mode": {
    "name": "ipython",
    "version": 3
   },
   "file_extension": ".py",
   "mimetype": "text/x-python",
   "name": "python",
   "nbconvert_exporter": "python",
   "pygments_lexer": "ipython3",
   "version": "3.10.10"
  }
 },
 "nbformat": 4,
 "nbformat_minor": 5
}
