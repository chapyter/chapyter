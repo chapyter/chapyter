{
 "cells": [
  {
   "cell_type": "code",
   "execution_count": null,
   "id": "305f5dfc-d2e5-44eb-b6b5-4850e86274f4",
   "metadata": {
    "editable": true,
    "slideshow": {
     "slide_type": ""
    },
    "tags": []
   },
   "outputs": [],
   "source": [
    "%load_ext autoreload"
   ]
  },
  {
   "cell_type": "code",
   "execution_count": null,
   "id": "35f98b98-8b1f-4ccd-a395-1b5bd6792105",
   "metadata": {},
   "outputs": [],
   "source": [
    "%autoreload 2"
   ]
  },
  {
   "cell_type": "code",
   "execution_count": null,
   "id": "d091328b-6bea-4c73-af5f-3859424c192b",
   "metadata": {},
   "outputs": [],
   "source": [
    "%reload_ext chapyter"
   ]
  },
  {
   "cell_type": "code",
   "execution_count": null,
   "id": "e6080161-8e91-4bfb-a64e-917fc1396524",
   "metadata": {},
   "outputs": [],
   "source": [
    "#theoretically loads openai credentials from my .env file\n",
    "from dotenv import load_dotenv\n",
    "load_dotenv()"
   ]
  },
  {
   "cell_type": "code",
   "execution_count": null,
   "id": "2a23821b-301f-4402-8454-a0b74f531328",
   "metadata": {},
   "outputs": [],
   "source": [
    "import os\n",
    "os.environ[\"NOTEBOOK_NAME\"] = \"08-sepsis-gender-distribution.ipynb\""
   ]
  },
  {
   "cell_type": "code",
   "execution_count": null,
   "id": "f53ffd22-19ba-4df5-b8a2-6525907b49e6",
   "metadata": {
    "ChapyterCell": {
     "cellType": "original"
    }
   },
   "outputs": [],
   "source": [
    "%%mimicSQL --notebook_name 08-sepsis-gender-distribution.ipynb\n",
    "\n",
    "Retrieve all data from PATIENTS table where patients have “sepsis,” “severe sepsis,” or “septic shock”. Explain what you're doing."
   ]
  },
  {
   "cell_type": "code",
   "execution_count": null,
   "id": "360bbe9b-8875-4093-b3ac-3c5debb47510",
   "metadata": {
    "ChapyterCell": {
     "cellType": "original"
    }
   },
   "outputs": [],
   "source": [
    "%%mimicPython\n",
    "\n",
    "Why is the sky blue?"
   ]
  },
  {
   "cell_type": "code",
   "execution_count": null,
   "id": "af93ae1d-0b72-47e0-ba95-0e4f360e341f",
   "metadata": {
    "ChapyterCell": {
     "cellType": "original",
     "linkedCellId": "c00691b3-318c-427a-b560-ed7114d4a8e1"
    }
   },
   "outputs": [],
   "source": [
    "%%mimicPython\n",
    "\n",
    "How many men and women are there? And how many people total?"
   ]
  },
  {
   "cell_type": "code",
   "execution_count": null,
   "id": "d83a16f5-6e48-4ff1-9be1-e78f457767ab",
   "metadata": {
    "ChapyterCell": {
     "cellType": "original"
    }
   },
   "outputs": [],
   "source": [
    "%%mimicPython\n",
    "\n",
    "What percentage of men died vs. women died?"
   ]
  },
  {
   "cell_type": "code",
   "execution_count": null,
   "id": "75d1d3b8-57bd-4c0f-8e68-a82007f8dd16",
   "metadata": {
    "ChapyterCell": {
     "cellType": "original"
    }
   },
   "outputs": [],
   "source": [
    "%%mimicPython\n",
    "\n",
    "Did more men or women die? Why?"
   ]
  },
  {
   "cell_type": "code",
   "execution_count": null,
   "id": "2450b6a6-2a97-47eb-9ffd-877bf3eb171a",
   "metadata": {},
   "outputs": [],
   "source": []
  },
  {
   "cell_type": "code",
   "execution_count": null,
   "id": "a0318c71-00d5-42ae-83fa-be3deb4d11d4",
   "metadata": {},
   "outputs": [],
   "source": []
  }
 ],
 "metadata": {
  "kernelspec": {
   "display_name": "Python 3 (ipykernel)",
   "language": "python",
   "name": "python3"
  },
  "language_info": {
   "codemirror_mode": {
    "name": "ipython",
    "version": 3
   },
   "file_extension": ".py",
   "mimetype": "text/x-python",
   "name": "python",
   "nbconvert_exporter": "python",
   "pygments_lexer": "ipython3",
   "version": "3.10.10"
  }
 },
 "nbformat": 4,
 "nbformat_minor": 5
}
