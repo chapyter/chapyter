{
 "cells": [
  {
   "cell_type": "code",
   "execution_count": 1,
   "id": "305f5dfc-d2e5-44eb-b6b5-4850e86274f4",
   "metadata": {
    "editable": true,
    "slideshow": {
     "slide_type": ""
    },
    "tags": []
   },
   "outputs": [
    {
     "data": {
      "text/plain": [
       "6134"
      ]
     },
     "execution_count": 1,
     "metadata": {},
     "output_type": "execute_result"
    }
   ],
   "source": [
    "# https://www.ncbi.nlm.nih.gov/pmc/articles/PMC6687414/\n",
    "2677 + 3457"
   ]
  },
  {
   "cell_type": "code",
   "execution_count": 2,
   "id": "0dd73c65-10b2-41c9-9b56-2da33223224d",
   "metadata": {},
   "outputs": [],
   "source": [
    "%load_ext autoreload"
   ]
  },
  {
   "cell_type": "code",
   "execution_count": 3,
   "id": "35f98b98-8b1f-4ccd-a395-1b5bd6792105",
   "metadata": {},
   "outputs": [],
   "source": [
    "%autoreload 2"
   ]
  },
  {
   "cell_type": "code",
   "execution_count": 4,
   "id": "d091328b-6bea-4c73-af5f-3859424c192b",
   "metadata": {},
   "outputs": [
    {
     "name": "stderr",
     "output_type": "stream",
     "text": [
      "2023-09-26 20:21:22.783 WARNING streamlit.runtime.state.session_state_proxy: Session state does not function when running a script without `streamlit run`\n"
     ]
    }
   ],
   "source": [
    "%reload_ext chapyter"
   ]
  },
  {
   "cell_type": "code",
   "execution_count": 5,
   "id": "e6080161-8e91-4bfb-a64e-917fc1396524",
   "metadata": {},
   "outputs": [
    {
     "data": {
      "text/plain": [
       "True"
      ]
     },
     "execution_count": 5,
     "metadata": {},
     "output_type": "execute_result"
    }
   ],
   "source": [
    "#theoretically loads openai credentials from my .env file\n",
    "from dotenv import load_dotenv\n",
    "load_dotenv()"
   ]
  },
  {
   "cell_type": "code",
   "execution_count": 6,
   "id": "2a23821b-301f-4402-8454-a0b74f531328",
   "metadata": {},
   "outputs": [],
   "source": [
    "import os\n",
    "os.environ[\"NOTEBOOK_NAME\"] = \"08-sepsis-gender-distribution.ipynb\""
   ]
  },
  {
   "cell_type": "code",
   "execution_count": 7,
   "id": "f53ffd22-19ba-4df5-b8a2-6525907b49e6",
   "metadata": {
    "ChapyterCell": {
     "cellType": "original"
    }
   },
   "outputs": [
    {
     "name": "stdout",
     "output_type": "stream",
     "text": [
      "To retrieve the data you're asking for, we'll need to join the `patients` table with the `diagnoses_icd` table. The `diagnoses_icd` table contains the ICD-9 codes for each patient's diagnoses. \n",
      "\n",
      "The ICD-9 codes for \"sepsis\", \"severe sepsis\", and \"septic shock\" are 038, 995.92, and 785.52 respectively. However, in the MIMIC-III dataset, the ICD-9 codes are stored without decimals, so we'll use 038, 99592, and 78552.\n",
      "\n",
      "We'll also calculate the patient's age at the time of their first admission. The `patients` table contains the patient's date of birth, and the `admissions` table contains the date of each admission. By subtracting the date of birth from the date of the first admission, we can calculate the patient's age at the time of their first admission.\n",
      "\n",
      "Here is the SQL query:\n",
      "\n",
      "This query will return a table with the patient's ID, gender, date of birth, date of first admission, and age at the time of their first admission. Only patients who have been diagnosed with \"sepsis\", \"severe sepsis\", or \"septic shock\" will be included.\n"
     ]
    }
   ],
   "source": [
    "%%mimicSQL --notebook_name 08-sepsis-gender-distribution.ipynb\n",
    "\n",
    "Retrieve all data from PATIENTS table where patients have “sepsis,” “severe sepsis,” or “septic shock”. Explain what youre doing. Include patient age as a column."
   ]
  },
  {
   "cell_type": "code",
   "execution_count": 8,
   "id": "808af1b7-a74f-407d-800e-4a39c62d123f",
   "metadata": {},
   "outputs": [
    {
     "name": "stdout",
     "output_type": "stream",
     "text": [
      "Query failed! State: FAILED\n",
      "Reason: COLUMN_NOT_FOUND: line 2:45: Column 'year' cannot be resolved or requester is not authorized to access requested resources\n"
     ]
    },
    {
     "ename": "AttributeError",
     "evalue": "'bool' object has no attribute 'head'",
     "output_type": "error",
     "traceback": [
      "\u001b[0;31m---------------------------------------------------------------------------\u001b[0m",
      "\u001b[0;31mAttributeError\u001b[0m                            Traceback (most recent call last)",
      "Cell \u001b[0;32mIn[8], line 1\u001b[0m\n\u001b[0;32m----> 1\u001b[0m \u001b[43mget_ipython\u001b[49m\u001b[43m(\u001b[49m\u001b[43m)\u001b[49m\u001b[38;5;241;43m.\u001b[39;49m\u001b[43mrun_cell_magic\u001b[49m\u001b[43m(\u001b[49m\u001b[38;5;124;43m'\u001b[39;49m\u001b[38;5;124;43mrunSQL\u001b[39;49m\u001b[38;5;124;43m'\u001b[39;49m\u001b[43m,\u001b[49m\u001b[43m \u001b[49m\u001b[38;5;124;43m'\u001b[39;49m\u001b[38;5;124;43m--notebook_name 08-sepsis-gender-distribution.ipynb\u001b[39;49m\u001b[38;5;124;43m'\u001b[39;49m\u001b[43m,\u001b[49m\u001b[43m \u001b[49m\u001b[38;5;124;43m\"\u001b[39;49m\u001b[38;5;130;43;01m\\n\u001b[39;49;00m\u001b[38;5;130;43;01m\\n\u001b[39;49;00m\u001b[38;5;124;43mSELECT p.subject_id, p.gender, p.dob, MIN(a.admittime) as first_admittime,\u001b[39;49m\u001b[38;5;130;43;01m\\n\u001b[39;49;00m\u001b[38;5;124;43m    TIMESTAMP_DIFF(MIN(a.admittime), p.dob, YEAR) as age_at_first_admission\u001b[39;49m\u001b[38;5;130;43;01m\\n\u001b[39;49;00m\u001b[38;5;124;43mFROM patients p\u001b[39;49m\u001b[38;5;130;43;01m\\n\u001b[39;49;00m\u001b[38;5;124;43mJOIN admissions a ON p.subject_id = a.subject_id\u001b[39;49m\u001b[38;5;130;43;01m\\n\u001b[39;49;00m\u001b[38;5;124;43mJOIN diagnoses_icd d ON p.subject_id = d.subject_id\u001b[39;49m\u001b[38;5;130;43;01m\\n\u001b[39;49;00m\u001b[38;5;124;43mWHERE d.icd9_code IN (\u001b[39;49m\u001b[38;5;124;43m'\u001b[39;49m\u001b[38;5;124;43m038\u001b[39;49m\u001b[38;5;124;43m'\u001b[39;49m\u001b[38;5;124;43m, \u001b[39;49m\u001b[38;5;124;43m'\u001b[39;49m\u001b[38;5;124;43m99592\u001b[39;49m\u001b[38;5;124;43m'\u001b[39;49m\u001b[38;5;124;43m, \u001b[39;49m\u001b[38;5;124;43m'\u001b[39;49m\u001b[38;5;124;43m78552\u001b[39;49m\u001b[38;5;124;43m'\u001b[39;49m\u001b[38;5;124;43m)\u001b[39;49m\u001b[38;5;130;43;01m\\n\u001b[39;49;00m\u001b[38;5;124;43mGROUP BY p.subject_id, p.gender, p.dob\u001b[39;49m\u001b[38;5;130;43;01m\\n\u001b[39;49;00m\u001b[38;5;124;43m\"\u001b[39;49m\u001b[43m)\u001b[49m\n",
      "File \u001b[0;32m~/miniconda3/lib/python3.10/site-packages/IPython/core/interactiveshell.py:2478\u001b[0m, in \u001b[0;36mInteractiveShell.run_cell_magic\u001b[0;34m(self, magic_name, line, cell)\u001b[0m\n\u001b[1;32m   2476\u001b[0m \u001b[38;5;28;01mwith\u001b[39;00m \u001b[38;5;28mself\u001b[39m\u001b[38;5;241m.\u001b[39mbuiltin_trap:\n\u001b[1;32m   2477\u001b[0m     args \u001b[38;5;241m=\u001b[39m (magic_arg_s, cell)\n\u001b[0;32m-> 2478\u001b[0m     result \u001b[38;5;241m=\u001b[39m \u001b[43mfn\u001b[49m\u001b[43m(\u001b[49m\u001b[38;5;241;43m*\u001b[39;49m\u001b[43margs\u001b[49m\u001b[43m,\u001b[49m\u001b[43m \u001b[49m\u001b[38;5;241;43m*\u001b[39;49m\u001b[38;5;241;43m*\u001b[39;49m\u001b[43mkwargs\u001b[49m\u001b[43m)\u001b[49m\n\u001b[1;32m   2480\u001b[0m \u001b[38;5;66;03m# The code below prevents the output from being displayed\u001b[39;00m\n\u001b[1;32m   2481\u001b[0m \u001b[38;5;66;03m# when using magics with decodator @output_can_be_silenced\u001b[39;00m\n\u001b[1;32m   2482\u001b[0m \u001b[38;5;66;03m# when the last Python token in the expression is a ';'.\u001b[39;00m\n\u001b[1;32m   2483\u001b[0m \u001b[38;5;28;01mif\u001b[39;00m \u001b[38;5;28mgetattr\u001b[39m(fn, magic\u001b[38;5;241m.\u001b[39mMAGIC_OUTPUT_CAN_BE_SILENCED, \u001b[38;5;28;01mFalse\u001b[39;00m):\n",
      "File \u001b[0;32m~/Documents/startup/mocha/code/sept25/chapyterMed/chapyter/magic.py:771\u001b[0m, in \u001b[0;36mChapyter.runSQL\u001b[0;34m(self, line, cell)\u001b[0m\n\u001b[1;32m    768\u001b[0m execution_id \u001b[38;5;241m=\u001b[39m \u001b[38;5;28mself\u001b[39m\u001b[38;5;241m.\u001b[39mshell\u001b[38;5;241m.\u001b[39mexecution_count\n\u001b[1;32m    770\u001b[0m df, sql_query \u001b[38;5;241m=\u001b[39m sql_query_to_athena_df(current_message)\n\u001b[0;32m--> 771\u001b[0m display(\u001b[43mdf\u001b[49m\u001b[38;5;241;43m.\u001b[39;49m\u001b[43mhead\u001b[49m(\u001b[38;5;241m5\u001b[39m))\n\u001b[1;32m    772\u001b[0m \u001b[38;5;28mself\u001b[39m\u001b[38;5;241m.\u001b[39mshell\u001b[38;5;241m.\u001b[39muser_ns[\u001b[38;5;124m'\u001b[39m\u001b[38;5;124mdf\u001b[39m\u001b[38;5;124m'\u001b[39m] \u001b[38;5;241m=\u001b[39m df\n\u001b[1;32m    774\u001b[0m first_two_rows_str \u001b[38;5;241m=\u001b[39m df\u001b[38;5;241m.\u001b[39mhead(\u001b[38;5;241m2\u001b[39m)\u001b[38;5;241m.\u001b[39mto_string()\n",
      "\u001b[0;31mAttributeError\u001b[0m: 'bool' object has no attribute 'head'"
     ]
    }
   ],
   "source": [
    "%%runSQL --notebook_name 08-sepsis-gender-distribution.ipynb\n",
    "\n",
    "\n",
    "SELECT p.subject_id, p.gender, p.dob, MIN(a.admittime) as first_admittime,\n",
    "    TIMESTAMP_DIFF(MIN(a.admittime), p.dob, YEAR) as age_at_first_admission\n",
    "FROM patients p\n",
    "JOIN admissions a ON p.subject_id = a.subject_id\n",
    "JOIN diagnoses_icd d ON p.subject_id = d.subject_id\n",
    "WHERE d.icd9_code IN ('038', '99592', '78552')\n",
    "GROUP BY p.subject_id, p.gender, p.dob\n"
   ]
  },
  {
   "cell_type": "code",
   "execution_count": 9,
   "id": "2088e032-6a3c-46f3-b949-c18c49c319e7",
   "metadata": {
    "ChapyterCell": {
     "cellType": "original"
    }
   },
   "outputs": [
    {
     "name": "stdout",
     "output_type": "stream",
     "text": [
      "The error message indicates that the column 'year' cannot be resolved. This is because the TIMESTAMP_DIFF function you're trying to use does not exist in SQL. \n",
      "\n",
      "In SQL, you can calculate the difference between two dates in years by subtracting the year of the first date from the year of the second date. However, this will not account for the difference in months and days between the two dates. \n",
      "\n",
      "To get the age at the time of first admission, you can extract the year from the dates and subtract them. If the admission date is earlier in the year than the birth date, you'll need to subtract an additional year.\n",
      "\n",
      "Here is the corrected SQL query:\n",
      "\n",
      "This query will return the same columns as before, but now the age at the time of first admission will be calculated correctly.\n"
     ]
    }
   ],
   "source": [
    "%%mimicSQL --notebook_name 08-sepsis-gender-distribution.ipynb\n",
    "\n",
    "Why did that last query fail?"
   ]
  },
  {
   "cell_type": "code",
   "execution_count": 10,
   "id": "d39867a2-f42a-4d3f-bf4c-d4caef5d3686",
   "metadata": {},
   "outputs": [
    {
     "data": {
      "text/html": [
       "<div>\n",
       "<style scoped>\n",
       "    .dataframe tbody tr th:only-of-type {\n",
       "        vertical-align: middle;\n",
       "    }\n",
       "\n",
       "    .dataframe tbody tr th {\n",
       "        vertical-align: top;\n",
       "    }\n",
       "\n",
       "    .dataframe thead th {\n",
       "        text-align: right;\n",
       "    }\n",
       "</style>\n",
       "<table border=\"1\" class=\"dataframe\">\n",
       "  <thead>\n",
       "    <tr style=\"text-align: right;\">\n",
       "      <th></th>\n",
       "      <th>subject_id</th>\n",
       "      <th>gender</th>\n",
       "      <th>dob</th>\n",
       "      <th>first_admittime</th>\n",
       "      <th>age_at_first_admission</th>\n",
       "    </tr>\n",
       "  </thead>\n",
       "  <tbody>\n",
       "    <tr>\n",
       "      <th>0</th>\n",
       "      <td>711</td>\n",
       "      <td>M</td>\n",
       "      <td>2100-03-06 00:00:00.000</td>\n",
       "      <td>2184-05-04 15:13:00.000</td>\n",
       "      <td>84</td>\n",
       "    </tr>\n",
       "    <tr>\n",
       "      <th>1</th>\n",
       "      <td>781</td>\n",
       "      <td>F</td>\n",
       "      <td>2041-08-18 00:00:00.000</td>\n",
       "      <td>2117-08-17 07:15:00.000</td>\n",
       "      <td>75</td>\n",
       "    </tr>\n",
       "    <tr>\n",
       "      <th>2</th>\n",
       "      <td>822</td>\n",
       "      <td>M</td>\n",
       "      <td>2145-10-30 00:00:00.000</td>\n",
       "      <td>2174-07-19 08:04:00.000</td>\n",
       "      <td>28</td>\n",
       "    </tr>\n",
       "    <tr>\n",
       "      <th>3</th>\n",
       "      <td>124</td>\n",
       "      <td>M</td>\n",
       "      <td>2090-11-19 00:00:00.000</td>\n",
       "      <td>2160-06-24 21:25:00.000</td>\n",
       "      <td>69</td>\n",
       "    </tr>\n",
       "    <tr>\n",
       "      <th>4</th>\n",
       "      <td>191</td>\n",
       "      <td>M</td>\n",
       "      <td>2123-02-12 00:00:00.000</td>\n",
       "      <td>2191-12-30 16:34:00.000</td>\n",
       "      <td>68</td>\n",
       "    </tr>\n",
       "  </tbody>\n",
       "</table>\n",
       "</div>"
      ],
      "text/plain": [
       "  subject_id gender                      dob          first_admittime  \\\n",
       "0        711      M  2100-03-06 00:00:00.000  2184-05-04 15:13:00.000   \n",
       "1        781      F  2041-08-18 00:00:00.000  2117-08-17 07:15:00.000   \n",
       "2        822      M  2145-10-30 00:00:00.000  2174-07-19 08:04:00.000   \n",
       "3        124      M  2090-11-19 00:00:00.000  2160-06-24 21:25:00.000   \n",
       "4        191      M  2123-02-12 00:00:00.000  2191-12-30 16:34:00.000   \n",
       "\n",
       "  age_at_first_admission  \n",
       "0                     84  \n",
       "1                     75  \n",
       "2                     28  \n",
       "3                     69  \n",
       "4                     68  "
      ]
     },
     "metadata": {},
     "output_type": "display_data"
    }
   ],
   "source": [
    "%%runSQL --notebook_name 08-sepsis-gender-distribution.ipynb\n",
    "\n",
    "\n",
    "SELECT p.subject_id, p.gender, p.dob, MIN(a.admittime) as first_admittime,\n",
    "    EXTRACT(YEAR FROM MIN(a.admittime)) - EXTRACT(YEAR FROM p.dob) - \n",
    "    CASE \n",
    "        WHEN EXTRACT(MONTH FROM MIN(a.admittime)) < EXTRACT(MONTH FROM p.dob) OR \n",
    "            (EXTRACT(MONTH FROM MIN(a.admittime)) = EXTRACT(MONTH FROM p.dob) AND \n",
    "            EXTRACT(DAY FROM MIN(a.admittime)) < EXTRACT(DAY FROM p.dob)) THEN 1 \n",
    "        ELSE 0 \n",
    "    END as age_at_first_admission\n",
    "FROM patients p\n",
    "JOIN admissions a ON p.subject_id = a.subject_id\n",
    "JOIN diagnoses_icd d ON p.subject_id = d.subject_id\n",
    "WHERE d.icd9_code IN ('038', '99592', '78552')\n",
    "GROUP BY p.subject_id, p.gender, p.dob\n"
   ]
  },
  {
   "cell_type": "code",
   "execution_count": null,
   "id": "d7e92964-3eba-44de-8634-dd3d394dad3c",
   "metadata": {},
   "outputs": [],
   "source": []
  },
  {
   "cell_type": "code",
   "execution_count": 11,
   "id": "81997a35-5344-4d55-be6c-2bd55aba564d",
   "metadata": {},
   "outputs": [
    {
     "name": "stdout",
     "output_type": "stream",
     "text": [
      "(3710, 5)\n"
     ]
    }
   ],
   "source": [
    "print(df.shape)"
   ]
  },
  {
   "cell_type": "code",
   "execution_count": 28,
   "id": "1e62f708-f677-4840-b181-7b2800f1e072",
   "metadata": {
    "ChapyterCell": {
     "cellType": "original"
    }
   },
   "outputs": [
    {
     "name": "stdout",
     "output_type": "stream",
     "text": [
      "The discrepancy in the number of patients could be due to the specific ICD-9 codes used to identify sepsis, severe sepsis, and septic shock. Different studies may use different sets of ICD-9 codes to identify these conditions. \n",
      "\n",
      "In the MIMIC-III dataset, the ICD-9 codes are stored without decimals, so we used 038, 99592, and 78552. However, there are other ICD-9 codes that could also indicate sepsis, severe sepsis, or septic shock. For example, the ICD-9 code 99591 is for \"Sepsis\", and the codes 67020 and 67022 are for \"Major puerperal infection\", which is a type of sepsis that can occur after childbirth.\n",
      "\n",
      "If you have access to the ICD-9 codes used in the study you're trying to reproduce, you could modify the query to include those codes. If not, you could try including additional ICD-9 codes that are commonly associated with sepsis, severe sepsis, or septic shock.\n",
      "\n",
      "Here is an example of how you could modify the query to include the additional ICD-9 codes mentioned above:\n",
      "\n",
      "This query will return the same columns as before, but it will include patients who have been diagnosed with any of the ICD-9 codes in the list.\n"
     ]
    }
   ],
   "source": [
    "%%mimicSQL --notebook_name 08-sepsis-gender-distribution.ipynb\n",
    "\n",
    "That last query returned a table with only ~3700 patients. I was expecting something closer to 6100 patients. I still only want sepsis patients though. Any ideas how I can get those additional patients? I'm trying to reproduce someone elses work"
   ]
  },
  {
   "cell_type": "code",
   "execution_count": 29,
   "id": "d0107a47-5af1-4e64-ae1e-09d3e7740335",
   "metadata": {},
   "outputs": [
    {
     "data": {
      "text/html": [
       "<div>\n",
       "<style scoped>\n",
       "    .dataframe tbody tr th:only-of-type {\n",
       "        vertical-align: middle;\n",
       "    }\n",
       "\n",
       "    .dataframe tbody tr th {\n",
       "        vertical-align: top;\n",
       "    }\n",
       "\n",
       "    .dataframe thead th {\n",
       "        text-align: right;\n",
       "    }\n",
       "</style>\n",
       "<table border=\"1\" class=\"dataframe\">\n",
       "  <thead>\n",
       "    <tr style=\"text-align: right;\">\n",
       "      <th></th>\n",
       "      <th>subject_id</th>\n",
       "      <th>gender</th>\n",
       "      <th>dob</th>\n",
       "      <th>first_admittime</th>\n",
       "      <th>age_at_first_admission</th>\n",
       "    </tr>\n",
       "  </thead>\n",
       "  <tbody>\n",
       "    <tr>\n",
       "      <th>0</th>\n",
       "      <td>269</td>\n",
       "      <td>M</td>\n",
       "      <td>2130-09-30 00:00:00.000</td>\n",
       "      <td>2170-11-05 11:04:00.000</td>\n",
       "      <td>40</td>\n",
       "    </tr>\n",
       "    <tr>\n",
       "      <th>1</th>\n",
       "      <td>736</td>\n",
       "      <td>F</td>\n",
       "      <td>2083-09-14 00:00:00.000</td>\n",
       "      <td>2118-09-19 00:37:00.000</td>\n",
       "      <td>35</td>\n",
       "    </tr>\n",
       "    <tr>\n",
       "      <th>2</th>\n",
       "      <td>797</td>\n",
       "      <td>M</td>\n",
       "      <td>2096-11-25 00:00:00.000</td>\n",
       "      <td>2139-08-24 22:00:00.000</td>\n",
       "      <td>42</td>\n",
       "    </tr>\n",
       "    <tr>\n",
       "      <th>3</th>\n",
       "      <td>819</td>\n",
       "      <td>M</td>\n",
       "      <td>2045-01-10 00:00:00.000</td>\n",
       "      <td>2116-09-21 01:35:00.000</td>\n",
       "      <td>71</td>\n",
       "    </tr>\n",
       "    <tr>\n",
       "      <th>4</th>\n",
       "      <td>21</td>\n",
       "      <td>M</td>\n",
       "      <td>2047-04-04 00:00:00.000</td>\n",
       "      <td>2134-09-11 12:17:00.000</td>\n",
       "      <td>87</td>\n",
       "    </tr>\n",
       "  </tbody>\n",
       "</table>\n",
       "</div>"
      ],
      "text/plain": [
       "  subject_id gender                      dob          first_admittime  \\\n",
       "0        269      M  2130-09-30 00:00:00.000  2170-11-05 11:04:00.000   \n",
       "1        736      F  2083-09-14 00:00:00.000  2118-09-19 00:37:00.000   \n",
       "2        797      M  2096-11-25 00:00:00.000  2139-08-24 22:00:00.000   \n",
       "3        819      M  2045-01-10 00:00:00.000  2116-09-21 01:35:00.000   \n",
       "4         21      M  2047-04-04 00:00:00.000  2134-09-11 12:17:00.000   \n",
       "\n",
       "  age_at_first_admission  \n",
       "0                     40  \n",
       "1                     35  \n",
       "2                     42  \n",
       "3                     71  \n",
       "4                     87  "
      ]
     },
     "metadata": {},
     "output_type": "display_data"
    }
   ],
   "source": [
    "%%runSQL --notebook_name 08-sepsis-gender-distribution.ipynb\n",
    "\n",
    "\n",
    "SELECT p.subject_id, p.gender, p.dob, MIN(a.admittime) as first_admittime,\n",
    "    EXTRACT(YEAR FROM MIN(a.admittime)) - EXTRACT(YEAR FROM p.dob) - \n",
    "    CASE \n",
    "        WHEN EXTRACT(MONTH FROM MIN(a.admittime)) < EXTRACT(MONTH FROM p.dob) OR \n",
    "            (EXTRACT(MONTH FROM MIN(a.admittime)) = EXTRACT(MONTH FROM p.dob) AND \n",
    "            EXTRACT(DAY FROM MIN(a.admittime)) < EXTRACT(DAY FROM p.dob)) THEN 1 \n",
    "        ELSE 0 \n",
    "    END as age_at_first_admission\n",
    "FROM patients p\n",
    "JOIN admissions a ON p.subject_id = a.subject_id\n",
    "JOIN diagnoses_icd d ON p.subject_id = d.subject_id\n",
    "WHERE d.icd9_code IN ('038', '99592', '78552', '99591', '67020', '67022')\n",
    "GROUP BY p.subject_id, p.gender, p.dob\n"
   ]
  },
  {
   "cell_type": "code",
   "execution_count": 30,
   "id": "ecd3ca22-5422-47b8-a516-553af54edce6",
   "metadata": {},
   "outputs": [
    {
     "name": "stdout",
     "output_type": "stream",
     "text": [
      "(4685, 5)\n"
     ]
    }
   ],
   "source": [
    "print(df.shape)"
   ]
  },
  {
   "cell_type": "code",
   "execution_count": 34,
   "id": "8b6cefe6-0e53-42e9-bad0-8238d2851e29",
   "metadata": {
    "ChapyterCell": {
     "cellType": "original"
    }
   },
   "outputs": [
    {
     "name": "stdout",
     "output_type": "stream",
     "text": [
      "The discrepancy might be due to the fact that sepsis can be coded under various ICD-9 codes, not just the ones we have used so far. \n",
      "\n",
      "In addition to the primary sepsis codes (038, 99591, 99592, 78552), there are also ICD-9 codes for specific types of sepsis, such as those caused by specific bacteria or other organisms. For example, the ICD-9 codes 0031, 0362, 0380-0389, 0545, 7907, 99591, 99592, 78552, 67020, and 67022 all represent different types of sepsis.\n",
      "\n",
      "If you're trying to reproduce a study, it would be best to use the same ICD-9 codes that were used in that study. If those aren't available, you could try including more ICD-9 codes that are associated with sepsis.\n",
      "\n",
      "Here is an example of how you could modify the query to include these additional ICD-9 codes:\n",
      "\n",
      "This query will return the same columns as before, but it will include patients who have been diagnosed with any of the ICD-9 codes in the list.\n"
     ]
    }
   ],
   "source": [
    "%%mimicSQL --notebook_name 08-sepsis-gender-distribution.ipynb\n",
    "\n",
    "Getting closer! 4685. Still missing ~1500 pateitns ... where could they be coming from?"
   ]
  },
  {
   "cell_type": "code",
   "execution_count": 35,
   "id": "cec5ff5d-afb2-4ee3-87c0-80628d85148a",
   "metadata": {},
   "outputs": [
    {
     "data": {
      "text/html": [
       "<div>\n",
       "<style scoped>\n",
       "    .dataframe tbody tr th:only-of-type {\n",
       "        vertical-align: middle;\n",
       "    }\n",
       "\n",
       "    .dataframe tbody tr th {\n",
       "        vertical-align: top;\n",
       "    }\n",
       "\n",
       "    .dataframe thead th {\n",
       "        text-align: right;\n",
       "    }\n",
       "</style>\n",
       "<table border=\"1\" class=\"dataframe\">\n",
       "  <thead>\n",
       "    <tr style=\"text-align: right;\">\n",
       "      <th></th>\n",
       "      <th>subject_id</th>\n",
       "      <th>gender</th>\n",
       "      <th>dob</th>\n",
       "      <th>first_admittime</th>\n",
       "      <th>age_at_first_admission</th>\n",
       "    </tr>\n",
       "  </thead>\n",
       "  <tbody>\n",
       "    <tr>\n",
       "      <th>0</th>\n",
       "      <td>269</td>\n",
       "      <td>M</td>\n",
       "      <td>2130-09-30 00:00:00.000</td>\n",
       "      <td>2170-11-05 11:04:00.000</td>\n",
       "      <td>40</td>\n",
       "    </tr>\n",
       "    <tr>\n",
       "      <th>1</th>\n",
       "      <td>729</td>\n",
       "      <td>F</td>\n",
       "      <td>2066-07-12 00:00:00.000</td>\n",
       "      <td>2129-12-13 22:47:00.000</td>\n",
       "      <td>63</td>\n",
       "    </tr>\n",
       "    <tr>\n",
       "      <th>2</th>\n",
       "      <td>736</td>\n",
       "      <td>F</td>\n",
       "      <td>2083-09-14 00:00:00.000</td>\n",
       "      <td>2118-09-19 00:37:00.000</td>\n",
       "      <td>35</td>\n",
       "    </tr>\n",
       "    <tr>\n",
       "      <th>3</th>\n",
       "      <td>797</td>\n",
       "      <td>M</td>\n",
       "      <td>2096-11-25 00:00:00.000</td>\n",
       "      <td>2139-08-24 22:00:00.000</td>\n",
       "      <td>42</td>\n",
       "    </tr>\n",
       "    <tr>\n",
       "      <th>4</th>\n",
       "      <td>819</td>\n",
       "      <td>M</td>\n",
       "      <td>2045-01-10 00:00:00.000</td>\n",
       "      <td>2116-09-21 01:35:00.000</td>\n",
       "      <td>71</td>\n",
       "    </tr>\n",
       "  </tbody>\n",
       "</table>\n",
       "</div>"
      ],
      "text/plain": [
       "  subject_id gender                      dob          first_admittime  \\\n",
       "0        269      M  2130-09-30 00:00:00.000  2170-11-05 11:04:00.000   \n",
       "1        729      F  2066-07-12 00:00:00.000  2129-12-13 22:47:00.000   \n",
       "2        736      F  2083-09-14 00:00:00.000  2118-09-19 00:37:00.000   \n",
       "3        797      M  2096-11-25 00:00:00.000  2139-08-24 22:00:00.000   \n",
       "4        819      M  2045-01-10 00:00:00.000  2116-09-21 01:35:00.000   \n",
       "\n",
       "  age_at_first_admission  \n",
       "0                     40  \n",
       "1                     63  \n",
       "2                     35  \n",
       "3                     42  \n",
       "4                     71  "
      ]
     },
     "metadata": {},
     "output_type": "display_data"
    }
   ],
   "source": [
    "%%runSQL --notebook_name 08-sepsis-gender-distribution.ipynb\n",
    "\n",
    "\n",
    "SELECT p.subject_id, p.gender, p.dob, MIN(a.admittime) as first_admittime,\n",
    "    EXTRACT(YEAR FROM MIN(a.admittime)) - EXTRACT(YEAR FROM p.dob) - \n",
    "    CASE \n",
    "        WHEN EXTRACT(MONTH FROM MIN(a.admittime)) < EXTRACT(MONTH FROM p.dob) OR \n",
    "            (EXTRACT(MONTH FROM MIN(a.admittime)) = EXTRACT(MONTH FROM p.dob) AND \n",
    "            EXTRACT(DAY FROM MIN(a.admittime)) < EXTRACT(DAY FROM p.dob)) THEN 1 \n",
    "        ELSE 0 \n",
    "    END as age_at_first_admission\n",
    "FROM patients p\n",
    "JOIN admissions a ON p.subject_id = a.subject_id\n",
    "JOIN diagnoses_icd d ON p.subject_id = d.subject_id\n",
    "WHERE d.icd9_code IN ('038', '99592', '78552', '99591', '67020', '67022', '0031', '0362', '0380', '0381', '0382', '0383', '0384', '0388', '0389', '0545', '7907')\n",
    "GROUP BY p.subject_id, p.gender, p.dob\n"
   ]
  },
  {
   "cell_type": "code",
   "execution_count": 36,
   "id": "ca6e9ca2-313c-4092-b156-c909d3f48f9a",
   "metadata": {},
   "outputs": [
    {
     "name": "stdout",
     "output_type": "stream",
     "text": [
      "(6429, 5)\n"
     ]
    }
   ],
   "source": [
    "print(df.shape)"
   ]
  },
  {
   "cell_type": "code",
   "execution_count": 49,
   "id": "14ef15b0-6d4b-47da-a1b9-1b2dd83a17e1",
   "metadata": {
    "ChapyterCell": {
     "cellType": "original"
    }
   },
   "outputs": [
    {
     "name": "stdout",
     "output_type": "stream",
     "text": [
      "To include whether the patient died in the hospital or not, we can add a column from the `admissions` table. The `hospital_expire_flag` column in the `admissions` table indicates whether the patient died in the hospital (1) or not (0).\n",
      "\n",
      "Here is the modified SQL query:\n",
      "\n",
      "This query will return the same columns as before, plus a new column `died_in_hospital` that indicates whether the patient died in the hospital or not.\n"
     ]
    }
   ],
   "source": [
    "%%mimicSQL --notebook_name 08-sepsis-gender-distribution.ipynb\n",
    "\n",
    "Same table, but include if they died in the hospital or not."
   ]
  },
  {
   "cell_type": "code",
   "execution_count": 67,
   "id": "d37f814d-1e97-4824-9c0b-7e1b229acf4a",
   "metadata": {},
   "outputs": [
    {
     "data": {
      "text/html": [
       "<div>\n",
       "<style scoped>\n",
       "    .dataframe tbody tr th:only-of-type {\n",
       "        vertical-align: middle;\n",
       "    }\n",
       "\n",
       "    .dataframe tbody tr th {\n",
       "        vertical-align: top;\n",
       "    }\n",
       "\n",
       "    .dataframe thead th {\n",
       "        text-align: right;\n",
       "    }\n",
       "</style>\n",
       "<table border=\"1\" class=\"dataframe\">\n",
       "  <thead>\n",
       "    <tr style=\"text-align: right;\">\n",
       "      <th></th>\n",
       "      <th>subject_id</th>\n",
       "      <th>gender</th>\n",
       "      <th>dob</th>\n",
       "      <th>first_admittime</th>\n",
       "      <th>age_at_first_admission</th>\n",
       "      <th>died_in_hospital</th>\n",
       "    </tr>\n",
       "  </thead>\n",
       "  <tbody>\n",
       "    <tr>\n",
       "      <th>0</th>\n",
       "      <td>269</td>\n",
       "      <td>M</td>\n",
       "      <td>2130-09-30 00:00:00.000</td>\n",
       "      <td>2170-11-05 11:04:00.000</td>\n",
       "      <td>40</td>\n",
       "      <td>0</td>\n",
       "    </tr>\n",
       "    <tr>\n",
       "      <th>1</th>\n",
       "      <td>729</td>\n",
       "      <td>F</td>\n",
       "      <td>2066-07-12 00:00:00.000</td>\n",
       "      <td>2129-12-13 22:47:00.000</td>\n",
       "      <td>63</td>\n",
       "      <td>1</td>\n",
       "    </tr>\n",
       "    <tr>\n",
       "      <th>2</th>\n",
       "      <td>736</td>\n",
       "      <td>F</td>\n",
       "      <td>2083-09-14 00:00:00.000</td>\n",
       "      <td>2118-09-19 00:37:00.000</td>\n",
       "      <td>35</td>\n",
       "      <td>0</td>\n",
       "    </tr>\n",
       "    <tr>\n",
       "      <th>3</th>\n",
       "      <td>797</td>\n",
       "      <td>M</td>\n",
       "      <td>2096-11-25 00:00:00.000</td>\n",
       "      <td>2139-08-24 22:00:00.000</td>\n",
       "      <td>42</td>\n",
       "      <td>0</td>\n",
       "    </tr>\n",
       "    <tr>\n",
       "      <th>4</th>\n",
       "      <td>819</td>\n",
       "      <td>M</td>\n",
       "      <td>2045-01-10 00:00:00.000</td>\n",
       "      <td>2116-09-21 01:35:00.000</td>\n",
       "      <td>71</td>\n",
       "      <td>1</td>\n",
       "    </tr>\n",
       "  </tbody>\n",
       "</table>\n",
       "</div>"
      ],
      "text/plain": [
       "  subject_id gender                      dob          first_admittime  \\\n",
       "0        269      M  2130-09-30 00:00:00.000  2170-11-05 11:04:00.000   \n",
       "1        729      F  2066-07-12 00:00:00.000  2129-12-13 22:47:00.000   \n",
       "2        736      F  2083-09-14 00:00:00.000  2118-09-19 00:37:00.000   \n",
       "3        797      M  2096-11-25 00:00:00.000  2139-08-24 22:00:00.000   \n",
       "4        819      M  2045-01-10 00:00:00.000  2116-09-21 01:35:00.000   \n",
       "\n",
       "  age_at_first_admission died_in_hospital  \n",
       "0                     40                0  \n",
       "1                     63                1  \n",
       "2                     35                0  \n",
       "3                     42                0  \n",
       "4                     71                1  "
      ]
     },
     "metadata": {},
     "output_type": "display_data"
    }
   ],
   "source": [
    "%%runSQL --notebook_name 08-sepsis-gender-distribution.ipynb\n",
    "\n",
    "\n",
    "SELECT p.subject_id, p.gender, p.dob, MAX(a.admittime) as first_admittime,\n",
    "    EXTRACT(YEAR FROM MIN(a.admittime)) - EXTRACT(YEAR FROM p.dob) - \n",
    "    CASE \n",
    "        WHEN EXTRACT(MONTH FROM MIN(a.admittime)) < EXTRACT(MONTH FROM p.dob) OR \n",
    "            (EXTRACT(MONTH FROM MIN(a.admittime)) = EXTRACT(MONTH FROM p.dob) AND \n",
    "            EXTRACT(DAY FROM MIN(a.admittime)) < EXTRACT(DAY FROM p.dob)) THEN 1 \n",
    "        ELSE 0 \n",
    "    END as age_at_first_admission,\n",
    "    MAX(a.hospital_expire_flag) as died_in_hospital\n",
    "FROM patients p\n",
    "JOIN admissions a ON p.subject_id = a.subject_id\n",
    "JOIN diagnoses_icd d ON p.subject_id = d.subject_id\n",
    "WHERE d.icd9_code IN ('038', '99592', '78552', '99591', '67020', '67022', '0031', '0362', '0380', '0381', '0382', '0383', '0384', '0388', '0389', '0545', '7907')\n",
    "GROUP BY p.subject_id, p.gender, p.dob\n"
   ]
  },
  {
   "cell_type": "code",
   "execution_count": 68,
   "id": "f6de193b-5526-46f0-a44e-8934b20842c8",
   "metadata": {},
   "outputs": [
    {
     "name": "stdout",
     "output_type": "stream",
     "text": [
      "(6429, 6)\n"
     ]
    }
   ],
   "source": [
    "print(df.shape)"
   ]
  },
  {
   "cell_type": "code",
   "execution_count": 90,
   "id": "3c086e1c-53fa-4e5b-8d28-75146a31a06b",
   "metadata": {
    "ChapyterCell": {
     "cellType": "original"
    }
   },
   "outputs": [
    {
     "name": "stdout",
     "output_type": "stream",
     "text": [
      "Yes, we can include those additional columns from the `admissions` table. The `ethnicity`, `marital_status`, `insurance`, `admission_type`, and `admission_location` columns in the `admissions` table contain the information you're asking for.\n",
      "\n",
      "Here is the modified SQL query:\n",
      "\n",
      "This query will return the same columns as before, plus the new columns `ethnicity`, `marital_status`, `insurance`, `admission_type`, and `admission_location`.\n"
     ]
    }
   ],
   "source": [
    "%%mimicSQL --notebook_name 08-sepsis-gender-distribution.ipynb\n",
    "\n",
    "Can we include ethnicity in the above table? And marital status? And insurance? And admission type? And admission location?"
   ]
  },
  {
   "cell_type": "code",
   "execution_count": 101,
   "id": "a53b9d19-0301-4471-b2f4-a3d96c399d9a",
   "metadata": {},
   "outputs": [
    {
     "data": {
      "text/html": [
       "<div>\n",
       "<style scoped>\n",
       "    .dataframe tbody tr th:only-of-type {\n",
       "        vertical-align: middle;\n",
       "    }\n",
       "\n",
       "    .dataframe tbody tr th {\n",
       "        vertical-align: top;\n",
       "    }\n",
       "\n",
       "    .dataframe thead th {\n",
       "        text-align: right;\n",
       "    }\n",
       "</style>\n",
       "<table border=\"1\" class=\"dataframe\">\n",
       "  <thead>\n",
       "    <tr style=\"text-align: right;\">\n",
       "      <th></th>\n",
       "      <th>subject_id</th>\n",
       "      <th>gender</th>\n",
       "      <th>dob</th>\n",
       "      <th>first_admittime</th>\n",
       "      <th>age_at_first_admission</th>\n",
       "      <th>died_in_hospital</th>\n",
       "      <th>ethnicity</th>\n",
       "      <th>marital_status</th>\n",
       "      <th>insurance</th>\n",
       "      <th>admission_type</th>\n",
       "      <th>admission_location</th>\n",
       "    </tr>\n",
       "  </thead>\n",
       "  <tbody>\n",
       "    <tr>\n",
       "      <th>0</th>\n",
       "      <td>668</td>\n",
       "      <td>F</td>\n",
       "      <td>2096-08-18 00:00:00.000</td>\n",
       "      <td>2183-07-01 08:04:00.000</td>\n",
       "      <td>86</td>\n",
       "      <td>0</td>\n",
       "      <td>WHITE</td>\n",
       "      <td>WIDOWED</td>\n",
       "      <td>Medicare</td>\n",
       "      <td>EMERGENCY</td>\n",
       "      <td>EMERGENCY ROOM ADMIT</td>\n",
       "    </tr>\n",
       "    <tr>\n",
       "      <th>1</th>\n",
       "      <td>703</td>\n",
       "      <td>M</td>\n",
       "      <td>2032-03-08 00:00:00.000</td>\n",
       "      <td>2106-08-06 17:09:00.000</td>\n",
       "      <td>72</td>\n",
       "      <td>0</td>\n",
       "      <td>WHITE</td>\n",
       "      <td>MARRIED</td>\n",
       "      <td>Medicare</td>\n",
       "      <td>EMERGENCY</td>\n",
       "      <td>EMERGENCY ROOM ADMIT</td>\n",
       "    </tr>\n",
       "    <tr>\n",
       "      <th>2</th>\n",
       "      <td>788</td>\n",
       "      <td>F</td>\n",
       "      <td>2122-07-19 00:00:00.000</td>\n",
       "      <td>2194-01-13 20:48:00.000</td>\n",
       "      <td>71</td>\n",
       "      <td>0</td>\n",
       "      <td>WHITE</td>\n",
       "      <td>WIDOWED</td>\n",
       "      <td>Medicare</td>\n",
       "      <td>EMERGENCY</td>\n",
       "      <td>EMERGENCY ROOM ADMIT</td>\n",
       "    </tr>\n",
       "    <tr>\n",
       "      <th>3</th>\n",
       "      <td>801</td>\n",
       "      <td>F</td>\n",
       "      <td>2151-02-17 00:00:00.000</td>\n",
       "      <td>2198-07-09 23:22:00.000</td>\n",
       "      <td>46</td>\n",
       "      <td>0</td>\n",
       "      <td>WHITE</td>\n",
       "      <td>MARRIED</td>\n",
       "      <td>Private</td>\n",
       "      <td>EMERGENCY</td>\n",
       "      <td>TRANSFER FROM HOSP/EXTRAM</td>\n",
       "    </tr>\n",
       "    <tr>\n",
       "      <th>4</th>\n",
       "      <td>85</td>\n",
       "      <td>M</td>\n",
       "      <td>2090-09-18 00:00:00.000</td>\n",
       "      <td>2167-07-25 18:49:00.000</td>\n",
       "      <td>71</td>\n",
       "      <td>0</td>\n",
       "      <td>WHITE</td>\n",
       "      <td>MARRIED</td>\n",
       "      <td>Medicare</td>\n",
       "      <td>EMERGENCY</td>\n",
       "      <td>CLINIC REFERRAL/PREMATURE</td>\n",
       "    </tr>\n",
       "  </tbody>\n",
       "</table>\n",
       "</div>"
      ],
      "text/plain": [
       "  subject_id gender                      dob          first_admittime  \\\n",
       "0        668      F  2096-08-18 00:00:00.000  2183-07-01 08:04:00.000   \n",
       "1        703      M  2032-03-08 00:00:00.000  2106-08-06 17:09:00.000   \n",
       "2        788      F  2122-07-19 00:00:00.000  2194-01-13 20:48:00.000   \n",
       "3        801      F  2151-02-17 00:00:00.000  2198-07-09 23:22:00.000   \n",
       "4         85      M  2090-09-18 00:00:00.000  2167-07-25 18:49:00.000   \n",
       "\n",
       "  age_at_first_admission died_in_hospital ethnicity marital_status insurance  \\\n",
       "0                     86                0     WHITE        WIDOWED  Medicare   \n",
       "1                     72                0     WHITE        MARRIED  Medicare   \n",
       "2                     71                0     WHITE        WIDOWED  Medicare   \n",
       "3                     46                0     WHITE        MARRIED   Private   \n",
       "4                     71                0     WHITE        MARRIED  Medicare   \n",
       "\n",
       "  admission_type         admission_location  \n",
       "0      EMERGENCY       EMERGENCY ROOM ADMIT  \n",
       "1      EMERGENCY       EMERGENCY ROOM ADMIT  \n",
       "2      EMERGENCY       EMERGENCY ROOM ADMIT  \n",
       "3      EMERGENCY  TRANSFER FROM HOSP/EXTRAM  \n",
       "4      EMERGENCY  CLINIC REFERRAL/PREMATURE  "
      ]
     },
     "metadata": {},
     "output_type": "display_data"
    }
   ],
   "source": [
    "%%runSQL --notebook_name 08-sepsis-gender-distribution.ipynb\n",
    "\n",
    "\n",
    "SELECT p.subject_id, p.gender, p.dob, MAX(a.admittime) as first_admittime,\n",
    "    EXTRACT(YEAR FROM MIN(a.admittime)) - EXTRACT(YEAR FROM p.dob) - \n",
    "    CASE \n",
    "        WHEN EXTRACT(MONTH FROM MIN(a.admittime)) < EXTRACT(MONTH FROM p.dob) OR \n",
    "            (EXTRACT(MONTH FROM MIN(a.admittime)) = EXTRACT(MONTH FROM p.dob) AND \n",
    "            EXTRACT(DAY FROM MIN(a.admittime)) < EXTRACT(DAY FROM p.dob)) THEN 1 \n",
    "        ELSE 0 \n",
    "    END as age_at_first_admission,\n",
    "    MAX(a.hospital_expire_flag) as died_in_hospital,\n",
    "    MAX(a.ethnicity) as ethnicity,\n",
    "    MAX(a.marital_status) as marital_status,\n",
    "    MAX(a.insurance) as insurance,\n",
    "    MAX(a.admission_type) as admission_type,\n",
    "    MAX(a.admission_location) as admission_location\n",
    "FROM patients p\n",
    "JOIN admissions a ON p.subject_id = a.subject_id\n",
    "JOIN diagnoses_icd d ON p.subject_id = d.subject_id\n",
    "WHERE d.icd9_code IN ('038', '99592', '78552', '99591', '67020', '67022', '0031', '0362', '0380', '0381', '0382', '0383', '0384', '0388', '0389', '0545', '7907')\n",
    "GROUP BY p.subject_id, p.gender, p.dob"
   ]
  },
  {
   "cell_type": "code",
   "execution_count": 92,
   "id": "f44095a3-9e97-41cc-84c5-ed969f7c0897",
   "metadata": {
    "ChapyterCell": {
     "cellType": "original"
    }
   },
   "outputs": [
    {
     "name": "stdout",
     "output_type": "stream",
     "text": [
      "The `MAX` function was used because we are grouping by `subject_id`, `gender`, and `dob`, but we also want to include other columns that are not included in the `GROUP BY` clause. In SQL, when you use `GROUP BY`, you can only select columns that are included in the `GROUP BY` clause or columns that are used with an aggregate function like `MAX`, `MIN`, `SUM`, `AVG`, etc.\n",
      "\n",
      "In this case, we are interested in the maximum value of these columns for each group of `subject_id`, `gender`, and `dob`. This is because a patient could have multiple admissions, and we want to get the most recent value for these columns. \n",
      "\n",
      "However, if these columns have the same value for all admissions of a patient, `MAX` will simply return that value. If the values are different, `MAX` will return the maximum value, which might not always be the most meaningful result. \n",
      "\n",
      "If you want to get the value from the first or last admission of each patient, you would need to use a different approach, such as using a subquery to first sort the admissions for each patient by `admittime` and then selecting the first or last row for each patient.\n"
     ]
    }
   ],
   "source": [
    "%%mimicSQL --notebook_name 08-sepsis-gender-distribution.ipynb\n",
    "\n",
    "Why did you include MAX for all those other attributes?"
   ]
  },
  {
   "cell_type": "code",
   "execution_count": 99,
   "id": "20be11db-dbe7-4289-96fa-624e4d2b0d7a",
   "metadata": {
    "ChapyterCell": {
     "cellType": "original"
    }
   },
   "outputs": [
    {
     "name": "stdout",
     "output_type": "stream",
     "text": [
      "To get the counts of each type of admission for men, we can filter the dataframe for rows where `gender` is 'M', and then use the `value_counts` function on the `admission_type` column. Here is the Python code to do this:\n",
      "\n",
      "This will print the counts of each type of admission for men. Please note that the categories you mentioned (Referral, Emergency, Transfer, SOFA, SAPS) should match the values in the `admission_type` column of the dataframe. If they don't match exactly, you might need to map the values in the dataframe to the categories you're interested in.\n"
     ]
    }
   ],
   "source": [
    "%%mimicPython\n",
    "\n",
    "For men, I want to understand the number/counts of each type of admission. The categories are Referral, Emergency, Transfer, SOFA, SAPS."
   ]
  },
  {
   "cell_type": "code",
   "execution_count": 102,
   "id": "7a49232f-3338-4d22-8abb-8078487f6454",
   "metadata": {},
   "outputs": [
    {
     "name": "stdout",
     "output_type": "stream",
     "text": [
      "admission_type\n",
      "EMERGENCY    3140\n",
      "ELECTIVE      399\n",
      "URGENT         62\n",
      "NEWBORN        18\n",
      "Name: count, dtype: int64\n"
     ]
    }
   ],
   "source": [
    "##AI-generated-code\n",
    "\n",
    "\n",
    "men_admission_counts = df[df['gender'] == 'M']['admission_type'].value_counts()\n",
    "print(men_admission_counts)\n"
   ]
  },
  {
   "cell_type": "code",
   "execution_count": 88,
   "id": "2e6f35e3-1d13-499b-bbe5-e5218f228127",
   "metadata": {},
   "outputs": [
    {
     "data": {
      "text/html": [
       "<div>\n",
       "<style scoped>\n",
       "    .dataframe tbody tr th:only-of-type {\n",
       "        vertical-align: middle;\n",
       "    }\n",
       "\n",
       "    .dataframe tbody tr th {\n",
       "        vertical-align: top;\n",
       "    }\n",
       "\n",
       "    .dataframe thead th {\n",
       "        text-align: right;\n",
       "    }\n",
       "</style>\n",
       "<table border=\"1\" class=\"dataframe\">\n",
       "  <thead>\n",
       "    <tr style=\"text-align: right;\">\n",
       "      <th></th>\n",
       "      <th>subject_id</th>\n",
       "      <th>gender</th>\n",
       "      <th>dob</th>\n",
       "      <th>first_admittime</th>\n",
       "      <th>age_at_first_admission</th>\n",
       "      <th>died_in_hospital</th>\n",
       "      <th>ethnicity</th>\n",
       "      <th>marital_status</th>\n",
       "    </tr>\n",
       "  </thead>\n",
       "  <tbody>\n",
       "    <tr>\n",
       "      <th>0</th>\n",
       "      <td>268</td>\n",
       "      <td>F</td>\n",
       "      <td>2132-02-21 00:00:00.000</td>\n",
       "      <td>2198-02-11 13:40:00.000</td>\n",
       "      <td>65</td>\n",
       "      <td>1</td>\n",
       "      <td>HISPANIC OR LATINO</td>\n",
       "      <td>SEPARATED</td>\n",
       "    </tr>\n",
       "    <tr>\n",
       "      <th>1</th>\n",
       "      <td>668</td>\n",
       "      <td>F</td>\n",
       "      <td>2096-08-18 00:00:00.000</td>\n",
       "      <td>2183-07-01 08:04:00.000</td>\n",
       "      <td>86</td>\n",
       "      <td>0</td>\n",
       "      <td>WHITE</td>\n",
       "      <td>WIDOWED</td>\n",
       "    </tr>\n",
       "    <tr>\n",
       "      <th>2</th>\n",
       "      <td>689</td>\n",
       "      <td>F</td>\n",
       "      <td>2128-12-27 00:00:00.000</td>\n",
       "      <td>2185-05-20 15:31:00.000</td>\n",
       "      <td>51</td>\n",
       "      <td>0</td>\n",
       "      <td>BLACK/AFRICAN AMERICAN</td>\n",
       "      <td>WIDOWED</td>\n",
       "    </tr>\n",
       "    <tr>\n",
       "      <th>3</th>\n",
       "      <td>703</td>\n",
       "      <td>M</td>\n",
       "      <td>2032-03-08 00:00:00.000</td>\n",
       "      <td>2106-08-06 17:09:00.000</td>\n",
       "      <td>72</td>\n",
       "      <td>0</td>\n",
       "      <td>WHITE</td>\n",
       "      <td>MARRIED</td>\n",
       "    </tr>\n",
       "    <tr>\n",
       "      <th>4</th>\n",
       "      <td>755</td>\n",
       "      <td>F</td>\n",
       "      <td>2127-04-25 00:00:00.000</td>\n",
       "      <td>2199-01-01 07:15:00.000</td>\n",
       "      <td>70</td>\n",
       "      <td>0</td>\n",
       "      <td>WHITE</td>\n",
       "      <td>MARRIED</td>\n",
       "    </tr>\n",
       "  </tbody>\n",
       "</table>\n",
       "</div>"
      ],
      "text/plain": [
       "  subject_id gender                      dob          first_admittime  \\\n",
       "0        268      F  2132-02-21 00:00:00.000  2198-02-11 13:40:00.000   \n",
       "1        668      F  2096-08-18 00:00:00.000  2183-07-01 08:04:00.000   \n",
       "2        689      F  2128-12-27 00:00:00.000  2185-05-20 15:31:00.000   \n",
       "3        703      M  2032-03-08 00:00:00.000  2106-08-06 17:09:00.000   \n",
       "4        755      F  2127-04-25 00:00:00.000  2199-01-01 07:15:00.000   \n",
       "\n",
       "  age_at_first_admission died_in_hospital               ethnicity  \\\n",
       "0                     65                1      HISPANIC OR LATINO   \n",
       "1                     86                0                   WHITE   \n",
       "2                     51                0  BLACK/AFRICAN AMERICAN   \n",
       "3                     72                0                   WHITE   \n",
       "4                     70                0                   WHITE   \n",
       "\n",
       "  marital_status  \n",
       "0      SEPARATED  \n",
       "1        WIDOWED  \n",
       "2        WIDOWED  \n",
       "3        MARRIED  \n",
       "4        MARRIED  "
      ]
     },
     "metadata": {},
     "output_type": "display_data"
    }
   ],
   "source": [
    "%%runSQL --notebook_name 08-sepsis-gender-distribution.ipynb\n",
    "\n",
    "\n",
    "SELECT p.subject_id, p.gender, p.dob, MAX(a.admittime) as first_admittime,\n",
    "    EXTRACT(YEAR FROM MIN(a.admittime)) - EXTRACT(YEAR FROM p.dob) - \n",
    "    CASE \n",
    "        WHEN EXTRACT(MONTH FROM MIN(a.admittime)) < EXTRACT(MONTH FROM p.dob) OR \n",
    "            (EXTRACT(MONTH FROM MIN(a.admittime)) = EXTRACT(MONTH FROM p.dob) AND \n",
    "            EXTRACT(DAY FROM MIN(a.admittime)) < EXTRACT(DAY FROM p.dob)) THEN 1 \n",
    "        ELSE 0 \n",
    "    END as age_at_first_admission,\n",
    "    MAX(a.hospital_expire_flag) as died_in_hospital,\n",
    "    a.ethnicity,\n",
    "    a.marital_status\n",
    "FROM patients p\n",
    "JOIN admissions a ON p.subject_id = a.subject_id\n",
    "JOIN diagnoses_icd d ON p.subject_id = d.subject_id\n",
    "WHERE d.icd9_code IN ('038', '99592', '78552', '99591', '67020', '67022', '0031', '0362', '0380', '0381', '0382', '0383', '0384', '0388', '0389', '0545', '7907')\n",
    "GROUP BY p.subject_id, p.gender, p.dob, a.ethnicity, a.marital_status\n"
   ]
  },
  {
   "cell_type": "code",
   "execution_count": 78,
   "id": "7b4d96cd-68cd-48a0-8c7f-77463d7aa6ce",
   "metadata": {
    "ChapyterCell": {
     "cellType": "original"
    }
   },
   "outputs": [
    {
     "name": "stdout",
     "output_type": "stream",
     "text": [
      "To get the percentage breakdown of ethnicity by gender, we can use the `groupby` function in pandas to group the data by gender and ethnicity, and then calculate the size of each group. We can then divide each group size by the total number of patients of each gender to get the percentage.\n",
      "\n",
      "Here is the Python code to do this:\n",
      "\n",
      "To create a double bar plot of the percentages, we can use the `seaborn` library. Here is the Python code to do this:\n",
      "\n",
      "\n"
     ]
    }
   ],
   "source": [
    "%%mimicPython\n",
    "\n",
    "I want to quantitatively know the percentage of each ethnicity as a function of gender. So for each gender, I want an ethnicity percentage breakdown. Also provide to me in form of a double bar plot."
   ]
  },
  {
   "cell_type": "code",
   "execution_count": 85,
   "id": "90229fc2-52e1-4a78-a429-c287e6fd2556",
   "metadata": {
    "ChapyterCell": {
     "cellType": "original"
    }
   },
   "outputs": [
    {
     "name": "stdout",
     "output_type": "stream",
     "text": [
      "To synthesize the data into a smaller table with the specified ethnicities, we can create a new column in the dataframe that maps the original ethnicities to the new categories. We can then group by gender and the new ethnicity column to get the percentage breakdown.\n",
      "\n",
      "Here is the Python code to do this:\n",
      "\n",
      "To create a double bar plot of the percentages, we can use the `seaborn` library. Here is the Python code to do this:\n",
      "\n",
      "\n"
     ]
    }
   ],
   "source": [
    "%%mimicPython\n",
    "\n",
    "Actually, the ethnicities I want to show are WHITE, BLACK, HISPANIC or LATINO, ASIAN, OTHER. Can you synthesize into a smaller table with 10 rows - 2 genders x 5 ethnicity buckets? Print the result, and also provide double bar plot of the percentages."
   ]
  },
  {
   "cell_type": "code",
   "execution_count": 86,
   "id": "2d8716cc-e840-42fc-a68e-5e843541a22d",
   "metadata": {},
   "outputs": [
    {
     "name": "stdout",
     "output_type": "stream",
     "text": [
      "  Gender           Ethnicity  Percentage\n",
      "0      F               ASIAN    0.028421\n",
      "1      F               BLACK    0.116842\n",
      "2      F  HISPANIC OR LATINO    0.026316\n",
      "3      F               OTHER    0.121754\n",
      "4      F               WHITE    0.706667\n",
      "5      M               ASIAN    0.030773\n",
      "6      M               BLACK    0.074619\n",
      "7      M  HISPANIC OR LATINO    0.036765\n",
      "8      M               OTHER    0.129902\n",
      "9      M               WHITE    0.727941\n"
     ]
    }
   ],
   "source": [
    "##AI-generated-code\n",
    "\n",
    "\n",
    "# Define a function to map the original ethnicities to the new categories\n",
    "def map_ethnicity(ethnicity):\n",
    "    if 'WHITE' in ethnicity:\n",
    "        return 'WHITE'\n",
    "    elif 'BLACK' in ethnicity:\n",
    "        return 'BLACK'\n",
    "    elif 'HISPANIC' in ethnicity or 'LATINO' in ethnicity:\n",
    "        return 'HISPANIC OR LATINO'\n",
    "    elif 'ASIAN' in ethnicity:\n",
    "        return 'ASIAN'\n",
    "    else:\n",
    "        return 'OTHER'\n",
    "\n",
    "# Apply the function to the 'ethnicity' column to create the new column\n",
    "df['ethnicity_category'] = df['ethnicity'].apply(map_ethnicity)\n",
    "\n",
    "# Group by gender and the new ethnicity column, and calculate the percentage breakdown\n",
    "ethnicity_breakdown = df.groupby(['gender', 'ethnicity_category']).size() / df.groupby('gender').size()\n",
    "\n",
    "# Reset the index of the dataframe to make 'gender' and 'ethnicity_category' into columns\n",
    "ethnicity_breakdown = ethnicity_breakdown.reset_index()\n",
    "\n",
    "# Rename the columns\n",
    "ethnicity_breakdown.columns = ['Gender', 'Ethnicity', 'Percentage']\n",
    "\n",
    "print(ethnicity_breakdown)\n"
   ]
  },
  {
   "cell_type": "code",
   "execution_count": 66,
   "id": "415c853d-13e5-41c2-99de-3e7a7bfff7d7",
   "metadata": {
    "ChapyterCell": {
     "cellType": "original"
    }
   },
   "outputs": [
    {
     "name": "stdout",
     "output_type": "stream",
     "text": [
      "If you're interested in understanding the gender-dependence of death given a patient entered with sepsis, it would be more appropriate to use MIN(a.admittime) to get the patient's age at their first admission with sepsis. \n",
      "\n",
      "This is because the condition of sepsis at their first admission is likely to be more relevant to their risk of death than the condition at their most recent admission. A patient's condition can change significantly between admissions, and using the most recent admission could potentially introduce bias if the patient's condition worsened or improved in the interim.\n",
      "\n",
      "However, it's important to note that this approach assumes that the risk of death is primarily determined by the patient's condition at their first admission with sepsis, and not by any subsequent changes in their condition. If this assumption is not valid for your study, you might need to consider a different approach, such as using a time-dependent covariate to account for changes in the patient's condition over time.\n"
     ]
    }
   ],
   "source": [
    "%%mimicSQL --notebook_name 08-sepsis-gender-distribution.ipynb\n",
    "\n",
    "For understnading if there is a gender-dependence of death, given you entered with sepsis, would it make sense to choose the max or the min? or something else?"
   ]
  },
  {
   "cell_type": "code",
   "execution_count": 69,
   "id": "f8d98f66-27d7-4f1d-a1c4-983a88f3861e",
   "metadata": {},
   "outputs": [
    {
     "name": "stdout",
     "output_type": "stream",
     "text": [
      "False\n"
     ]
    }
   ],
   "source": [
    "##AI-generated-code\n",
    "\n",
    "\n",
    "duplicate_subject_ids = df.duplicated(subset='subject_id')\n",
    "print(any(duplicate_subject_ids))\n"
   ]
  },
  {
   "cell_type": "code",
   "execution_count": 70,
   "id": "f95de8ea-296f-45f5-af51-d2dca83c6222",
   "metadata": {},
   "outputs": [
    {
     "name": "stdout",
     "output_type": "stream",
     "text": [
      "     subject_id gender                      dob          first_admittime  \\\n",
      "0           269      M  2130-09-30 00:00:00.000  2170-11-05 11:04:00.000   \n",
      "1           729      F  2066-07-12 00:00:00.000  2129-12-13 22:47:00.000   \n",
      "2           736      F  2083-09-14 00:00:00.000  2118-09-19 00:37:00.000   \n",
      "3           797      M  2096-11-25 00:00:00.000  2139-08-24 22:00:00.000   \n",
      "4           819      M  2045-01-10 00:00:00.000  2116-09-21 01:35:00.000   \n",
      "...         ...    ...                      ...                      ...   \n",
      "6424      86199      F  2084-03-29 00:00:00.000  2147-12-08 18:25:00.000   \n",
      "6425      70131      M  2079-04-10 00:00:00.000  2134-06-15 04:59:00.000   \n",
      "6426      70239      M  2052-12-12 00:00:00.000  2133-06-22 03:19:00.000   \n",
      "6427      70259      F  2021-06-12 00:00:00.000  2104-03-24 20:30:00.000   \n",
      "6428      43937      M  2113-03-30 00:00:00.000  2200-08-04 10:58:00.000   \n",
      "\n",
      "      age_at_first_admission died_in_hospital  \n",
      "0                         40                0  \n",
      "1                         63                1  \n",
      "2                         35                0  \n",
      "3                         42                0  \n",
      "4                         71                1  \n",
      "...                      ...              ...  \n",
      "6424                      63                1  \n",
      "6425                      55                0  \n",
      "6426                      80                0  \n",
      "6427                      82                1  \n",
      "6428                      86                1  \n",
      "\n",
      "[6389 rows x 6 columns]\n"
     ]
    }
   ],
   "source": [
    "##AI-generated-code\n",
    "\n",
    "\n",
    "# Convert the age_at_first_admission column to integers\n",
    "df['age_at_first_admission'] = df['age_at_first_admission'].astype(int)\n",
    "\n",
    "# Remove rows where age_at_first_admission is less than 18\n",
    "df = df[df['age_at_first_admission'] >= 18]\n",
    "\n",
    "print(df)\n"
   ]
  },
  {
   "cell_type": "code",
   "execution_count": 71,
   "id": "37435a0f-c2f2-44ee-a3c8-8e8ac7d542da",
   "metadata": {},
   "outputs": [
    {
     "name": "stdout",
     "output_type": "stream",
     "text": [
      "(6389, 6)\n"
     ]
    }
   ],
   "source": [
    "print(df.shape)"
   ]
  },
  {
   "cell_type": "code",
   "execution_count": 58,
   "id": "dc6a32f8-566d-468e-8c11-085d52ab76bf",
   "metadata": {
    "ChapyterCell": {
     "cellType": "original"
    }
   },
   "outputs": [
    {
     "name": "stdout",
     "output_type": "stream",
     "text": [
      "\n"
     ]
    }
   ],
   "source": [
    "%%mimicPython\n",
    "\n",
    "What percentage of males died, and what percentage of females died?"
   ]
  },
  {
   "cell_type": "code",
   "execution_count": 73,
   "id": "069786ce-9cc7-4c6c-be7d-f6f7e6aa9610",
   "metadata": {},
   "outputs": [
    {
     "name": "stdout",
     "output_type": "stream",
     "text": [
      "Percentage of males who died:  33.816155988857936\n",
      "Percentage of females who died:  34.04787424080028\n"
     ]
    }
   ],
   "source": [
    "##AI-generated-code\n",
    "\n",
    "\n",
    "# Convert the died_in_hospital column to integers\n",
    "df['died_in_hospital'] = df['died_in_hospital'].astype(int)\n",
    "\n",
    "# Calculate the percentage of males who died\n",
    "male_death_rate = df[df['gender'] == 'M']['died_in_hospital'].mean() * 100\n",
    "\n",
    "# Calculate the percentage of females who died\n",
    "female_death_rate = df[df['gender'] == 'F']['died_in_hospital'].mean() * 100\n",
    "\n",
    "print(\"Percentage of males who died: \", male_death_rate)\n",
    "print(\"Percentage of females who died: \", female_death_rate)\n"
   ]
  },
  {
   "cell_type": "code",
   "execution_count": 56,
   "id": "21688945-5c9e-45d3-97f4-95087e77ea32",
   "metadata": {
    "ChapyterCell": {
     "cellType": "original"
    }
   },
   "outputs": [
    {
     "name": "stdout",
     "output_type": "stream",
     "text": [
      "To determine if there is a statistically significant difference in the proportion of men and women who die from sepsis, we can perform a Chi-Square test of independence. \n",
      "\n",
      "First, we need to create a contingency table that shows the frequency of men and women who died and survived from sepsis. Then, we can perform the Chi-Square test on this table.\n",
      "\n",
      "Here is the Python code to perform this analysis:\n",
      "\n",
      "The p-value from the Chi-Square test will tell us if there is a statistically significant difference in the proportion of men and women who die from sepsis. If the p-value is less than 0.05, we can reject the null hypothesis that gender and death from sepsis are independent, and conclude that there is a statistically significant difference.\n"
     ]
    }
   ],
   "source": [
    "%%mimicPython\n",
    "\n",
    "I want to say, with statistical proof, that men or women have a higher chance of dying if they have sepsis. Given this table. Help construct a statistical test to make this statement or conclusion."
   ]
  },
  {
   "cell_type": "code",
   "execution_count": 57,
   "id": "273b0ae8-412e-47ef-b072-641d1ccf06a8",
   "metadata": {},
   "outputs": [
    {
     "name": "stdout",
     "output_type": "stream",
     "text": [
      "Chi-Square statistic: 0.024219741034001204\n",
      "P-value: 0.8763270972806476\n",
      "Degrees of freedom: 1\n",
      "Expected contingency table: \n",
      "[[1849.42150571  948.57849429]\n",
      " [2373.57849429 1217.42150571]]\n"
     ]
    }
   ],
   "source": [
    "##AI-generated-code\n",
    "\n",
    "\n",
    "import scipy.stats as stats\n",
    "\n",
    "# Create a contingency table\n",
    "contingency_table = pd.crosstab(df['gender'], df['died_in_hospital'])\n",
    "\n",
    "# Perform the Chi-Square test\n",
    "chi2, p, dof, expected = stats.chi2_contingency(contingency_table)\n",
    "\n",
    "print(f\"Chi-Square statistic: {chi2}\")\n",
    "print(f\"P-value: {p}\")\n",
    "print(f\"Degrees of freedom: {dof}\")\n",
    "print(f\"Expected contingency table: \\n{expected}\")"
   ]
  },
  {
   "cell_type": "code",
   "execution_count": 13,
   "id": "41b7e56f-ec93-4a31-bfb1-406c7c02537b",
   "metadata": {
    "ChapyterCell": {
     "cellType": "original"
    }
   },
   "outputs": [
    {
     "name": "stdout",
     "output_type": "stream",
     "text": [
      "To calculate the percentage of males in each age group, we first need to filter the dataframe to include only males. Then, we can use the `pd.cut` function to divide the ages into bins. Finally, we can calculate the percentage of males in each age group.\n",
      "\n",
      "Here is the Python code to do this:\n",
      "\n",
      "This code will print the percentage of males in each age group. The percentages are calculated based on the total number of males.\n"
     ]
    }
   ],
   "source": [
    "%%mimicPython\n",
    "\n",
    "Lets study only the males. What percentage of males in this group are A) <45 B) 45-64 C) 65-89 D)>90 ? Don't forget the variables are potenitally stored as strings instead of numbers!"
   ]
  },
  {
   "cell_type": "code",
   "execution_count": 16,
   "id": "e07da63b-366c-46ed-b5f5-f8daa9a856f6",
   "metadata": {},
   "outputs": [
    {
     "ename": "TypeError",
     "evalue": "'<' not supported between instances of 'float' and 'str'",
     "output_type": "error",
     "traceback": [
      "\u001b[0;31m---------------------------------------------------------------------------\u001b[0m",
      "\u001b[0;31mTypeError\u001b[0m                                 Traceback (most recent call last)",
      "Cell \u001b[0;32mIn[16], line 14\u001b[0m\n\u001b[1;32m     11\u001b[0m labels \u001b[38;5;241m=\u001b[39m [\u001b[38;5;124m'\u001b[39m\u001b[38;5;124m<45\u001b[39m\u001b[38;5;124m'\u001b[39m, \u001b[38;5;124m'\u001b[39m\u001b[38;5;124m45-64\u001b[39m\u001b[38;5;124m'\u001b[39m, \u001b[38;5;124m'\u001b[39m\u001b[38;5;124m65-89\u001b[39m\u001b[38;5;124m'\u001b[39m, \u001b[38;5;124m'\u001b[39m\u001b[38;5;124m>90\u001b[39m\u001b[38;5;124m'\u001b[39m]\n\u001b[1;32m     13\u001b[0m \u001b[38;5;66;03m# Divide the ages into bins\u001b[39;00m\n\u001b[0;32m---> 14\u001b[0m df_males[\u001b[38;5;124m'\u001b[39m\u001b[38;5;124mage_group\u001b[39m\u001b[38;5;124m'\u001b[39m] \u001b[38;5;241m=\u001b[39m \u001b[43mpd\u001b[49m\u001b[38;5;241;43m.\u001b[39;49m\u001b[43mcut\u001b[49m\u001b[43m(\u001b[49m\u001b[43mdf_males\u001b[49m\u001b[43m[\u001b[49m\u001b[38;5;124;43m'\u001b[39;49m\u001b[38;5;124;43mage_at_first_admission\u001b[39;49m\u001b[38;5;124;43m'\u001b[39;49m\u001b[43m]\u001b[49m\u001b[43m,\u001b[49m\u001b[43m \u001b[49m\u001b[43mbins\u001b[49m\u001b[38;5;241;43m=\u001b[39;49m\u001b[43mbins\u001b[49m\u001b[43m,\u001b[49m\u001b[43m \u001b[49m\u001b[43mlabels\u001b[49m\u001b[38;5;241;43m=\u001b[39;49m\u001b[43mlabels\u001b[49m\u001b[43m)\u001b[49m\n\u001b[1;32m     16\u001b[0m \u001b[38;5;66;03m# Calculate the percentage of males in each age group\u001b[39;00m\n\u001b[1;32m     17\u001b[0m percentage_males \u001b[38;5;241m=\u001b[39m df_males[\u001b[38;5;124m'\u001b[39m\u001b[38;5;124mage_group\u001b[39m\u001b[38;5;124m'\u001b[39m]\u001b[38;5;241m.\u001b[39mvalue_counts(normalize\u001b[38;5;241m=\u001b[39m\u001b[38;5;28;01mTrue\u001b[39;00m) \u001b[38;5;241m*\u001b[39m \u001b[38;5;241m100\u001b[39m\n",
      "File \u001b[0;32m~/miniconda3/lib/python3.10/site-packages/pandas/core/reshape/tile.py:293\u001b[0m, in \u001b[0;36mcut\u001b[0;34m(x, bins, right, labels, retbins, precision, include_lowest, duplicates, ordered)\u001b[0m\n\u001b[1;32m    290\u001b[0m     \u001b[38;5;28;01mif\u001b[39;00m (np\u001b[38;5;241m.\u001b[39mdiff(bins\u001b[38;5;241m.\u001b[39mastype(\u001b[38;5;124m\"\u001b[39m\u001b[38;5;124mfloat64\u001b[39m\u001b[38;5;124m\"\u001b[39m)) \u001b[38;5;241m<\u001b[39m \u001b[38;5;241m0\u001b[39m)\u001b[38;5;241m.\u001b[39many():\n\u001b[1;32m    291\u001b[0m         \u001b[38;5;28;01mraise\u001b[39;00m \u001b[38;5;167;01mValueError\u001b[39;00m(\u001b[38;5;124m\"\u001b[39m\u001b[38;5;124mbins must increase monotonically.\u001b[39m\u001b[38;5;124m\"\u001b[39m)\n\u001b[0;32m--> 293\u001b[0m fac, bins \u001b[38;5;241m=\u001b[39m \u001b[43m_bins_to_cuts\u001b[49m\u001b[43m(\u001b[49m\n\u001b[1;32m    294\u001b[0m \u001b[43m    \u001b[49m\u001b[43mx\u001b[49m\u001b[43m,\u001b[49m\n\u001b[1;32m    295\u001b[0m \u001b[43m    \u001b[49m\u001b[43mbins\u001b[49m\u001b[43m,\u001b[49m\n\u001b[1;32m    296\u001b[0m \u001b[43m    \u001b[49m\u001b[43mright\u001b[49m\u001b[38;5;241;43m=\u001b[39;49m\u001b[43mright\u001b[49m\u001b[43m,\u001b[49m\n\u001b[1;32m    297\u001b[0m \u001b[43m    \u001b[49m\u001b[43mlabels\u001b[49m\u001b[38;5;241;43m=\u001b[39;49m\u001b[43mlabels\u001b[49m\u001b[43m,\u001b[49m\n\u001b[1;32m    298\u001b[0m \u001b[43m    \u001b[49m\u001b[43mprecision\u001b[49m\u001b[38;5;241;43m=\u001b[39;49m\u001b[43mprecision\u001b[49m\u001b[43m,\u001b[49m\n\u001b[1;32m    299\u001b[0m \u001b[43m    \u001b[49m\u001b[43minclude_lowest\u001b[49m\u001b[38;5;241;43m=\u001b[39;49m\u001b[43minclude_lowest\u001b[49m\u001b[43m,\u001b[49m\n\u001b[1;32m    300\u001b[0m \u001b[43m    \u001b[49m\u001b[43mdtype\u001b[49m\u001b[38;5;241;43m=\u001b[39;49m\u001b[43mdtype\u001b[49m\u001b[43m,\u001b[49m\n\u001b[1;32m    301\u001b[0m \u001b[43m    \u001b[49m\u001b[43mduplicates\u001b[49m\u001b[38;5;241;43m=\u001b[39;49m\u001b[43mduplicates\u001b[49m\u001b[43m,\u001b[49m\n\u001b[1;32m    302\u001b[0m \u001b[43m    \u001b[49m\u001b[43mordered\u001b[49m\u001b[38;5;241;43m=\u001b[39;49m\u001b[43mordered\u001b[49m\u001b[43m,\u001b[49m\n\u001b[1;32m    303\u001b[0m \u001b[43m\u001b[49m\u001b[43m)\u001b[49m\n\u001b[1;32m    305\u001b[0m \u001b[38;5;28;01mreturn\u001b[39;00m _postprocess_for_cut(fac, bins, retbins, dtype, original)\n",
      "File \u001b[0;32m~/miniconda3/lib/python3.10/site-packages/pandas/core/reshape/tile.py:428\u001b[0m, in \u001b[0;36m_bins_to_cuts\u001b[0;34m(x, bins, right, labels, precision, include_lowest, dtype, duplicates, ordered)\u001b[0m\n\u001b[1;32m    425\u001b[0m     bins \u001b[38;5;241m=\u001b[39m unique_bins\n\u001b[1;32m    427\u001b[0m side: Literal[\u001b[38;5;124m\"\u001b[39m\u001b[38;5;124mleft\u001b[39m\u001b[38;5;124m\"\u001b[39m, \u001b[38;5;124m\"\u001b[39m\u001b[38;5;124mright\u001b[39m\u001b[38;5;124m\"\u001b[39m] \u001b[38;5;241m=\u001b[39m \u001b[38;5;124m\"\u001b[39m\u001b[38;5;124mleft\u001b[39m\u001b[38;5;124m\"\u001b[39m \u001b[38;5;28;01mif\u001b[39;00m right \u001b[38;5;28;01melse\u001b[39;00m \u001b[38;5;124m\"\u001b[39m\u001b[38;5;124mright\u001b[39m\u001b[38;5;124m\"\u001b[39m\n\u001b[0;32m--> 428\u001b[0m ids \u001b[38;5;241m=\u001b[39m ensure_platform_int(\u001b[43mbins\u001b[49m\u001b[38;5;241;43m.\u001b[39;49m\u001b[43msearchsorted\u001b[49m\u001b[43m(\u001b[49m\u001b[43mx\u001b[49m\u001b[43m,\u001b[49m\u001b[43m \u001b[49m\u001b[43mside\u001b[49m\u001b[38;5;241;43m=\u001b[39;49m\u001b[43mside\u001b[49m\u001b[43m)\u001b[49m)\n\u001b[1;32m    430\u001b[0m \u001b[38;5;28;01mif\u001b[39;00m include_lowest:\n\u001b[1;32m    431\u001b[0m     ids[np\u001b[38;5;241m.\u001b[39masarray(x) \u001b[38;5;241m==\u001b[39m bins[\u001b[38;5;241m0\u001b[39m]] \u001b[38;5;241m=\u001b[39m \u001b[38;5;241m1\u001b[39m\n",
      "\u001b[0;31mTypeError\u001b[0m: '<' not supported between instances of 'float' and 'str'"
     ]
    }
   ],
   "source": [
    "##AI-generated-code\n",
    "import numpy as np\n",
    "import pandas as pd\n",
    "\n",
    "\n",
    "# Filter the dataframe to include only males\n",
    "df_males = df[df['gender'] == 'M']\n",
    "\n",
    "# Define the age bins\n",
    "bins = [0, 45, 65, 90, np.inf]\n",
    "labels = ['<45', '45-64', '65-89', '>90']\n",
    "\n",
    "# Divide the ages into bins\n",
    "df_males['age_group'] = pd.cut(df_males['age_at_first_admission'], bins=bins, labels=labels)\n",
    "\n",
    "# Calculate the percentage of males in each age group\n",
    "percentage_males = df_males['age_group'].value_counts(normalize=True) * 100\n",
    "\n",
    "print(percentage_males)\n"
   ]
  },
  {
   "cell_type": "code",
   "execution_count": 18,
   "id": "9c971097-ad33-4a98-b9ce-89c26cccbbff",
   "metadata": {
    "ChapyterCell": {
     "cellType": "original"
    }
   },
   "outputs": [
    {
     "name": "stdout",
     "output_type": "stream",
     "text": [
      "The error might be due to the fact that the 'age_at_first_admission' column is not in the correct data type. It might be stored as a string, so we need to convert it to numeric before performing the operation. Also, when modifying a dataframe, it's a good practice to use the `.loc` or `.iloc` function to avoid SettingWithCopyWarning in pandas.\n",
      "\n",
      "Here is the corrected Python code:\n",
      "\n",
      "This code will print the percentage of males in each age group. The percentages are calculated based on the total number of males.\n"
     ]
    }
   ],
   "source": [
    "%%mimicPython\n",
    "\n",
    "That last set of code didn't work. Do you know why? Give me the right code!\n"
   ]
  },
  {
   "cell_type": "code",
   "execution_count": 44,
   "id": "20fafb91-e923-4160-bf29-1edeccc45df3",
   "metadata": {},
   "outputs": [
    {
     "name": "stdout",
     "output_type": "stream",
     "text": [
      "age_group\n",
      "65-89    45.474798\n",
      "45-64    37.092732\n",
      "<45      12.587023\n",
      ">90       4.845447\n",
      "Name: proportion, dtype: float64\n"
     ]
    }
   ],
   "source": [
    "##AI-generated-code\n",
    "\n",
    "\n",
    "# Convert 'age_at_first_admission' to numeric\n",
    "df['age_at_first_admission'] = pd.to_numeric(df['age_at_first_admission'])\n",
    "\n",
    "# Filter the dataframe to include only males\n",
    "df_males = df.loc[df['gender'] == 'M'].copy()\n",
    "\n",
    "# Define the age bins\n",
    "bins = [0, 45, 65, 90, np.inf]\n",
    "labels = ['<45', '45-64', '65-89', '>90']\n",
    "\n",
    "# Divide the ages into bins\n",
    "df_males['age_group'] = pd.cut(df_males['age_at_first_admission'], bins=bins, labels=labels)\n",
    "\n",
    "# Calculate the percentage of males in each age group\n",
    "percentage_males = df_males['age_group'].value_counts(normalize=True) * 100\n",
    "\n",
    "percentage_females = percentage_females.sort_index()\n",
    "\n",
    "\n",
    "print(percentage_males)\n"
   ]
  },
  {
   "cell_type": "code",
   "execution_count": 21,
   "id": "a0318c71-00d5-42ae-83fa-be3deb4d11d4",
   "metadata": {
    "ChapyterCell": {
     "cellType": "original"
    }
   },
   "outputs": [
    {
     "name": "stdout",
     "output_type": "stream",
     "text": [
      "To calculate the percentage of females in each age group, we can follow the same steps as before, but filter the dataframe to include only females. We can then sort the output by the age group.\n",
      "\n",
      "Here is the Python code to do this:\n",
      "\n",
      "This code will print the percentage of females in each age group, sorted from youngest to oldest. The percentages are calculated based on the total number of females.\n",
      "\n",
      "\n"
     ]
    }
   ],
   "source": [
    "%%mimicPython\n",
    "\n",
    "That worked! Now I want the same for females. Output order from youngest group to oldest group."
   ]
  },
  {
   "cell_type": "code",
   "execution_count": 45,
   "id": "dd1c10a7-b272-4e56-9393-edb3852c165b",
   "metadata": {},
   "outputs": [
    {
     "name": "stdout",
     "output_type": "stream",
     "text": [
      "age_group\n",
      "<45      12.723374\n",
      "45-64    30.950679\n",
      "65-89    46.997856\n",
      ">90       9.328091\n",
      "Name: proportion, dtype: float64\n"
     ]
    }
   ],
   "source": [
    "##AI-generated-code\n",
    "\n",
    "\n",
    "# Filter the dataframe to include only females\n",
    "df_females = df.loc[df['gender'] == 'F'].copy()\n",
    "\n",
    "# Divide the ages into bins\n",
    "df_females['age_group'] = pd.cut(df_females['age_at_first_admission'], bins=bins, labels=labels)\n",
    "\n",
    "# Calculate the percentage of females in each age group\n",
    "percentage_females = df_females['age_group'].value_counts(normalize=True) * 100\n",
    "\n",
    "# Sort the output by age group\n",
    "percentage_females = percentage_females.sort_index()\n",
    "\n",
    "print(percentage_females)"
   ]
  },
  {
   "cell_type": "code",
   "execution_count": 23,
   "id": "5dac9898-c46c-4901-a7e6-8dd5386f49cf",
   "metadata": {
    "ChapyterCell": {
     "cellType": "original"
    }
   },
   "outputs": [
    {
     "name": "stdout",
     "output_type": "stream",
     "text": [
      "To calculate the percentage of males in each age group and sort the output from youngest to oldest, we can use the same code as before, but filter the dataframe to include only males.\n",
      "\n",
      "Here is the Python code to do this:\n",
      "\n",
      "This code will print the percentage of males in each age group, sorted from youngest to oldest. The percentages are calculated based on the total number of males.\n"
     ]
    }
   ],
   "source": [
    "%%mimicPython\n",
    "\n",
    "That worked! Exact same thing but for males."
   ]
  },
  {
   "cell_type": "code",
   "execution_count": 46,
   "id": "b468744e-7dbc-467a-adbc-9a61b591fa5b",
   "metadata": {},
   "outputs": [
    {
     "name": "stdout",
     "output_type": "stream",
     "text": [
      "age_group\n",
      "<45      12.587023\n",
      "45-64    37.092732\n",
      "65-89    45.474798\n",
      ">90       4.845447\n",
      "Name: proportion, dtype: float64\n"
     ]
    }
   ],
   "source": [
    "##AI-generated-code\n",
    "\n",
    "\n",
    "# Filter the dataframe to include only males\n",
    "df_males = df.loc[df['gender'] == 'M'].copy()\n",
    "\n",
    "# Divide the ages into bins\n",
    "df_males['age_group'] = pd.cut(df_males['age_at_first_admission'], bins=bins, labels=labels)\n",
    "\n",
    "# Calculate the percentage of males in each age group\n",
    "percentage_males = df_males['age_group'].value_counts(normalize=True) * 100\n",
    "\n",
    "# Sort the output by age group\n",
    "percentage_males = percentage_males.sort_index()\n",
    "\n",
    "print(percentage_males)"
   ]
  },
  {
   "cell_type": "code",
   "execution_count": 25,
   "id": "f68eb754-17e9-45b1-8ebb-34b2d659ef2e",
   "metadata": {
    "ChapyterCell": {
     "cellType": "original"
    }
   },
   "outputs": [
    {
     "name": "stdout",
     "output_type": "stream",
     "text": [
      "To create a double bar plot of men vs women for these age ranges, we can use the `matplotlib` library. We'll create a new dataframe that contains the percentages of males and females in each age group, and then use the `plot` function to create the bar plot.\n",
      "\n",
      "Here is the Python code to do this:\n",
      "\n",
      "This code will display a double bar plot with the age groups on the x-axis and the percentage of males and females in each age group on the y-axis. The bars for males and females are displayed side by side for each age group.\n"
     ]
    }
   ],
   "source": [
    "%%mimicPython\n",
    "\n",
    "Now, given this, give me code to plot a double bar plot of men vs women for these age ranges."
   ]
  },
  {
   "cell_type": "code",
   "execution_count": 47,
   "id": "62e0e8b9-251d-4588-9c13-f918aefaa2e8",
   "metadata": {},
   "outputs": [
    {
     "data": {
      "image/png": "[encoded data removed]",
      "text/plain": [
       "<Figure size 600x600 with 1 Axes>"
      ]
     },
     "metadata": {},
     "output_type": "display_data"
    }
   ],
   "source": [
    "##AI-generated-code\n",
    "\n",
    "\n",
    "import matplotlib.pyplot as plt\n",
    "\n",
    "# Create a new dataframe that contains the percentages of males and females in each age group\n",
    "df_plot = pd.DataFrame({'Males': percentage_males, 'Females': percentage_females})\n",
    "\n",
    "# Create the double bar plot\n",
    "df_plot.plot(kind='bar', figsize=(6, 6))\n",
    "\n",
    "plt.title('Percentage of Males and Females in Each Age Group')\n",
    "plt.xlabel('Age Group')\n",
    "plt.ylabel('Percentage')\n",
    "plt.xticks(rotation=0)\n",
    "plt.show()\n"
   ]
  },
  {
   "cell_type": "code",
   "execution_count": null,
   "id": "0706eff6-562e-4f5c-888f-fe5d2e4fbb9f",
   "metadata": {},
   "outputs": [],
   "source": []
  }
 ],
 "metadata": {
  "kernelspec": {
   "display_name": "Python 3 (ipykernel)",
   "language": "python",
   "name": "python3"
  },
  "language_info": {
   "codemirror_mode": {
    "name": "ipython",
    "version": 3
   },
   "file_extension": ".py",
   "mimetype": "text/x-python",
   "name": "python",
   "nbconvert_exporter": "python",
   "pygments_lexer": "ipython3",
   "version": "3.10.10"
  }
 },
 "nbformat": 4,
 "nbformat_minor": 5
}
