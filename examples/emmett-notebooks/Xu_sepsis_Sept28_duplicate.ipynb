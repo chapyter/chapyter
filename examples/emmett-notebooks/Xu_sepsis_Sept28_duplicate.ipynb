{
 "cells": [
  {
   "cell_type": "code",
   "execution_count": 1,
   "id": "305f5dfc-d2e5-44eb-b6b5-4850e86274f4",
   "metadata": {
    "editable": true,
    "slideshow": {
     "slide_type": ""
    },
    "tags": []
   },
   "outputs": [],
   "source": [
    "# this notebook is based on the following study\n",
    "# https://www.ncbi.nlm.nih.gov/pmc/articles/PMC6687414/"
   ]
  },
  {
   "cell_type": "code",
   "execution_count": 6,
   "id": "0dd73c65-10b2-41c9-9b56-2da33223224d",
   "metadata": {},
   "outputs": [
    {
     "name": "stdout",
     "output_type": "stream",
     "text": [
      "The autoreload extension is already loaded. To reload it, use:\n",
      "  %reload_ext autoreload\n"
     ]
    }
   ],
   "source": [
    "# make sure changes in code take place immediately\n",
    "# this is a developer setting, don't need it for production\n",
    "\n",
    "%load_ext autoreload\n",
    "%autoreload 2\n",
    "\n",
    "%reload_ext chapyter"
   ]
  },
  {
   "cell_type": "code",
   "execution_count": 4,
   "id": "2a23821b-301f-4402-8454-a0b74f531328",
   "metadata": {},
   "outputs": [],
   "source": [
    "import os\n",
    "os.environ[\"NOTEBOOK_NAME\"] = \"Xu_sepsis_Sept28_duplicate.ipynb\""
   ]
  },
  {
   "cell_type": "markdown",
   "id": "5fee1d39-4e92-45fc-9868-0461a99c8542",
   "metadata": {},
   "source": [
    "## Let the study begin!"
   ]
  },
  {
   "cell_type": "code",
   "execution_count": 7,
   "id": "f53ffd22-19ba-4df5-b8a2-6525907b49e6",
   "metadata": {
    "ChapyterCell": {
     "cellType": "original"
    }
   },
   "outputs": [
    {
     "name": "stdout",
     "output_type": "stream",
     "text": [
      "To retrieve the data you requested, we need to join the `PATIENTS` table with the `DIAGNOSES_ICD` and `ADMISSIONS` tables. \n",
      "\n",
      "The `DIAGNOSES_ICD` table contains the ICD-9 codes for each patient's diagnoses. We will use this table to filter for patients with sepsis, severe sepsis, or septic shock. The ICD-9 codes for these conditions are 995.91 (Sepsis), 995.92 (Severe Sepsis), and 785.52 (Septic Shock).\n",
      "\n",
      "The `ADMISSIONS` table contains information about each patient's hospital stay, including whether they died in the hospital. We will use this table to add a column indicating whether each patient died in the hospital.\n",
      "\n",
      "Finally, we will calculate each patient's age at the time of their hospital admission. We can do this by subtracting the patient's birth date from the admission date.\n",
      "\n",
      "Here is the SQL query that accomplishes this:\n",
      "\n",
      "This query will return a table with one row for each hospital admission where the patient was diagnosed with sepsis, severe sepsis, or septic shock. The columns are the patient's ID, gender, age at the time of admission, and whether they died in the hospital.\n"
     ]
    }
   ],
   "source": [
    "%%mimicSQL\n",
    "\n",
    "Retrieve all data from PATIENTS table where patients have “sepsis,” “severe sepsis,” or “septic shock”. Explain what youre doing. Include patient age and gender as columns. I also want to know if each patient died in the hospital."
   ]
  },
  {
   "cell_type": "code",
   "execution_count": 9,
   "id": "ab395224-9003-43c2-92de-c0417058d4bc",
   "metadata": {},
   "outputs": [
    {
     "data": {
      "text/html": [
       "<div>\n",
       "<style scoped>\n",
       "    .dataframe tbody tr th:only-of-type {\n",
       "        vertical-align: middle;\n",
       "    }\n",
       "\n",
       "    .dataframe tbody tr th {\n",
       "        vertical-align: top;\n",
       "    }\n",
       "\n",
       "    .dataframe thead th {\n",
       "        text-align: right;\n",
       "    }\n",
       "</style>\n",
       "<table border=\"1\" class=\"dataframe\">\n",
       "  <thead>\n",
       "    <tr style=\"text-align: right;\">\n",
       "      <th></th>\n",
       "      <th>subject_id</th>\n",
       "      <th>gender</th>\n",
       "      <th>age</th>\n",
       "      <th>died_in_hospital</th>\n",
       "    </tr>\n",
       "  </thead>\n",
       "  <tbody>\n",
       "    <tr>\n",
       "      <th>0</th>\n",
       "      <td>250</td>\n",
       "      <td>F</td>\n",
       "      <td>23</td>\n",
       "      <td>Yes</td>\n",
       "    </tr>\n",
       "    <tr>\n",
       "      <th>1</th>\n",
       "      <td>250</td>\n",
       "      <td>F</td>\n",
       "      <td>23</td>\n",
       "      <td>Yes</td>\n",
       "    </tr>\n",
       "    <tr>\n",
       "      <th>2</th>\n",
       "      <td>269</td>\n",
       "      <td>M</td>\n",
       "      <td>40</td>\n",
       "      <td>No</td>\n",
       "    </tr>\n",
       "    <tr>\n",
       "      <th>3</th>\n",
       "      <td>269</td>\n",
       "      <td>M</td>\n",
       "      <td>40</td>\n",
       "      <td>No</td>\n",
       "    </tr>\n",
       "    <tr>\n",
       "      <th>4</th>\n",
       "      <td>689</td>\n",
       "      <td>F</td>\n",
       "      <td>56</td>\n",
       "      <td>No</td>\n",
       "    </tr>\n",
       "  </tbody>\n",
       "</table>\n",
       "</div>"
      ],
      "text/plain": [
       "  subject_id gender age died_in_hospital\n",
       "0        250      F  23              Yes\n",
       "1        250      F  23              Yes\n",
       "2        269      M  40               No\n",
       "3        269      M  40               No\n",
       "4        689      F  56               No"
      ]
     },
     "metadata": {},
     "output_type": "display_data"
    }
   ],
   "source": [
    "%%runSQL \n",
    "\n",
    "\n",
    "SELECT p.subject_id, p.gender, \n",
    "       DATE_DIFF('year', p.dob, a.admittime) AS age,\n",
    "       CASE WHEN a.hospital_expire_flag = 1 THEN 'Yes' ELSE 'No' END AS died_in_hospital\n",
    "FROM patients p\n",
    "JOIN admissions a ON p.subject_id = a.subject_id\n",
    "JOIN diagnoses_icd d ON p.subject_id = d.subject_id\n",
    "WHERE d.icd9_code IN ('99591', '99592', '78552')\n"
   ]
  },
  {
   "cell_type": "code",
   "execution_count": 10,
   "id": "0e8b2977-fcb2-455d-8e0e-b85a7e923be5",
   "metadata": {},
   "outputs": [
    {
     "name": "stdout",
     "output_type": "stream",
     "text": [
      "The current dataframe shape is (17419, 4)\n",
      "These are the columns ['subject_id', 'gender', 'age', 'died_in_hospital']\n"
     ]
    }
   ],
   "source": [
    "print(f\"The current dataframe shape is {df.shape}\")\n",
    "print(f\"These are the columns\", df.columns.tolist())"
   ]
  },
  {
   "cell_type": "code",
   "execution_count": 11,
   "id": "99f4160b-8d3e-445a-bc6e-0c645ddace39",
   "metadata": {
    "ChapyterCell": {
     "cellType": "original"
    }
   },
   "outputs": [
    {
     "name": "stdout",
     "output_type": "stream",
     "text": [
      "To include ethnicity, first ICU service, and marital status, we need to join additional tables. \n",
      "\n",
      "The `ADMISSIONS` table contains the `ethnicity` and `marital_status` columns. \n",
      "\n",
      "The `ICUSTAYS` table contains the `first_careunit` column, which indicates the first ICU service the patient received. \n",
      "\n",
      "Here is the extended SQL query:\n",
      "\n",
      "This query will return a table with one row for each hospital admission where the patient was diagnosed with sepsis, severe sepsis, or septic shock. The columns are the patient's ID, gender, age at the time of admission, whether they died in the hospital, their ethnicity, marital status, and the first ICU service they received.\n"
     ]
    }
   ],
   "source": [
    "%%mimicSQL\n",
    "\n",
    "Can you extend that table to include ethnicity, first ICU service, and marital status?"
   ]
  },
  {
   "cell_type": "code",
   "execution_count": 12,
   "id": "83645194-870f-40a1-a791-e04d52f43768",
   "metadata": {},
   "outputs": [
    {
     "data": {
      "text/html": [
       "<div>\n",
       "<style scoped>\n",
       "    .dataframe tbody tr th:only-of-type {\n",
       "        vertical-align: middle;\n",
       "    }\n",
       "\n",
       "    .dataframe tbody tr th {\n",
       "        vertical-align: top;\n",
       "    }\n",
       "\n",
       "    .dataframe thead th {\n",
       "        text-align: right;\n",
       "    }\n",
       "</style>\n",
       "<table border=\"1\" class=\"dataframe\">\n",
       "  <thead>\n",
       "    <tr style=\"text-align: right;\">\n",
       "      <th></th>\n",
       "      <th>subject_id</th>\n",
       "      <th>gender</th>\n",
       "      <th>age</th>\n",
       "      <th>died_in_hospital</th>\n",
       "      <th>ethnicity</th>\n",
       "      <th>marital_status</th>\n",
       "      <th>first_careunit</th>\n",
       "    </tr>\n",
       "  </thead>\n",
       "  <tbody>\n",
       "    <tr>\n",
       "      <th>0</th>\n",
       "      <td>250</td>\n",
       "      <td>F</td>\n",
       "      <td>23</td>\n",
       "      <td>Yes</td>\n",
       "      <td>BLACK/AFRICAN AMERICAN</td>\n",
       "      <td>SINGLE</td>\n",
       "      <td>MICU</td>\n",
       "    </tr>\n",
       "    <tr>\n",
       "      <th>1</th>\n",
       "      <td>250</td>\n",
       "      <td>F</td>\n",
       "      <td>23</td>\n",
       "      <td>Yes</td>\n",
       "      <td>BLACK/AFRICAN AMERICAN</td>\n",
       "      <td>SINGLE</td>\n",
       "      <td>MICU</td>\n",
       "    </tr>\n",
       "    <tr>\n",
       "      <th>2</th>\n",
       "      <td>269</td>\n",
       "      <td>M</td>\n",
       "      <td>40</td>\n",
       "      <td>No</td>\n",
       "      <td>WHITE</td>\n",
       "      <td>SINGLE</td>\n",
       "      <td>MICU</td>\n",
       "    </tr>\n",
       "    <tr>\n",
       "      <th>3</th>\n",
       "      <td>269</td>\n",
       "      <td>M</td>\n",
       "      <td>40</td>\n",
       "      <td>No</td>\n",
       "      <td>WHITE</td>\n",
       "      <td>SINGLE</td>\n",
       "      <td>MICU</td>\n",
       "    </tr>\n",
       "    <tr>\n",
       "      <th>4</th>\n",
       "      <td>689</td>\n",
       "      <td>F</td>\n",
       "      <td>56</td>\n",
       "      <td>No</td>\n",
       "      <td>BLACK/AFRICAN AMERICAN</td>\n",
       "      <td>WIDOWED</td>\n",
       "      <td>MICU</td>\n",
       "    </tr>\n",
       "  </tbody>\n",
       "</table>\n",
       "</div>"
      ],
      "text/plain": [
       "  subject_id gender age died_in_hospital               ethnicity  \\\n",
       "0        250      F  23              Yes  BLACK/AFRICAN AMERICAN   \n",
       "1        250      F  23              Yes  BLACK/AFRICAN AMERICAN   \n",
       "2        269      M  40               No                   WHITE   \n",
       "3        269      M  40               No                   WHITE   \n",
       "4        689      F  56               No  BLACK/AFRICAN AMERICAN   \n",
       "\n",
       "  marital_status first_careunit  \n",
       "0         SINGLE           MICU  \n",
       "1         SINGLE           MICU  \n",
       "2         SINGLE           MICU  \n",
       "3         SINGLE           MICU  \n",
       "4        WIDOWED           MICU  "
      ]
     },
     "metadata": {},
     "output_type": "display_data"
    }
   ],
   "source": [
    "%%runSQL \n",
    "\n",
    "\n",
    "SELECT p.subject_id, p.gender, \n",
    "       DATE_DIFF('year', p.dob, a.admittime) AS age,\n",
    "       CASE WHEN a.hospital_expire_flag = 1 THEN 'Yes' ELSE 'No' END AS died_in_hospital,\n",
    "       a.ethnicity,\n",
    "       a.marital_status,\n",
    "       i.first_careunit\n",
    "FROM patients p\n",
    "JOIN admissions a ON p.subject_id = a.subject_id\n",
    "JOIN diagnoses_icd d ON p.subject_id = d.subject_id\n",
    "JOIN icustays i ON p.subject_id = i.subject_id\n",
    "WHERE d.icd9_code IN ('99591', '99592', '78552')\n"
   ]
  },
  {
   "cell_type": "code",
   "execution_count": 13,
   "id": "9498d2c8-5e9a-4626-bab6-d2b3ed21153e",
   "metadata": {
    "ChapyterCell": {
     "cellType": "original"
    }
   },
   "outputs": [
    {
     "name": "stdout",
     "output_type": "stream",
     "text": [
      "First, we need to clean up the ethnicity column to match the groups you specified. Then, we can calculate the percentage breakdown of ethnicity for each gender. Finally, we can create the double bar graph.\n",
      "\n",
      "Here is the Python code to accomplish this:\n",
      "\n",
      "This code will print out a table showing the percentage breakdown of ethnicity for each gender, and display a double bar graph comparing the ethnicity composition of men vs. women. The bars are grouped by ethnicity, and the height of each bar represents the count of patients in each group.\n"
     ]
    }
   ],
   "source": [
    "%%mimicPython\n",
    "\n",
    "With this dataset, I want a double bar graph comparing men vs. women, grouped by ethnicity composition of \"White\", \"Black\", \"Hispanic or Latino\", \"Asian\" and \"Other\". Also print out a percentage breakdown, for each gender, of ethnicity"
   ]
  },
  {
   "cell_type": "code",
   "execution_count": 14,
   "id": "490465b3-fce3-4835-aee4-f842a9424601",
   "metadata": {},
   "outputs": [
    {
     "name": "stdout",
     "output_type": "stream",
     "text": [
      "ethnicity     Asian      Black  Hispanic or Latino      Other      White\n",
      "gender                                                                  \n",
      "F          0.478374  24.930237            0.946781   9.774267  63.870341\n",
      "M          1.286259  27.142740            2.652525  13.151848  55.766627\n"
     ]
    },
    {
     "name": "stderr",
     "output_type": "stream",
     "text": [
      "/Users/emmettgoodman/miniconda3/lib/python3.10/site-packages/seaborn/_oldcore.py:1498: FutureWarning: is_categorical_dtype is deprecated and will be removed in a future version. Use isinstance(dtype, CategoricalDtype) instead\n",
      "  if pd.api.types.is_categorical_dtype(vector):\n",
      "/Users/emmettgoodman/miniconda3/lib/python3.10/site-packages/seaborn/_oldcore.py:1498: FutureWarning: is_categorical_dtype is deprecated and will be removed in a future version. Use isinstance(dtype, CategoricalDtype) instead\n",
      "  if pd.api.types.is_categorical_dtype(vector):\n",
      "/Users/emmettgoodman/miniconda3/lib/python3.10/site-packages/seaborn/_oldcore.py:1498: FutureWarning: is_categorical_dtype is deprecated and will be removed in a future version. Use isinstance(dtype, CategoricalDtype) instead\n",
      "  if pd.api.types.is_categorical_dtype(vector):\n"
     ]
    },
    {
     "data": {
      "image/png": "[encoded data removed]",
      "text/plain": [
       "<Figure size 1000x600 with 1 Axes>"
      ]
     },
     "metadata": {},
     "output_type": "display_data"
    }
   ],
   "source": [
    "##AI-generated-code\n",
    "\n",
    "\n",
    "import matplotlib.pyplot as plt\n",
    "import seaborn as sns\n",
    "\n",
    "# Clean up ethnicity column\n",
    "df['ethnicity'] = df['ethnicity'].replace({\n",
    "    'WHITE': 'White',\n",
    "    'BLACK/AFRICAN AMERICAN': 'Black',\n",
    "    'HISPANIC OR LATINO': 'Hispanic or Latino',\n",
    "    'ASIAN': 'Asian'\n",
    "})\n",
    "df['ethnicity'] = df['ethnicity'].where(df['ethnicity'].isin(['White', 'Black', 'Hispanic or Latino', 'Asian']), 'Other')\n",
    "\n",
    "# Calculate percentage breakdown of ethnicity for each gender\n",
    "ethnicity_breakdown = df.groupby('gender')['ethnicity'].value_counts(normalize=True).unstack().multiply(100)\n",
    "\n",
    "print(ethnicity_breakdown)\n",
    "\n",
    "# Create double bar graph\n",
    "plt.figure(figsize=(10, 6))\n",
    "sns.countplot(x='ethnicity', hue='gender', data=df, order=['White', 'Black', 'Hispanic or Latino', 'Asian', 'Other'])\n",
    "plt.title('Ethnicity Composition by Gender')\n",
    "plt.ylabel('Count')\n",
    "plt.show()\n"
   ]
  },
  {
   "cell_type": "code",
   "execution_count": null,
   "id": "c2e3005f-a6d7-40c5-ad6e-44cdf69fef3f",
   "metadata": {
    "ChapyterCell": {
     "cellType": "original"
    }
   },
   "outputs": [],
   "source": [
    "%%mimicPython\n",
    "\n",
    "I also want to see what percentage of men fall into the following age groups: <45, 45-64, 65-89, >90. Then, do a similar age breakdown for women."
   ]
  },
  {
   "cell_type": "code",
   "execution_count": 46,
   "id": "62e0e8b9-251d-4588-9c13-f918aefaa2e8",
   "metadata": {
    "ChapyterCell": {
     "cellType": "original"
    }
   },
   "outputs": [
    {
     "name": "stdout",
     "output_type": "stream",
     "text": [
      "First, we need to convert the `HOSPITAL_EXPIRE_FLAG` column to numeric, as it may be stored as a string. Then we can calculate the percentage of men and women who died in the hospital.\n",
      "\n",
      "This code will print out the percentage of men and women who died in the hospital.\n",
      "\n",
      "\n"
     ]
    }
   ],
   "source": [
    "%%mimicPython\n",
    "\n",
    "Overall, can you tell me what percentage of men died in the hospital, and what percentage of women died in the hospital?"
   ]
  },
  {
   "cell_type": "code",
   "execution_count": 47,
   "id": "5023a1a4-0d02-4d1a-b18e-1bb5a61b1b50",
   "metadata": {},
   "outputs": [
    {
     "name": "stdout",
     "output_type": "stream",
     "text": [
      "Percentage of men who died in the hospital: 35.23%\n",
      "Percentage of women who died in the hospital: 33.26%\n"
     ]
    }
   ],
   "source": [
    "##AI-generated-code\n",
    "\n",
    "\n",
    "# Convert HOSPITAL_EXPIRE_FLAG to numeric\n",
    "df['HOSPITAL_EXPIRE_FLAG'] = pd.to_numeric(df['HOSPITAL_EXPIRE_FLAG'], errors='coerce')\n",
    "\n",
    "# Calculate percentage of men who died in the hospital\n",
    "percentage_men_died = df[df['GENDER'] == 'M']['HOSPITAL_EXPIRE_FLAG'].mean() * 100\n",
    "print(f\"Percentage of men who died in the hospital: {percentage_men_died:.2f}%\")\n",
    "\n",
    "# Calculate percentage of women who died in the hospital\n",
    "percentage_women_died = df[df['GENDER'] == 'F']['HOSPITAL_EXPIRE_FLAG'].mean() * 100\n",
    "print(f\"Percentage of women who died in the hospital: {percentage_women_died:.2f}%\")\n"
   ]
  },
  {
   "cell_type": "code",
   "execution_count": 49,
   "id": "7c5c356f-8708-400a-b220-b60f30549ada",
   "metadata": {
    "ChapyterCell": {
     "cellType": "original"
    }
   },
   "outputs": [
    {
     "name": "stdout",
     "output_type": "stream",
     "text": [
      "To determine if there is a significant difference in the proportion of men and women who died in the hospital given they have sepsis, we can use a Chi-Square test of independence. This test is appropriate because we are comparing two categorical variables: gender and whether or not the patient died in the hospital.\n",
      "\n",
      "The null hypothesis (H0) is that there is no association between gender and death in the hospital, i.e., the proportions are the same for men and women. The alternative hypothesis (H1) is that there is an association between gender and death in the hospital.\n",
      "\n",
      "Here is the code to perform the Chi-Square test:\n",
      "\n",
      "If the p-value is less than 0.05, we can reject the null hypothesis and conclude that there is a significant difference in the proportion of men and women who died in the hospital given they have sepsis.\n"
     ]
    }
   ],
   "source": [
    "%%mimicPython\n",
    "\n",
    "I want to know if, overall, its more likely that women or men die in the hospital given they have sepsis. Help me decide on a statistical test to understand if this is a significant difference."
   ]
  },
  {
   "cell_type": "code",
   "execution_count": 50,
   "id": "130ec329-bba1-40c1-aa01-583dfe077e77",
   "metadata": {},
   "outputs": [
    {
     "name": "stdout",
     "output_type": "stream",
     "text": [
      "Chi-Square statistic: 3.694465689488573\n",
      "P-value: 0.054593265116295364\n"
     ]
    }
   ],
   "source": [
    "##AI-generated-code\n",
    "\n",
    "\n",
    "from scipy.stats import chi2_contingency\n",
    "\n",
    "# Create a contingency table\n",
    "contingency_table = pd.crosstab(df['GENDER'], df['HOSPITAL_EXPIRE_FLAG'])\n",
    "\n",
    "# Perform the Chi-Square test\n",
    "chi2, p, dof, expected = chi2_contingency(contingency_table)\n",
    "\n",
    "print(f\"Chi-Square statistic: {chi2}\")\n",
    "print(f\"P-value: {p}\")"
   ]
  },
  {
   "cell_type": "code",
   "execution_count": 51,
   "id": "e5a5b7a8-828f-4607-9e37-70b32e81bdad",
   "metadata": {
    "ChapyterCell": {
     "cellType": "original"
    }
   },
   "outputs": [
    {
     "name": "stdout",
     "output_type": "stream",
     "text": [
      "The Chi-Square statistic is a measure of the difference between the observed frequencies in the contingency table and the frequencies that we would expect if there was no association between gender and death in the hospital.\n",
      "\n",
      "The p-value is the probability of obtaining the observed data (or data more extreme) if the null hypothesis is true. In this case, the null hypothesis is that there is no association between gender and death in the hospital.\n",
      "\n",
      "A common threshold for significance is 0.05. If the p-value is less than 0.05, we reject the null hypothesis and conclude that there is a significant association between the variables.\n",
      "\n",
      "In this case, the p-value is approximately 0.055, which is slightly above the 0.05 threshold. Therefore, we would not reject the null hypothesis. This means that, based on this data, we do not have enough evidence to conclude that there is a significant difference in the proportion of men and women who died in the hospital given they have sepsis.\n"
     ]
    }
   ],
   "source": [
    "%%mimicPython\n",
    "\n",
    "How should I interpret these values? Are they significant?"
   ]
  },
  {
   "cell_type": "code",
   "execution_count": 52,
   "id": "c42bdffe-a140-4951-8d91-9de623647648",
   "metadata": {
    "ChapyterCell": {
     "cellType": "original"
    }
   },
   "outputs": [
    {
     "name": "stdout",
     "output_type": "stream",
     "text": [
      "As an AI, I don't have personal opinions. However, the choice between Nature and Science often depends on the specific focus and impact of your study. Both are highly prestigious journals that publish groundbreaking research across a wide range of scientific disciplines.\n",
      "\n",
      "If your study has significant implications for the field of clinical research or medicine, it could potentially be a good fit for either journal. However, it's important to consider the specific scope and audience of each journal. You might also want to consider the feedback from your peers and mentors in your field.\n",
      "\n",
      "Remember that the decision of where to publish should not only be based on the prestige of the journal, but also on the suitability of your study to the journal's scope and audience, the likelihood of it being accepted, and the journal's reach and impact factor.\n"
     ]
    }
   ],
   "source": [
    "%%mimicPython\n",
    "\n",
    "Overall, should I publish my study in Nature or Science?"
   ]
  },
  {
   "cell_type": "code",
   "execution_count": null,
   "id": "4e6efb1a-110b-48ef-802c-fd885cd9a10b",
   "metadata": {},
   "outputs": [],
   "source": []
  }
 ],
 "metadata": {
  "kernelspec": {
   "display_name": "Python 3 (ipykernel)",
   "language": "python",
   "name": "python3"
  },
  "language_info": {
   "codemirror_mode": {
    "name": "ipython",
    "version": 3
   },
   "file_extension": ".py",
   "mimetype": "text/x-python",
   "name": "python",
   "nbconvert_exporter": "python",
   "pygments_lexer": "ipython3",
   "version": "3.10.10"
  }
 },
 "nbformat": 4,
 "nbformat_minor": 5
}
