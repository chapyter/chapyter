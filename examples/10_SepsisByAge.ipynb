{
 "cells": [
  {
   "cell_type": "code",
   "execution_count": 1,
   "id": "305f5dfc-d2e5-44eb-b6b5-4850e86274f4",
   "metadata": {
    "editable": true,
    "slideshow": {
     "slide_type": ""
    },
    "tags": []
   },
   "outputs": [],
   "source": [
    "%load_ext autoreload"
   ]
  },
  {
   "cell_type": "code",
   "execution_count": 2,
   "id": "35f98b98-8b1f-4ccd-a395-1b5bd6792105",
   "metadata": {},
   "outputs": [],
   "source": [
    "%autoreload 2"
   ]
  },
  {
   "cell_type": "code",
   "execution_count": 3,
   "id": "d091328b-6bea-4c73-af5f-3859424c192b",
   "metadata": {},
   "outputs": [
    {
     "name": "stderr",
     "output_type": "stream",
     "text": [
      "2023-09-23 17:15:49.248 WARNING streamlit.runtime.state.session_state_proxy: Session state does not function when running a script without `streamlit run`\n"
     ]
    }
   ],
   "source": [
    "%load_ext chapyter"
   ]
  },
  {
   "cell_type": "code",
   "execution_count": 4,
   "id": "fdd154be-c873-4a5e-91c2-c4c7e7843700",
   "metadata": {},
   "outputs": [],
   "source": [
    "#https://translational-medicine.biomedcentral.com/articles/10.1186/s12967-020-02620-5"
   ]
  },
  {
   "cell_type": "code",
   "execution_count": 7,
   "id": "2a23821b-301f-4402-8454-a0b74f531328",
   "metadata": {},
   "outputs": [],
   "source": [
    "import os\n",
    "os.environ[\"NOTEBOOK_NAME\"] = \"10_SepsisByAge.ipynb\""
   ]
  },
  {
   "cell_type": "code",
   "execution_count": 8,
   "id": "f9004506-e65d-4afa-8f58-8581393d6e35",
   "metadata": {
    "ChapyterCell": {
     "cellType": "original"
    }
   },
   "outputs": [
    {
     "name": "stdout",
     "output_type": "stream",
     "text": [
      "To retrieve the data you're asking for, we first need to identify the patients with \"sepsis\", \"severe sepsis\", and \"septic shock\". These conditions are typically recorded in the DIAGNOSES_ICD table. Here's a SQL query that should get you started:\n",
      "\n",
      "```sql\n",
      "SELECT p.*\n",
      "FROM \"mimic\".\"patients\" p\n",
      "JOIN \"mimic\".\"diagnoses_icd\" d ON p.subject_id = d.subject_id\n",
      "WHERE d.icd9_code IN ('99591', '99592', '78552')\n",
      "```\n",
      "\n",
      "In this query, '99591', '99592', and '78552' are the ICD-9 codes for \"sepsis\", \"severe sepsis\", and \"septic shock\" respectively. Please note that this query will return all patients who have ever been diagnosed with these conditions, not just those who were diagnosed on their most recent visit.\n"
     ]
    },
    {
     "data": {
      "text/html": [
       "<div>\n",
       "<style scoped>\n",
       "    .dataframe tbody tr th:only-of-type {\n",
       "        vertical-align: middle;\n",
       "    }\n",
       "\n",
       "    .dataframe tbody tr th {\n",
       "        vertical-align: top;\n",
       "    }\n",
       "\n",
       "    .dataframe thead th {\n",
       "        text-align: right;\n",
       "    }\n",
       "</style>\n",
       "<table border=\"1\" class=\"dataframe\">\n",
       "  <thead>\n",
       "    <tr style=\"text-align: right;\">\n",
       "      <th></th>\n",
       "      <th>row_id</th>\n",
       "      <th>subject_id</th>\n",
       "      <th>gender</th>\n",
       "      <th>dob</th>\n",
       "      <th>dod</th>\n",
       "      <th>dod_hosp</th>\n",
       "      <th>dod_ssn</th>\n",
       "      <th>expire_flag</th>\n",
       "    </tr>\n",
       "  </thead>\n",
       "  <tbody>\n",
       "    <tr>\n",
       "      <th>0</th>\n",
       "      <td>235</td>\n",
       "      <td>250</td>\n",
       "      <td>F</td>\n",
       "      <td>2164-12-27 00:00:00.000</td>\n",
       "      <td>2188-11-22 00:00:00.000</td>\n",
       "      <td>2188-11-22 00:00:00.000</td>\n",
       "      <td>None</td>\n",
       "      <td>1</td>\n",
       "    </tr>\n",
       "    <tr>\n",
       "      <th>1</th>\n",
       "      <td>235</td>\n",
       "      <td>250</td>\n",
       "      <td>F</td>\n",
       "      <td>2164-12-27 00:00:00.000</td>\n",
       "      <td>2188-11-22 00:00:00.000</td>\n",
       "      <td>2188-11-22 00:00:00.000</td>\n",
       "      <td>None</td>\n",
       "      <td>1</td>\n",
       "    </tr>\n",
       "    <tr>\n",
       "      <th>2</th>\n",
       "      <td>252</td>\n",
       "      <td>269</td>\n",
       "      <td>M</td>\n",
       "      <td>2130-09-30 00:00:00.000</td>\n",
       "      <td>None</td>\n",
       "      <td>None</td>\n",
       "      <td>None</td>\n",
       "      <td>0</td>\n",
       "    </tr>\n",
       "    <tr>\n",
       "      <th>3</th>\n",
       "      <td>252</td>\n",
       "      <td>269</td>\n",
       "      <td>M</td>\n",
       "      <td>2130-09-30 00:00:00.000</td>\n",
       "      <td>None</td>\n",
       "      <td>None</td>\n",
       "      <td>None</td>\n",
       "      <td>0</td>\n",
       "    </tr>\n",
       "    <tr>\n",
       "      <th>4</th>\n",
       "      <td>650</td>\n",
       "      <td>689</td>\n",
       "      <td>F</td>\n",
       "      <td>2128-12-27 00:00:00.000</td>\n",
       "      <td>None</td>\n",
       "      <td>None</td>\n",
       "      <td>None</td>\n",
       "      <td>0</td>\n",
       "    </tr>\n",
       "  </tbody>\n",
       "</table>\n",
       "</div>"
      ],
      "text/plain": [
       "  row_id subject_id gender                      dob                      dod  \\\n",
       "0    235        250      F  2164-12-27 00:00:00.000  2188-11-22 00:00:00.000   \n",
       "1    235        250      F  2164-12-27 00:00:00.000  2188-11-22 00:00:00.000   \n",
       "2    252        269      M  2130-09-30 00:00:00.000                     None   \n",
       "3    252        269      M  2130-09-30 00:00:00.000                     None   \n",
       "4    650        689      F  2128-12-27 00:00:00.000                     None   \n",
       "\n",
       "                  dod_hosp dod_ssn expire_flag  \n",
       "0  2188-11-22 00:00:00.000    None           1  \n",
       "1  2188-11-22 00:00:00.000    None           1  \n",
       "2                     None    None           0  \n",
       "3                     None    None           0  \n",
       "4                     None    None           0  "
      ]
     },
     "metadata": {},
     "output_type": "display_data"
    }
   ],
   "source": [
    "%%mimicSQL\n",
    "\n",
    "Retrieve all data from PATIENTS table where patients database. I want the ones only that have “sepsis”, “severe sepsis” and “septic shock”."
   ]
  },
  {
   "cell_type": "code",
   "execution_count": 9,
   "id": "b42cb9c3-d0bb-4df2-8b5a-76501cfcde7d",
   "metadata": {
    "ChapyterCell": {
     "cellType": "original"
    }
   },
   "outputs": [
    {
     "name": "stdout",
     "output_type": "stream",
     "text": [
      "You can use the `value_counts()` function in pandas to count the number of men and women in the dataframe. Here's how you can do it:\n",
      "\n",
      "```python\n",
      "df['gender'].value_counts()\n",
      "```\n",
      "\n",
      "This will return the count of each unique value in the 'gender' column of the dataframe.\n",
      "\n",
      "\n",
      "Result : gender\n",
      "M    4267\n",
      "F    3496\n",
      "Name: count, dtype: int64\n"
     ]
    }
   ],
   "source": [
    "%%mimicPython\n",
    "\n",
    "How many men and women are there?"
   ]
  },
  {
   "cell_type": "code",
   "execution_count": 10,
   "id": "3a978aa7-1653-4f16-8b9a-cd5f5577bcc0",
   "metadata": {
    "ChapyterCell": {
     "cellType": "original"
    }
   },
   "outputs": [
    {
     "name": "stdout",
     "output_type": "stream",
     "text": [
      "To retrieve the same dataset for patients over 18, we need to calculate the age of the patients at the time of their first admission. We can do this by subtracting the date of birth (dob) from the date of their first admission (admittime) in the ADMISSIONS table. Here's a SQL query that should get you started:\n",
      "\n",
      "```sql\n",
      "SELECT p.*\n",
      "FROM \"mimic\".\"patients\" p\n",
      "JOIN \"mimic\".\"admissions\" a ON p.subject_id = a.subject_id\n",
      "JOIN \"mimic\".\"diagnoses_icd\" d ON p.subject_id = d.subject_id\n",
      "WHERE d.icd9_code IN ('99591', '99592', '78552')\n",
      "AND DATE_PART('year', AGE(a.admittime, p.dob)) > 18\n",
      "```\n",
      "\n",
      "This query will return all patients over the age of 18 who have ever been diagnosed with \"sepsis\", \"severe sepsis\", or \"septic shock\". Please note that this query will return all patients who have ever been diagnosed with these conditions, not just those who were diagnosed on their most recent visit.\n",
      "Query failed! State: FAILED\n",
      "Reason: FUNCTION_NOT_FOUND: line 6:23: Function 'age' not registered\n",
      "SQL RETRIEVAL FAILED!\n"
     ]
    }
   ],
   "source": [
    "%%mimicSQL\n",
    "\n",
    "Now retrieve the same dataset from MIMIC-III, except only patients over 18."
   ]
  },
  {
   "cell_type": "code",
   "execution_count": 11,
   "id": "af93ae1d-0b72-47e0-ba95-0e4f360e341f",
   "metadata": {
    "ChapyterCell": {
     "cellType": "original",
     "linkedCellId": "c00691b3-318c-427a-b560-ed7114d4a8e1"
    }
   },
   "outputs": [
    {
     "name": "stdout",
     "output_type": "stream",
     "text": [
      "I apologize for the confusion. AWS Athena does not support the AGE function. We can instead calculate the age by subtracting the year of birth from the year of admission. Here's the corrected SQL query:\n",
      "\n",
      "```sql\n",
      "SELECT p.*\n",
      "FROM \"mimic\".\"patients\" p\n",
      "JOIN \"mimic\".\"admissions\" a ON p.subject_id = a.subject_id\n",
      "JOIN \"mimic\".\"diagnoses_icd\" d ON p.subject_id = d.subject_id\n",
      "WHERE d.icd9_code IN ('99591', '99592', '78552')\n",
      "AND EXTRACT(year FROM a.admittime) - EXTRACT(year FROM p.dob) > 18\n",
      "```\n",
      "\n",
      "This query will return all patients over the age of 18 who have ever been diagnosed with \"sepsis\", \"severe sepsis\", or \"septic shock\". Please note that this query will return all patients who have ever been diagnosed with these conditions, not just those who were diagnosed on their most recent visit.\n"
     ]
    },
    {
     "data": {
      "text/html": [
       "<div>\n",
       "<style scoped>\n",
       "    .dataframe tbody tr th:only-of-type {\n",
       "        vertical-align: middle;\n",
       "    }\n",
       "\n",
       "    .dataframe tbody tr th {\n",
       "        vertical-align: top;\n",
       "    }\n",
       "\n",
       "    .dataframe thead th {\n",
       "        text-align: right;\n",
       "    }\n",
       "</style>\n",
       "<table border=\"1\" class=\"dataframe\">\n",
       "  <thead>\n",
       "    <tr style=\"text-align: right;\">\n",
       "      <th></th>\n",
       "      <th>row_id</th>\n",
       "      <th>subject_id</th>\n",
       "      <th>gender</th>\n",
       "      <th>dob</th>\n",
       "      <th>dod</th>\n",
       "      <th>dod_hosp</th>\n",
       "      <th>dod_ssn</th>\n",
       "      <th>expire_flag</th>\n",
       "    </tr>\n",
       "  </thead>\n",
       "  <tbody>\n",
       "    <tr>\n",
       "      <th>0</th>\n",
       "      <td>235</td>\n",
       "      <td>250</td>\n",
       "      <td>F</td>\n",
       "      <td>2164-12-27 00:00:00.000</td>\n",
       "      <td>2188-11-22 00:00:00.000</td>\n",
       "      <td>2188-11-22 00:00:00.000</td>\n",
       "      <td>None</td>\n",
       "      <td>1</td>\n",
       "    </tr>\n",
       "    <tr>\n",
       "      <th>1</th>\n",
       "      <td>235</td>\n",
       "      <td>250</td>\n",
       "      <td>F</td>\n",
       "      <td>2164-12-27 00:00:00.000</td>\n",
       "      <td>2188-11-22 00:00:00.000</td>\n",
       "      <td>2188-11-22 00:00:00.000</td>\n",
       "      <td>None</td>\n",
       "      <td>1</td>\n",
       "    </tr>\n",
       "    <tr>\n",
       "      <th>2</th>\n",
       "      <td>252</td>\n",
       "      <td>269</td>\n",
       "      <td>M</td>\n",
       "      <td>2130-09-30 00:00:00.000</td>\n",
       "      <td>None</td>\n",
       "      <td>None</td>\n",
       "      <td>None</td>\n",
       "      <td>0</td>\n",
       "    </tr>\n",
       "    <tr>\n",
       "      <th>3</th>\n",
       "      <td>252</td>\n",
       "      <td>269</td>\n",
       "      <td>M</td>\n",
       "      <td>2130-09-30 00:00:00.000</td>\n",
       "      <td>None</td>\n",
       "      <td>None</td>\n",
       "      <td>None</td>\n",
       "      <td>0</td>\n",
       "    </tr>\n",
       "    <tr>\n",
       "      <th>4</th>\n",
       "      <td>650</td>\n",
       "      <td>689</td>\n",
       "      <td>F</td>\n",
       "      <td>2128-12-27 00:00:00.000</td>\n",
       "      <td>None</td>\n",
       "      <td>None</td>\n",
       "      <td>None</td>\n",
       "      <td>0</td>\n",
       "    </tr>\n",
       "  </tbody>\n",
       "</table>\n",
       "</div>"
      ],
      "text/plain": [
       "  row_id subject_id gender                      dob                      dod  \\\n",
       "0    235        250      F  2164-12-27 00:00:00.000  2188-11-22 00:00:00.000   \n",
       "1    235        250      F  2164-12-27 00:00:00.000  2188-11-22 00:00:00.000   \n",
       "2    252        269      M  2130-09-30 00:00:00.000                     None   \n",
       "3    252        269      M  2130-09-30 00:00:00.000                     None   \n",
       "4    650        689      F  2128-12-27 00:00:00.000                     None   \n",
       "\n",
       "                  dod_hosp dod_ssn expire_flag  \n",
       "0  2188-11-22 00:00:00.000    None           1  \n",
       "1  2188-11-22 00:00:00.000    None           1  \n",
       "2                     None    None           0  \n",
       "3                     None    None           0  \n",
       "4                     None    None           0  "
      ]
     },
     "metadata": {},
     "output_type": "display_data"
    }
   ],
   "source": [
    "%%mimicSQL\n",
    "\n",
    "Try again."
   ]
  },
  {
   "cell_type": "code",
   "execution_count": 12,
   "id": "cbdb23dc-acba-45a1-8ca0-e93651520592",
   "metadata": {
    "ChapyterCell": {
     "cellType": "original"
    }
   },
   "outputs": [
    {
     "name": "stdout",
     "output_type": "stream",
     "text": [
      "To find out the number of men and women in the dataframe, you can use the `value_counts()` function on the 'gender' column of the dataframe. Here's how you can do it:\n",
      "\n",
      "```python\n",
      "df['gender'].value_counts()\n",
      "```\n",
      "\n",
      "This will return the count of each unique value in the 'gender' column, which should be 'M' for male and 'F' for female.\n",
      "\n",
      "\n",
      "Result : gender\n",
      "M    9590\n",
      "F    7811\n",
      "Name: count, dtype: int64\n"
     ]
    }
   ],
   "source": [
    "%%mimicPython\n",
    "\n",
    "How many men and women are there?"
   ]
  },
  {
   "cell_type": "code",
   "execution_count": 28,
   "id": "55e45e2d-3495-4a0d-a434-0e9a368821f7",
   "metadata": {
    "ChapyterCell": {
     "cellType": "original"
    }
   },
   "outputs": [
    {
     "name": "stdout",
     "output_type": "stream",
     "text": [
      "To retrieve the same dataset with unique subject_ids, you can use the DISTINCT keyword in SQL. Here's how you can modify the previous query:\n",
      "\n",
      "```sql\n",
      "SELECT DISTINCT p.*\n",
      "FROM \"mimic\".\"patients\" p\n",
      "JOIN \"mimic\".\"admissions\" a ON p.subject_id = a.subject_id\n",
      "JOIN \"mimic\".\"diagnoses_icd\" d ON p.subject_id = d.subject_id\n",
      "WHERE d.icd9_code IN ('99591', '99592', '78552')\n",
      "AND EXTRACT(year FROM a.admittime) - EXTRACT(year FROM p.dob) > 18\n",
      "```\n",
      "\n",
      "This query will return all unique patients over the age of 18 who have ever been diagnosed with \"sepsis\", \"severe sepsis\", or \"septic shock\".\n"
     ]
    },
    {
     "data": {
      "text/html": [
       "<div>\n",
       "<style scoped>\n",
       "    .dataframe tbody tr th:only-of-type {\n",
       "        vertical-align: middle;\n",
       "    }\n",
       "\n",
       "    .dataframe tbody tr th {\n",
       "        vertical-align: top;\n",
       "    }\n",
       "\n",
       "    .dataframe thead th {\n",
       "        text-align: right;\n",
       "    }\n",
       "</style>\n",
       "<table border=\"1\" class=\"dataframe\">\n",
       "  <thead>\n",
       "    <tr style=\"text-align: right;\">\n",
       "      <th></th>\n",
       "      <th>row_id</th>\n",
       "      <th>subject_id</th>\n",
       "      <th>gender</th>\n",
       "      <th>dob</th>\n",
       "      <th>dod</th>\n",
       "      <th>dod_hosp</th>\n",
       "      <th>dod_ssn</th>\n",
       "      <th>expire_flag</th>\n",
       "    </tr>\n",
       "  </thead>\n",
       "  <tbody>\n",
       "    <tr>\n",
       "      <th>0</th>\n",
       "      <td>669</td>\n",
       "      <td>711</td>\n",
       "      <td>M</td>\n",
       "      <td>2100-03-06 00:00:00.000</td>\n",
       "      <td>2185-05-26 00:00:00.000</td>\n",
       "      <td>None</td>\n",
       "      <td>2185-05-26 00:00:00.000</td>\n",
       "      <td>1</td>\n",
       "    </tr>\n",
       "    <tr>\n",
       "      <th>1</th>\n",
       "      <td>728</td>\n",
       "      <td>773</td>\n",
       "      <td>M</td>\n",
       "      <td>2051-06-10 00:00:00.000</td>\n",
       "      <td>2109-03-17 00:00:00.000</td>\n",
       "      <td>2109-03-17 00:00:00.000</td>\n",
       "      <td>2109-03-17 00:00:00.000</td>\n",
       "      <td>1</td>\n",
       "    </tr>\n",
       "    <tr>\n",
       "      <th>2</th>\n",
       "      <td>755</td>\n",
       "      <td>801</td>\n",
       "      <td>F</td>\n",
       "      <td>2151-02-17 00:00:00.000</td>\n",
       "      <td>2198-08-25 00:00:00.000</td>\n",
       "      <td>2198-08-25 00:00:00.000</td>\n",
       "      <td>2198-08-25 00:00:00.000</td>\n",
       "      <td>1</td>\n",
       "    </tr>\n",
       "    <tr>\n",
       "      <th>3</th>\n",
       "      <td>55</td>\n",
       "      <td>62</td>\n",
       "      <td>M</td>\n",
       "      <td>2044-05-08 00:00:00.000</td>\n",
       "      <td>None</td>\n",
       "      <td>None</td>\n",
       "      <td>None</td>\n",
       "      <td>0</td>\n",
       "    </tr>\n",
       "    <tr>\n",
       "      <th>4</th>\n",
       "      <td>57</td>\n",
       "      <td>64</td>\n",
       "      <td>F</td>\n",
       "      <td>2116-06-27 00:00:00.000</td>\n",
       "      <td>None</td>\n",
       "      <td>None</td>\n",
       "      <td>None</td>\n",
       "      <td>0</td>\n",
       "    </tr>\n",
       "  </tbody>\n",
       "</table>\n",
       "</div>"
      ],
      "text/plain": [
       "  row_id subject_id gender                      dob                      dod  \\\n",
       "0    669        711      M  2100-03-06 00:00:00.000  2185-05-26 00:00:00.000   \n",
       "1    728        773      M  2051-06-10 00:00:00.000  2109-03-17 00:00:00.000   \n",
       "2    755        801      F  2151-02-17 00:00:00.000  2198-08-25 00:00:00.000   \n",
       "3     55         62      M  2044-05-08 00:00:00.000                     None   \n",
       "4     57         64      F  2116-06-27 00:00:00.000                     None   \n",
       "\n",
       "                  dod_hosp                  dod_ssn expire_flag  \n",
       "0                     None  2185-05-26 00:00:00.000           1  \n",
       "1  2109-03-17 00:00:00.000  2109-03-17 00:00:00.000           1  \n",
       "2  2198-08-25 00:00:00.000  2198-08-25 00:00:00.000           1  \n",
       "3                     None                     None           0  \n",
       "4                     None                     None           0  "
      ]
     },
     "metadata": {},
     "output_type": "display_data"
    }
   ],
   "source": [
    "%%mimicSQL\n",
    "\n",
    "Fine. Give me the same table above, but only unique subject_ids."
   ]
  },
  {
   "cell_type": "code",
   "execution_count": 29,
   "id": "5f7d447e-87d2-4aba-b18b-4a2340e65f22",
   "metadata": {
    "ChapyterCell": {
     "cellType": "original"
    }
   },
   "outputs": [
    {
     "name": "stdout",
     "output_type": "stream",
     "text": [
      "You can use the `value_counts()` function in pandas to count the number of men and women in the dataframe. Here's how you can do it:\n",
      "\n",
      "```python\n",
      "df['gender'].value_counts()\n",
      "```\n",
      "\n",
      "This will return the count of each unique value in the 'gender' column of the dataframe.\n",
      "\n",
      "\n",
      "Result : gender\n",
      "M    2591\n",
      "F    2083\n",
      "Name: count, dtype: int64\n"
     ]
    }
   ],
   "source": [
    "%%mimicPython\n",
    "\n",
    "How many men and women are there?"
   ]
  },
  {
   "cell_type": "code",
   "execution_count": 30,
   "id": "821c0170-6f55-4eae-b30e-01fc0bd3b177",
   "metadata": {
    "ChapyterCell": {
     "cellType": "original"
    }
   },
   "outputs": [
    {
     "name": "stdout",
     "output_type": "stream",
     "text": [
      "To calculate the percentage of men and women who died, you can use the `value_counts()` function on the 'gender' column of the dataframe where 'expire_flag' is 1 (indicating death). Here's how you can do it:\n",
      "\n",
      "```python\n",
      "deceased = df[df['expire_flag'] == 1]['gender'].value_counts()\n",
      "total = df['gender'].value_counts()\n",
      "\n",
      "percentage_deceased = (deceased / total) * 100\n",
      "```\n",
      "\n",
      "This will return the percentage of men and women who died.\n",
      "\n",
      "\n",
      "Result : gender\n",
      "M    64.260903\n",
      "F    61.353817\n",
      "Name: count, dtype: float64\n"
     ]
    }
   ],
   "source": [
    "%%mimicPython\n",
    "\n",
    "What percentage of men and women here died?"
   ]
  },
  {
   "cell_type": "code",
   "execution_count": null,
   "id": "c9f6ff6b-6332-4601-8590-a841003de9c6",
   "metadata": {},
   "outputs": [],
   "source": []
  }
 ],
 "metadata": {
  "kernelspec": {
   "display_name": "Python 3 (ipykernel)",
   "language": "python",
   "name": "python3"
  },
  "language_info": {
   "codemirror_mode": {
    "name": "ipython",
    "version": 3
   },
   "file_extension": ".py",
   "mimetype": "text/x-python",
   "name": "python",
   "nbconvert_exporter": "python",
   "pygments_lexer": "ipython3",
   "version": "3.10.10"
  }
 },
 "nbformat": 4,
 "nbformat_minor": 5
}
